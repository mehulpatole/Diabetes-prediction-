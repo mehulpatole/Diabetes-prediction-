{
 "cells": [
  {
   "cell_type": "code",
   "execution_count": 1,
   "id": "mineral-oxide",
   "metadata": {
    "_cell_guid": "b1076dfc-b9ad-4769-8c92-a6c4dae69d19",
    "_kg_hide-input": true,
    "_kg_hide-output": true,
    "_uuid": "8f2839f25d086af736a60e9eeb907d3b93b6e0e5",
    "execution": {
     "iopub.execute_input": "2021-06-11T14:16:58.040814Z",
     "iopub.status.busy": "2021-06-11T14:16:58.040176Z",
     "iopub.status.idle": "2021-06-11T14:16:58.053553Z",
     "shell.execute_reply": "2021-06-11T14:16:58.052930Z",
     "shell.execute_reply.started": "2021-06-11T14:10:48.605940Z"
    },
    "papermill": {
     "duration": 0.081296,
     "end_time": "2021-06-11T14:16:58.053738",
     "exception": false,
     "start_time": "2021-06-11T14:16:57.972442",
     "status": "completed"
    },
    "tags": []
   },
   "outputs": [
    {
     "name": "stdout",
     "output_type": "stream",
     "text": [
      "/kaggle/input/pima-indians-diabetes-database/diabetes.csv\n"
     ]
    }
   ],
   "source": [
    "# This Python 3 environment comes with many helpful analytics libraries installed\n",
    "# It is defined by the kaggle/python Docker image: https://github.com/kaggle/docker-python\n",
    "# For example, here's several helpful packages to load\n",
    "\n",
    "import numpy as np # linear algebra\n",
    "import pandas as pd # data processing, CSV file I/O (e.g. pd.read_csv)\n",
    "\n",
    "# Input data files are available in the read-only \"../input/\" directory\n",
    "# For example, running this (by clicking run or pressing Shift+Enter) will list all files under the input directory\n",
    "\n",
    "import os\n",
    "for dirname, _, filenames in os.walk('/kaggle/input'):\n",
    "    for filename in filenames:\n",
    "        print(os.path.join(dirname, filename))\n",
    "\n",
    "# You can write up to 20GB to the current directory (/kaggle/working/) that gets preserved as output when you create a version using \"Save & Run All\" \n",
    "# You can also write temporary files to /kaggle/temp/, but they won't be saved outside of the current session"
   ]
  },
  {
   "cell_type": "markdown",
   "id": "urban-fence",
   "metadata": {
    "papermill": {
     "duration": 0.058341,
     "end_time": "2021-06-11T14:16:58.168968",
     "exception": false,
     "start_time": "2021-06-11T14:16:58.110627",
     "status": "completed"
    },
    "tags": []
   },
   "source": [
    "![](https://st1.thehealthsite.com/wp-content/uploads/2020/11/Diabetes-2-768x427.jpg)"
   ]
  },
  {
   "cell_type": "markdown",
   "id": "domestic-plastic",
   "metadata": {
    "papermill": {
     "duration": 0.057194,
     "end_time": "2021-06-11T14:16:58.285493",
     "exception": false,
     "start_time": "2021-06-11T14:16:58.228299",
     "status": "completed"
    },
    "tags": []
   },
   "source": [
    "<p style=\"background-color:Tomato;\">Diabetes is a disease that occurs when your blood glucose, also called blood sugar, is too high. Blood glucose is your main source of energy and comes from the food you eat. Insulin, a hormone made by the pancreas, helps glucose from food get into your cells to be used for energy. Sometimes your body doesn’t make enough—or any—insulin or doesn’t use insulin well. Glucose then stays in your blood and doesn’t reach your cells.</p>"
   ]
  },
  {
   "cell_type": "markdown",
   "id": "allied-wrong",
   "metadata": {
    "papermill": {
     "duration": 0.056003,
     "end_time": "2021-06-11T14:16:58.399024",
     "exception": false,
     "start_time": "2021-06-11T14:16:58.343021",
     "status": "completed"
    },
    "tags": []
   },
   "source": [
    "features: \n",
    "\n",
    "Pregnancies:  Number of times pregnant\n",
    "\n",
    "Glucose: Plasma glucose concentration a 2 hours in an oral glucose tolerance test\n",
    "\n",
    "BloodPressure: Diastolic blood pressure (mm Hg)\n",
    "\n",
    "SkinThickness: Triceps skin fold thickness (mm)\n",
    "\n",
    "Insulin: 2-Hour serum insulin (mu U/ml)\n",
    "\n",
    "BMI: Body mass index (weight in kg/(height in m)^2)\n",
    "\n",
    "DiabetesPedigreeFunction: Diabetes pedigree function\n",
    "\n",
    "Age: Age (years)"
   ]
  },
  {
   "cell_type": "markdown",
   "id": "senior-hypothesis",
   "metadata": {
    "papermill": {
     "duration": 0.05602,
     "end_time": "2021-06-11T14:16:58.511585",
     "exception": false,
     "start_time": "2021-06-11T14:16:58.455565",
     "status": "completed"
    },
    "tags": []
   },
   "source": []
  },
  {
   "cell_type": "markdown",
   "id": "spatial-harbor",
   "metadata": {
    "papermill": {
     "duration": 0.055776,
     "end_time": "2021-06-11T14:16:58.624138",
     "exception": false,
     "start_time": "2021-06-11T14:16:58.568362",
     "status": "completed"
    },
    "tags": []
   },
   "source": [
    "<p style=\"background-color:Tomato;\">importing essential libraries</p>\n"
   ]
  },
  {
   "cell_type": "code",
   "execution_count": 2,
   "id": "accepted-pantyhose",
   "metadata": {
    "execution": {
     "iopub.execute_input": "2021-06-11T14:16:58.742907Z",
     "iopub.status.busy": "2021-06-11T14:16:58.742268Z",
     "iopub.status.idle": "2021-06-11T14:17:00.994634Z",
     "shell.execute_reply": "2021-06-11T14:17:00.995144Z",
     "shell.execute_reply.started": "2021-06-11T14:10:48.625933Z"
    },
    "papermill": {
     "duration": 2.314704,
     "end_time": "2021-06-11T14:17:00.995356",
     "exception": false,
     "start_time": "2021-06-11T14:16:58.680652",
     "status": "completed"
    },
    "tags": []
   },
   "outputs": [],
   "source": [
    "#importing essential libraries\n",
    "import pandas as pd\n",
    "import seaborn as sns\n",
    "import matplotlib.pyplot as plt\n",
    "import numpy as np\n",
    "import warnings\n",
    "import plotly.express as px\n",
    "import plotly.io as pio\n",
    "warnings.filterwarnings(\"ignore\")"
   ]
  },
  {
   "cell_type": "code",
   "execution_count": 3,
   "id": "governmental-nursery",
   "metadata": {
    "execution": {
     "iopub.execute_input": "2021-06-11T14:17:01.115830Z",
     "iopub.status.busy": "2021-06-11T14:17:01.115135Z",
     "iopub.status.idle": "2021-06-11T14:17:01.122505Z",
     "shell.execute_reply": "2021-06-11T14:17:01.123007Z",
     "shell.execute_reply.started": "2021-06-11T14:10:50.939197Z"
    },
    "papermill": {
     "duration": 0.070163,
     "end_time": "2021-06-11T14:17:01.123198",
     "exception": false,
     "start_time": "2021-06-11T14:17:01.053035",
     "status": "completed"
    },
    "tags": []
   },
   "outputs": [],
   "source": [
    "import plotly.graph_objects as go"
   ]
  },
  {
   "cell_type": "markdown",
   "id": "leading-consensus",
   "metadata": {
    "papermill": {
     "duration": 0.056023,
     "end_time": "2021-06-11T14:17:01.235539",
     "exception": false,
     "start_time": "2021-06-11T14:17:01.179516",
     "status": "completed"
    },
    "tags": []
   },
   "source": [
    "<p style=\"background-color:Tomato;\">importing dataset</p>\n"
   ]
  },
  {
   "cell_type": "code",
   "execution_count": 4,
   "id": "corporate-stamp",
   "metadata": {
    "execution": {
     "iopub.execute_input": "2021-06-11T14:17:01.352130Z",
     "iopub.status.busy": "2021-06-11T14:17:01.351500Z",
     "iopub.status.idle": "2021-06-11T14:17:01.367752Z",
     "shell.execute_reply": "2021-06-11T14:17:01.368326Z",
     "shell.execute_reply.started": "2021-06-11T14:10:50.948639Z"
    },
    "papermill": {
     "duration": 0.076111,
     "end_time": "2021-06-11T14:17:01.368552",
     "exception": false,
     "start_time": "2021-06-11T14:17:01.292441",
     "status": "completed"
    },
    "tags": []
   },
   "outputs": [],
   "source": [
    "df= pd.read_csv(\"../input/pima-indians-diabetes-database/diabetes.csv\")"
   ]
  },
  {
   "cell_type": "code",
   "execution_count": 5,
   "id": "pharmaceutical-navigator",
   "metadata": {
    "execution": {
     "iopub.execute_input": "2021-06-11T14:17:01.485273Z",
     "iopub.status.busy": "2021-06-11T14:17:01.484593Z",
     "iopub.status.idle": "2021-06-11T14:17:01.520269Z",
     "shell.execute_reply": "2021-06-11T14:17:01.519563Z",
     "shell.execute_reply.started": "2021-06-11T14:10:50.968843Z"
    },
    "papermill": {
     "duration": 0.095287,
     "end_time": "2021-06-11T14:17:01.520415",
     "exception": false,
     "start_time": "2021-06-11T14:17:01.425128",
     "status": "completed"
    },
    "tags": []
   },
   "outputs": [
    {
     "data": {
      "text/html": [
       "<div>\n",
       "<style scoped>\n",
       "    .dataframe tbody tr th:only-of-type {\n",
       "        vertical-align: middle;\n",
       "    }\n",
       "\n",
       "    .dataframe tbody tr th {\n",
       "        vertical-align: top;\n",
       "    }\n",
       "\n",
       "    .dataframe thead th {\n",
       "        text-align: right;\n",
       "    }\n",
       "</style>\n",
       "<table border=\"1\" class=\"dataframe\">\n",
       "  <thead>\n",
       "    <tr style=\"text-align: right;\">\n",
       "      <th></th>\n",
       "      <th>Pregnancies</th>\n",
       "      <th>Glucose</th>\n",
       "      <th>BloodPressure</th>\n",
       "      <th>SkinThickness</th>\n",
       "      <th>Insulin</th>\n",
       "      <th>BMI</th>\n",
       "      <th>DiabetesPedigreeFunction</th>\n",
       "      <th>Age</th>\n",
       "      <th>Outcome</th>\n",
       "    </tr>\n",
       "  </thead>\n",
       "  <tbody>\n",
       "    <tr>\n",
       "      <th>0</th>\n",
       "      <td>6</td>\n",
       "      <td>148</td>\n",
       "      <td>72</td>\n",
       "      <td>35</td>\n",
       "      <td>0</td>\n",
       "      <td>33.6</td>\n",
       "      <td>0.627</td>\n",
       "      <td>50</td>\n",
       "      <td>1</td>\n",
       "    </tr>\n",
       "    <tr>\n",
       "      <th>1</th>\n",
       "      <td>1</td>\n",
       "      <td>85</td>\n",
       "      <td>66</td>\n",
       "      <td>29</td>\n",
       "      <td>0</td>\n",
       "      <td>26.6</td>\n",
       "      <td>0.351</td>\n",
       "      <td>31</td>\n",
       "      <td>0</td>\n",
       "    </tr>\n",
       "    <tr>\n",
       "      <th>2</th>\n",
       "      <td>8</td>\n",
       "      <td>183</td>\n",
       "      <td>64</td>\n",
       "      <td>0</td>\n",
       "      <td>0</td>\n",
       "      <td>23.3</td>\n",
       "      <td>0.672</td>\n",
       "      <td>32</td>\n",
       "      <td>1</td>\n",
       "    </tr>\n",
       "    <tr>\n",
       "      <th>3</th>\n",
       "      <td>1</td>\n",
       "      <td>89</td>\n",
       "      <td>66</td>\n",
       "      <td>23</td>\n",
       "      <td>94</td>\n",
       "      <td>28.1</td>\n",
       "      <td>0.167</td>\n",
       "      <td>21</td>\n",
       "      <td>0</td>\n",
       "    </tr>\n",
       "    <tr>\n",
       "      <th>4</th>\n",
       "      <td>0</td>\n",
       "      <td>137</td>\n",
       "      <td>40</td>\n",
       "      <td>35</td>\n",
       "      <td>168</td>\n",
       "      <td>43.1</td>\n",
       "      <td>2.288</td>\n",
       "      <td>33</td>\n",
       "      <td>1</td>\n",
       "    </tr>\n",
       "    <tr>\n",
       "      <th>...</th>\n",
       "      <td>...</td>\n",
       "      <td>...</td>\n",
       "      <td>...</td>\n",
       "      <td>...</td>\n",
       "      <td>...</td>\n",
       "      <td>...</td>\n",
       "      <td>...</td>\n",
       "      <td>...</td>\n",
       "      <td>...</td>\n",
       "    </tr>\n",
       "    <tr>\n",
       "      <th>763</th>\n",
       "      <td>10</td>\n",
       "      <td>101</td>\n",
       "      <td>76</td>\n",
       "      <td>48</td>\n",
       "      <td>180</td>\n",
       "      <td>32.9</td>\n",
       "      <td>0.171</td>\n",
       "      <td>63</td>\n",
       "      <td>0</td>\n",
       "    </tr>\n",
       "    <tr>\n",
       "      <th>764</th>\n",
       "      <td>2</td>\n",
       "      <td>122</td>\n",
       "      <td>70</td>\n",
       "      <td>27</td>\n",
       "      <td>0</td>\n",
       "      <td>36.8</td>\n",
       "      <td>0.340</td>\n",
       "      <td>27</td>\n",
       "      <td>0</td>\n",
       "    </tr>\n",
       "    <tr>\n",
       "      <th>765</th>\n",
       "      <td>5</td>\n",
       "      <td>121</td>\n",
       "      <td>72</td>\n",
       "      <td>23</td>\n",
       "      <td>112</td>\n",
       "      <td>26.2</td>\n",
       "      <td>0.245</td>\n",
       "      <td>30</td>\n",
       "      <td>0</td>\n",
       "    </tr>\n",
       "    <tr>\n",
       "      <th>766</th>\n",
       "      <td>1</td>\n",
       "      <td>126</td>\n",
       "      <td>60</td>\n",
       "      <td>0</td>\n",
       "      <td>0</td>\n",
       "      <td>30.1</td>\n",
       "      <td>0.349</td>\n",
       "      <td>47</td>\n",
       "      <td>1</td>\n",
       "    </tr>\n",
       "    <tr>\n",
       "      <th>767</th>\n",
       "      <td>1</td>\n",
       "      <td>93</td>\n",
       "      <td>70</td>\n",
       "      <td>31</td>\n",
       "      <td>0</td>\n",
       "      <td>30.4</td>\n",
       "      <td>0.315</td>\n",
       "      <td>23</td>\n",
       "      <td>0</td>\n",
       "    </tr>\n",
       "  </tbody>\n",
       "</table>\n",
       "<p>768 rows × 9 columns</p>\n",
       "</div>"
      ],
      "text/plain": [
       "     Pregnancies  Glucose  BloodPressure  SkinThickness  Insulin   BMI  \\\n",
       "0              6      148             72             35        0  33.6   \n",
       "1              1       85             66             29        0  26.6   \n",
       "2              8      183             64              0        0  23.3   \n",
       "3              1       89             66             23       94  28.1   \n",
       "4              0      137             40             35      168  43.1   \n",
       "..           ...      ...            ...            ...      ...   ...   \n",
       "763           10      101             76             48      180  32.9   \n",
       "764            2      122             70             27        0  36.8   \n",
       "765            5      121             72             23      112  26.2   \n",
       "766            1      126             60              0        0  30.1   \n",
       "767            1       93             70             31        0  30.4   \n",
       "\n",
       "     DiabetesPedigreeFunction  Age  Outcome  \n",
       "0                       0.627   50        1  \n",
       "1                       0.351   31        0  \n",
       "2                       0.672   32        1  \n",
       "3                       0.167   21        0  \n",
       "4                       2.288   33        1  \n",
       "..                        ...  ...      ...  \n",
       "763                     0.171   63        0  \n",
       "764                     0.340   27        0  \n",
       "765                     0.245   30        0  \n",
       "766                     0.349   47        1  \n",
       "767                     0.315   23        0  \n",
       "\n",
       "[768 rows x 9 columns]"
      ]
     },
     "execution_count": 5,
     "metadata": {},
     "output_type": "execute_result"
    }
   ],
   "source": [
    "df"
   ]
  },
  {
   "cell_type": "code",
   "execution_count": 6,
   "id": "corporate-flood",
   "metadata": {
    "execution": {
     "iopub.execute_input": "2021-06-11T14:17:01.643400Z",
     "iopub.status.busy": "2021-06-11T14:17:01.642441Z",
     "iopub.status.idle": "2021-06-11T14:17:01.646825Z",
     "shell.execute_reply": "2021-06-11T14:17:01.646183Z",
     "shell.execute_reply.started": "2021-06-11T14:10:51.005140Z"
    },
    "papermill": {
     "duration": 0.067932,
     "end_time": "2021-06-11T14:17:01.647027",
     "exception": false,
     "start_time": "2021-06-11T14:17:01.579095",
     "status": "completed"
    },
    "tags": []
   },
   "outputs": [
    {
     "data": {
      "text/plain": [
       "Pregnancies                   int64\n",
       "Glucose                       int64\n",
       "BloodPressure                 int64\n",
       "SkinThickness                 int64\n",
       "Insulin                       int64\n",
       "BMI                         float64\n",
       "DiabetesPedigreeFunction    float64\n",
       "Age                           int64\n",
       "Outcome                       int64\n",
       "dtype: object"
      ]
     },
     "execution_count": 6,
     "metadata": {},
     "output_type": "execute_result"
    }
   ],
   "source": [
    "df.dtypes"
   ]
  },
  {
   "cell_type": "code",
   "execution_count": 7,
   "id": "automotive-payment",
   "metadata": {
    "execution": {
     "iopub.execute_input": "2021-06-11T14:17:01.771614Z",
     "iopub.status.busy": "2021-06-11T14:17:01.770933Z",
     "iopub.status.idle": "2021-06-11T14:17:01.773770Z",
     "shell.execute_reply": "2021-06-11T14:17:01.774391Z",
     "shell.execute_reply.started": "2021-06-11T14:10:51.014077Z"
    },
    "papermill": {
     "duration": 0.068182,
     "end_time": "2021-06-11T14:17:01.774571",
     "exception": false,
     "start_time": "2021-06-11T14:17:01.706389",
     "status": "completed"
    },
    "tags": []
   },
   "outputs": [
    {
     "data": {
      "text/plain": [
       "Pregnancies                 0\n",
       "Glucose                     0\n",
       "BloodPressure               0\n",
       "SkinThickness               0\n",
       "Insulin                     0\n",
       "BMI                         0\n",
       "DiabetesPedigreeFunction    0\n",
       "Age                         0\n",
       "Outcome                     0\n",
       "dtype: int64"
      ]
     },
     "execution_count": 7,
     "metadata": {},
     "output_type": "execute_result"
    }
   ],
   "source": [
    "df.isnull().sum()"
   ]
  },
  {
   "cell_type": "markdown",
   "id": "educational-danger",
   "metadata": {
    "papermill": {
     "duration": 0.060047,
     "end_time": "2021-06-11T14:17:01.892790",
     "exception": false,
     "start_time": "2021-06-11T14:17:01.832743",
     "status": "completed"
    },
    "tags": []
   },
   "source": [
    "<p style=\"background-color:Tomato;\">No missing values present in the dataset</p>\n"
   ]
  },
  {
   "cell_type": "code",
   "execution_count": 8,
   "id": "sonic-spray",
   "metadata": {
    "execution": {
     "iopub.execute_input": "2021-06-11T14:17:02.018087Z",
     "iopub.status.busy": "2021-06-11T14:17:02.013039Z",
     "iopub.status.idle": "2021-06-11T14:17:02.056404Z",
     "shell.execute_reply": "2021-06-11T14:17:02.055736Z",
     "shell.execute_reply.started": "2021-06-11T14:10:51.033008Z"
    },
    "papermill": {
     "duration": 0.105649,
     "end_time": "2021-06-11T14:17:02.056542",
     "exception": false,
     "start_time": "2021-06-11T14:17:01.950893",
     "status": "completed"
    },
    "tags": []
   },
   "outputs": [
    {
     "data": {
      "text/html": [
       "<div>\n",
       "<style scoped>\n",
       "    .dataframe tbody tr th:only-of-type {\n",
       "        vertical-align: middle;\n",
       "    }\n",
       "\n",
       "    .dataframe tbody tr th {\n",
       "        vertical-align: top;\n",
       "    }\n",
       "\n",
       "    .dataframe thead th {\n",
       "        text-align: right;\n",
       "    }\n",
       "</style>\n",
       "<table border=\"1\" class=\"dataframe\">\n",
       "  <thead>\n",
       "    <tr style=\"text-align: right;\">\n",
       "      <th></th>\n",
       "      <th>Pregnancies</th>\n",
       "      <th>Glucose</th>\n",
       "      <th>BloodPressure</th>\n",
       "      <th>SkinThickness</th>\n",
       "      <th>Insulin</th>\n",
       "      <th>BMI</th>\n",
       "      <th>DiabetesPedigreeFunction</th>\n",
       "      <th>Age</th>\n",
       "      <th>Outcome</th>\n",
       "    </tr>\n",
       "  </thead>\n",
       "  <tbody>\n",
       "    <tr>\n",
       "      <th>count</th>\n",
       "      <td>768.000000</td>\n",
       "      <td>768.000000</td>\n",
       "      <td>768.000000</td>\n",
       "      <td>768.000000</td>\n",
       "      <td>768.000000</td>\n",
       "      <td>768.000000</td>\n",
       "      <td>768.000000</td>\n",
       "      <td>768.000000</td>\n",
       "      <td>768.000000</td>\n",
       "    </tr>\n",
       "    <tr>\n",
       "      <th>mean</th>\n",
       "      <td>3.845052</td>\n",
       "      <td>120.894531</td>\n",
       "      <td>69.105469</td>\n",
       "      <td>20.536458</td>\n",
       "      <td>79.799479</td>\n",
       "      <td>31.992578</td>\n",
       "      <td>0.471876</td>\n",
       "      <td>33.240885</td>\n",
       "      <td>0.348958</td>\n",
       "    </tr>\n",
       "    <tr>\n",
       "      <th>std</th>\n",
       "      <td>3.369578</td>\n",
       "      <td>31.972618</td>\n",
       "      <td>19.355807</td>\n",
       "      <td>15.952218</td>\n",
       "      <td>115.244002</td>\n",
       "      <td>7.884160</td>\n",
       "      <td>0.331329</td>\n",
       "      <td>11.760232</td>\n",
       "      <td>0.476951</td>\n",
       "    </tr>\n",
       "    <tr>\n",
       "      <th>min</th>\n",
       "      <td>0.000000</td>\n",
       "      <td>0.000000</td>\n",
       "      <td>0.000000</td>\n",
       "      <td>0.000000</td>\n",
       "      <td>0.000000</td>\n",
       "      <td>0.000000</td>\n",
       "      <td>0.078000</td>\n",
       "      <td>21.000000</td>\n",
       "      <td>0.000000</td>\n",
       "    </tr>\n",
       "    <tr>\n",
       "      <th>25%</th>\n",
       "      <td>1.000000</td>\n",
       "      <td>99.000000</td>\n",
       "      <td>62.000000</td>\n",
       "      <td>0.000000</td>\n",
       "      <td>0.000000</td>\n",
       "      <td>27.300000</td>\n",
       "      <td>0.243750</td>\n",
       "      <td>24.000000</td>\n",
       "      <td>0.000000</td>\n",
       "    </tr>\n",
       "    <tr>\n",
       "      <th>50%</th>\n",
       "      <td>3.000000</td>\n",
       "      <td>117.000000</td>\n",
       "      <td>72.000000</td>\n",
       "      <td>23.000000</td>\n",
       "      <td>30.500000</td>\n",
       "      <td>32.000000</td>\n",
       "      <td>0.372500</td>\n",
       "      <td>29.000000</td>\n",
       "      <td>0.000000</td>\n",
       "    </tr>\n",
       "    <tr>\n",
       "      <th>75%</th>\n",
       "      <td>6.000000</td>\n",
       "      <td>140.250000</td>\n",
       "      <td>80.000000</td>\n",
       "      <td>32.000000</td>\n",
       "      <td>127.250000</td>\n",
       "      <td>36.600000</td>\n",
       "      <td>0.626250</td>\n",
       "      <td>41.000000</td>\n",
       "      <td>1.000000</td>\n",
       "    </tr>\n",
       "    <tr>\n",
       "      <th>max</th>\n",
       "      <td>17.000000</td>\n",
       "      <td>199.000000</td>\n",
       "      <td>122.000000</td>\n",
       "      <td>99.000000</td>\n",
       "      <td>846.000000</td>\n",
       "      <td>67.100000</td>\n",
       "      <td>2.420000</td>\n",
       "      <td>81.000000</td>\n",
       "      <td>1.000000</td>\n",
       "    </tr>\n",
       "  </tbody>\n",
       "</table>\n",
       "</div>"
      ],
      "text/plain": [
       "       Pregnancies     Glucose  BloodPressure  SkinThickness     Insulin  \\\n",
       "count   768.000000  768.000000     768.000000     768.000000  768.000000   \n",
       "mean      3.845052  120.894531      69.105469      20.536458   79.799479   \n",
       "std       3.369578   31.972618      19.355807      15.952218  115.244002   \n",
       "min       0.000000    0.000000       0.000000       0.000000    0.000000   \n",
       "25%       1.000000   99.000000      62.000000       0.000000    0.000000   \n",
       "50%       3.000000  117.000000      72.000000      23.000000   30.500000   \n",
       "75%       6.000000  140.250000      80.000000      32.000000  127.250000   \n",
       "max      17.000000  199.000000     122.000000      99.000000  846.000000   \n",
       "\n",
       "              BMI  DiabetesPedigreeFunction         Age     Outcome  \n",
       "count  768.000000                768.000000  768.000000  768.000000  \n",
       "mean    31.992578                  0.471876   33.240885    0.348958  \n",
       "std      7.884160                  0.331329   11.760232    0.476951  \n",
       "min      0.000000                  0.078000   21.000000    0.000000  \n",
       "25%     27.300000                  0.243750   24.000000    0.000000  \n",
       "50%     32.000000                  0.372500   29.000000    0.000000  \n",
       "75%     36.600000                  0.626250   41.000000    1.000000  \n",
       "max     67.100000                  2.420000   81.000000    1.000000  "
      ]
     },
     "execution_count": 8,
     "metadata": {},
     "output_type": "execute_result"
    }
   ],
   "source": [
    "df.describe()"
   ]
  },
  {
   "cell_type": "markdown",
   "id": "precious-drawing",
   "metadata": {
    "papermill": {
     "duration": 0.058744,
     "end_time": "2021-06-11T14:17:02.175571",
     "exception": false,
     "start_time": "2021-06-11T14:17:02.116827",
     "status": "completed"
    },
    "tags": []
   },
   "source": [
    "<p style=\"background-color:Tomato;\">However the dataset shows some of the features having minimum value as 0 like insulin,BMI,glucose which is not logical and can be considered missing values</p>\n"
   ]
  },
  {
   "cell_type": "code",
   "execution_count": 9,
   "id": "clinical-doctor",
   "metadata": {
    "execution": {
     "iopub.execute_input": "2021-06-11T14:17:02.302022Z",
     "iopub.status.busy": "2021-06-11T14:17:02.301098Z",
     "iopub.status.idle": "2021-06-11T14:17:02.329205Z",
     "shell.execute_reply": "2021-06-11T14:17:02.329740Z",
     "shell.execute_reply.started": "2021-06-11T14:10:51.079480Z"
    },
    "papermill": {
     "duration": 0.094634,
     "end_time": "2021-06-11T14:17:02.329928",
     "exception": false,
     "start_time": "2021-06-11T14:17:02.235294",
     "status": "completed"
    },
    "tags": []
   },
   "outputs": [
    {
     "name": "stdout",
     "output_type": "stream",
     "text": [
      "the missing values for glucose are :  5\n",
      "the missing values for insulin are :  374\n",
      "the missing values for bloodpressure are :  35\n",
      "the missing values for SkinThickness are :  227\n",
      "the missing values for BMI are :  11\n"
     ]
    }
   ],
   "source": [
    "print(f\"the missing values for glucose are : \",len(df.loc[df.Glucose==0]))\n",
    "print(f\"the missing values for insulin are : \",len(df.loc[df.Insulin==0]))\n",
    "print(f\"the missing values for bloodpressure are : \",len(df.loc[df.BloodPressure==0]))\n",
    "print(f\"the missing values for SkinThickness are : \",len(df.loc[df.SkinThickness==0]))\n",
    "print(f\"the missing values for BMI are : \",len(df.loc[df.BMI==0]))\n"
   ]
  },
  {
   "cell_type": "markdown",
   "id": "numeric-power",
   "metadata": {
    "papermill": {
     "duration": 0.060643,
     "end_time": "2021-06-11T14:17:02.450559",
     "exception": false,
     "start_time": "2021-06-11T14:17:02.389916",
     "status": "completed"
    },
    "tags": []
   },
   "source": [
    "<p style=\"background-color:Tomato;\">we will be imputing these missing values with the mean with help of sklearn imputer</p>\n",
    "\n",
    "\n"
   ]
  },
  {
   "cell_type": "code",
   "execution_count": 10,
   "id": "composed-stadium",
   "metadata": {
    "execution": {
     "iopub.execute_input": "2021-06-11T14:17:02.573349Z",
     "iopub.status.busy": "2021-06-11T14:17:02.572453Z",
     "iopub.status.idle": "2021-06-11T14:17:02.940041Z",
     "shell.execute_reply": "2021-06-11T14:17:02.939467Z",
     "shell.execute_reply.started": "2021-06-11T14:10:51.108567Z"
    },
    "papermill": {
     "duration": 0.430555,
     "end_time": "2021-06-11T14:17:02.940214",
     "exception": false,
     "start_time": "2021-06-11T14:17:02.509659",
     "status": "completed"
    },
    "tags": []
   },
   "outputs": [],
   "source": [
    "from sklearn.impute import SimpleImputer"
   ]
  },
  {
   "cell_type": "code",
   "execution_count": 11,
   "id": "compound-remove",
   "metadata": {
    "execution": {
     "iopub.execute_input": "2021-06-11T14:17:03.065056Z",
     "iopub.status.busy": "2021-06-11T14:17:03.064140Z",
     "iopub.status.idle": "2021-06-11T14:17:03.068066Z",
     "shell.execute_reply": "2021-06-11T14:17:03.067560Z",
     "shell.execute_reply.started": "2021-06-11T14:10:51.480368Z"
    },
    "papermill": {
     "duration": 0.06834,
     "end_time": "2021-06-11T14:17:03.068252",
     "exception": false,
     "start_time": "2021-06-11T14:17:02.999912",
     "status": "completed"
    },
    "tags": []
   },
   "outputs": [],
   "source": [
    "impute= SimpleImputer(missing_values=0, strategy=\"mean\")"
   ]
  },
  {
   "cell_type": "code",
   "execution_count": 12,
   "id": "residential-bracket",
   "metadata": {
    "execution": {
     "iopub.execute_input": "2021-06-11T14:17:03.196111Z",
     "iopub.status.busy": "2021-06-11T14:17:03.193548Z",
     "iopub.status.idle": "2021-06-11T14:17:03.202490Z",
     "shell.execute_reply": "2021-06-11T14:17:03.201915Z",
     "shell.execute_reply.started": "2021-06-11T14:10:51.485843Z"
    },
    "papermill": {
     "duration": 0.075257,
     "end_time": "2021-06-11T14:17:03.202634",
     "exception": false,
     "start_time": "2021-06-11T14:17:03.127377",
     "status": "completed"
    },
    "tags": []
   },
   "outputs": [],
   "source": [
    "df.iloc[:,1:6]= impute.fit_transform(df.iloc[:,1:6])"
   ]
  },
  {
   "cell_type": "code",
   "execution_count": 13,
   "id": "injured-bradford",
   "metadata": {
    "execution": {
     "iopub.execute_input": "2021-06-11T14:17:03.326379Z",
     "iopub.status.busy": "2021-06-11T14:17:03.325692Z",
     "iopub.status.idle": "2021-06-11T14:17:03.361384Z",
     "shell.execute_reply": "2021-06-11T14:17:03.361943Z",
     "shell.execute_reply.started": "2021-06-11T14:10:51.505891Z"
    },
    "papermill": {
     "duration": 0.101069,
     "end_time": "2021-06-11T14:17:03.362123",
     "exception": false,
     "start_time": "2021-06-11T14:17:03.261054",
     "status": "completed"
    },
    "tags": []
   },
   "outputs": [
    {
     "data": {
      "text/html": [
       "<div>\n",
       "<style scoped>\n",
       "    .dataframe tbody tr th:only-of-type {\n",
       "        vertical-align: middle;\n",
       "    }\n",
       "\n",
       "    .dataframe tbody tr th {\n",
       "        vertical-align: top;\n",
       "    }\n",
       "\n",
       "    .dataframe thead th {\n",
       "        text-align: right;\n",
       "    }\n",
       "</style>\n",
       "<table border=\"1\" class=\"dataframe\">\n",
       "  <thead>\n",
       "    <tr style=\"text-align: right;\">\n",
       "      <th></th>\n",
       "      <th>Pregnancies</th>\n",
       "      <th>Glucose</th>\n",
       "      <th>BloodPressure</th>\n",
       "      <th>SkinThickness</th>\n",
       "      <th>Insulin</th>\n",
       "      <th>BMI</th>\n",
       "      <th>DiabetesPedigreeFunction</th>\n",
       "      <th>Age</th>\n",
       "      <th>Outcome</th>\n",
       "    </tr>\n",
       "  </thead>\n",
       "  <tbody>\n",
       "    <tr>\n",
       "      <th>count</th>\n",
       "      <td>768.000000</td>\n",
       "      <td>768.000000</td>\n",
       "      <td>768.000000</td>\n",
       "      <td>768.000000</td>\n",
       "      <td>768.000000</td>\n",
       "      <td>768.000000</td>\n",
       "      <td>768.000000</td>\n",
       "      <td>768.000000</td>\n",
       "      <td>768.000000</td>\n",
       "    </tr>\n",
       "    <tr>\n",
       "      <th>mean</th>\n",
       "      <td>3.845052</td>\n",
       "      <td>121.686763</td>\n",
       "      <td>72.405184</td>\n",
       "      <td>29.153420</td>\n",
       "      <td>155.548223</td>\n",
       "      <td>32.457464</td>\n",
       "      <td>0.471876</td>\n",
       "      <td>33.240885</td>\n",
       "      <td>0.348958</td>\n",
       "    </tr>\n",
       "    <tr>\n",
       "      <th>std</th>\n",
       "      <td>3.369578</td>\n",
       "      <td>30.435949</td>\n",
       "      <td>12.096346</td>\n",
       "      <td>8.790942</td>\n",
       "      <td>85.021108</td>\n",
       "      <td>6.875151</td>\n",
       "      <td>0.331329</td>\n",
       "      <td>11.760232</td>\n",
       "      <td>0.476951</td>\n",
       "    </tr>\n",
       "    <tr>\n",
       "      <th>min</th>\n",
       "      <td>0.000000</td>\n",
       "      <td>44.000000</td>\n",
       "      <td>24.000000</td>\n",
       "      <td>7.000000</td>\n",
       "      <td>14.000000</td>\n",
       "      <td>18.200000</td>\n",
       "      <td>0.078000</td>\n",
       "      <td>21.000000</td>\n",
       "      <td>0.000000</td>\n",
       "    </tr>\n",
       "    <tr>\n",
       "      <th>25%</th>\n",
       "      <td>1.000000</td>\n",
       "      <td>99.750000</td>\n",
       "      <td>64.000000</td>\n",
       "      <td>25.000000</td>\n",
       "      <td>121.500000</td>\n",
       "      <td>27.500000</td>\n",
       "      <td>0.243750</td>\n",
       "      <td>24.000000</td>\n",
       "      <td>0.000000</td>\n",
       "    </tr>\n",
       "    <tr>\n",
       "      <th>50%</th>\n",
       "      <td>3.000000</td>\n",
       "      <td>117.000000</td>\n",
       "      <td>72.202592</td>\n",
       "      <td>29.153420</td>\n",
       "      <td>155.548223</td>\n",
       "      <td>32.400000</td>\n",
       "      <td>0.372500</td>\n",
       "      <td>29.000000</td>\n",
       "      <td>0.000000</td>\n",
       "    </tr>\n",
       "    <tr>\n",
       "      <th>75%</th>\n",
       "      <td>6.000000</td>\n",
       "      <td>140.250000</td>\n",
       "      <td>80.000000</td>\n",
       "      <td>32.000000</td>\n",
       "      <td>155.548223</td>\n",
       "      <td>36.600000</td>\n",
       "      <td>0.626250</td>\n",
       "      <td>41.000000</td>\n",
       "      <td>1.000000</td>\n",
       "    </tr>\n",
       "    <tr>\n",
       "      <th>max</th>\n",
       "      <td>17.000000</td>\n",
       "      <td>199.000000</td>\n",
       "      <td>122.000000</td>\n",
       "      <td>99.000000</td>\n",
       "      <td>846.000000</td>\n",
       "      <td>67.100000</td>\n",
       "      <td>2.420000</td>\n",
       "      <td>81.000000</td>\n",
       "      <td>1.000000</td>\n",
       "    </tr>\n",
       "  </tbody>\n",
       "</table>\n",
       "</div>"
      ],
      "text/plain": [
       "       Pregnancies     Glucose  BloodPressure  SkinThickness     Insulin  \\\n",
       "count   768.000000  768.000000     768.000000     768.000000  768.000000   \n",
       "mean      3.845052  121.686763      72.405184      29.153420  155.548223   \n",
       "std       3.369578   30.435949      12.096346       8.790942   85.021108   \n",
       "min       0.000000   44.000000      24.000000       7.000000   14.000000   \n",
       "25%       1.000000   99.750000      64.000000      25.000000  121.500000   \n",
       "50%       3.000000  117.000000      72.202592      29.153420  155.548223   \n",
       "75%       6.000000  140.250000      80.000000      32.000000  155.548223   \n",
       "max      17.000000  199.000000     122.000000      99.000000  846.000000   \n",
       "\n",
       "              BMI  DiabetesPedigreeFunction         Age     Outcome  \n",
       "count  768.000000                768.000000  768.000000  768.000000  \n",
       "mean    32.457464                  0.471876   33.240885    0.348958  \n",
       "std      6.875151                  0.331329   11.760232    0.476951  \n",
       "min     18.200000                  0.078000   21.000000    0.000000  \n",
       "25%     27.500000                  0.243750   24.000000    0.000000  \n",
       "50%     32.400000                  0.372500   29.000000    0.000000  \n",
       "75%     36.600000                  0.626250   41.000000    1.000000  \n",
       "max     67.100000                  2.420000   81.000000    1.000000  "
      ]
     },
     "execution_count": 13,
     "metadata": {},
     "output_type": "execute_result"
    }
   ],
   "source": [
    "df.describe()"
   ]
  },
  {
   "cell_type": "markdown",
   "id": "discrete-efficiency",
   "metadata": {
    "papermill": {
     "duration": 0.06009,
     "end_time": "2021-06-11T14:17:03.481472",
     "exception": false,
     "start_time": "2021-06-11T14:17:03.421382",
     "status": "completed"
    },
    "tags": []
   },
   "source": [
    "<p style=\"background-color:Tomato;\">All the zero values have been imputed</p>\n"
   ]
  },
  {
   "cell_type": "markdown",
   "id": "thirty-truth",
   "metadata": {
    "papermill": {
     "duration": 0.062825,
     "end_time": "2021-06-11T14:17:03.606346",
     "exception": false,
     "start_time": "2021-06-11T14:17:03.543521",
     "status": "completed"
    },
    "tags": []
   },
   "source": [
    "# **<h2 style=\"background-color:DodgerBlue;\">EDA</h2>**"
   ]
  },
  {
   "cell_type": "markdown",
   "id": "approximate-sustainability",
   "metadata": {
    "papermill": {
     "duration": 0.059075,
     "end_time": "2021-06-11T14:17:03.726719",
     "exception": false,
     "start_time": "2021-06-11T14:17:03.667644",
     "status": "completed"
    },
    "tags": []
   },
   "source": [
    "<p style=\"background-color:Tomato;\">CORRELATION HEATMAP SEABORN</p>\n"
   ]
  },
  {
   "cell_type": "code",
   "execution_count": 14,
   "id": "nearby-bailey",
   "metadata": {
    "execution": {
     "iopub.execute_input": "2021-06-11T14:17:03.854074Z",
     "iopub.status.busy": "2021-06-11T14:17:03.853392Z",
     "iopub.status.idle": "2021-06-11T14:17:04.579800Z",
     "shell.execute_reply": "2021-06-11T14:17:04.579146Z",
     "shell.execute_reply.started": "2021-06-11T14:10:51.547335Z"
    },
    "papermill": {
     "duration": 0.794,
     "end_time": "2021-06-11T14:17:04.579937",
     "exception": false,
     "start_time": "2021-06-11T14:17:03.785937",
     "status": "completed"
    },
    "tags": []
   },
   "outputs": [
    {
     "data": {
      "image/png": "[encoded data removed]",
      "text/plain": [
       "<Figure size 1080x432 with 2 Axes>"
      ]
     },
     "metadata": {
      "needs_background": "light"
     },
     "output_type": "display_data"
    }
   ],
   "source": [
    "plt.figure(figsize= (15,6))\n",
    "sns.set_style(\"darkgrid\")\n",
    "sns.heatmap(df.corr(),annot= True)\n",
    "plt.show()"
   ]
  },
  {
   "cell_type": "markdown",
   "id": "furnished-vault",
   "metadata": {
    "papermill": {
     "duration": 0.060951,
     "end_time": "2021-06-11T14:17:04.702315",
     "exception": false,
     "start_time": "2021-06-11T14:17:04.641364",
     "status": "completed"
    },
    "tags": []
   },
   "source": [
    "<p style=\"background-color:Tomato;\">lets see the distribution of age across dataset</p>\n"
   ]
  },
  {
   "cell_type": "code",
   "execution_count": 15,
   "id": "bronze-premiere",
   "metadata": {
    "execution": {
     "iopub.execute_input": "2021-06-11T14:17:04.852197Z",
     "iopub.status.busy": "2021-06-11T14:17:04.851235Z",
     "iopub.status.idle": "2021-06-11T14:17:06.009823Z",
     "shell.execute_reply": "2021-06-11T14:17:06.009262Z",
     "shell.execute_reply.started": "2021-06-11T14:10:52.282856Z"
    },
    "papermill": {
     "duration": 1.244302,
     "end_time": "2021-06-11T14:17:06.009963",
     "exception": false,
     "start_time": "2021-06-11T14:17:04.765661",
     "status": "completed"
    },
    "tags": []
   },
   "outputs": [
    {
     "data": {
      "text/html": [
       "        <script type=\"text/javascript\">\n",
       "        window.PlotlyConfig = {MathJaxConfig: 'local'};\n",
       "        if (window.MathJax) {MathJax.Hub.Config({SVG: {font: \"STIX-Web\"}});}\n",
       "        if (typeof require !== 'undefined') {\n",
       "        require.undef(\"plotly\");\n",
       "        requirejs.config({\n",
       "            paths: {\n",
       "                'plotly': ['https://cdn.plot.ly/plotly-latest.min']\n",
       "            }\n",
       "        });\n",
       "        require(['plotly'], function(Plotly) {\n",
       "            window._Plotly = Plotly;\n",
       "        });\n",
       "        }\n",
       "        </script>\n",
       "        "
      ]
     },
     "metadata": {},
     "output_type": "display_data"
    },
    {
     "data": {
      "text/html": [
       "<div>                            <div id=\"7127262a-72af-4144-9c83-4d1807822733\" class=\"plotly-graph-div\" style=\"height:525px; width:100%;\"></div>            <script type=\"text/javascript\">                require([\"plotly\"], function(Plotly) {                    window.PLOTLYENV=window.PLOTLYENV || {};                                    if (document.getElementById(\"7127262a-72af-4144-9c83-4d1807822733\")) {                    Plotly.newPlot(                        \"7127262a-72af-4144-9c83-4d1807822733\",                        [{\"alignmentgroup\": \"True\", \"bingroup\": \"x\", \"hovertemplate\": \"Outcome=1<br>Age=%{x}<br>count=%{y}<extra></extra>\", \"legendgroup\": \"1\", \"marker\": {\"color\": \"#636efa\"}, \"name\": \"1\", \"offsetgroup\": \"1\", \"orientation\": \"v\", \"showlegend\": true, \"type\": \"histogram\", \"x\": [50, 32, 33, 26, 53, 54, 34, 59, 51, 32, 31, 31, 32, 41, 29, 51, 41, 43, 28, 46, 27, 56, 54, 25, 31, 58, 41, 39, 42, 38, 28, 42, 26, 37, 43, 60, 31, 33, 24, 24, 46, 39, 61, 38, 25, 23, 26, 40, 62, 33, 33, 30, 42, 42, 43, 36, 47, 32, 41, 36, 29, 36, 26, 37, 41, 60, 33, 31, 25, 36, 40, 29, 23, 26, 29, 57, 52, 41, 24, 36, 38, 25, 32, 41, 21, 66, 24, 22, 46, 26, 51, 23, 32, 22, 33, 49, 44, 21, 51, 27, 35, 25, 28, 38, 29, 28, 47, 52, 29, 25, 31, 24, 29, 46, 30, 25, 28, 47, 25, 30, 27, 43, 29, 59, 25, 36, 43, 30, 23, 41, 44, 33, 41, 37, 49, 28, 44, 29, 29, 67, 29, 45, 25, 58, 32, 35, 45, 58, 27, 31, 22, 25, 31, 35, 41, 46, 39, 28, 21, 22, 37, 28, 36, 31, 38, 43, 29, 41, 33, 30, 25, 22, 23, 38, 51, 38, 29, 35, 31, 24, 45, 55, 41, 35, 46, 28, 53, 45, 23, 32, 43, 27, 56, 37, 53, 54, 28, 33, 21, 62, 21, 52, 41, 52, 45, 44, 22, 38, 54, 36, 22, 36, 40, 50, 50, 24, 34, 38, 32, 50, 33, 22, 42, 25, 27, 22, 43, 40, 40, 70, 40, 31, 53, 25, 26, 27, 46, 44, 43, 43, 31, 49, 52, 30, 45, 23, 38, 34, 31, 52, 42, 34, 22, 24, 42, 48, 45, 27, 36, 50, 22, 26, 45, 37, 52, 66, 43, 47], \"xaxis\": \"x\", \"yaxis\": \"y\"}, {\"alignmentgroup\": \"True\", \"bingroup\": \"x\", \"hovertemplate\": \"Outcome=0<br>Age=%{x}<br>count=%{y}<extra></extra>\", \"legendgroup\": \"0\", \"marker\": {\"color\": \"#EF553B\"}, \"name\": \"0\", \"offsetgroup\": \"0\", \"orientation\": \"v\", \"showlegend\": true, \"type\": \"histogram\", \"x\": [31, 21, 30, 29, 30, 57, 33, 27, 50, 22, 57, 38, 60, 22, 28, 45, 33, 35, 26, 37, 48, 40, 29, 22, 24, 22, 26, 30, 42, 21, 31, 44, 22, 21, 36, 24, 32, 54, 25, 27, 26, 23, 22, 22, 41, 27, 24, 22, 22, 36, 22, 27, 45, 26, 24, 21, 34, 42, 21, 40, 24, 22, 23, 22, 21, 24, 27, 21, 27, 37, 25, 23, 25, 25, 22, 21, 24, 23, 69, 30, 23, 39, 26, 31, 21, 22, 29, 28, 55, 38, 22, 23, 21, 41, 34, 65, 22, 24, 37, 23, 21, 23, 22, 36, 45, 27, 21, 22, 34, 29, 29, 25, 23, 33, 42, 47, 32, 23, 21, 27, 40, 21, 40, 42, 21, 21, 28, 32, 27, 55, 27, 21, 25, 24, 60, 32, 37, 61, 26, 22, 26, 31, 24, 22, 29, 23, 27, 21, 22, 29, 41, 23, 34, 23, 42, 27, 24, 25, 30, 25, 24, 34, 24, 63, 43, 24, 21, 21, 40, 21, 52, 25, 23, 57, 22, 39, 37, 51, 34, 26, 33, 21, 65, 28, 24, 58, 35, 37, 29, 21, 41, 22, 25, 26, 30, 28, 31, 21, 24, 37, 37, 46, 25, 44, 22, 26, 44, 22, 36, 22, 33, 57, 49, 22, 23, 26, 29, 30, 46, 24, 21, 48, 63, 65, 30, 30, 21, 22, 21, 21, 25, 28, 22, 22, 35, 24, 22, 21, 25, 25, 24, 28, 42, 21, 37, 25, 39, 25, 55, 38, 26, 25, 28, 25, 22, 21, 22, 27, 26, 21, 21, 21, 25, 26, 23, 38, 22, 29, 36, 41, 28, 21, 31, 22, 24, 28, 26, 26, 23, 25, 72, 24, 62, 24, 81, 48, 26, 39, 37, 34, 21, 22, 25, 27, 28, 22, 22, 50, 24, 59, 31, 39, 63, 29, 28, 23, 21, 58, 28, 67, 24, 42, 33, 22, 66, 30, 25, 39, 21, 28, 41, 40, 38, 21, 21, 64, 21, 58, 22, 24, 51, 41, 60, 25, 26, 26, 24, 21, 21, 24, 22, 31, 22, 24, 29, 31, 24, 46, 67, 23, 25, 29, 28, 50, 37, 21, 25, 66, 23, 28, 37, 30, 58, 42, 35, 24, 32, 27, 22, 21, 46, 37, 39, 21, 22, 22, 23, 25, 35, 36, 27, 62, 42, 22, 29, 25, 24, 25, 34, 46, 21, 26, 24, 28, 30, 21, 25, 27, 23, 24, 26, 27, 30, 23, 28, 28, 45, 21, 21, 29, 21, 21, 45, 21, 24, 23, 22, 31, 48, 23, 28, 27, 24, 31, 27, 30, 23, 23, 27, 28, 27, 22, 22, 41, 51, 54, 24, 43, 45, 49, 21, 47, 22, 68, 25, 23, 22, 22, 69, 25, 22, 29, 23, 34, 23, 25, 22, 28, 26, 26, 41, 27, 28, 22, 24, 40, 21, 32, 56, 24, 34, 21, 42, 45, 38, 25, 22, 22, 22, 22, 53, 28, 21, 42, 21, 26, 22, 39, 46, 32, 28, 25, 39, 26, 22, 33, 63, 27, 30, 23], \"xaxis\": \"x\", \"yaxis\": \"y\"}],                        {\"barmode\": \"relative\", \"legend\": {\"title\": {\"text\": \"Outcome\"}, \"tracegroupgap\": 0}, \"template\": {\"data\": {\"bar\": [{\"error_x\": {\"color\": \"#f2f5fa\"}, \"error_y\": {\"color\": \"#f2f5fa\"}, \"marker\": {\"line\": {\"color\": \"rgb(17,17,17)\", \"width\": 0.5}}, \"type\": \"bar\"}], \"barpolar\": [{\"marker\": {\"line\": {\"color\": \"rgb(17,17,17)\", \"width\": 0.5}}, \"type\": \"barpolar\"}], \"carpet\": [{\"aaxis\": {\"endlinecolor\": \"#A2B1C6\", \"gridcolor\": \"#506784\", \"linecolor\": \"#506784\", \"minorgridcolor\": \"#506784\", \"startlinecolor\": \"#A2B1C6\"}, \"baxis\": {\"endlinecolor\": \"#A2B1C6\", \"gridcolor\": \"#506784\", \"linecolor\": \"#506784\", \"minorgridcolor\": \"#506784\", \"startlinecolor\": \"#A2B1C6\"}, \"type\": \"carpet\"}], \"choropleth\": [{\"colorbar\": {\"outlinewidth\": 0, \"ticks\": \"\"}, \"type\": \"choropleth\"}], \"contour\": [{\"colorbar\": {\"outlinewidth\": 0, \"ticks\": \"\"}, \"colorscale\": [[0.0, \"#0d0887\"], [0.1111111111111111, \"#46039f\"], [0.2222222222222222, \"#7201a8\"], [0.3333333333333333, \"#9c179e\"], [0.4444444444444444, \"#bd3786\"], [0.5555555555555556, \"#d8576b\"], [0.6666666666666666, \"#ed7953\"], [0.7777777777777778, \"#fb9f3a\"], [0.8888888888888888, \"#fdca26\"], [1.0, \"#f0f921\"]], \"type\": \"contour\"}], \"contourcarpet\": [{\"colorbar\": {\"outlinewidth\": 0, \"ticks\": \"\"}, \"type\": \"contourcarpet\"}], \"heatmap\": [{\"colorbar\": {\"outlinewidth\": 0, \"ticks\": \"\"}, \"colorscale\": [[0.0, \"#0d0887\"], [0.1111111111111111, \"#46039f\"], [0.2222222222222222, \"#7201a8\"], [0.3333333333333333, \"#9c179e\"], [0.4444444444444444, \"#bd3786\"], [0.5555555555555556, \"#d8576b\"], [0.6666666666666666, \"#ed7953\"], [0.7777777777777778, \"#fb9f3a\"], [0.8888888888888888, \"#fdca26\"], [1.0, \"#f0f921\"]], \"type\": \"heatmap\"}], \"heatmapgl\": [{\"colorbar\": {\"outlinewidth\": 0, \"ticks\": \"\"}, \"colorscale\": [[0.0, \"#0d0887\"], [0.1111111111111111, \"#46039f\"], [0.2222222222222222, \"#7201a8\"], [0.3333333333333333, \"#9c179e\"], [0.4444444444444444, \"#bd3786\"], [0.5555555555555556, \"#d8576b\"], [0.6666666666666666, \"#ed7953\"], [0.7777777777777778, \"#fb9f3a\"], [0.8888888888888888, \"#fdca26\"], [1.0, \"#f0f921\"]], \"type\": \"heatmapgl\"}], \"histogram\": [{\"marker\": {\"colorbar\": {\"outlinewidth\": 0, \"ticks\": \"\"}}, \"type\": \"histogram\"}], \"histogram2d\": [{\"colorbar\": {\"outlinewidth\": 0, \"ticks\": \"\"}, \"colorscale\": [[0.0, \"#0d0887\"], [0.1111111111111111, \"#46039f\"], [0.2222222222222222, \"#7201a8\"], [0.3333333333333333, \"#9c179e\"], [0.4444444444444444, \"#bd3786\"], [0.5555555555555556, \"#d8576b\"], [0.6666666666666666, \"#ed7953\"], [0.7777777777777778, \"#fb9f3a\"], [0.8888888888888888, \"#fdca26\"], [1.0, \"#f0f921\"]], \"type\": \"histogram2d\"}], \"histogram2dcontour\": [{\"colorbar\": {\"outlinewidth\": 0, \"ticks\": \"\"}, \"colorscale\": [[0.0, \"#0d0887\"], [0.1111111111111111, \"#46039f\"], [0.2222222222222222, \"#7201a8\"], [0.3333333333333333, \"#9c179e\"], [0.4444444444444444, \"#bd3786\"], [0.5555555555555556, \"#d8576b\"], [0.6666666666666666, \"#ed7953\"], [0.7777777777777778, \"#fb9f3a\"], [0.8888888888888888, \"#fdca26\"], [1.0, \"#f0f921\"]], \"type\": \"histogram2dcontour\"}], \"mesh3d\": [{\"colorbar\": {\"outlinewidth\": 0, \"ticks\": \"\"}, \"type\": \"mesh3d\"}], \"parcoords\": [{\"line\": {\"colorbar\": {\"outlinewidth\": 0, \"ticks\": \"\"}}, \"type\": \"parcoords\"}], \"pie\": [{\"automargin\": true, \"type\": \"pie\"}], \"scatter\": [{\"marker\": {\"line\": {\"color\": \"#283442\"}}, \"type\": \"scatter\"}], \"scatter3d\": [{\"line\": {\"colorbar\": {\"outlinewidth\": 0, \"ticks\": \"\"}}, \"marker\": {\"colorbar\": {\"outlinewidth\": 0, \"ticks\": \"\"}}, \"type\": \"scatter3d\"}], \"scattercarpet\": [{\"marker\": {\"colorbar\": {\"outlinewidth\": 0, \"ticks\": \"\"}}, \"type\": \"scattercarpet\"}], \"scattergeo\": [{\"marker\": {\"colorbar\": {\"outlinewidth\": 0, \"ticks\": \"\"}}, \"type\": \"scattergeo\"}], \"scattergl\": [{\"marker\": {\"line\": {\"color\": \"#283442\"}}, \"type\": \"scattergl\"}], \"scattermapbox\": [{\"marker\": {\"colorbar\": {\"outlinewidth\": 0, \"ticks\": \"\"}}, \"type\": \"scattermapbox\"}], \"scatterpolar\": [{\"marker\": {\"colorbar\": {\"outlinewidth\": 0, \"ticks\": \"\"}}, \"type\": \"scatterpolar\"}], \"scatterpolargl\": [{\"marker\": {\"colorbar\": {\"outlinewidth\": 0, \"ticks\": \"\"}}, \"type\": \"scatterpolargl\"}], \"scatterternary\": [{\"marker\": {\"colorbar\": {\"outlinewidth\": 0, \"ticks\": \"\"}}, \"type\": \"scatterternary\"}], \"surface\": [{\"colorbar\": {\"outlinewidth\": 0, \"ticks\": \"\"}, \"colorscale\": [[0.0, \"#0d0887\"], [0.1111111111111111, \"#46039f\"], [0.2222222222222222, \"#7201a8\"], [0.3333333333333333, \"#9c179e\"], [0.4444444444444444, \"#bd3786\"], [0.5555555555555556, \"#d8576b\"], [0.6666666666666666, \"#ed7953\"], [0.7777777777777778, \"#fb9f3a\"], [0.8888888888888888, \"#fdca26\"], [1.0, \"#f0f921\"]], \"type\": \"surface\"}], \"table\": [{\"cells\": {\"fill\": {\"color\": \"#506784\"}, \"line\": {\"color\": \"rgb(17,17,17)\"}}, \"header\": {\"fill\": {\"color\": \"#2a3f5f\"}, \"line\": {\"color\": \"rgb(17,17,17)\"}}, \"type\": \"table\"}]}, \"layout\": {\"annotationdefaults\": {\"arrowcolor\": \"#f2f5fa\", \"arrowhead\": 0, \"arrowwidth\": 1}, \"autotypenumbers\": \"strict\", \"coloraxis\": {\"colorbar\": {\"outlinewidth\": 0, \"ticks\": \"\"}}, \"colorscale\": {\"diverging\": [[0, \"#8e0152\"], [0.1, \"#c51b7d\"], [0.2, \"#de77ae\"], [0.3, \"#f1b6da\"], [0.4, \"#fde0ef\"], [0.5, \"#f7f7f7\"], [0.6, \"#e6f5d0\"], [0.7, \"#b8e186\"], [0.8, \"#7fbc41\"], [0.9, \"#4d9221\"], [1, \"#276419\"]], \"sequential\": [[0.0, \"#0d0887\"], [0.1111111111111111, \"#46039f\"], [0.2222222222222222, \"#7201a8\"], [0.3333333333333333, \"#9c179e\"], [0.4444444444444444, \"#bd3786\"], [0.5555555555555556, \"#d8576b\"], [0.6666666666666666, \"#ed7953\"], [0.7777777777777778, \"#fb9f3a\"], [0.8888888888888888, \"#fdca26\"], [1.0, \"#f0f921\"]], \"sequentialminus\": [[0.0, \"#0d0887\"], [0.1111111111111111, \"#46039f\"], [0.2222222222222222, \"#7201a8\"], [0.3333333333333333, \"#9c179e\"], [0.4444444444444444, \"#bd3786\"], [0.5555555555555556, \"#d8576b\"], [0.6666666666666666, \"#ed7953\"], [0.7777777777777778, \"#fb9f3a\"], [0.8888888888888888, \"#fdca26\"], [1.0, \"#f0f921\"]]}, \"colorway\": [\"#636efa\", \"#EF553B\", \"#00cc96\", \"#ab63fa\", \"#FFA15A\", \"#19d3f3\", \"#FF6692\", \"#B6E880\", \"#FF97FF\", \"#FECB52\"], \"font\": {\"color\": \"#f2f5fa\"}, \"geo\": {\"bgcolor\": \"rgb(17,17,17)\", \"lakecolor\": \"rgb(17,17,17)\", \"landcolor\": \"rgb(17,17,17)\", \"showlakes\": true, \"showland\": true, \"subunitcolor\": \"#506784\"}, \"hoverlabel\": {\"align\": \"left\"}, \"hovermode\": \"closest\", \"mapbox\": {\"style\": \"dark\"}, \"paper_bgcolor\": \"rgb(17,17,17)\", \"plot_bgcolor\": \"rgb(17,17,17)\", \"polar\": {\"angularaxis\": {\"gridcolor\": \"#506784\", \"linecolor\": \"#506784\", \"ticks\": \"\"}, \"bgcolor\": \"rgb(17,17,17)\", \"radialaxis\": {\"gridcolor\": \"#506784\", \"linecolor\": \"#506784\", \"ticks\": \"\"}}, \"scene\": {\"xaxis\": {\"backgroundcolor\": \"rgb(17,17,17)\", \"gridcolor\": \"#506784\", \"gridwidth\": 2, \"linecolor\": \"#506784\", \"showbackground\": true, \"ticks\": \"\", \"zerolinecolor\": \"#C8D4E3\"}, \"yaxis\": {\"backgroundcolor\": \"rgb(17,17,17)\", \"gridcolor\": \"#506784\", \"gridwidth\": 2, \"linecolor\": \"#506784\", \"showbackground\": true, \"ticks\": \"\", \"zerolinecolor\": \"#C8D4E3\"}, \"zaxis\": {\"backgroundcolor\": \"rgb(17,17,17)\", \"gridcolor\": \"#506784\", \"gridwidth\": 2, \"linecolor\": \"#506784\", \"showbackground\": true, \"ticks\": \"\", \"zerolinecolor\": \"#C8D4E3\"}}, \"shapedefaults\": {\"line\": {\"color\": \"#f2f5fa\"}}, \"sliderdefaults\": {\"bgcolor\": \"#C8D4E3\", \"bordercolor\": \"rgb(17,17,17)\", \"borderwidth\": 1, \"tickwidth\": 0}, \"ternary\": {\"aaxis\": {\"gridcolor\": \"#506784\", \"linecolor\": \"#506784\", \"ticks\": \"\"}, \"baxis\": {\"gridcolor\": \"#506784\", \"linecolor\": \"#506784\", \"ticks\": \"\"}, \"bgcolor\": \"rgb(17,17,17)\", \"caxis\": {\"gridcolor\": \"#506784\", \"linecolor\": \"#506784\", \"ticks\": \"\"}}, \"title\": {\"x\": 0.05}, \"updatemenudefaults\": {\"bgcolor\": \"#506784\", \"borderwidth\": 0}, \"xaxis\": {\"automargin\": true, \"gridcolor\": \"#283442\", \"linecolor\": \"#506784\", \"ticks\": \"\", \"title\": {\"standoff\": 15}, \"zerolinecolor\": \"#283442\", \"zerolinewidth\": 2}, \"yaxis\": {\"automargin\": true, \"gridcolor\": \"#283442\", \"linecolor\": \"#506784\", \"ticks\": \"\", \"title\": {\"standoff\": 15}, \"zerolinecolor\": \"#283442\", \"zerolinewidth\": 2}}}, \"title\": {\"text\": \"Age distribution\"}, \"xaxis\": {\"anchor\": \"y\", \"domain\": [0.0, 1.0], \"title\": {\"text\": \"Age\"}}, \"yaxis\": {\"anchor\": \"x\", \"domain\": [0.0, 1.0], \"title\": {\"text\": \"count\"}}},                        {\"responsive\": true}                    ).then(function(){\n",
       "                            \n",
       "var gd = document.getElementById('7127262a-72af-4144-9c83-4d1807822733');\n",
       "var x = new MutationObserver(function (mutations, observer) {{\n",
       "        var display = window.getComputedStyle(gd).display;\n",
       "        if (!display || display === 'none') {{\n",
       "            console.log([gd, 'removed!']);\n",
       "            Plotly.purge(gd);\n",
       "            observer.disconnect();\n",
       "        }}\n",
       "}});\n",
       "\n",
       "// Listen for the removal of the full notebook cells\n",
       "var notebookContainer = gd.closest('#notebook-container');\n",
       "if (notebookContainer) {{\n",
       "    x.observe(notebookContainer, {childList: true});\n",
       "}}\n",
       "\n",
       "// Listen for the clearing of the current output cell\n",
       "var outputEl = gd.closest('.output');\n",
       "if (outputEl) {{\n",
       "    x.observe(outputEl, {childList: true});\n",
       "}}\n",
       "\n",
       "                        })                };                });            </script>        </div>"
      ]
     },
     "metadata": {},
     "output_type": "display_data"
    }
   ],
   "source": [
    "ax= px.histogram(df,x= \"Age\", template= \"plotly_dark\",color= \"Outcome\",title='Age distribution')\n",
    "ax.show()"
   ]
  },
  {
   "cell_type": "markdown",
   "id": "competent-archives",
   "metadata": {
    "papermill": {
     "duration": 0.062609,
     "end_time": "2021-06-11T14:17:06.135465",
     "exception": false,
     "start_time": "2021-06-11T14:17:06.072856",
     "status": "completed"
    },
    "tags": []
   },
   "source": [
    "<p style=\"background-color:Tomato;\">lets see the distribution of Outcome(diabetes or not)</p>"
   ]
  },
  {
   "cell_type": "code",
   "execution_count": 16,
   "id": "rolled-michigan",
   "metadata": {
    "execution": {
     "iopub.execute_input": "2021-06-11T14:17:06.264947Z",
     "iopub.status.busy": "2021-06-11T14:17:06.264277Z",
     "iopub.status.idle": "2021-06-11T14:17:06.332313Z",
     "shell.execute_reply": "2021-06-11T14:17:06.331783Z",
     "shell.execute_reply.started": "2021-06-11T14:10:53.424226Z"
    },
    "papermill": {
     "duration": 0.133459,
     "end_time": "2021-06-11T14:17:06.332462",
     "exception": false,
     "start_time": "2021-06-11T14:17:06.199003",
     "status": "completed"
    },
    "tags": []
   },
   "outputs": [
    {
     "data": {
      "text/html": [
       "<div>                            <div id=\"2c65ae88-162b-4be9-9211-e16daf884537\" class=\"plotly-graph-div\" style=\"height:525px; width:100%;\"></div>            <script type=\"text/javascript\">                require([\"plotly\"], function(Plotly) {                    window.PLOTLYENV=window.PLOTLYENV || {};                                    if (document.getElementById(\"2c65ae88-162b-4be9-9211-e16daf884537\")) {                    Plotly.newPlot(                        \"2c65ae88-162b-4be9-9211-e16daf884537\",                        [{\"domain\": {\"x\": [0.0, 1.0], \"y\": [0.0, 1.0]}, \"hole\": 0.5, \"hovertemplate\": \"Outcome=%{label}<extra></extra>\", \"labels\": [1, 0, 1, 0, 1, 0, 1, 0, 1, 1, 0, 1, 0, 1, 1, 1, 1, 1, 0, 1, 0, 0, 1, 1, 1, 1, 1, 0, 0, 0, 0, 1, 0, 0, 0, 0, 0, 1, 1, 1, 0, 0, 0, 1, 0, 1, 0, 0, 1, 0, 0, 0, 0, 1, 0, 0, 1, 0, 0, 0, 0, 1, 0, 0, 1, 0, 1, 0, 0, 0, 1, 0, 1, 0, 0, 0, 0, 0, 1, 0, 0, 0, 0, 0, 1, 0, 0, 0, 1, 0, 0, 0, 0, 1, 0, 0, 0, 0, 0, 1, 1, 0, 0, 0, 0, 0, 0, 0, 0, 1, 1, 1, 0, 0, 1, 1, 1, 0, 0, 0, 1, 0, 0, 0, 1, 1, 0, 0, 1, 1, 1, 1, 1, 0, 0, 0, 0, 0, 0, 0, 0, 0, 0, 1, 0, 0, 0, 0, 0, 0, 0, 0, 1, 0, 1, 1, 0, 0, 0, 1, 0, 0, 0, 0, 1, 1, 0, 0, 0, 0, 1, 1, 0, 0, 0, 1, 0, 1, 0, 1, 0, 0, 0, 0, 0, 1, 1, 1, 1, 1, 0, 0, 1, 1, 0, 1, 0, 1, 1, 1, 0, 0, 0, 0, 0, 0, 1, 1, 0, 1, 0, 0, 0, 1, 1, 1, 1, 0, 1, 1, 1, 1, 0, 0, 0, 0, 0, 1, 0, 0, 1, 1, 0, 0, 0, 1, 1, 1, 1, 0, 0, 0, 1, 1, 0, 1, 0, 0, 0, 0, 0, 0, 0, 0, 1, 1, 0, 0, 0, 1, 0, 1, 0, 0, 1, 0, 1, 0, 0, 1, 1, 0, 0, 0, 0, 0, 1, 0, 0, 0, 1, 0, 0, 1, 1, 0, 0, 1, 0, 0, 0, 1, 1, 1, 0, 0, 1, 0, 1, 0, 1, 1, 0, 1, 0, 0, 1, 0, 1, 1, 0, 0, 1, 0, 1, 0, 0, 1, 0, 1, 0, 1, 1, 1, 0, 0, 1, 0, 1, 0, 0, 0, 1, 0, 0, 0, 0, 1, 1, 1, 0, 0, 0, 0, 0, 0, 0, 0, 0, 1, 0, 0, 0, 0, 0, 1, 1, 1, 0, 1, 1, 0, 0, 1, 0, 0, 1, 0, 0, 1, 1, 0, 0, 0, 0, 1, 0, 0, 1, 0, 0, 0, 0, 0, 0, 0, 1, 1, 1, 0, 0, 1, 0, 0, 1, 0, 0, 1, 0, 1, 1, 0, 1, 0, 1, 0, 1, 0, 1, 1, 0, 0, 0, 0, 1, 1, 0, 1, 0, 1, 0, 0, 0, 0, 1, 1, 0, 1, 0, 1, 0, 0, 0, 0, 0, 1, 0, 0, 0, 0, 1, 0, 0, 1, 1, 1, 0, 0, 1, 0, 0, 1, 0, 0, 0, 1, 0, 0, 1, 0, 0, 0, 0, 0, 0, 0, 0, 0, 1, 0, 0, 0, 0, 0, 0, 0, 1, 0, 0, 0, 1, 0, 0, 0, 1, 1, 0, 0, 0, 0, 0, 0, 0, 1, 0, 0, 0, 0, 1, 0, 0, 0, 1, 0, 0, 0, 1, 0, 0, 0, 1, 0, 0, 0, 0, 1, 1, 0, 0, 0, 0, 0, 0, 1, 0, 0, 0, 0, 0, 0, 0, 0, 0, 0, 0, 1, 0, 0, 0, 1, 1, 1, 1, 0, 0, 1, 1, 0, 0, 0, 0, 0, 0, 0, 0, 0, 0, 0, 0, 0, 1, 1, 0, 0, 0, 0, 0, 0, 0, 1, 0, 0, 0, 0, 0, 0, 0, 1, 0, 1, 1, 0, 0, 0, 1, 0, 1, 0, 1, 0, 1, 0, 1, 0, 0, 1, 0, 0, 1, 0, 0, 0, 0, 1, 1, 0, 1, 0, 0, 0, 0, 1, 1, 0, 1, 0, 0, 0, 1, 1, 0, 0, 0, 0, 0, 0, 0, 0, 0, 0, 1, 0, 0, 0, 0, 1, 0, 0, 1, 0, 0, 0, 1, 0, 0, 0, 1, 1, 1, 0, 0, 0, 0, 0, 0, 1, 0, 0, 0, 1, 0, 1, 1, 1, 1, 0, 1, 1, 0, 0, 0, 0, 0, 0, 0, 1, 1, 0, 1, 0, 0, 1, 0, 1, 0, 0, 0, 0, 0, 1, 0, 1, 0, 1, 0, 1, 1, 0, 0, 0, 0, 1, 1, 0, 0, 0, 1, 0, 1, 1, 0, 0, 1, 0, 0, 1, 1, 0, 0, 1, 0, 0, 1, 0, 0, 0, 0, 0, 0, 0, 1, 1, 1, 0, 0, 0, 0, 0, 0, 1, 1, 0, 0, 1, 0, 0, 1, 0, 1, 1, 1, 0, 0, 1, 1, 1, 0, 1, 0, 1, 0, 1, 0, 0, 0, 0, 1, 0], \"legendgroup\": \"\", \"name\": \"\", \"showlegend\": true, \"type\": \"pie\"}],                        {\"legend\": {\"tracegroupgap\": 0}, \"template\": {\"data\": {\"bar\": [{\"error_x\": {\"color\": \"#f2f5fa\"}, \"error_y\": {\"color\": \"#f2f5fa\"}, \"marker\": {\"line\": {\"color\": \"rgb(17,17,17)\", \"width\": 0.5}}, \"type\": \"bar\"}], \"barpolar\": [{\"marker\": {\"line\": {\"color\": \"rgb(17,17,17)\", \"width\": 0.5}}, \"type\": \"barpolar\"}], \"carpet\": [{\"aaxis\": {\"endlinecolor\": \"#A2B1C6\", \"gridcolor\": \"#506784\", \"linecolor\": \"#506784\", \"minorgridcolor\": \"#506784\", \"startlinecolor\": \"#A2B1C6\"}, \"baxis\": {\"endlinecolor\": \"#A2B1C6\", \"gridcolor\": \"#506784\", \"linecolor\": \"#506784\", \"minorgridcolor\": \"#506784\", \"startlinecolor\": \"#A2B1C6\"}, \"type\": \"carpet\"}], \"choropleth\": [{\"colorbar\": {\"outlinewidth\": 0, \"ticks\": \"\"}, \"type\": \"choropleth\"}], \"contour\": [{\"colorbar\": {\"outlinewidth\": 0, \"ticks\": \"\"}, \"colorscale\": [[0.0, \"#0d0887\"], [0.1111111111111111, \"#46039f\"], [0.2222222222222222, \"#7201a8\"], [0.3333333333333333, \"#9c179e\"], [0.4444444444444444, \"#bd3786\"], [0.5555555555555556, \"#d8576b\"], [0.6666666666666666, \"#ed7953\"], [0.7777777777777778, \"#fb9f3a\"], [0.8888888888888888, \"#fdca26\"], [1.0, \"#f0f921\"]], \"type\": \"contour\"}], \"contourcarpet\": [{\"colorbar\": {\"outlinewidth\": 0, \"ticks\": \"\"}, \"type\": \"contourcarpet\"}], \"heatmap\": [{\"colorbar\": {\"outlinewidth\": 0, \"ticks\": \"\"}, \"colorscale\": [[0.0, \"#0d0887\"], [0.1111111111111111, \"#46039f\"], [0.2222222222222222, \"#7201a8\"], [0.3333333333333333, \"#9c179e\"], [0.4444444444444444, \"#bd3786\"], [0.5555555555555556, \"#d8576b\"], [0.6666666666666666, \"#ed7953\"], [0.7777777777777778, \"#fb9f3a\"], [0.8888888888888888, \"#fdca26\"], [1.0, \"#f0f921\"]], \"type\": \"heatmap\"}], \"heatmapgl\": [{\"colorbar\": {\"outlinewidth\": 0, \"ticks\": \"\"}, \"colorscale\": [[0.0, \"#0d0887\"], [0.1111111111111111, \"#46039f\"], [0.2222222222222222, \"#7201a8\"], [0.3333333333333333, \"#9c179e\"], [0.4444444444444444, \"#bd3786\"], [0.5555555555555556, \"#d8576b\"], [0.6666666666666666, \"#ed7953\"], [0.7777777777777778, \"#fb9f3a\"], [0.8888888888888888, \"#fdca26\"], [1.0, \"#f0f921\"]], \"type\": \"heatmapgl\"}], \"histogram\": [{\"marker\": {\"colorbar\": {\"outlinewidth\": 0, \"ticks\": \"\"}}, \"type\": \"histogram\"}], \"histogram2d\": [{\"colorbar\": {\"outlinewidth\": 0, \"ticks\": \"\"}, \"colorscale\": [[0.0, \"#0d0887\"], [0.1111111111111111, \"#46039f\"], [0.2222222222222222, \"#7201a8\"], [0.3333333333333333, \"#9c179e\"], [0.4444444444444444, \"#bd3786\"], [0.5555555555555556, \"#d8576b\"], [0.6666666666666666, \"#ed7953\"], [0.7777777777777778, \"#fb9f3a\"], [0.8888888888888888, \"#fdca26\"], [1.0, \"#f0f921\"]], \"type\": \"histogram2d\"}], \"histogram2dcontour\": [{\"colorbar\": {\"outlinewidth\": 0, \"ticks\": \"\"}, \"colorscale\": [[0.0, \"#0d0887\"], [0.1111111111111111, \"#46039f\"], [0.2222222222222222, \"#7201a8\"], [0.3333333333333333, \"#9c179e\"], [0.4444444444444444, \"#bd3786\"], [0.5555555555555556, \"#d8576b\"], [0.6666666666666666, \"#ed7953\"], [0.7777777777777778, \"#fb9f3a\"], [0.8888888888888888, \"#fdca26\"], [1.0, \"#f0f921\"]], \"type\": \"histogram2dcontour\"}], \"mesh3d\": [{\"colorbar\": {\"outlinewidth\": 0, \"ticks\": \"\"}, \"type\": \"mesh3d\"}], \"parcoords\": [{\"line\": {\"colorbar\": {\"outlinewidth\": 0, \"ticks\": \"\"}}, \"type\": \"parcoords\"}], \"pie\": [{\"automargin\": true, \"type\": \"pie\"}], \"scatter\": [{\"marker\": {\"line\": {\"color\": \"#283442\"}}, \"type\": \"scatter\"}], \"scatter3d\": [{\"line\": {\"colorbar\": {\"outlinewidth\": 0, \"ticks\": \"\"}}, \"marker\": {\"colorbar\": {\"outlinewidth\": 0, \"ticks\": \"\"}}, \"type\": \"scatter3d\"}], \"scattercarpet\": [{\"marker\": {\"colorbar\": {\"outlinewidth\": 0, \"ticks\": \"\"}}, \"type\": \"scattercarpet\"}], \"scattergeo\": [{\"marker\": {\"colorbar\": {\"outlinewidth\": 0, \"ticks\": \"\"}}, \"type\": \"scattergeo\"}], \"scattergl\": [{\"marker\": {\"line\": {\"color\": \"#283442\"}}, \"type\": \"scattergl\"}], \"scattermapbox\": [{\"marker\": {\"colorbar\": {\"outlinewidth\": 0, \"ticks\": \"\"}}, \"type\": \"scattermapbox\"}], \"scatterpolar\": [{\"marker\": {\"colorbar\": {\"outlinewidth\": 0, \"ticks\": \"\"}}, \"type\": \"scatterpolar\"}], \"scatterpolargl\": [{\"marker\": {\"colorbar\": {\"outlinewidth\": 0, \"ticks\": \"\"}}, \"type\": \"scatterpolargl\"}], \"scatterternary\": [{\"marker\": {\"colorbar\": {\"outlinewidth\": 0, \"ticks\": \"\"}}, \"type\": \"scatterternary\"}], \"surface\": [{\"colorbar\": {\"outlinewidth\": 0, \"ticks\": \"\"}, \"colorscale\": [[0.0, \"#0d0887\"], [0.1111111111111111, \"#46039f\"], [0.2222222222222222, \"#7201a8\"], [0.3333333333333333, \"#9c179e\"], [0.4444444444444444, \"#bd3786\"], [0.5555555555555556, \"#d8576b\"], [0.6666666666666666, \"#ed7953\"], [0.7777777777777778, \"#fb9f3a\"], [0.8888888888888888, \"#fdca26\"], [1.0, \"#f0f921\"]], \"type\": \"surface\"}], \"table\": [{\"cells\": {\"fill\": {\"color\": \"#506784\"}, \"line\": {\"color\": \"rgb(17,17,17)\"}}, \"header\": {\"fill\": {\"color\": \"#2a3f5f\"}, \"line\": {\"color\": \"rgb(17,17,17)\"}}, \"type\": \"table\"}]}, \"layout\": {\"annotationdefaults\": {\"arrowcolor\": \"#f2f5fa\", \"arrowhead\": 0, \"arrowwidth\": 1}, \"autotypenumbers\": \"strict\", \"coloraxis\": {\"colorbar\": {\"outlinewidth\": 0, \"ticks\": \"\"}}, \"colorscale\": {\"diverging\": [[0, \"#8e0152\"], [0.1, \"#c51b7d\"], [0.2, \"#de77ae\"], [0.3, \"#f1b6da\"], [0.4, \"#fde0ef\"], [0.5, \"#f7f7f7\"], [0.6, \"#e6f5d0\"], [0.7, \"#b8e186\"], [0.8, \"#7fbc41\"], [0.9, \"#4d9221\"], [1, \"#276419\"]], \"sequential\": [[0.0, \"#0d0887\"], [0.1111111111111111, \"#46039f\"], [0.2222222222222222, \"#7201a8\"], [0.3333333333333333, \"#9c179e\"], [0.4444444444444444, \"#bd3786\"], [0.5555555555555556, \"#d8576b\"], [0.6666666666666666, \"#ed7953\"], [0.7777777777777778, \"#fb9f3a\"], [0.8888888888888888, \"#fdca26\"], [1.0, \"#f0f921\"]], \"sequentialminus\": [[0.0, \"#0d0887\"], [0.1111111111111111, \"#46039f\"], [0.2222222222222222, \"#7201a8\"], [0.3333333333333333, \"#9c179e\"], [0.4444444444444444, \"#bd3786\"], [0.5555555555555556, \"#d8576b\"], [0.6666666666666666, \"#ed7953\"], [0.7777777777777778, \"#fb9f3a\"], [0.8888888888888888, \"#fdca26\"], [1.0, \"#f0f921\"]]}, \"colorway\": [\"#636efa\", \"#EF553B\", \"#00cc96\", \"#ab63fa\", \"#FFA15A\", \"#19d3f3\", \"#FF6692\", \"#B6E880\", \"#FF97FF\", \"#FECB52\"], \"font\": {\"color\": \"#f2f5fa\"}, \"geo\": {\"bgcolor\": \"rgb(17,17,17)\", \"lakecolor\": \"rgb(17,17,17)\", \"landcolor\": \"rgb(17,17,17)\", \"showlakes\": true, \"showland\": true, \"subunitcolor\": \"#506784\"}, \"hoverlabel\": {\"align\": \"left\"}, \"hovermode\": \"closest\", \"mapbox\": {\"style\": \"dark\"}, \"paper_bgcolor\": \"rgb(17,17,17)\", \"plot_bgcolor\": \"rgb(17,17,17)\", \"polar\": {\"angularaxis\": {\"gridcolor\": \"#506784\", \"linecolor\": \"#506784\", \"ticks\": \"\"}, \"bgcolor\": \"rgb(17,17,17)\", \"radialaxis\": {\"gridcolor\": \"#506784\", \"linecolor\": \"#506784\", \"ticks\": \"\"}}, \"scene\": {\"xaxis\": {\"backgroundcolor\": \"rgb(17,17,17)\", \"gridcolor\": \"#506784\", \"gridwidth\": 2, \"linecolor\": \"#506784\", \"showbackground\": true, \"ticks\": \"\", \"zerolinecolor\": \"#C8D4E3\"}, \"yaxis\": {\"backgroundcolor\": \"rgb(17,17,17)\", \"gridcolor\": \"#506784\", \"gridwidth\": 2, \"linecolor\": \"#506784\", \"showbackground\": true, \"ticks\": \"\", \"zerolinecolor\": \"#C8D4E3\"}, \"zaxis\": {\"backgroundcolor\": \"rgb(17,17,17)\", \"gridcolor\": \"#506784\", \"gridwidth\": 2, \"linecolor\": \"#506784\", \"showbackground\": true, \"ticks\": \"\", \"zerolinecolor\": \"#C8D4E3\"}}, \"shapedefaults\": {\"line\": {\"color\": \"#f2f5fa\"}}, \"sliderdefaults\": {\"bgcolor\": \"#C8D4E3\", \"bordercolor\": \"rgb(17,17,17)\", \"borderwidth\": 1, \"tickwidth\": 0}, \"ternary\": {\"aaxis\": {\"gridcolor\": \"#506784\", \"linecolor\": \"#506784\", \"ticks\": \"\"}, \"baxis\": {\"gridcolor\": \"#506784\", \"linecolor\": \"#506784\", \"ticks\": \"\"}, \"bgcolor\": \"rgb(17,17,17)\", \"caxis\": {\"gridcolor\": \"#506784\", \"linecolor\": \"#506784\", \"ticks\": \"\"}}, \"title\": {\"x\": 0.05}, \"updatemenudefaults\": {\"bgcolor\": \"#506784\", \"borderwidth\": 0}, \"xaxis\": {\"automargin\": true, \"gridcolor\": \"#283442\", \"linecolor\": \"#506784\", \"ticks\": \"\", \"title\": {\"standoff\": 15}, \"zerolinecolor\": \"#283442\", \"zerolinewidth\": 2}, \"yaxis\": {\"automargin\": true, \"gridcolor\": \"#283442\", \"linecolor\": \"#506784\", \"ticks\": \"\", \"title\": {\"standoff\": 15}, \"zerolinecolor\": \"#283442\", \"zerolinewidth\": 2}}}, \"title\": {\"text\": \"chances of Diabetes\"}},                        {\"responsive\": true}                    ).then(function(){\n",
       "                            \n",
       "var gd = document.getElementById('2c65ae88-162b-4be9-9211-e16daf884537');\n",
       "var x = new MutationObserver(function (mutations, observer) {{\n",
       "        var display = window.getComputedStyle(gd).display;\n",
       "        if (!display || display === 'none') {{\n",
       "            console.log([gd, 'removed!']);\n",
       "            Plotly.purge(gd);\n",
       "            observer.disconnect();\n",
       "        }}\n",
       "}});\n",
       "\n",
       "// Listen for the removal of the full notebook cells\n",
       "var notebookContainer = gd.closest('#notebook-container');\n",
       "if (notebookContainer) {{\n",
       "    x.observe(notebookContainer, {childList: true});\n",
       "}}\n",
       "\n",
       "// Listen for the clearing of the current output cell\n",
       "var outputEl = gd.closest('.output');\n",
       "if (outputEl) {{\n",
       "    x.observe(outputEl, {childList: true});\n",
       "}}\n",
       "\n",
       "                        })                };                });            </script>        </div>"
      ]
     },
     "metadata": {},
     "output_type": "display_data"
    }
   ],
   "source": [
    "ax= px.pie(df, names= \"Outcome\",template= \"plotly_dark\",title= \"chances of Diabetes\",hole= 0.5)\n",
    "ax.show()"
   ]
  },
  {
   "cell_type": "markdown",
   "id": "white-lindsay",
   "metadata": {
    "papermill": {
     "duration": 0.063011,
     "end_time": "2021-06-11T14:17:06.458897",
     "exception": false,
     "start_time": "2021-06-11T14:17:06.395886",
     "status": "completed"
    },
    "tags": []
   },
   "source": [
    "The dataset is slightly imbalanced wrt to outcome as 65% of patients have low of diabetes and only 34% patients have high chance"
   ]
  },
  {
   "cell_type": "markdown",
   "id": "discrete-vegetable",
   "metadata": {
    "papermill": {
     "duration": 0.062795,
     "end_time": "2021-06-11T14:17:06.585435",
     "exception": false,
     "start_time": "2021-06-11T14:17:06.522640",
     "status": "completed"
    },
    "tags": []
   },
   "source": [
    "<p style=\"background-color:Tomato;\">Glucose and age correlation/ distribution across target variable</p>"
   ]
  },
  {
   "cell_type": "code",
   "execution_count": 17,
   "id": "composed-priest",
   "metadata": {
    "execution": {
     "iopub.execute_input": "2021-06-11T14:17:06.718548Z",
     "iopub.status.busy": "2021-06-11T14:17:06.717808Z",
     "iopub.status.idle": "2021-06-11T14:17:06.907858Z",
     "shell.execute_reply": "2021-06-11T14:17:06.908470Z",
     "shell.execute_reply.started": "2021-06-11T14:10:53.491607Z"
    },
    "papermill": {
     "duration": 0.259771,
     "end_time": "2021-06-11T14:17:06.908663",
     "exception": false,
     "start_time": "2021-06-11T14:17:06.648892",
     "status": "completed"
    },
    "tags": []
   },
   "outputs": [
    {
     "data": {
      "text/html": [
       "<div>                            <div id=\"7236f5d0-84e9-4452-af9b-c1391ad59a50\" class=\"plotly-graph-div\" style=\"height:525px; width:100%;\"></div>            <script type=\"text/javascript\">                require([\"plotly\"], function(Plotly) {                    window.PLOTLYENV=window.PLOTLYENV || {};                                    if (document.getElementById(\"7236f5d0-84e9-4452-af9b-c1391ad59a50\")) {                    Plotly.newPlot(                        \"7236f5d0-84e9-4452-af9b-c1391ad59a50\",                        [{\"hovertemplate\": \"Glucose=%{x}<br>Age=%{marker.size}<br>Outcome=%{marker.color}<extra></extra>\", \"legendgroup\": \"\", \"marker\": {\"color\": [1, 0, 1, 0, 1, 0, 1, 0, 1, 1, 0, 1, 0, 1, 1, 1, 1, 1, 0, 1, 0, 0, 1, 1, 1, 1, 1, 0, 0, 0, 0, 1, 0, 0, 0, 0, 0, 1, 1, 1, 0, 0, 0, 1, 0, 1, 0, 0, 1, 0, 0, 0, 0, 1, 0, 0, 1, 0, 0, 0, 0, 1, 0, 0, 1, 0, 1, 0, 0, 0, 1, 0, 1, 0, 0, 0, 0, 0, 1, 0, 0, 0, 0, 0, 1, 0, 0, 0, 1, 0, 0, 0, 0, 1, 0, 0, 0, 0, 0, 1, 1, 0, 0, 0, 0, 0, 0, 0, 0, 1, 1, 1, 0, 0, 1, 1, 1, 0, 0, 0, 1, 0, 0, 0, 1, 1, 0, 0, 1, 1, 1, 1, 1, 0, 0, 0, 0, 0, 0, 0, 0, 0, 0, 1, 0, 0, 0, 0, 0, 0, 0, 0, 1, 0, 1, 1, 0, 0, 0, 1, 0, 0, 0, 0, 1, 1, 0, 0, 0, 0, 1, 1, 0, 0, 0, 1, 0, 1, 0, 1, 0, 0, 0, 0, 0, 1, 1, 1, 1, 1, 0, 0, 1, 1, 0, 1, 0, 1, 1, 1, 0, 0, 0, 0, 0, 0, 1, 1, 0, 1, 0, 0, 0, 1, 1, 1, 1, 0, 1, 1, 1, 1, 0, 0, 0, 0, 0, 1, 0, 0, 1, 1, 0, 0, 0, 1, 1, 1, 1, 0, 0, 0, 1, 1, 0, 1, 0, 0, 0, 0, 0, 0, 0, 0, 1, 1, 0, 0, 0, 1, 0, 1, 0, 0, 1, 0, 1, 0, 0, 1, 1, 0, 0, 0, 0, 0, 1, 0, 0, 0, 1, 0, 0, 1, 1, 0, 0, 1, 0, 0, 0, 1, 1, 1, 0, 0, 1, 0, 1, 0, 1, 1, 0, 1, 0, 0, 1, 0, 1, 1, 0, 0, 1, 0, 1, 0, 0, 1, 0, 1, 0, 1, 1, 1, 0, 0, 1, 0, 1, 0, 0, 0, 1, 0, 0, 0, 0, 1, 1, 1, 0, 0, 0, 0, 0, 0, 0, 0, 0, 1, 0, 0, 0, 0, 0, 1, 1, 1, 0, 1, 1, 0, 0, 1, 0, 0, 1, 0, 0, 1, 1, 0, 0, 0, 0, 1, 0, 0, 1, 0, 0, 0, 0, 0, 0, 0, 1, 1, 1, 0, 0, 1, 0, 0, 1, 0, 0, 1, 0, 1, 1, 0, 1, 0, 1, 0, 1, 0, 1, 1, 0, 0, 0, 0, 1, 1, 0, 1, 0, 1, 0, 0, 0, 0, 1, 1, 0, 1, 0, 1, 0, 0, 0, 0, 0, 1, 0, 0, 0, 0, 1, 0, 0, 1, 1, 1, 0, 0, 1, 0, 0, 1, 0, 0, 0, 1, 0, 0, 1, 0, 0, 0, 0, 0, 0, 0, 0, 0, 1, 0, 0, 0, 0, 0, 0, 0, 1, 0, 0, 0, 1, 0, 0, 0, 1, 1, 0, 0, 0, 0, 0, 0, 0, 1, 0, 0, 0, 0, 1, 0, 0, 0, 1, 0, 0, 0, 1, 0, 0, 0, 1, 0, 0, 0, 0, 1, 1, 0, 0, 0, 0, 0, 0, 1, 0, 0, 0, 0, 0, 0, 0, 0, 0, 0, 0, 1, 0, 0, 0, 1, 1, 1, 1, 0, 0, 1, 1, 0, 0, 0, 0, 0, 0, 0, 0, 0, 0, 0, 0, 0, 1, 1, 0, 0, 0, 0, 0, 0, 0, 1, 0, 0, 0, 0, 0, 0, 0, 1, 0, 1, 1, 0, 0, 0, 1, 0, 1, 0, 1, 0, 1, 0, 1, 0, 0, 1, 0, 0, 1, 0, 0, 0, 0, 1, 1, 0, 1, 0, 0, 0, 0, 1, 1, 0, 1, 0, 0, 0, 1, 1, 0, 0, 0, 0, 0, 0, 0, 0, 0, 0, 1, 0, 0, 0, 0, 1, 0, 0, 1, 0, 0, 0, 1, 0, 0, 0, 1, 1, 1, 0, 0, 0, 0, 0, 0, 1, 0, 0, 0, 1, 0, 1, 1, 1, 1, 0, 1, 1, 0, 0, 0, 0, 0, 0, 0, 1, 1, 0, 1, 0, 0, 1, 0, 1, 0, 0, 0, 0, 0, 1, 0, 1, 0, 1, 0, 1, 1, 0, 0, 0, 0, 1, 1, 0, 0, 0, 1, 0, 1, 1, 0, 0, 1, 0, 0, 1, 1, 0, 0, 1, 0, 0, 1, 0, 0, 0, 0, 0, 0, 0, 1, 1, 1, 0, 0, 0, 0, 0, 0, 1, 1, 0, 0, 1, 0, 0, 1, 0, 1, 1, 1, 0, 0, 1, 1, 1, 0, 1, 0, 1, 0, 1, 0, 0, 0, 0, 1, 0], \"coloraxis\": \"coloraxis\", \"size\": [50, 31, 32, 21, 33, 30, 26, 29, 53, 54, 30, 34, 57, 59, 51, 32, 31, 31, 33, 32, 27, 50, 41, 29, 51, 41, 43, 22, 57, 38, 60, 28, 22, 28, 45, 33, 35, 46, 27, 56, 26, 37, 48, 54, 40, 25, 29, 22, 31, 24, 22, 26, 30, 58, 42, 21, 41, 31, 44, 22, 21, 39, 36, 24, 42, 32, 38, 54, 25, 27, 28, 26, 42, 23, 22, 22, 41, 27, 26, 24, 22, 22, 36, 22, 37, 27, 45, 26, 43, 24, 21, 34, 42, 60, 21, 40, 24, 22, 23, 31, 33, 22, 21, 24, 27, 21, 27, 37, 25, 24, 24, 46, 23, 25, 39, 61, 38, 25, 22, 21, 25, 24, 23, 69, 23, 26, 30, 23, 40, 62, 33, 33, 30, 39, 26, 31, 21, 22, 29, 28, 55, 38, 22, 42, 23, 21, 41, 34, 65, 22, 24, 37, 42, 23, 43, 36, 21, 23, 22, 47, 36, 45, 27, 21, 32, 41, 22, 34, 29, 29, 36, 29, 25, 23, 33, 36, 42, 26, 47, 37, 32, 23, 21, 27, 40, 41, 60, 33, 31, 25, 21, 40, 36, 40, 42, 29, 21, 23, 26, 29, 21, 28, 32, 27, 55, 27, 57, 52, 21, 41, 25, 24, 60, 24, 36, 38, 25, 32, 32, 41, 21, 66, 37, 61, 26, 22, 26, 24, 31, 24, 22, 46, 22, 29, 23, 26, 51, 23, 32, 27, 21, 22, 22, 33, 29, 49, 41, 23, 34, 23, 42, 27, 24, 25, 44, 21, 30, 25, 24, 51, 34, 27, 24, 63, 35, 43, 25, 24, 21, 28, 38, 21, 40, 21, 52, 25, 29, 23, 57, 22, 28, 39, 37, 47, 52, 51, 34, 29, 26, 33, 21, 25, 31, 24, 65, 28, 29, 24, 46, 58, 30, 25, 35, 28, 37, 29, 47, 21, 25, 30, 41, 22, 27, 25, 43, 26, 30, 29, 28, 59, 31, 25, 36, 43, 21, 24, 30, 37, 23, 37, 46, 25, 41, 44, 22, 26, 44, 44, 33, 41, 22, 36, 22, 33, 57, 49, 22, 23, 26, 37, 29, 30, 46, 24, 21, 49, 28, 44, 48, 29, 29, 63, 65, 67, 30, 30, 29, 21, 22, 45, 25, 21, 21, 25, 28, 58, 22, 22, 32, 35, 24, 22, 21, 25, 25, 24, 35, 45, 58, 28, 42, 27, 21, 37, 31, 25, 39, 22, 25, 25, 31, 55, 35, 38, 41, 26, 46, 25, 39, 28, 28, 25, 22, 21, 21, 22, 22, 37, 27, 28, 26, 21, 21, 21, 36, 31, 25, 38, 26, 43, 23, 38, 22, 29, 36, 29, 41, 28, 21, 31, 41, 22, 24, 33, 30, 25, 28, 26, 22, 26, 23, 23, 25, 72, 24, 38, 62, 24, 51, 81, 48, 26, 39, 37, 34, 21, 22, 25, 38, 27, 28, 22, 22, 50, 24, 59, 29, 31, 39, 63, 35, 29, 28, 23, 31, 24, 21, 58, 28, 67, 24, 42, 33, 45, 22, 66, 30, 25, 55, 39, 21, 28, 41, 41, 40, 38, 35, 21, 21, 64, 46, 21, 58, 22, 24, 28, 53, 51, 41, 60, 25, 26, 26, 45, 24, 21, 21, 24, 22, 31, 22, 24, 29, 31, 24, 23, 46, 67, 23, 32, 43, 27, 56, 25, 29, 37, 53, 28, 50, 37, 21, 25, 66, 23, 28, 37, 30, 58, 42, 35, 54, 28, 24, 32, 27, 22, 21, 46, 37, 33, 39, 21, 22, 22, 23, 25, 35, 21, 36, 62, 21, 27, 62, 42, 52, 22, 41, 29, 52, 25, 45, 24, 44, 25, 34, 22, 46, 21, 38, 26, 24, 28, 30, 54, 36, 21, 22, 25, 27, 23, 24, 36, 40, 26, 50, 27, 30, 23, 50, 24, 28, 28, 45, 21, 21, 29, 21, 21, 45, 21, 34, 24, 23, 22, 31, 38, 48, 23, 32, 28, 27, 24, 50, 31, 27, 30, 33, 22, 42, 23, 23, 27, 28, 27, 22, 25, 22, 41, 51, 27, 54, 22, 43, 40, 40, 24, 70, 40, 43, 45, 49, 21, 47, 22, 68, 31, 53, 25, 25, 23, 22, 26, 22, 27, 69, 25, 22, 29, 23, 46, 34, 44, 23, 43, 25, 43, 31, 22, 28, 26, 26, 49, 52, 41, 27, 28, 30, 22, 45, 23, 24, 40, 38, 21, 32, 34, 31, 56, 24, 52, 34, 21, 42, 42, 45, 38, 25, 22, 22, 22, 34, 22, 24, 22, 53, 28, 21, 42, 21, 42, 48, 26, 22, 45, 39, 46, 27, 32, 36, 50, 22, 28, 25, 26, 45, 37, 39, 52, 26, 66, 22, 43, 33, 63, 27, 30, 47, 23], \"sizemode\": \"area\", \"sizeref\": 0.2025, \"symbol\": \"circle\"}, \"mode\": \"markers\", \"name\": \"\", \"orientation\": \"v\", \"showlegend\": false, \"type\": \"scatter\", \"x\": [148.0, 85.0, 183.0, 89.0, 137.0, 116.0, 78.0, 115.0, 197.0, 125.0, 110.0, 168.0, 139.0, 189.0, 166.0, 100.0, 118.0, 107.0, 103.0, 115.0, 126.0, 99.0, 196.0, 119.0, 143.0, 125.0, 147.0, 97.0, 145.0, 117.0, 109.0, 158.0, 88.0, 92.0, 122.0, 103.0, 138.0, 102.0, 90.0, 111.0, 180.0, 133.0, 106.0, 171.0, 159.0, 180.0, 146.0, 71.0, 103.0, 105.0, 103.0, 101.0, 88.0, 176.0, 150.0, 73.0, 187.0, 100.0, 146.0, 105.0, 84.0, 133.0, 44.0, 141.0, 114.0, 99.0, 109.0, 109.0, 95.0, 146.0, 100.0, 139.0, 126.0, 129.0, 79.0, 121.6867627785059, 62.0, 95.0, 131.0, 112.0, 113.0, 74.0, 83.0, 101.0, 137.0, 110.0, 106.0, 100.0, 136.0, 107.0, 80.0, 123.0, 81.0, 134.0, 142.0, 144.0, 92.0, 71.0, 93.0, 122.0, 163.0, 151.0, 125.0, 81.0, 85.0, 126.0, 96.0, 144.0, 83.0, 95.0, 171.0, 155.0, 89.0, 76.0, 160.0, 146.0, 124.0, 78.0, 97.0, 99.0, 162.0, 111.0, 107.0, 132.0, 113.0, 88.0, 120.0, 118.0, 117.0, 105.0, 173.0, 122.0, 170.0, 84.0, 96.0, 125.0, 100.0, 93.0, 129.0, 105.0, 128.0, 106.0, 108.0, 108.0, 154.0, 102.0, 57.0, 106.0, 147.0, 90.0, 136.0, 114.0, 156.0, 153.0, 188.0, 152.0, 99.0, 109.0, 88.0, 163.0, 151.0, 102.0, 114.0, 100.0, 131.0, 104.0, 148.0, 120.0, 110.0, 111.0, 102.0, 134.0, 87.0, 79.0, 75.0, 179.0, 85.0, 129.0, 143.0, 130.0, 87.0, 119.0, 121.6867627785059, 73.0, 141.0, 194.0, 181.0, 128.0, 109.0, 139.0, 111.0, 123.0, 159.0, 135.0, 85.0, 158.0, 105.0, 107.0, 109.0, 148.0, 113.0, 138.0, 108.0, 99.0, 103.0, 111.0, 196.0, 162.0, 96.0, 184.0, 81.0, 147.0, 179.0, 140.0, 112.0, 151.0, 109.0, 125.0, 85.0, 112.0, 177.0, 158.0, 119.0, 142.0, 100.0, 87.0, 101.0, 162.0, 197.0, 117.0, 142.0, 134.0, 79.0, 122.0, 74.0, 171.0, 181.0, 179.0, 164.0, 104.0, 91.0, 91.0, 139.0, 119.0, 146.0, 184.0, 122.0, 165.0, 124.0, 111.0, 106.0, 129.0, 90.0, 86.0, 92.0, 113.0, 111.0, 114.0, 193.0, 155.0, 191.0, 141.0, 95.0, 142.0, 123.0, 96.0, 138.0, 128.0, 102.0, 146.0, 101.0, 108.0, 122.0, 71.0, 106.0, 100.0, 106.0, 104.0, 114.0, 108.0, 146.0, 129.0, 133.0, 161.0, 108.0, 136.0, 155.0, 119.0, 96.0, 108.0, 78.0, 107.0, 128.0, 128.0, 161.0, 151.0, 146.0, 126.0, 100.0, 112.0, 167.0, 144.0, 77.0, 115.0, 150.0, 120.0, 161.0, 137.0, 128.0, 124.0, 80.0, 106.0, 155.0, 113.0, 109.0, 112.0, 99.0, 182.0, 115.0, 194.0, 129.0, 112.0, 124.0, 152.0, 112.0, 157.0, 122.0, 179.0, 102.0, 105.0, 118.0, 87.0, 180.0, 106.0, 95.0, 165.0, 117.0, 115.0, 152.0, 178.0, 130.0, 95.0, 121.6867627785059, 122.0, 95.0, 126.0, 139.0, 116.0, 99.0, 121.6867627785059, 92.0, 137.0, 61.0, 90.0, 90.0, 165.0, 125.0, 129.0, 88.0, 196.0, 189.0, 158.0, 103.0, 146.0, 147.0, 99.0, 124.0, 101.0, 81.0, 133.0, 173.0, 118.0, 84.0, 105.0, 122.0, 140.0, 98.0, 87.0, 156.0, 93.0, 107.0, 105.0, 109.0, 90.0, 125.0, 119.0, 116.0, 105.0, 144.0, 100.0, 100.0, 166.0, 131.0, 116.0, 158.0, 127.0, 96.0, 131.0, 82.0, 193.0, 95.0, 137.0, 136.0, 72.0, 168.0, 123.0, 115.0, 101.0, 197.0, 172.0, 102.0, 112.0, 143.0, 143.0, 138.0, 173.0, 97.0, 144.0, 83.0, 129.0, 119.0, 94.0, 102.0, 115.0, 151.0, 184.0, 94.0, 181.0, 135.0, 95.0, 99.0, 89.0, 80.0, 139.0, 90.0, 141.0, 140.0, 147.0, 97.0, 107.0, 189.0, 83.0, 117.0, 108.0, 117.0, 180.0, 100.0, 95.0, 104.0, 120.0, 82.0, 134.0, 91.0, 119.0, 100.0, 175.0, 135.0, 86.0, 148.0, 134.0, 120.0, 71.0, 74.0, 88.0, 115.0, 124.0, 74.0, 97.0, 120.0, 154.0, 144.0, 137.0, 119.0, 136.0, 114.0, 137.0, 105.0, 114.0, 126.0, 132.0, 158.0, 123.0, 85.0, 84.0, 145.0, 135.0, 139.0, 173.0, 99.0, 194.0, 83.0, 89.0, 99.0, 125.0, 80.0, 166.0, 110.0, 81.0, 195.0, 154.0, 117.0, 84.0, 121.6867627785059, 94.0, 96.0, 75.0, 180.0, 130.0, 84.0, 120.0, 84.0, 139.0, 91.0, 91.0, 99.0, 163.0, 145.0, 125.0, 76.0, 129.0, 68.0, 124.0, 114.0, 130.0, 125.0, 87.0, 97.0, 116.0, 117.0, 111.0, 122.0, 107.0, 86.0, 91.0, 77.0, 132.0, 105.0, 57.0, 127.0, 129.0, 100.0, 128.0, 90.0, 84.0, 88.0, 186.0, 187.0, 131.0, 164.0, 189.0, 116.0, 84.0, 114.0, 88.0, 84.0, 124.0, 97.0, 110.0, 103.0, 85.0, 125.0, 198.0, 87.0, 99.0, 91.0, 95.0, 99.0, 92.0, 154.0, 121.0, 78.0, 130.0, 111.0, 98.0, 143.0, 119.0, 108.0, 118.0, 133.0, 197.0, 151.0, 109.0, 121.0, 100.0, 124.0, 93.0, 143.0, 103.0, 176.0, 73.0, 111.0, 112.0, 132.0, 82.0, 123.0, 188.0, 67.0, 89.0, 173.0, 109.0, 108.0, 96.0, 124.0, 150.0, 183.0, 124.0, 181.0, 92.0, 152.0, 111.0, 106.0, 174.0, 168.0, 105.0, 138.0, 106.0, 117.0, 68.0, 112.0, 119.0, 112.0, 92.0, 183.0, 94.0, 108.0, 90.0, 125.0, 132.0, 128.0, 94.0, 114.0, 102.0, 111.0, 128.0, 92.0, 104.0, 104.0, 94.0, 97.0, 100.0, 102.0, 128.0, 147.0, 90.0, 103.0, 157.0, 167.0, 179.0, 136.0, 107.0, 91.0, 117.0, 123.0, 120.0, 106.0, 155.0, 101.0, 120.0, 127.0, 80.0, 162.0, 199.0, 167.0, 145.0, 115.0, 112.0, 145.0, 111.0, 98.0, 154.0, 165.0, 99.0, 68.0, 123.0, 91.0, 195.0, 156.0, 93.0, 121.0, 101.0, 56.0, 162.0, 95.0, 125.0, 136.0, 129.0, 130.0, 107.0, 140.0, 144.0, 107.0, 158.0, 121.0, 129.0, 90.0, 142.0, 169.0, 99.0, 127.0, 118.0, 122.0, 125.0, 168.0, 129.0, 110.0, 80.0, 115.0, 127.0, 164.0, 93.0, 158.0, 126.0, 129.0, 134.0, 102.0, 187.0, 173.0, 94.0, 108.0, 97.0, 83.0, 114.0, 149.0, 117.0, 111.0, 112.0, 116.0, 141.0, 175.0, 92.0, 130.0, 120.0, 174.0, 106.0, 105.0, 95.0, 126.0, 65.0, 99.0, 102.0, 120.0, 102.0, 109.0, 140.0, 153.0, 100.0, 147.0, 81.0, 187.0, 162.0, 136.0, 121.0, 108.0, 181.0, 154.0, 128.0, 137.0, 123.0, 106.0, 190.0, 88.0, 170.0, 89.0, 101.0, 122.0, 121.0, 126.0, 93.0], \"xaxis\": \"x\", \"y\": [50, 31, 32, 21, 33, 30, 26, 29, 53, 54, 30, 34, 57, 59, 51, 32, 31, 31, 33, 32, 27, 50, 41, 29, 51, 41, 43, 22, 57, 38, 60, 28, 22, 28, 45, 33, 35, 46, 27, 56, 26, 37, 48, 54, 40, 25, 29, 22, 31, 24, 22, 26, 30, 58, 42, 21, 41, 31, 44, 22, 21, 39, 36, 24, 42, 32, 38, 54, 25, 27, 28, 26, 42, 23, 22, 22, 41, 27, 26, 24, 22, 22, 36, 22, 37, 27, 45, 26, 43, 24, 21, 34, 42, 60, 21, 40, 24, 22, 23, 31, 33, 22, 21, 24, 27, 21, 27, 37, 25, 24, 24, 46, 23, 25, 39, 61, 38, 25, 22, 21, 25, 24, 23, 69, 23, 26, 30, 23, 40, 62, 33, 33, 30, 39, 26, 31, 21, 22, 29, 28, 55, 38, 22, 42, 23, 21, 41, 34, 65, 22, 24, 37, 42, 23, 43, 36, 21, 23, 22, 47, 36, 45, 27, 21, 32, 41, 22, 34, 29, 29, 36, 29, 25, 23, 33, 36, 42, 26, 47, 37, 32, 23, 21, 27, 40, 41, 60, 33, 31, 25, 21, 40, 36, 40, 42, 29, 21, 23, 26, 29, 21, 28, 32, 27, 55, 27, 57, 52, 21, 41, 25, 24, 60, 24, 36, 38, 25, 32, 32, 41, 21, 66, 37, 61, 26, 22, 26, 24, 31, 24, 22, 46, 22, 29, 23, 26, 51, 23, 32, 27, 21, 22, 22, 33, 29, 49, 41, 23, 34, 23, 42, 27, 24, 25, 44, 21, 30, 25, 24, 51, 34, 27, 24, 63, 35, 43, 25, 24, 21, 28, 38, 21, 40, 21, 52, 25, 29, 23, 57, 22, 28, 39, 37, 47, 52, 51, 34, 29, 26, 33, 21, 25, 31, 24, 65, 28, 29, 24, 46, 58, 30, 25, 35, 28, 37, 29, 47, 21, 25, 30, 41, 22, 27, 25, 43, 26, 30, 29, 28, 59, 31, 25, 36, 43, 21, 24, 30, 37, 23, 37, 46, 25, 41, 44, 22, 26, 44, 44, 33, 41, 22, 36, 22, 33, 57, 49, 22, 23, 26, 37, 29, 30, 46, 24, 21, 49, 28, 44, 48, 29, 29, 63, 65, 67, 30, 30, 29, 21, 22, 45, 25, 21, 21, 25, 28, 58, 22, 22, 32, 35, 24, 22, 21, 25, 25, 24, 35, 45, 58, 28, 42, 27, 21, 37, 31, 25, 39, 22, 25, 25, 31, 55, 35, 38, 41, 26, 46, 25, 39, 28, 28, 25, 22, 21, 21, 22, 22, 37, 27, 28, 26, 21, 21, 21, 36, 31, 25, 38, 26, 43, 23, 38, 22, 29, 36, 29, 41, 28, 21, 31, 41, 22, 24, 33, 30, 25, 28, 26, 22, 26, 23, 23, 25, 72, 24, 38, 62, 24, 51, 81, 48, 26, 39, 37, 34, 21, 22, 25, 38, 27, 28, 22, 22, 50, 24, 59, 29, 31, 39, 63, 35, 29, 28, 23, 31, 24, 21, 58, 28, 67, 24, 42, 33, 45, 22, 66, 30, 25, 55, 39, 21, 28, 41, 41, 40, 38, 35, 21, 21, 64, 46, 21, 58, 22, 24, 28, 53, 51, 41, 60, 25, 26, 26, 45, 24, 21, 21, 24, 22, 31, 22, 24, 29, 31, 24, 23, 46, 67, 23, 32, 43, 27, 56, 25, 29, 37, 53, 28, 50, 37, 21, 25, 66, 23, 28, 37, 30, 58, 42, 35, 54, 28, 24, 32, 27, 22, 21, 46, 37, 33, 39, 21, 22, 22, 23, 25, 35, 21, 36, 62, 21, 27, 62, 42, 52, 22, 41, 29, 52, 25, 45, 24, 44, 25, 34, 22, 46, 21, 38, 26, 24, 28, 30, 54, 36, 21, 22, 25, 27, 23, 24, 36, 40, 26, 50, 27, 30, 23, 50, 24, 28, 28, 45, 21, 21, 29, 21, 21, 45, 21, 34, 24, 23, 22, 31, 38, 48, 23, 32, 28, 27, 24, 50, 31, 27, 30, 33, 22, 42, 23, 23, 27, 28, 27, 22, 25, 22, 41, 51, 27, 54, 22, 43, 40, 40, 24, 70, 40, 43, 45, 49, 21, 47, 22, 68, 31, 53, 25, 25, 23, 22, 26, 22, 27, 69, 25, 22, 29, 23, 46, 34, 44, 23, 43, 25, 43, 31, 22, 28, 26, 26, 49, 52, 41, 27, 28, 30, 22, 45, 23, 24, 40, 38, 21, 32, 34, 31, 56, 24, 52, 34, 21, 42, 42, 45, 38, 25, 22, 22, 22, 34, 22, 24, 22, 53, 28, 21, 42, 21, 42, 48, 26, 22, 45, 39, 46, 27, 32, 36, 50, 22, 28, 25, 26, 45, 37, 39, 52, 26, 66, 22, 43, 33, 63, 27, 30, 47, 23], \"yaxis\": \"y\"}, {\"alignmentgroup\": \"True\", \"bingroup\": \"x\", \"hovertemplate\": \"Glucose=%{x}<br>count=%{y}<extra></extra>\", \"legendgroup\": \"\", \"marker\": {\"color\": \"#0d0887\"}, \"name\": \"\", \"offsetgroup\": \"\", \"opacity\": 0.5, \"showlegend\": false, \"type\": \"histogram\", \"x\": [148.0, 85.0, 183.0, 89.0, 137.0, 116.0, 78.0, 115.0, 197.0, 125.0, 110.0, 168.0, 139.0, 189.0, 166.0, 100.0, 118.0, 107.0, 103.0, 115.0, 126.0, 99.0, 196.0, 119.0, 143.0, 125.0, 147.0, 97.0, 145.0, 117.0, 109.0, 158.0, 88.0, 92.0, 122.0, 103.0, 138.0, 102.0, 90.0, 111.0, 180.0, 133.0, 106.0, 171.0, 159.0, 180.0, 146.0, 71.0, 103.0, 105.0, 103.0, 101.0, 88.0, 176.0, 150.0, 73.0, 187.0, 100.0, 146.0, 105.0, 84.0, 133.0, 44.0, 141.0, 114.0, 99.0, 109.0, 109.0, 95.0, 146.0, 100.0, 139.0, 126.0, 129.0, 79.0, 121.6867627785059, 62.0, 95.0, 131.0, 112.0, 113.0, 74.0, 83.0, 101.0, 137.0, 110.0, 106.0, 100.0, 136.0, 107.0, 80.0, 123.0, 81.0, 134.0, 142.0, 144.0, 92.0, 71.0, 93.0, 122.0, 163.0, 151.0, 125.0, 81.0, 85.0, 126.0, 96.0, 144.0, 83.0, 95.0, 171.0, 155.0, 89.0, 76.0, 160.0, 146.0, 124.0, 78.0, 97.0, 99.0, 162.0, 111.0, 107.0, 132.0, 113.0, 88.0, 120.0, 118.0, 117.0, 105.0, 173.0, 122.0, 170.0, 84.0, 96.0, 125.0, 100.0, 93.0, 129.0, 105.0, 128.0, 106.0, 108.0, 108.0, 154.0, 102.0, 57.0, 106.0, 147.0, 90.0, 136.0, 114.0, 156.0, 153.0, 188.0, 152.0, 99.0, 109.0, 88.0, 163.0, 151.0, 102.0, 114.0, 100.0, 131.0, 104.0, 148.0, 120.0, 110.0, 111.0, 102.0, 134.0, 87.0, 79.0, 75.0, 179.0, 85.0, 129.0, 143.0, 130.0, 87.0, 119.0, 121.6867627785059, 73.0, 141.0, 194.0, 181.0, 128.0, 109.0, 139.0, 111.0, 123.0, 159.0, 135.0, 85.0, 158.0, 105.0, 107.0, 109.0, 148.0, 113.0, 138.0, 108.0, 99.0, 103.0, 111.0, 196.0, 162.0, 96.0, 184.0, 81.0, 147.0, 179.0, 140.0, 112.0, 151.0, 109.0, 125.0, 85.0, 112.0, 177.0, 158.0, 119.0, 142.0, 100.0, 87.0, 101.0, 162.0, 197.0, 117.0, 142.0, 134.0, 79.0, 122.0, 74.0, 171.0, 181.0, 179.0, 164.0, 104.0, 91.0, 91.0, 139.0, 119.0, 146.0, 184.0, 122.0, 165.0, 124.0, 111.0, 106.0, 129.0, 90.0, 86.0, 92.0, 113.0, 111.0, 114.0, 193.0, 155.0, 191.0, 141.0, 95.0, 142.0, 123.0, 96.0, 138.0, 128.0, 102.0, 146.0, 101.0, 108.0, 122.0, 71.0, 106.0, 100.0, 106.0, 104.0, 114.0, 108.0, 146.0, 129.0, 133.0, 161.0, 108.0, 136.0, 155.0, 119.0, 96.0, 108.0, 78.0, 107.0, 128.0, 128.0, 161.0, 151.0, 146.0, 126.0, 100.0, 112.0, 167.0, 144.0, 77.0, 115.0, 150.0, 120.0, 161.0, 137.0, 128.0, 124.0, 80.0, 106.0, 155.0, 113.0, 109.0, 112.0, 99.0, 182.0, 115.0, 194.0, 129.0, 112.0, 124.0, 152.0, 112.0, 157.0, 122.0, 179.0, 102.0, 105.0, 118.0, 87.0, 180.0, 106.0, 95.0, 165.0, 117.0, 115.0, 152.0, 178.0, 130.0, 95.0, 121.6867627785059, 122.0, 95.0, 126.0, 139.0, 116.0, 99.0, 121.6867627785059, 92.0, 137.0, 61.0, 90.0, 90.0, 165.0, 125.0, 129.0, 88.0, 196.0, 189.0, 158.0, 103.0, 146.0, 147.0, 99.0, 124.0, 101.0, 81.0, 133.0, 173.0, 118.0, 84.0, 105.0, 122.0, 140.0, 98.0, 87.0, 156.0, 93.0, 107.0, 105.0, 109.0, 90.0, 125.0, 119.0, 116.0, 105.0, 144.0, 100.0, 100.0, 166.0, 131.0, 116.0, 158.0, 127.0, 96.0, 131.0, 82.0, 193.0, 95.0, 137.0, 136.0, 72.0, 168.0, 123.0, 115.0, 101.0, 197.0, 172.0, 102.0, 112.0, 143.0, 143.0, 138.0, 173.0, 97.0, 144.0, 83.0, 129.0, 119.0, 94.0, 102.0, 115.0, 151.0, 184.0, 94.0, 181.0, 135.0, 95.0, 99.0, 89.0, 80.0, 139.0, 90.0, 141.0, 140.0, 147.0, 97.0, 107.0, 189.0, 83.0, 117.0, 108.0, 117.0, 180.0, 100.0, 95.0, 104.0, 120.0, 82.0, 134.0, 91.0, 119.0, 100.0, 175.0, 135.0, 86.0, 148.0, 134.0, 120.0, 71.0, 74.0, 88.0, 115.0, 124.0, 74.0, 97.0, 120.0, 154.0, 144.0, 137.0, 119.0, 136.0, 114.0, 137.0, 105.0, 114.0, 126.0, 132.0, 158.0, 123.0, 85.0, 84.0, 145.0, 135.0, 139.0, 173.0, 99.0, 194.0, 83.0, 89.0, 99.0, 125.0, 80.0, 166.0, 110.0, 81.0, 195.0, 154.0, 117.0, 84.0, 121.6867627785059, 94.0, 96.0, 75.0, 180.0, 130.0, 84.0, 120.0, 84.0, 139.0, 91.0, 91.0, 99.0, 163.0, 145.0, 125.0, 76.0, 129.0, 68.0, 124.0, 114.0, 130.0, 125.0, 87.0, 97.0, 116.0, 117.0, 111.0, 122.0, 107.0, 86.0, 91.0, 77.0, 132.0, 105.0, 57.0, 127.0, 129.0, 100.0, 128.0, 90.0, 84.0, 88.0, 186.0, 187.0, 131.0, 164.0, 189.0, 116.0, 84.0, 114.0, 88.0, 84.0, 124.0, 97.0, 110.0, 103.0, 85.0, 125.0, 198.0, 87.0, 99.0, 91.0, 95.0, 99.0, 92.0, 154.0, 121.0, 78.0, 130.0, 111.0, 98.0, 143.0, 119.0, 108.0, 118.0, 133.0, 197.0, 151.0, 109.0, 121.0, 100.0, 124.0, 93.0, 143.0, 103.0, 176.0, 73.0, 111.0, 112.0, 132.0, 82.0, 123.0, 188.0, 67.0, 89.0, 173.0, 109.0, 108.0, 96.0, 124.0, 150.0, 183.0, 124.0, 181.0, 92.0, 152.0, 111.0, 106.0, 174.0, 168.0, 105.0, 138.0, 106.0, 117.0, 68.0, 112.0, 119.0, 112.0, 92.0, 183.0, 94.0, 108.0, 90.0, 125.0, 132.0, 128.0, 94.0, 114.0, 102.0, 111.0, 128.0, 92.0, 104.0, 104.0, 94.0, 97.0, 100.0, 102.0, 128.0, 147.0, 90.0, 103.0, 157.0, 167.0, 179.0, 136.0, 107.0, 91.0, 117.0, 123.0, 120.0, 106.0, 155.0, 101.0, 120.0, 127.0, 80.0, 162.0, 199.0, 167.0, 145.0, 115.0, 112.0, 145.0, 111.0, 98.0, 154.0, 165.0, 99.0, 68.0, 123.0, 91.0, 195.0, 156.0, 93.0, 121.0, 101.0, 56.0, 162.0, 95.0, 125.0, 136.0, 129.0, 130.0, 107.0, 140.0, 144.0, 107.0, 158.0, 121.0, 129.0, 90.0, 142.0, 169.0, 99.0, 127.0, 118.0, 122.0, 125.0, 168.0, 129.0, 110.0, 80.0, 115.0, 127.0, 164.0, 93.0, 158.0, 126.0, 129.0, 134.0, 102.0, 187.0, 173.0, 94.0, 108.0, 97.0, 83.0, 114.0, 149.0, 117.0, 111.0, 112.0, 116.0, 141.0, 175.0, 92.0, 130.0, 120.0, 174.0, 106.0, 105.0, 95.0, 126.0, 65.0, 99.0, 102.0, 120.0, 102.0, 109.0, 140.0, 153.0, 100.0, 147.0, 81.0, 187.0, 162.0, 136.0, 121.0, 108.0, 181.0, 154.0, 128.0, 137.0, 123.0, 106.0, 190.0, 88.0, 170.0, 89.0, 101.0, 122.0, 121.0, 126.0, 93.0], \"xaxis\": \"x3\", \"yaxis\": \"y3\"}, {\"alignmentgroup\": \"True\", \"bingroup\": \"y\", \"hovertemplate\": \"Age=%{y}<br>count=%{x}<extra></extra>\", \"legendgroup\": \"\", \"marker\": {\"color\": \"#0d0887\"}, \"name\": \"\", \"offsetgroup\": \"\", \"opacity\": 0.5, \"showlegend\": false, \"type\": \"histogram\", \"xaxis\": \"x2\", \"y\": [50, 31, 32, 21, 33, 30, 26, 29, 53, 54, 30, 34, 57, 59, 51, 32, 31, 31, 33, 32, 27, 50, 41, 29, 51, 41, 43, 22, 57, 38, 60, 28, 22, 28, 45, 33, 35, 46, 27, 56, 26, 37, 48, 54, 40, 25, 29, 22, 31, 24, 22, 26, 30, 58, 42, 21, 41, 31, 44, 22, 21, 39, 36, 24, 42, 32, 38, 54, 25, 27, 28, 26, 42, 23, 22, 22, 41, 27, 26, 24, 22, 22, 36, 22, 37, 27, 45, 26, 43, 24, 21, 34, 42, 60, 21, 40, 24, 22, 23, 31, 33, 22, 21, 24, 27, 21, 27, 37, 25, 24, 24, 46, 23, 25, 39, 61, 38, 25, 22, 21, 25, 24, 23, 69, 23, 26, 30, 23, 40, 62, 33, 33, 30, 39, 26, 31, 21, 22, 29, 28, 55, 38, 22, 42, 23, 21, 41, 34, 65, 22, 24, 37, 42, 23, 43, 36, 21, 23, 22, 47, 36, 45, 27, 21, 32, 41, 22, 34, 29, 29, 36, 29, 25, 23, 33, 36, 42, 26, 47, 37, 32, 23, 21, 27, 40, 41, 60, 33, 31, 25, 21, 40, 36, 40, 42, 29, 21, 23, 26, 29, 21, 28, 32, 27, 55, 27, 57, 52, 21, 41, 25, 24, 60, 24, 36, 38, 25, 32, 32, 41, 21, 66, 37, 61, 26, 22, 26, 24, 31, 24, 22, 46, 22, 29, 23, 26, 51, 23, 32, 27, 21, 22, 22, 33, 29, 49, 41, 23, 34, 23, 42, 27, 24, 25, 44, 21, 30, 25, 24, 51, 34, 27, 24, 63, 35, 43, 25, 24, 21, 28, 38, 21, 40, 21, 52, 25, 29, 23, 57, 22, 28, 39, 37, 47, 52, 51, 34, 29, 26, 33, 21, 25, 31, 24, 65, 28, 29, 24, 46, 58, 30, 25, 35, 28, 37, 29, 47, 21, 25, 30, 41, 22, 27, 25, 43, 26, 30, 29, 28, 59, 31, 25, 36, 43, 21, 24, 30, 37, 23, 37, 46, 25, 41, 44, 22, 26, 44, 44, 33, 41, 22, 36, 22, 33, 57, 49, 22, 23, 26, 37, 29, 30, 46, 24, 21, 49, 28, 44, 48, 29, 29, 63, 65, 67, 30, 30, 29, 21, 22, 45, 25, 21, 21, 25, 28, 58, 22, 22, 32, 35, 24, 22, 21, 25, 25, 24, 35, 45, 58, 28, 42, 27, 21, 37, 31, 25, 39, 22, 25, 25, 31, 55, 35, 38, 41, 26, 46, 25, 39, 28, 28, 25, 22, 21, 21, 22, 22, 37, 27, 28, 26, 21, 21, 21, 36, 31, 25, 38, 26, 43, 23, 38, 22, 29, 36, 29, 41, 28, 21, 31, 41, 22, 24, 33, 30, 25, 28, 26, 22, 26, 23, 23, 25, 72, 24, 38, 62, 24, 51, 81, 48, 26, 39, 37, 34, 21, 22, 25, 38, 27, 28, 22, 22, 50, 24, 59, 29, 31, 39, 63, 35, 29, 28, 23, 31, 24, 21, 58, 28, 67, 24, 42, 33, 45, 22, 66, 30, 25, 55, 39, 21, 28, 41, 41, 40, 38, 35, 21, 21, 64, 46, 21, 58, 22, 24, 28, 53, 51, 41, 60, 25, 26, 26, 45, 24, 21, 21, 24, 22, 31, 22, 24, 29, 31, 24, 23, 46, 67, 23, 32, 43, 27, 56, 25, 29, 37, 53, 28, 50, 37, 21, 25, 66, 23, 28, 37, 30, 58, 42, 35, 54, 28, 24, 32, 27, 22, 21, 46, 37, 33, 39, 21, 22, 22, 23, 25, 35, 21, 36, 62, 21, 27, 62, 42, 52, 22, 41, 29, 52, 25, 45, 24, 44, 25, 34, 22, 46, 21, 38, 26, 24, 28, 30, 54, 36, 21, 22, 25, 27, 23, 24, 36, 40, 26, 50, 27, 30, 23, 50, 24, 28, 28, 45, 21, 21, 29, 21, 21, 45, 21, 34, 24, 23, 22, 31, 38, 48, 23, 32, 28, 27, 24, 50, 31, 27, 30, 33, 22, 42, 23, 23, 27, 28, 27, 22, 25, 22, 41, 51, 27, 54, 22, 43, 40, 40, 24, 70, 40, 43, 45, 49, 21, 47, 22, 68, 31, 53, 25, 25, 23, 22, 26, 22, 27, 69, 25, 22, 29, 23, 46, 34, 44, 23, 43, 25, 43, 31, 22, 28, 26, 26, 49, 52, 41, 27, 28, 30, 22, 45, 23, 24, 40, 38, 21, 32, 34, 31, 56, 24, 52, 34, 21, 42, 42, 45, 38, 25, 22, 22, 22, 34, 22, 24, 22, 53, 28, 21, 42, 21, 42, 48, 26, 22, 45, 39, 46, 27, 32, 36, 50, 22, 28, 25, 26, 45, 37, 39, 52, 26, 66, 22, 43, 33, 63, 27, 30, 47, 23], \"yaxis\": \"y2\"}],                        {\"barmode\": \"overlay\", \"coloraxis\": {\"colorbar\": {\"title\": {\"text\": \"Outcome\"}}, \"colorscale\": [[0.0, \"#0d0887\"], [0.1111111111111111, \"#46039f\"], [0.2222222222222222, \"#7201a8\"], [0.3333333333333333, \"#9c179e\"], [0.4444444444444444, \"#bd3786\"], [0.5555555555555556, \"#d8576b\"], [0.6666666666666666, \"#ed7953\"], [0.7777777777777778, \"#fb9f3a\"], [0.8888888888888888, \"#fdca26\"], [1.0, \"#f0f921\"]]}, \"legend\": {\"itemsizing\": \"constant\", \"tracegroupgap\": 0}, \"template\": {\"data\": {\"bar\": [{\"error_x\": {\"color\": \"#f2f5fa\"}, \"error_y\": {\"color\": \"#f2f5fa\"}, \"marker\": {\"line\": {\"color\": \"rgb(17,17,17)\", \"width\": 0.5}}, \"type\": \"bar\"}], \"barpolar\": [{\"marker\": {\"line\": {\"color\": \"rgb(17,17,17)\", \"width\": 0.5}}, \"type\": \"barpolar\"}], \"carpet\": [{\"aaxis\": {\"endlinecolor\": \"#A2B1C6\", \"gridcolor\": \"#506784\", \"linecolor\": \"#506784\", \"minorgridcolor\": \"#506784\", \"startlinecolor\": \"#A2B1C6\"}, \"baxis\": {\"endlinecolor\": \"#A2B1C6\", \"gridcolor\": \"#506784\", \"linecolor\": \"#506784\", \"minorgridcolor\": \"#506784\", \"startlinecolor\": \"#A2B1C6\"}, \"type\": \"carpet\"}], \"choropleth\": [{\"colorbar\": {\"outlinewidth\": 0, \"ticks\": \"\"}, \"type\": \"choropleth\"}], \"contour\": [{\"colorbar\": {\"outlinewidth\": 0, \"ticks\": \"\"}, \"colorscale\": [[0.0, \"#0d0887\"], [0.1111111111111111, \"#46039f\"], [0.2222222222222222, \"#7201a8\"], [0.3333333333333333, \"#9c179e\"], [0.4444444444444444, \"#bd3786\"], [0.5555555555555556, \"#d8576b\"], [0.6666666666666666, \"#ed7953\"], [0.7777777777777778, \"#fb9f3a\"], [0.8888888888888888, \"#fdca26\"], [1.0, \"#f0f921\"]], \"type\": \"contour\"}], \"contourcarpet\": [{\"colorbar\": {\"outlinewidth\": 0, \"ticks\": \"\"}, \"type\": \"contourcarpet\"}], \"heatmap\": [{\"colorbar\": {\"outlinewidth\": 0, \"ticks\": \"\"}, \"colorscale\": [[0.0, \"#0d0887\"], [0.1111111111111111, \"#46039f\"], [0.2222222222222222, \"#7201a8\"], [0.3333333333333333, \"#9c179e\"], [0.4444444444444444, \"#bd3786\"], [0.5555555555555556, \"#d8576b\"], [0.6666666666666666, \"#ed7953\"], [0.7777777777777778, \"#fb9f3a\"], [0.8888888888888888, \"#fdca26\"], [1.0, \"#f0f921\"]], \"type\": \"heatmap\"}], \"heatmapgl\": [{\"colorbar\": {\"outlinewidth\": 0, \"ticks\": \"\"}, \"colorscale\": [[0.0, \"#0d0887\"], [0.1111111111111111, \"#46039f\"], [0.2222222222222222, \"#7201a8\"], [0.3333333333333333, \"#9c179e\"], [0.4444444444444444, \"#bd3786\"], [0.5555555555555556, \"#d8576b\"], [0.6666666666666666, \"#ed7953\"], [0.7777777777777778, \"#fb9f3a\"], [0.8888888888888888, \"#fdca26\"], [1.0, \"#f0f921\"]], \"type\": \"heatmapgl\"}], \"histogram\": [{\"marker\": {\"colorbar\": {\"outlinewidth\": 0, \"ticks\": \"\"}}, \"type\": \"histogram\"}], \"histogram2d\": [{\"colorbar\": {\"outlinewidth\": 0, \"ticks\": \"\"}, \"colorscale\": [[0.0, \"#0d0887\"], [0.1111111111111111, \"#46039f\"], [0.2222222222222222, \"#7201a8\"], [0.3333333333333333, \"#9c179e\"], [0.4444444444444444, \"#bd3786\"], [0.5555555555555556, \"#d8576b\"], [0.6666666666666666, \"#ed7953\"], [0.7777777777777778, \"#fb9f3a\"], [0.8888888888888888, \"#fdca26\"], [1.0, \"#f0f921\"]], \"type\": \"histogram2d\"}], \"histogram2dcontour\": [{\"colorbar\": {\"outlinewidth\": 0, \"ticks\": \"\"}, \"colorscale\": [[0.0, \"#0d0887\"], [0.1111111111111111, \"#46039f\"], [0.2222222222222222, \"#7201a8\"], [0.3333333333333333, \"#9c179e\"], [0.4444444444444444, \"#bd3786\"], [0.5555555555555556, \"#d8576b\"], [0.6666666666666666, \"#ed7953\"], [0.7777777777777778, \"#fb9f3a\"], [0.8888888888888888, \"#fdca26\"], [1.0, \"#f0f921\"]], \"type\": \"histogram2dcontour\"}], \"mesh3d\": [{\"colorbar\": {\"outlinewidth\": 0, \"ticks\": \"\"}, \"type\": \"mesh3d\"}], \"parcoords\": [{\"line\": {\"colorbar\": {\"outlinewidth\": 0, \"ticks\": \"\"}}, \"type\": \"parcoords\"}], \"pie\": [{\"automargin\": true, \"type\": \"pie\"}], \"scatter\": [{\"marker\": {\"line\": {\"color\": \"#283442\"}}, \"type\": \"scatter\"}], \"scatter3d\": [{\"line\": {\"colorbar\": {\"outlinewidth\": 0, \"ticks\": \"\"}}, \"marker\": {\"colorbar\": {\"outlinewidth\": 0, \"ticks\": \"\"}}, \"type\": \"scatter3d\"}], \"scattercarpet\": [{\"marker\": {\"colorbar\": {\"outlinewidth\": 0, \"ticks\": \"\"}}, \"type\": \"scattercarpet\"}], \"scattergeo\": [{\"marker\": {\"colorbar\": {\"outlinewidth\": 0, \"ticks\": \"\"}}, \"type\": \"scattergeo\"}], \"scattergl\": [{\"marker\": {\"line\": {\"color\": \"#283442\"}}, \"type\": \"scattergl\"}], \"scattermapbox\": [{\"marker\": {\"colorbar\": {\"outlinewidth\": 0, \"ticks\": \"\"}}, \"type\": \"scattermapbox\"}], \"scatterpolar\": [{\"marker\": {\"colorbar\": {\"outlinewidth\": 0, \"ticks\": \"\"}}, \"type\": \"scatterpolar\"}], \"scatterpolargl\": [{\"marker\": {\"colorbar\": {\"outlinewidth\": 0, \"ticks\": \"\"}}, \"type\": \"scatterpolargl\"}], \"scatterternary\": [{\"marker\": {\"colorbar\": {\"outlinewidth\": 0, \"ticks\": \"\"}}, \"type\": \"scatterternary\"}], \"surface\": [{\"colorbar\": {\"outlinewidth\": 0, \"ticks\": \"\"}, \"colorscale\": [[0.0, \"#0d0887\"], [0.1111111111111111, \"#46039f\"], [0.2222222222222222, \"#7201a8\"], [0.3333333333333333, \"#9c179e\"], [0.4444444444444444, \"#bd3786\"], [0.5555555555555556, \"#d8576b\"], [0.6666666666666666, \"#ed7953\"], [0.7777777777777778, \"#fb9f3a\"], [0.8888888888888888, \"#fdca26\"], [1.0, \"#f0f921\"]], \"type\": \"surface\"}], \"table\": [{\"cells\": {\"fill\": {\"color\": \"#506784\"}, \"line\": {\"color\": \"rgb(17,17,17)\"}}, \"header\": {\"fill\": {\"color\": \"#2a3f5f\"}, \"line\": {\"color\": \"rgb(17,17,17)\"}}, \"type\": \"table\"}]}, \"layout\": {\"annotationdefaults\": {\"arrowcolor\": \"#f2f5fa\", \"arrowhead\": 0, \"arrowwidth\": 1}, \"autotypenumbers\": \"strict\", \"coloraxis\": {\"colorbar\": {\"outlinewidth\": 0, \"ticks\": \"\"}}, \"colorscale\": {\"diverging\": [[0, \"#8e0152\"], [0.1, \"#c51b7d\"], [0.2, \"#de77ae\"], [0.3, \"#f1b6da\"], [0.4, \"#fde0ef\"], [0.5, \"#f7f7f7\"], [0.6, \"#e6f5d0\"], [0.7, \"#b8e186\"], [0.8, \"#7fbc41\"], [0.9, \"#4d9221\"], [1, \"#276419\"]], \"sequential\": [[0.0, \"#0d0887\"], [0.1111111111111111, \"#46039f\"], [0.2222222222222222, \"#7201a8\"], [0.3333333333333333, \"#9c179e\"], [0.4444444444444444, \"#bd3786\"], [0.5555555555555556, \"#d8576b\"], [0.6666666666666666, \"#ed7953\"], [0.7777777777777778, \"#fb9f3a\"], [0.8888888888888888, \"#fdca26\"], [1.0, \"#f0f921\"]], \"sequentialminus\": [[0.0, \"#0d0887\"], [0.1111111111111111, \"#46039f\"], [0.2222222222222222, \"#7201a8\"], [0.3333333333333333, \"#9c179e\"], [0.4444444444444444, \"#bd3786\"], [0.5555555555555556, \"#d8576b\"], [0.6666666666666666, \"#ed7953\"], [0.7777777777777778, \"#fb9f3a\"], [0.8888888888888888, \"#fdca26\"], [1.0, \"#f0f921\"]]}, \"colorway\": [\"#636efa\", \"#EF553B\", \"#00cc96\", \"#ab63fa\", \"#FFA15A\", \"#19d3f3\", \"#FF6692\", \"#B6E880\", \"#FF97FF\", \"#FECB52\"], \"font\": {\"color\": \"#f2f5fa\"}, \"geo\": {\"bgcolor\": \"rgb(17,17,17)\", \"lakecolor\": \"rgb(17,17,17)\", \"landcolor\": \"rgb(17,17,17)\", \"showlakes\": true, \"showland\": true, \"subunitcolor\": \"#506784\"}, \"hoverlabel\": {\"align\": \"left\"}, \"hovermode\": \"closest\", \"mapbox\": {\"style\": \"dark\"}, \"paper_bgcolor\": \"rgb(17,17,17)\", \"plot_bgcolor\": \"rgb(17,17,17)\", \"polar\": {\"angularaxis\": {\"gridcolor\": \"#506784\", \"linecolor\": \"#506784\", \"ticks\": \"\"}, \"bgcolor\": \"rgb(17,17,17)\", \"radialaxis\": {\"gridcolor\": \"#506784\", \"linecolor\": \"#506784\", \"ticks\": \"\"}}, \"scene\": {\"xaxis\": {\"backgroundcolor\": \"rgb(17,17,17)\", \"gridcolor\": \"#506784\", \"gridwidth\": 2, \"linecolor\": \"#506784\", \"showbackground\": true, \"ticks\": \"\", \"zerolinecolor\": \"#C8D4E3\"}, \"yaxis\": {\"backgroundcolor\": \"rgb(17,17,17)\", \"gridcolor\": \"#506784\", \"gridwidth\": 2, \"linecolor\": \"#506784\", \"showbackground\": true, \"ticks\": \"\", \"zerolinecolor\": \"#C8D4E3\"}, \"zaxis\": {\"backgroundcolor\": \"rgb(17,17,17)\", \"gridcolor\": \"#506784\", \"gridwidth\": 2, \"linecolor\": \"#506784\", \"showbackground\": true, \"ticks\": \"\", \"zerolinecolor\": \"#C8D4E3\"}}, \"shapedefaults\": {\"line\": {\"color\": \"#f2f5fa\"}}, \"sliderdefaults\": {\"bgcolor\": \"#C8D4E3\", \"bordercolor\": \"rgb(17,17,17)\", \"borderwidth\": 1, \"tickwidth\": 0}, \"ternary\": {\"aaxis\": {\"gridcolor\": \"#506784\", \"linecolor\": \"#506784\", \"ticks\": \"\"}, \"baxis\": {\"gridcolor\": \"#506784\", \"linecolor\": \"#506784\", \"ticks\": \"\"}, \"bgcolor\": \"rgb(17,17,17)\", \"caxis\": {\"gridcolor\": \"#506784\", \"linecolor\": \"#506784\", \"ticks\": \"\"}}, \"title\": {\"x\": 0.05}, \"updatemenudefaults\": {\"bgcolor\": \"#506784\", \"borderwidth\": 0}, \"xaxis\": {\"automargin\": true, \"gridcolor\": \"#283442\", \"linecolor\": \"#506784\", \"ticks\": \"\", \"title\": {\"standoff\": 15}, \"zerolinecolor\": \"#283442\", \"zerolinewidth\": 2}, \"yaxis\": {\"automargin\": true, \"gridcolor\": \"#283442\", \"linecolor\": \"#506784\", \"ticks\": \"\", \"title\": {\"standoff\": 15}, \"zerolinecolor\": \"#283442\", \"zerolinewidth\": 2}}}, \"title\": {\"text\": \"age and glucose correlation\"}, \"xaxis\": {\"anchor\": \"y\", \"domain\": [0.0, 0.7363], \"title\": {\"text\": \"Glucose\"}}, \"xaxis2\": {\"anchor\": \"y2\", \"domain\": [0.7413, 1.0], \"matches\": \"x2\", \"showgrid\": true, \"showline\": false, \"showticklabels\": false, \"ticks\": \"\"}, \"xaxis3\": {\"anchor\": \"y3\", \"domain\": [0.0, 0.7363], \"matches\": \"x\", \"showgrid\": true, \"showticklabels\": false}, \"xaxis4\": {\"anchor\": \"y4\", \"domain\": [0.7413, 1.0], \"matches\": \"x2\", \"showgrid\": true, \"showline\": false, \"showticklabels\": false, \"ticks\": \"\"}, \"yaxis\": {\"anchor\": \"x\", \"domain\": [0.0, 0.7326], \"title\": {\"text\": \"Age\"}}, \"yaxis2\": {\"anchor\": \"x2\", \"domain\": [0.0, 0.7326], \"matches\": \"y\", \"showgrid\": true, \"showticklabels\": false}, \"yaxis3\": {\"anchor\": \"x3\", \"domain\": [0.7426, 1.0], \"matches\": \"y3\", \"showgrid\": true, \"showline\": false, \"showticklabels\": false, \"ticks\": \"\"}, \"yaxis4\": {\"anchor\": \"x4\", \"domain\": [0.7426, 1.0], \"matches\": \"y3\", \"showgrid\": true, \"showline\": false, \"showticklabels\": false, \"ticks\": \"\"}},                        {\"responsive\": true}                    ).then(function(){\n",
       "                            \n",
       "var gd = document.getElementById('7236f5d0-84e9-4452-af9b-c1391ad59a50');\n",
       "var x = new MutationObserver(function (mutations, observer) {{\n",
       "        var display = window.getComputedStyle(gd).display;\n",
       "        if (!display || display === 'none') {{\n",
       "            console.log([gd, 'removed!']);\n",
       "            Plotly.purge(gd);\n",
       "            observer.disconnect();\n",
       "        }}\n",
       "}});\n",
       "\n",
       "// Listen for the removal of the full notebook cells\n",
       "var notebookContainer = gd.closest('#notebook-container');\n",
       "if (notebookContainer) {{\n",
       "    x.observe(notebookContainer, {childList: true});\n",
       "}}\n",
       "\n",
       "// Listen for the clearing of the current output cell\n",
       "var outputEl = gd.closest('.output');\n",
       "if (outputEl) {{\n",
       "    x.observe(outputEl, {childList: true});\n",
       "}}\n",
       "\n",
       "                        })                };                });            </script>        </div>"
      ]
     },
     "metadata": {},
     "output_type": "display_data"
    }
   ],
   "source": [
    "ax= px.scatter(df,x= \"Glucose\",y= \"Age\",marginal_x='histogram', marginal_y='histogram',size=\"Age\", size_max=20,\n",
    "              template= \"plotly_dark\",color= \"Outcome\",title=\"age and glucose correlation\")\n",
    "ax.show()"
   ]
  },
  {
   "cell_type": "markdown",
   "id": "chubby-garden",
   "metadata": {
    "papermill": {
     "duration": 0.065142,
     "end_time": "2021-06-11T14:17:07.038913",
     "exception": false,
     "start_time": "2021-06-11T14:17:06.973771",
     "status": "completed"
    },
    "tags": []
   },
   "source": [
    "<p style=\"background-color:Tomato;\">blood pressure and age correlation/ distribution across target variable</p>"
   ]
  },
  {
   "cell_type": "code",
   "execution_count": 18,
   "id": "desirable-newspaper",
   "metadata": {
    "execution": {
     "iopub.execute_input": "2021-06-11T14:17:07.172083Z",
     "iopub.status.busy": "2021-06-11T14:17:07.171409Z",
     "iopub.status.idle": "2021-06-11T14:17:07.305766Z",
     "shell.execute_reply": "2021-06-11T14:17:07.306359Z",
     "shell.execute_reply.started": "2021-06-11T14:10:53.683836Z"
    },
    "papermill": {
     "duration": 0.202175,
     "end_time": "2021-06-11T14:17:07.306528",
     "exception": false,
     "start_time": "2021-06-11T14:17:07.104353",
     "status": "completed"
    },
    "tags": []
   },
   "outputs": [
    {
     "data": {
      "text/html": [
       "<div>                            <div id=\"9db3d5f3-b775-4560-9b23-52387e00eb9d\" class=\"plotly-graph-div\" style=\"height:525px; width:100%;\"></div>            <script type=\"text/javascript\">                require([\"plotly\"], function(Plotly) {                    window.PLOTLYENV=window.PLOTLYENV || {};                                    if (document.getElementById(\"9db3d5f3-b775-4560-9b23-52387e00eb9d\")) {                    Plotly.newPlot(                        \"9db3d5f3-b775-4560-9b23-52387e00eb9d\",                        [{\"hovertemplate\": \"BloodPressure=%{x}<br>Age=%{marker.size}<br>Outcome=%{marker.color}<extra></extra>\", \"legendgroup\": \"\", \"marker\": {\"color\": [1, 0, 1, 0, 1, 0, 1, 0, 1, 1, 0, 1, 0, 1, 1, 1, 1, 1, 0, 1, 0, 0, 1, 1, 1, 1, 1, 0, 0, 0, 0, 1, 0, 0, 0, 0, 0, 1, 1, 1, 0, 0, 0, 1, 0, 1, 0, 0, 1, 0, 0, 0, 0, 1, 0, 0, 1, 0, 0, 0, 0, 1, 0, 0, 1, 0, 1, 0, 0, 0, 1, 0, 1, 0, 0, 0, 0, 0, 1, 0, 0, 0, 0, 0, 1, 0, 0, 0, 1, 0, 0, 0, 0, 1, 0, 0, 0, 0, 0, 1, 1, 0, 0, 0, 0, 0, 0, 0, 0, 1, 1, 1, 0, 0, 1, 1, 1, 0, 0, 0, 1, 0, 0, 0, 1, 1, 0, 0, 1, 1, 1, 1, 1, 0, 0, 0, 0, 0, 0, 0, 0, 0, 0, 1, 0, 0, 0, 0, 0, 0, 0, 0, 1, 0, 1, 1, 0, 0, 0, 1, 0, 0, 0, 0, 1, 1, 0, 0, 0, 0, 1, 1, 0, 0, 0, 1, 0, 1, 0, 1, 0, 0, 0, 0, 0, 1, 1, 1, 1, 1, 0, 0, 1, 1, 0, 1, 0, 1, 1, 1, 0, 0, 0, 0, 0, 0, 1, 1, 0, 1, 0, 0, 0, 1, 1, 1, 1, 0, 1, 1, 1, 1, 0, 0, 0, 0, 0, 1, 0, 0, 1, 1, 0, 0, 0, 1, 1, 1, 1, 0, 0, 0, 1, 1, 0, 1, 0, 0, 0, 0, 0, 0, 0, 0, 1, 1, 0, 0, 0, 1, 0, 1, 0, 0, 1, 0, 1, 0, 0, 1, 1, 0, 0, 0, 0, 0, 1, 0, 0, 0, 1, 0, 0, 1, 1, 0, 0, 1, 0, 0, 0, 1, 1, 1, 0, 0, 1, 0, 1, 0, 1, 1, 0, 1, 0, 0, 1, 0, 1, 1, 0, 0, 1, 0, 1, 0, 0, 1, 0, 1, 0, 1, 1, 1, 0, 0, 1, 0, 1, 0, 0, 0, 1, 0, 0, 0, 0, 1, 1, 1, 0, 0, 0, 0, 0, 0, 0, 0, 0, 1, 0, 0, 0, 0, 0, 1, 1, 1, 0, 1, 1, 0, 0, 1, 0, 0, 1, 0, 0, 1, 1, 0, 0, 0, 0, 1, 0, 0, 1, 0, 0, 0, 0, 0, 0, 0, 1, 1, 1, 0, 0, 1, 0, 0, 1, 0, 0, 1, 0, 1, 1, 0, 1, 0, 1, 0, 1, 0, 1, 1, 0, 0, 0, 0, 1, 1, 0, 1, 0, 1, 0, 0, 0, 0, 1, 1, 0, 1, 0, 1, 0, 0, 0, 0, 0, 1, 0, 0, 0, 0, 1, 0, 0, 1, 1, 1, 0, 0, 1, 0, 0, 1, 0, 0, 0, 1, 0, 0, 1, 0, 0, 0, 0, 0, 0, 0, 0, 0, 1, 0, 0, 0, 0, 0, 0, 0, 1, 0, 0, 0, 1, 0, 0, 0, 1, 1, 0, 0, 0, 0, 0, 0, 0, 1, 0, 0, 0, 0, 1, 0, 0, 0, 1, 0, 0, 0, 1, 0, 0, 0, 1, 0, 0, 0, 0, 1, 1, 0, 0, 0, 0, 0, 0, 1, 0, 0, 0, 0, 0, 0, 0, 0, 0, 0, 0, 1, 0, 0, 0, 1, 1, 1, 1, 0, 0, 1, 1, 0, 0, 0, 0, 0, 0, 0, 0, 0, 0, 0, 0, 0, 1, 1, 0, 0, 0, 0, 0, 0, 0, 1, 0, 0, 0, 0, 0, 0, 0, 1, 0, 1, 1, 0, 0, 0, 1, 0, 1, 0, 1, 0, 1, 0, 1, 0, 0, 1, 0, 0, 1, 0, 0, 0, 0, 1, 1, 0, 1, 0, 0, 0, 0, 1, 1, 0, 1, 0, 0, 0, 1, 1, 0, 0, 0, 0, 0, 0, 0, 0, 0, 0, 1, 0, 0, 0, 0, 1, 0, 0, 1, 0, 0, 0, 1, 0, 0, 0, 1, 1, 1, 0, 0, 0, 0, 0, 0, 1, 0, 0, 0, 1, 0, 1, 1, 1, 1, 0, 1, 1, 0, 0, 0, 0, 0, 0, 0, 1, 1, 0, 1, 0, 0, 1, 0, 1, 0, 0, 0, 0, 0, 1, 0, 1, 0, 1, 0, 1, 1, 0, 0, 0, 0, 1, 1, 0, 0, 0, 1, 0, 1, 1, 0, 0, 1, 0, 0, 1, 1, 0, 0, 1, 0, 0, 1, 0, 0, 0, 0, 0, 0, 0, 1, 1, 1, 0, 0, 0, 0, 0, 0, 1, 1, 0, 0, 1, 0, 0, 1, 0, 1, 1, 1, 0, 0, 1, 1, 1, 0, 1, 0, 1, 0, 1, 0, 0, 0, 0, 1, 0], \"coloraxis\": \"coloraxis\", \"size\": [50, 31, 32, 21, 33, 30, 26, 29, 53, 54, 30, 34, 57, 59, 51, 32, 31, 31, 33, 32, 27, 50, 41, 29, 51, 41, 43, 22, 57, 38, 60, 28, 22, 28, 45, 33, 35, 46, 27, 56, 26, 37, 48, 54, 40, 25, 29, 22, 31, 24, 22, 26, 30, 58, 42, 21, 41, 31, 44, 22, 21, 39, 36, 24, 42, 32, 38, 54, 25, 27, 28, 26, 42, 23, 22, 22, 41, 27, 26, 24, 22, 22, 36, 22, 37, 27, 45, 26, 43, 24, 21, 34, 42, 60, 21, 40, 24, 22, 23, 31, 33, 22, 21, 24, 27, 21, 27, 37, 25, 24, 24, 46, 23, 25, 39, 61, 38, 25, 22, 21, 25, 24, 23, 69, 23, 26, 30, 23, 40, 62, 33, 33, 30, 39, 26, 31, 21, 22, 29, 28, 55, 38, 22, 42, 23, 21, 41, 34, 65, 22, 24, 37, 42, 23, 43, 36, 21, 23, 22, 47, 36, 45, 27, 21, 32, 41, 22, 34, 29, 29, 36, 29, 25, 23, 33, 36, 42, 26, 47, 37, 32, 23, 21, 27, 40, 41, 60, 33, 31, 25, 21, 40, 36, 40, 42, 29, 21, 23, 26, 29, 21, 28, 32, 27, 55, 27, 57, 52, 21, 41, 25, 24, 60, 24, 36, 38, 25, 32, 32, 41, 21, 66, 37, 61, 26, 22, 26, 24, 31, 24, 22, 46, 22, 29, 23, 26, 51, 23, 32, 27, 21, 22, 22, 33, 29, 49, 41, 23, 34, 23, 42, 27, 24, 25, 44, 21, 30, 25, 24, 51, 34, 27, 24, 63, 35, 43, 25, 24, 21, 28, 38, 21, 40, 21, 52, 25, 29, 23, 57, 22, 28, 39, 37, 47, 52, 51, 34, 29, 26, 33, 21, 25, 31, 24, 65, 28, 29, 24, 46, 58, 30, 25, 35, 28, 37, 29, 47, 21, 25, 30, 41, 22, 27, 25, 43, 26, 30, 29, 28, 59, 31, 25, 36, 43, 21, 24, 30, 37, 23, 37, 46, 25, 41, 44, 22, 26, 44, 44, 33, 41, 22, 36, 22, 33, 57, 49, 22, 23, 26, 37, 29, 30, 46, 24, 21, 49, 28, 44, 48, 29, 29, 63, 65, 67, 30, 30, 29, 21, 22, 45, 25, 21, 21, 25, 28, 58, 22, 22, 32, 35, 24, 22, 21, 25, 25, 24, 35, 45, 58, 28, 42, 27, 21, 37, 31, 25, 39, 22, 25, 25, 31, 55, 35, 38, 41, 26, 46, 25, 39, 28, 28, 25, 22, 21, 21, 22, 22, 37, 27, 28, 26, 21, 21, 21, 36, 31, 25, 38, 26, 43, 23, 38, 22, 29, 36, 29, 41, 28, 21, 31, 41, 22, 24, 33, 30, 25, 28, 26, 22, 26, 23, 23, 25, 72, 24, 38, 62, 24, 51, 81, 48, 26, 39, 37, 34, 21, 22, 25, 38, 27, 28, 22, 22, 50, 24, 59, 29, 31, 39, 63, 35, 29, 28, 23, 31, 24, 21, 58, 28, 67, 24, 42, 33, 45, 22, 66, 30, 25, 55, 39, 21, 28, 41, 41, 40, 38, 35, 21, 21, 64, 46, 21, 58, 22, 24, 28, 53, 51, 41, 60, 25, 26, 26, 45, 24, 21, 21, 24, 22, 31, 22, 24, 29, 31, 24, 23, 46, 67, 23, 32, 43, 27, 56, 25, 29, 37, 53, 28, 50, 37, 21, 25, 66, 23, 28, 37, 30, 58, 42, 35, 54, 28, 24, 32, 27, 22, 21, 46, 37, 33, 39, 21, 22, 22, 23, 25, 35, 21, 36, 62, 21, 27, 62, 42, 52, 22, 41, 29, 52, 25, 45, 24, 44, 25, 34, 22, 46, 21, 38, 26, 24, 28, 30, 54, 36, 21, 22, 25, 27, 23, 24, 36, 40, 26, 50, 27, 30, 23, 50, 24, 28, 28, 45, 21, 21, 29, 21, 21, 45, 21, 34, 24, 23, 22, 31, 38, 48, 23, 32, 28, 27, 24, 50, 31, 27, 30, 33, 22, 42, 23, 23, 27, 28, 27, 22, 25, 22, 41, 51, 27, 54, 22, 43, 40, 40, 24, 70, 40, 43, 45, 49, 21, 47, 22, 68, 31, 53, 25, 25, 23, 22, 26, 22, 27, 69, 25, 22, 29, 23, 46, 34, 44, 23, 43, 25, 43, 31, 22, 28, 26, 26, 49, 52, 41, 27, 28, 30, 22, 45, 23, 24, 40, 38, 21, 32, 34, 31, 56, 24, 52, 34, 21, 42, 42, 45, 38, 25, 22, 22, 22, 34, 22, 24, 22, 53, 28, 21, 42, 21, 42, 48, 26, 22, 45, 39, 46, 27, 32, 36, 50, 22, 28, 25, 26, 45, 37, 39, 52, 26, 66, 22, 43, 33, 63, 27, 30, 47, 23], \"sizemode\": \"area\", \"sizeref\": 0.2025, \"symbol\": \"circle\"}, \"mode\": \"markers\", \"name\": \"\", \"orientation\": \"v\", \"showlegend\": false, \"type\": \"scatter\", \"x\": [72.0, 66.0, 64.0, 66.0, 40.0, 74.0, 50.0, 72.40518417462484, 70.0, 96.0, 92.0, 74.0, 80.0, 60.0, 72.0, 72.40518417462484, 84.0, 74.0, 30.0, 70.0, 88.0, 84.0, 90.0, 80.0, 94.0, 70.0, 76.0, 66.0, 82.0, 92.0, 75.0, 76.0, 58.0, 92.0, 78.0, 60.0, 76.0, 76.0, 68.0, 72.0, 64.0, 84.0, 92.0, 110.0, 64.0, 66.0, 56.0, 70.0, 66.0, 72.40518417462484, 80.0, 50.0, 66.0, 90.0, 66.0, 50.0, 68.0, 88.0, 82.0, 64.0, 72.40518417462484, 72.0, 62.0, 58.0, 66.0, 74.0, 88.0, 92.0, 66.0, 85.0, 66.0, 64.0, 90.0, 86.0, 75.0, 48.0, 78.0, 72.0, 72.40518417462484, 66.0, 44.0, 72.40518417462484, 78.0, 65.0, 108.0, 74.0, 72.0, 68.0, 70.0, 68.0, 55.0, 80.0, 78.0, 72.0, 82.0, 72.0, 62.0, 48.0, 50.0, 90.0, 72.0, 60.0, 96.0, 72.0, 65.0, 56.0, 122.0, 58.0, 58.0, 85.0, 72.0, 62.0, 76.0, 62.0, 54.0, 92.0, 74.0, 48.0, 60.0, 76.0, 76.0, 64.0, 74.0, 80.0, 76.0, 30.0, 70.0, 58.0, 88.0, 84.0, 70.0, 56.0, 64.0, 74.0, 68.0, 60.0, 70.0, 60.0, 80.0, 72.0, 78.0, 82.0, 52.0, 66.0, 62.0, 75.0, 80.0, 64.0, 78.0, 70.0, 74.0, 65.0, 86.0, 82.0, 78.0, 88.0, 52.0, 56.0, 74.0, 72.0, 90.0, 74.0, 80.0, 64.0, 88.0, 74.0, 66.0, 68.0, 66.0, 90.0, 82.0, 70.0, 72.40518417462484, 60.0, 64.0, 72.0, 78.0, 110.0, 78.0, 82.0, 80.0, 64.0, 74.0, 60.0, 74.0, 68.0, 68.0, 98.0, 76.0, 80.0, 62.0, 70.0, 66.0, 72.40518417462484, 55.0, 84.0, 58.0, 62.0, 64.0, 60.0, 80.0, 82.0, 68.0, 70.0, 72.0, 72.0, 76.0, 104.0, 64.0, 84.0, 60.0, 85.0, 95.0, 65.0, 82.0, 70.0, 62.0, 68.0, 74.0, 66.0, 60.0, 90.0, 72.40518417462484, 60.0, 66.0, 78.0, 76.0, 52.0, 70.0, 80.0, 86.0, 80.0, 80.0, 68.0, 68.0, 72.0, 84.0, 90.0, 84.0, 76.0, 64.0, 70.0, 54.0, 50.0, 76.0, 85.0, 68.0, 90.0, 70.0, 86.0, 52.0, 84.0, 80.0, 68.0, 62.0, 64.0, 56.0, 68.0, 50.0, 76.0, 68.0, 72.40518417462484, 70.0, 80.0, 62.0, 74.0, 72.40518417462484, 64.0, 52.0, 72.40518417462484, 86.0, 62.0, 78.0, 78.0, 70.0, 70.0, 60.0, 64.0, 74.0, 62.0, 70.0, 76.0, 88.0, 86.0, 80.0, 74.0, 84.0, 86.0, 56.0, 72.0, 88.0, 62.0, 78.0, 48.0, 50.0, 62.0, 70.0, 84.0, 78.0, 72.0, 72.40518417462484, 58.0, 82.0, 98.0, 76.0, 76.0, 68.0, 68.0, 68.0, 68.0, 66.0, 70.0, 74.0, 50.0, 80.0, 68.0, 80.0, 74.0, 66.0, 78.0, 60.0, 74.0, 70.0, 90.0, 75.0, 72.0, 64.0, 70.0, 86.0, 70.0, 72.0, 58.0, 72.40518417462484, 80.0, 60.0, 76.0, 72.40518417462484, 76.0, 78.0, 84.0, 70.0, 74.0, 68.0, 86.0, 72.0, 88.0, 46.0, 72.40518417462484, 62.0, 80.0, 80.0, 84.0, 82.0, 62.0, 78.0, 88.0, 50.0, 72.40518417462484, 74.0, 76.0, 64.0, 70.0, 108.0, 78.0, 74.0, 54.0, 72.0, 64.0, 86.0, 102.0, 82.0, 64.0, 64.0, 58.0, 52.0, 82.0, 82.0, 60.0, 75.0, 100.0, 72.0, 68.0, 60.0, 62.0, 70.0, 54.0, 74.0, 100.0, 82.0, 68.0, 66.0, 76.0, 64.0, 72.0, 78.0, 58.0, 56.0, 66.0, 70.0, 70.0, 64.0, 61.0, 84.0, 78.0, 64.0, 48.0, 72.0, 62.0, 74.0, 68.0, 90.0, 72.0, 84.0, 74.0, 60.0, 84.0, 68.0, 82.0, 68.0, 64.0, 88.0, 68.0, 64.0, 64.0, 78.0, 78.0, 72.40518417462484, 64.0, 94.0, 82.0, 72.40518417462484, 74.0, 74.0, 75.0, 68.0, 72.40518417462484, 85.0, 75.0, 70.0, 88.0, 104.0, 66.0, 64.0, 70.0, 62.0, 78.0, 72.0, 80.0, 64.0, 74.0, 64.0, 70.0, 68.0, 72.40518417462484, 54.0, 62.0, 54.0, 68.0, 84.0, 74.0, 72.0, 62.0, 70.0, 78.0, 98.0, 56.0, 52.0, 64.0, 72.40518417462484, 78.0, 82.0, 70.0, 66.0, 90.0, 64.0, 84.0, 80.0, 76.0, 74.0, 86.0, 70.0, 88.0, 58.0, 82.0, 72.40518417462484, 68.0, 62.0, 78.0, 72.0, 80.0, 65.0, 90.0, 68.0, 70.0, 72.40518417462484, 74.0, 68.0, 72.0, 70.0, 74.0, 90.0, 72.0, 68.0, 64.0, 78.0, 82.0, 90.0, 60.0, 50.0, 78.0, 72.0, 62.0, 68.0, 62.0, 54.0, 70.0, 88.0, 86.0, 60.0, 90.0, 70.0, 80.0, 72.40518417462484, 70.0, 58.0, 60.0, 64.0, 74.0, 66.0, 65.0, 60.0, 76.0, 66.0, 72.40518417462484, 56.0, 72.40518417462484, 90.0, 60.0, 80.0, 92.0, 74.0, 72.0, 85.0, 90.0, 78.0, 90.0, 76.0, 68.0, 82.0, 110.0, 70.0, 68.0, 88.0, 62.0, 64.0, 70.0, 70.0, 76.0, 68.0, 74.0, 76.0, 66.0, 68.0, 60.0, 80.0, 54.0, 72.0, 62.0, 72.0, 66.0, 70.0, 96.0, 58.0, 60.0, 86.0, 44.0, 44.0, 80.0, 68.0, 70.0, 90.0, 60.0, 78.0, 76.0, 76.0, 56.0, 66.0, 66.0, 86.0, 72.40518417462484, 84.0, 78.0, 80.0, 52.0, 72.0, 82.0, 76.0, 24.0, 74.0, 38.0, 88.0, 72.40518417462484, 74.0, 78.0, 72.40518417462484, 60.0, 78.0, 62.0, 82.0, 62.0, 54.0, 58.0, 88.0, 80.0, 74.0, 72.0, 96.0, 62.0, 82.0, 72.40518417462484, 86.0, 76.0, 94.0, 70.0, 64.0, 88.0, 68.0, 78.0, 80.0, 65.0, 64.0, 78.0, 60.0, 82.0, 62.0, 72.0, 74.0, 76.0, 76.0, 74.0, 86.0, 70.0, 80.0, 72.40518417462484, 72.0, 74.0, 74.0, 50.0, 84.0, 60.0, 54.0, 60.0, 74.0, 54.0, 70.0, 52.0, 58.0, 80.0, 106.0, 82.0, 84.0, 76.0, 106.0, 80.0, 60.0, 80.0, 82.0, 70.0, 58.0, 78.0, 68.0, 58.0, 106.0, 100.0, 82.0, 70.0, 86.0, 60.0, 52.0, 58.0, 56.0, 76.0, 64.0, 80.0, 82.0, 74.0, 64.0, 50.0, 74.0, 82.0, 80.0, 114.0, 70.0, 68.0, 60.0, 90.0, 74.0, 72.40518417462484, 88.0, 70.0, 76.0, 78.0, 88.0, 72.40518417462484, 76.0, 80.0, 72.40518417462484, 46.0, 78.0, 64.0, 64.0, 78.0, 62.0, 58.0, 74.0, 50.0, 78.0, 72.0, 60.0, 76.0, 86.0, 66.0, 68.0, 86.0, 94.0, 78.0, 78.0, 84.0, 88.0, 52.0, 78.0, 86.0, 88.0, 56.0, 75.0, 60.0, 86.0, 72.0, 60.0, 74.0, 80.0, 44.0, 58.0, 94.0, 88.0, 84.0, 94.0, 74.0, 70.0, 62.0, 70.0, 78.0, 62.0, 88.0, 78.0, 88.0, 90.0, 72.0, 76.0, 92.0, 58.0, 74.0, 62.0, 76.0, 70.0, 72.0, 60.0, 70.0], \"xaxis\": \"x\", \"y\": [50, 31, 32, 21, 33, 30, 26, 29, 53, 54, 30, 34, 57, 59, 51, 32, 31, 31, 33, 32, 27, 50, 41, 29, 51, 41, 43, 22, 57, 38, 60, 28, 22, 28, 45, 33, 35, 46, 27, 56, 26, 37, 48, 54, 40, 25, 29, 22, 31, 24, 22, 26, 30, 58, 42, 21, 41, 31, 44, 22, 21, 39, 36, 24, 42, 32, 38, 54, 25, 27, 28, 26, 42, 23, 22, 22, 41, 27, 26, 24, 22, 22, 36, 22, 37, 27, 45, 26, 43, 24, 21, 34, 42, 60, 21, 40, 24, 22, 23, 31, 33, 22, 21, 24, 27, 21, 27, 37, 25, 24, 24, 46, 23, 25, 39, 61, 38, 25, 22, 21, 25, 24, 23, 69, 23, 26, 30, 23, 40, 62, 33, 33, 30, 39, 26, 31, 21, 22, 29, 28, 55, 38, 22, 42, 23, 21, 41, 34, 65, 22, 24, 37, 42, 23, 43, 36, 21, 23, 22, 47, 36, 45, 27, 21, 32, 41, 22, 34, 29, 29, 36, 29, 25, 23, 33, 36, 42, 26, 47, 37, 32, 23, 21, 27, 40, 41, 60, 33, 31, 25, 21, 40, 36, 40, 42, 29, 21, 23, 26, 29, 21, 28, 32, 27, 55, 27, 57, 52, 21, 41, 25, 24, 60, 24, 36, 38, 25, 32, 32, 41, 21, 66, 37, 61, 26, 22, 26, 24, 31, 24, 22, 46, 22, 29, 23, 26, 51, 23, 32, 27, 21, 22, 22, 33, 29, 49, 41, 23, 34, 23, 42, 27, 24, 25, 44, 21, 30, 25, 24, 51, 34, 27, 24, 63, 35, 43, 25, 24, 21, 28, 38, 21, 40, 21, 52, 25, 29, 23, 57, 22, 28, 39, 37, 47, 52, 51, 34, 29, 26, 33, 21, 25, 31, 24, 65, 28, 29, 24, 46, 58, 30, 25, 35, 28, 37, 29, 47, 21, 25, 30, 41, 22, 27, 25, 43, 26, 30, 29, 28, 59, 31, 25, 36, 43, 21, 24, 30, 37, 23, 37, 46, 25, 41, 44, 22, 26, 44, 44, 33, 41, 22, 36, 22, 33, 57, 49, 22, 23, 26, 37, 29, 30, 46, 24, 21, 49, 28, 44, 48, 29, 29, 63, 65, 67, 30, 30, 29, 21, 22, 45, 25, 21, 21, 25, 28, 58, 22, 22, 32, 35, 24, 22, 21, 25, 25, 24, 35, 45, 58, 28, 42, 27, 21, 37, 31, 25, 39, 22, 25, 25, 31, 55, 35, 38, 41, 26, 46, 25, 39, 28, 28, 25, 22, 21, 21, 22, 22, 37, 27, 28, 26, 21, 21, 21, 36, 31, 25, 38, 26, 43, 23, 38, 22, 29, 36, 29, 41, 28, 21, 31, 41, 22, 24, 33, 30, 25, 28, 26, 22, 26, 23, 23, 25, 72, 24, 38, 62, 24, 51, 81, 48, 26, 39, 37, 34, 21, 22, 25, 38, 27, 28, 22, 22, 50, 24, 59, 29, 31, 39, 63, 35, 29, 28, 23, 31, 24, 21, 58, 28, 67, 24, 42, 33, 45, 22, 66, 30, 25, 55, 39, 21, 28, 41, 41, 40, 38, 35, 21, 21, 64, 46, 21, 58, 22, 24, 28, 53, 51, 41, 60, 25, 26, 26, 45, 24, 21, 21, 24, 22, 31, 22, 24, 29, 31, 24, 23, 46, 67, 23, 32, 43, 27, 56, 25, 29, 37, 53, 28, 50, 37, 21, 25, 66, 23, 28, 37, 30, 58, 42, 35, 54, 28, 24, 32, 27, 22, 21, 46, 37, 33, 39, 21, 22, 22, 23, 25, 35, 21, 36, 62, 21, 27, 62, 42, 52, 22, 41, 29, 52, 25, 45, 24, 44, 25, 34, 22, 46, 21, 38, 26, 24, 28, 30, 54, 36, 21, 22, 25, 27, 23, 24, 36, 40, 26, 50, 27, 30, 23, 50, 24, 28, 28, 45, 21, 21, 29, 21, 21, 45, 21, 34, 24, 23, 22, 31, 38, 48, 23, 32, 28, 27, 24, 50, 31, 27, 30, 33, 22, 42, 23, 23, 27, 28, 27, 22, 25, 22, 41, 51, 27, 54, 22, 43, 40, 40, 24, 70, 40, 43, 45, 49, 21, 47, 22, 68, 31, 53, 25, 25, 23, 22, 26, 22, 27, 69, 25, 22, 29, 23, 46, 34, 44, 23, 43, 25, 43, 31, 22, 28, 26, 26, 49, 52, 41, 27, 28, 30, 22, 45, 23, 24, 40, 38, 21, 32, 34, 31, 56, 24, 52, 34, 21, 42, 42, 45, 38, 25, 22, 22, 22, 34, 22, 24, 22, 53, 28, 21, 42, 21, 42, 48, 26, 22, 45, 39, 46, 27, 32, 36, 50, 22, 28, 25, 26, 45, 37, 39, 52, 26, 66, 22, 43, 33, 63, 27, 30, 47, 23], \"yaxis\": \"y\"}, {\"alignmentgroup\": \"True\", \"bingroup\": \"x\", \"hovertemplate\": \"BloodPressure=%{x}<br>count=%{y}<extra></extra>\", \"legendgroup\": \"\", \"marker\": {\"color\": \"#0d0887\"}, \"name\": \"\", \"offsetgroup\": \"\", \"opacity\": 0.5, \"showlegend\": false, \"type\": \"histogram\", \"x\": [72.0, 66.0, 64.0, 66.0, 40.0, 74.0, 50.0, 72.40518417462484, 70.0, 96.0, 92.0, 74.0, 80.0, 60.0, 72.0, 72.40518417462484, 84.0, 74.0, 30.0, 70.0, 88.0, 84.0, 90.0, 80.0, 94.0, 70.0, 76.0, 66.0, 82.0, 92.0, 75.0, 76.0, 58.0, 92.0, 78.0, 60.0, 76.0, 76.0, 68.0, 72.0, 64.0, 84.0, 92.0, 110.0, 64.0, 66.0, 56.0, 70.0, 66.0, 72.40518417462484, 80.0, 50.0, 66.0, 90.0, 66.0, 50.0, 68.0, 88.0, 82.0, 64.0, 72.40518417462484, 72.0, 62.0, 58.0, 66.0, 74.0, 88.0, 92.0, 66.0, 85.0, 66.0, 64.0, 90.0, 86.0, 75.0, 48.0, 78.0, 72.0, 72.40518417462484, 66.0, 44.0, 72.40518417462484, 78.0, 65.0, 108.0, 74.0, 72.0, 68.0, 70.0, 68.0, 55.0, 80.0, 78.0, 72.0, 82.0, 72.0, 62.0, 48.0, 50.0, 90.0, 72.0, 60.0, 96.0, 72.0, 65.0, 56.0, 122.0, 58.0, 58.0, 85.0, 72.0, 62.0, 76.0, 62.0, 54.0, 92.0, 74.0, 48.0, 60.0, 76.0, 76.0, 64.0, 74.0, 80.0, 76.0, 30.0, 70.0, 58.0, 88.0, 84.0, 70.0, 56.0, 64.0, 74.0, 68.0, 60.0, 70.0, 60.0, 80.0, 72.0, 78.0, 82.0, 52.0, 66.0, 62.0, 75.0, 80.0, 64.0, 78.0, 70.0, 74.0, 65.0, 86.0, 82.0, 78.0, 88.0, 52.0, 56.0, 74.0, 72.0, 90.0, 74.0, 80.0, 64.0, 88.0, 74.0, 66.0, 68.0, 66.0, 90.0, 82.0, 70.0, 72.40518417462484, 60.0, 64.0, 72.0, 78.0, 110.0, 78.0, 82.0, 80.0, 64.0, 74.0, 60.0, 74.0, 68.0, 68.0, 98.0, 76.0, 80.0, 62.0, 70.0, 66.0, 72.40518417462484, 55.0, 84.0, 58.0, 62.0, 64.0, 60.0, 80.0, 82.0, 68.0, 70.0, 72.0, 72.0, 76.0, 104.0, 64.0, 84.0, 60.0, 85.0, 95.0, 65.0, 82.0, 70.0, 62.0, 68.0, 74.0, 66.0, 60.0, 90.0, 72.40518417462484, 60.0, 66.0, 78.0, 76.0, 52.0, 70.0, 80.0, 86.0, 80.0, 80.0, 68.0, 68.0, 72.0, 84.0, 90.0, 84.0, 76.0, 64.0, 70.0, 54.0, 50.0, 76.0, 85.0, 68.0, 90.0, 70.0, 86.0, 52.0, 84.0, 80.0, 68.0, 62.0, 64.0, 56.0, 68.0, 50.0, 76.0, 68.0, 72.40518417462484, 70.0, 80.0, 62.0, 74.0, 72.40518417462484, 64.0, 52.0, 72.40518417462484, 86.0, 62.0, 78.0, 78.0, 70.0, 70.0, 60.0, 64.0, 74.0, 62.0, 70.0, 76.0, 88.0, 86.0, 80.0, 74.0, 84.0, 86.0, 56.0, 72.0, 88.0, 62.0, 78.0, 48.0, 50.0, 62.0, 70.0, 84.0, 78.0, 72.0, 72.40518417462484, 58.0, 82.0, 98.0, 76.0, 76.0, 68.0, 68.0, 68.0, 68.0, 66.0, 70.0, 74.0, 50.0, 80.0, 68.0, 80.0, 74.0, 66.0, 78.0, 60.0, 74.0, 70.0, 90.0, 75.0, 72.0, 64.0, 70.0, 86.0, 70.0, 72.0, 58.0, 72.40518417462484, 80.0, 60.0, 76.0, 72.40518417462484, 76.0, 78.0, 84.0, 70.0, 74.0, 68.0, 86.0, 72.0, 88.0, 46.0, 72.40518417462484, 62.0, 80.0, 80.0, 84.0, 82.0, 62.0, 78.0, 88.0, 50.0, 72.40518417462484, 74.0, 76.0, 64.0, 70.0, 108.0, 78.0, 74.0, 54.0, 72.0, 64.0, 86.0, 102.0, 82.0, 64.0, 64.0, 58.0, 52.0, 82.0, 82.0, 60.0, 75.0, 100.0, 72.0, 68.0, 60.0, 62.0, 70.0, 54.0, 74.0, 100.0, 82.0, 68.0, 66.0, 76.0, 64.0, 72.0, 78.0, 58.0, 56.0, 66.0, 70.0, 70.0, 64.0, 61.0, 84.0, 78.0, 64.0, 48.0, 72.0, 62.0, 74.0, 68.0, 90.0, 72.0, 84.0, 74.0, 60.0, 84.0, 68.0, 82.0, 68.0, 64.0, 88.0, 68.0, 64.0, 64.0, 78.0, 78.0, 72.40518417462484, 64.0, 94.0, 82.0, 72.40518417462484, 74.0, 74.0, 75.0, 68.0, 72.40518417462484, 85.0, 75.0, 70.0, 88.0, 104.0, 66.0, 64.0, 70.0, 62.0, 78.0, 72.0, 80.0, 64.0, 74.0, 64.0, 70.0, 68.0, 72.40518417462484, 54.0, 62.0, 54.0, 68.0, 84.0, 74.0, 72.0, 62.0, 70.0, 78.0, 98.0, 56.0, 52.0, 64.0, 72.40518417462484, 78.0, 82.0, 70.0, 66.0, 90.0, 64.0, 84.0, 80.0, 76.0, 74.0, 86.0, 70.0, 88.0, 58.0, 82.0, 72.40518417462484, 68.0, 62.0, 78.0, 72.0, 80.0, 65.0, 90.0, 68.0, 70.0, 72.40518417462484, 74.0, 68.0, 72.0, 70.0, 74.0, 90.0, 72.0, 68.0, 64.0, 78.0, 82.0, 90.0, 60.0, 50.0, 78.0, 72.0, 62.0, 68.0, 62.0, 54.0, 70.0, 88.0, 86.0, 60.0, 90.0, 70.0, 80.0, 72.40518417462484, 70.0, 58.0, 60.0, 64.0, 74.0, 66.0, 65.0, 60.0, 76.0, 66.0, 72.40518417462484, 56.0, 72.40518417462484, 90.0, 60.0, 80.0, 92.0, 74.0, 72.0, 85.0, 90.0, 78.0, 90.0, 76.0, 68.0, 82.0, 110.0, 70.0, 68.0, 88.0, 62.0, 64.0, 70.0, 70.0, 76.0, 68.0, 74.0, 76.0, 66.0, 68.0, 60.0, 80.0, 54.0, 72.0, 62.0, 72.0, 66.0, 70.0, 96.0, 58.0, 60.0, 86.0, 44.0, 44.0, 80.0, 68.0, 70.0, 90.0, 60.0, 78.0, 76.0, 76.0, 56.0, 66.0, 66.0, 86.0, 72.40518417462484, 84.0, 78.0, 80.0, 52.0, 72.0, 82.0, 76.0, 24.0, 74.0, 38.0, 88.0, 72.40518417462484, 74.0, 78.0, 72.40518417462484, 60.0, 78.0, 62.0, 82.0, 62.0, 54.0, 58.0, 88.0, 80.0, 74.0, 72.0, 96.0, 62.0, 82.0, 72.40518417462484, 86.0, 76.0, 94.0, 70.0, 64.0, 88.0, 68.0, 78.0, 80.0, 65.0, 64.0, 78.0, 60.0, 82.0, 62.0, 72.0, 74.0, 76.0, 76.0, 74.0, 86.0, 70.0, 80.0, 72.40518417462484, 72.0, 74.0, 74.0, 50.0, 84.0, 60.0, 54.0, 60.0, 74.0, 54.0, 70.0, 52.0, 58.0, 80.0, 106.0, 82.0, 84.0, 76.0, 106.0, 80.0, 60.0, 80.0, 82.0, 70.0, 58.0, 78.0, 68.0, 58.0, 106.0, 100.0, 82.0, 70.0, 86.0, 60.0, 52.0, 58.0, 56.0, 76.0, 64.0, 80.0, 82.0, 74.0, 64.0, 50.0, 74.0, 82.0, 80.0, 114.0, 70.0, 68.0, 60.0, 90.0, 74.0, 72.40518417462484, 88.0, 70.0, 76.0, 78.0, 88.0, 72.40518417462484, 76.0, 80.0, 72.40518417462484, 46.0, 78.0, 64.0, 64.0, 78.0, 62.0, 58.0, 74.0, 50.0, 78.0, 72.0, 60.0, 76.0, 86.0, 66.0, 68.0, 86.0, 94.0, 78.0, 78.0, 84.0, 88.0, 52.0, 78.0, 86.0, 88.0, 56.0, 75.0, 60.0, 86.0, 72.0, 60.0, 74.0, 80.0, 44.0, 58.0, 94.0, 88.0, 84.0, 94.0, 74.0, 70.0, 62.0, 70.0, 78.0, 62.0, 88.0, 78.0, 88.0, 90.0, 72.0, 76.0, 92.0, 58.0, 74.0, 62.0, 76.0, 70.0, 72.0, 60.0, 70.0], \"xaxis\": \"x3\", \"yaxis\": \"y3\"}, {\"alignmentgroup\": \"True\", \"bingroup\": \"y\", \"hovertemplate\": \"Age=%{y}<br>count=%{x}<extra></extra>\", \"legendgroup\": \"\", \"marker\": {\"color\": \"#0d0887\"}, \"name\": \"\", \"offsetgroup\": \"\", \"opacity\": 0.5, \"showlegend\": false, \"type\": \"histogram\", \"xaxis\": \"x2\", \"y\": [50, 31, 32, 21, 33, 30, 26, 29, 53, 54, 30, 34, 57, 59, 51, 32, 31, 31, 33, 32, 27, 50, 41, 29, 51, 41, 43, 22, 57, 38, 60, 28, 22, 28, 45, 33, 35, 46, 27, 56, 26, 37, 48, 54, 40, 25, 29, 22, 31, 24, 22, 26, 30, 58, 42, 21, 41, 31, 44, 22, 21, 39, 36, 24, 42, 32, 38, 54, 25, 27, 28, 26, 42, 23, 22, 22, 41, 27, 26, 24, 22, 22, 36, 22, 37, 27, 45, 26, 43, 24, 21, 34, 42, 60, 21, 40, 24, 22, 23, 31, 33, 22, 21, 24, 27, 21, 27, 37, 25, 24, 24, 46, 23, 25, 39, 61, 38, 25, 22, 21, 25, 24, 23, 69, 23, 26, 30, 23, 40, 62, 33, 33, 30, 39, 26, 31, 21, 22, 29, 28, 55, 38, 22, 42, 23, 21, 41, 34, 65, 22, 24, 37, 42, 23, 43, 36, 21, 23, 22, 47, 36, 45, 27, 21, 32, 41, 22, 34, 29, 29, 36, 29, 25, 23, 33, 36, 42, 26, 47, 37, 32, 23, 21, 27, 40, 41, 60, 33, 31, 25, 21, 40, 36, 40, 42, 29, 21, 23, 26, 29, 21, 28, 32, 27, 55, 27, 57, 52, 21, 41, 25, 24, 60, 24, 36, 38, 25, 32, 32, 41, 21, 66, 37, 61, 26, 22, 26, 24, 31, 24, 22, 46, 22, 29, 23, 26, 51, 23, 32, 27, 21, 22, 22, 33, 29, 49, 41, 23, 34, 23, 42, 27, 24, 25, 44, 21, 30, 25, 24, 51, 34, 27, 24, 63, 35, 43, 25, 24, 21, 28, 38, 21, 40, 21, 52, 25, 29, 23, 57, 22, 28, 39, 37, 47, 52, 51, 34, 29, 26, 33, 21, 25, 31, 24, 65, 28, 29, 24, 46, 58, 30, 25, 35, 28, 37, 29, 47, 21, 25, 30, 41, 22, 27, 25, 43, 26, 30, 29, 28, 59, 31, 25, 36, 43, 21, 24, 30, 37, 23, 37, 46, 25, 41, 44, 22, 26, 44, 44, 33, 41, 22, 36, 22, 33, 57, 49, 22, 23, 26, 37, 29, 30, 46, 24, 21, 49, 28, 44, 48, 29, 29, 63, 65, 67, 30, 30, 29, 21, 22, 45, 25, 21, 21, 25, 28, 58, 22, 22, 32, 35, 24, 22, 21, 25, 25, 24, 35, 45, 58, 28, 42, 27, 21, 37, 31, 25, 39, 22, 25, 25, 31, 55, 35, 38, 41, 26, 46, 25, 39, 28, 28, 25, 22, 21, 21, 22, 22, 37, 27, 28, 26, 21, 21, 21, 36, 31, 25, 38, 26, 43, 23, 38, 22, 29, 36, 29, 41, 28, 21, 31, 41, 22, 24, 33, 30, 25, 28, 26, 22, 26, 23, 23, 25, 72, 24, 38, 62, 24, 51, 81, 48, 26, 39, 37, 34, 21, 22, 25, 38, 27, 28, 22, 22, 50, 24, 59, 29, 31, 39, 63, 35, 29, 28, 23, 31, 24, 21, 58, 28, 67, 24, 42, 33, 45, 22, 66, 30, 25, 55, 39, 21, 28, 41, 41, 40, 38, 35, 21, 21, 64, 46, 21, 58, 22, 24, 28, 53, 51, 41, 60, 25, 26, 26, 45, 24, 21, 21, 24, 22, 31, 22, 24, 29, 31, 24, 23, 46, 67, 23, 32, 43, 27, 56, 25, 29, 37, 53, 28, 50, 37, 21, 25, 66, 23, 28, 37, 30, 58, 42, 35, 54, 28, 24, 32, 27, 22, 21, 46, 37, 33, 39, 21, 22, 22, 23, 25, 35, 21, 36, 62, 21, 27, 62, 42, 52, 22, 41, 29, 52, 25, 45, 24, 44, 25, 34, 22, 46, 21, 38, 26, 24, 28, 30, 54, 36, 21, 22, 25, 27, 23, 24, 36, 40, 26, 50, 27, 30, 23, 50, 24, 28, 28, 45, 21, 21, 29, 21, 21, 45, 21, 34, 24, 23, 22, 31, 38, 48, 23, 32, 28, 27, 24, 50, 31, 27, 30, 33, 22, 42, 23, 23, 27, 28, 27, 22, 25, 22, 41, 51, 27, 54, 22, 43, 40, 40, 24, 70, 40, 43, 45, 49, 21, 47, 22, 68, 31, 53, 25, 25, 23, 22, 26, 22, 27, 69, 25, 22, 29, 23, 46, 34, 44, 23, 43, 25, 43, 31, 22, 28, 26, 26, 49, 52, 41, 27, 28, 30, 22, 45, 23, 24, 40, 38, 21, 32, 34, 31, 56, 24, 52, 34, 21, 42, 42, 45, 38, 25, 22, 22, 22, 34, 22, 24, 22, 53, 28, 21, 42, 21, 42, 48, 26, 22, 45, 39, 46, 27, 32, 36, 50, 22, 28, 25, 26, 45, 37, 39, 52, 26, 66, 22, 43, 33, 63, 27, 30, 47, 23], \"yaxis\": \"y2\"}],                        {\"barmode\": \"overlay\", \"coloraxis\": {\"colorbar\": {\"title\": {\"text\": \"Outcome\"}}, \"colorscale\": [[0.0, \"#0d0887\"], [0.1111111111111111, \"#46039f\"], [0.2222222222222222, \"#7201a8\"], [0.3333333333333333, \"#9c179e\"], [0.4444444444444444, \"#bd3786\"], [0.5555555555555556, \"#d8576b\"], [0.6666666666666666, \"#ed7953\"], [0.7777777777777778, \"#fb9f3a\"], [0.8888888888888888, \"#fdca26\"], [1.0, \"#f0f921\"]]}, \"legend\": {\"itemsizing\": \"constant\", \"tracegroupgap\": 0}, \"template\": {\"data\": {\"bar\": [{\"error_x\": {\"color\": \"#f2f5fa\"}, \"error_y\": {\"color\": \"#f2f5fa\"}, \"marker\": {\"line\": {\"color\": \"rgb(17,17,17)\", \"width\": 0.5}}, \"type\": \"bar\"}], \"barpolar\": [{\"marker\": {\"line\": {\"color\": \"rgb(17,17,17)\", \"width\": 0.5}}, \"type\": \"barpolar\"}], \"carpet\": [{\"aaxis\": {\"endlinecolor\": \"#A2B1C6\", \"gridcolor\": \"#506784\", \"linecolor\": \"#506784\", \"minorgridcolor\": \"#506784\", \"startlinecolor\": \"#A2B1C6\"}, \"baxis\": {\"endlinecolor\": \"#A2B1C6\", \"gridcolor\": \"#506784\", \"linecolor\": \"#506784\", \"minorgridcolor\": \"#506784\", \"startlinecolor\": \"#A2B1C6\"}, \"type\": \"carpet\"}], \"choropleth\": [{\"colorbar\": {\"outlinewidth\": 0, \"ticks\": \"\"}, \"type\": \"choropleth\"}], \"contour\": [{\"colorbar\": {\"outlinewidth\": 0, \"ticks\": \"\"}, \"colorscale\": [[0.0, \"#0d0887\"], [0.1111111111111111, \"#46039f\"], [0.2222222222222222, \"#7201a8\"], [0.3333333333333333, \"#9c179e\"], [0.4444444444444444, \"#bd3786\"], [0.5555555555555556, \"#d8576b\"], [0.6666666666666666, \"#ed7953\"], [0.7777777777777778, \"#fb9f3a\"], [0.8888888888888888, \"#fdca26\"], [1.0, \"#f0f921\"]], \"type\": \"contour\"}], \"contourcarpet\": [{\"colorbar\": {\"outlinewidth\": 0, \"ticks\": \"\"}, \"type\": \"contourcarpet\"}], \"heatmap\": [{\"colorbar\": {\"outlinewidth\": 0, \"ticks\": \"\"}, \"colorscale\": [[0.0, \"#0d0887\"], [0.1111111111111111, \"#46039f\"], [0.2222222222222222, \"#7201a8\"], [0.3333333333333333, \"#9c179e\"], [0.4444444444444444, \"#bd3786\"], [0.5555555555555556, \"#d8576b\"], [0.6666666666666666, \"#ed7953\"], [0.7777777777777778, \"#fb9f3a\"], [0.8888888888888888, \"#fdca26\"], [1.0, \"#f0f921\"]], \"type\": \"heatmap\"}], \"heatmapgl\": [{\"colorbar\": {\"outlinewidth\": 0, \"ticks\": \"\"}, \"colorscale\": [[0.0, \"#0d0887\"], [0.1111111111111111, \"#46039f\"], [0.2222222222222222, \"#7201a8\"], [0.3333333333333333, \"#9c179e\"], [0.4444444444444444, \"#bd3786\"], [0.5555555555555556, \"#d8576b\"], [0.6666666666666666, \"#ed7953\"], [0.7777777777777778, \"#fb9f3a\"], [0.8888888888888888, \"#fdca26\"], [1.0, \"#f0f921\"]], \"type\": \"heatmapgl\"}], \"histogram\": [{\"marker\": {\"colorbar\": {\"outlinewidth\": 0, \"ticks\": \"\"}}, \"type\": \"histogram\"}], \"histogram2d\": [{\"colorbar\": {\"outlinewidth\": 0, \"ticks\": \"\"}, \"colorscale\": [[0.0, \"#0d0887\"], [0.1111111111111111, \"#46039f\"], [0.2222222222222222, \"#7201a8\"], [0.3333333333333333, \"#9c179e\"], [0.4444444444444444, \"#bd3786\"], [0.5555555555555556, \"#d8576b\"], [0.6666666666666666, \"#ed7953\"], [0.7777777777777778, \"#fb9f3a\"], [0.8888888888888888, \"#fdca26\"], [1.0, \"#f0f921\"]], \"type\": \"histogram2d\"}], \"histogram2dcontour\": [{\"colorbar\": {\"outlinewidth\": 0, \"ticks\": \"\"}, \"colorscale\": [[0.0, \"#0d0887\"], [0.1111111111111111, \"#46039f\"], [0.2222222222222222, \"#7201a8\"], [0.3333333333333333, \"#9c179e\"], [0.4444444444444444, \"#bd3786\"], [0.5555555555555556, \"#d8576b\"], [0.6666666666666666, \"#ed7953\"], [0.7777777777777778, \"#fb9f3a\"], [0.8888888888888888, \"#fdca26\"], [1.0, \"#f0f921\"]], \"type\": \"histogram2dcontour\"}], \"mesh3d\": [{\"colorbar\": {\"outlinewidth\": 0, \"ticks\": \"\"}, \"type\": \"mesh3d\"}], \"parcoords\": [{\"line\": {\"colorbar\": {\"outlinewidth\": 0, \"ticks\": \"\"}}, \"type\": \"parcoords\"}], \"pie\": [{\"automargin\": true, \"type\": \"pie\"}], \"scatter\": [{\"marker\": {\"line\": {\"color\": \"#283442\"}}, \"type\": \"scatter\"}], \"scatter3d\": [{\"line\": {\"colorbar\": {\"outlinewidth\": 0, \"ticks\": \"\"}}, \"marker\": {\"colorbar\": {\"outlinewidth\": 0, \"ticks\": \"\"}}, \"type\": \"scatter3d\"}], \"scattercarpet\": [{\"marker\": {\"colorbar\": {\"outlinewidth\": 0, \"ticks\": \"\"}}, \"type\": \"scattercarpet\"}], \"scattergeo\": [{\"marker\": {\"colorbar\": {\"outlinewidth\": 0, \"ticks\": \"\"}}, \"type\": \"scattergeo\"}], \"scattergl\": [{\"marker\": {\"line\": {\"color\": \"#283442\"}}, \"type\": \"scattergl\"}], \"scattermapbox\": [{\"marker\": {\"colorbar\": {\"outlinewidth\": 0, \"ticks\": \"\"}}, \"type\": \"scattermapbox\"}], \"scatterpolar\": [{\"marker\": {\"colorbar\": {\"outlinewidth\": 0, \"ticks\": \"\"}}, \"type\": \"scatterpolar\"}], \"scatterpolargl\": [{\"marker\": {\"colorbar\": {\"outlinewidth\": 0, \"ticks\": \"\"}}, \"type\": \"scatterpolargl\"}], \"scatterternary\": [{\"marker\": {\"colorbar\": {\"outlinewidth\": 0, \"ticks\": \"\"}}, \"type\": \"scatterternary\"}], \"surface\": [{\"colorbar\": {\"outlinewidth\": 0, \"ticks\": \"\"}, \"colorscale\": [[0.0, \"#0d0887\"], [0.1111111111111111, \"#46039f\"], [0.2222222222222222, \"#7201a8\"], [0.3333333333333333, \"#9c179e\"], [0.4444444444444444, \"#bd3786\"], [0.5555555555555556, \"#d8576b\"], [0.6666666666666666, \"#ed7953\"], [0.7777777777777778, \"#fb9f3a\"], [0.8888888888888888, \"#fdca26\"], [1.0, \"#f0f921\"]], \"type\": \"surface\"}], \"table\": [{\"cells\": {\"fill\": {\"color\": \"#506784\"}, \"line\": {\"color\": \"rgb(17,17,17)\"}}, \"header\": {\"fill\": {\"color\": \"#2a3f5f\"}, \"line\": {\"color\": \"rgb(17,17,17)\"}}, \"type\": \"table\"}]}, \"layout\": {\"annotationdefaults\": {\"arrowcolor\": \"#f2f5fa\", \"arrowhead\": 0, \"arrowwidth\": 1}, \"autotypenumbers\": \"strict\", \"coloraxis\": {\"colorbar\": {\"outlinewidth\": 0, \"ticks\": \"\"}}, \"colorscale\": {\"diverging\": [[0, \"#8e0152\"], [0.1, \"#c51b7d\"], [0.2, \"#de77ae\"], [0.3, \"#f1b6da\"], [0.4, \"#fde0ef\"], [0.5, \"#f7f7f7\"], [0.6, \"#e6f5d0\"], [0.7, \"#b8e186\"], [0.8, \"#7fbc41\"], [0.9, \"#4d9221\"], [1, \"#276419\"]], \"sequential\": [[0.0, \"#0d0887\"], [0.1111111111111111, \"#46039f\"], [0.2222222222222222, \"#7201a8\"], [0.3333333333333333, \"#9c179e\"], [0.4444444444444444, \"#bd3786\"], [0.5555555555555556, \"#d8576b\"], [0.6666666666666666, \"#ed7953\"], [0.7777777777777778, \"#fb9f3a\"], [0.8888888888888888, \"#fdca26\"], [1.0, \"#f0f921\"]], \"sequentialminus\": [[0.0, \"#0d0887\"], [0.1111111111111111, \"#46039f\"], [0.2222222222222222, \"#7201a8\"], [0.3333333333333333, \"#9c179e\"], [0.4444444444444444, \"#bd3786\"], [0.5555555555555556, \"#d8576b\"], [0.6666666666666666, \"#ed7953\"], [0.7777777777777778, \"#fb9f3a\"], [0.8888888888888888, \"#fdca26\"], [1.0, \"#f0f921\"]]}, \"colorway\": [\"#636efa\", \"#EF553B\", \"#00cc96\", \"#ab63fa\", \"#FFA15A\", \"#19d3f3\", \"#FF6692\", \"#B6E880\", \"#FF97FF\", \"#FECB52\"], \"font\": {\"color\": \"#f2f5fa\"}, \"geo\": {\"bgcolor\": \"rgb(17,17,17)\", \"lakecolor\": \"rgb(17,17,17)\", \"landcolor\": \"rgb(17,17,17)\", \"showlakes\": true, \"showland\": true, \"subunitcolor\": \"#506784\"}, \"hoverlabel\": {\"align\": \"left\"}, \"hovermode\": \"closest\", \"mapbox\": {\"style\": \"dark\"}, \"paper_bgcolor\": \"rgb(17,17,17)\", \"plot_bgcolor\": \"rgb(17,17,17)\", \"polar\": {\"angularaxis\": {\"gridcolor\": \"#506784\", \"linecolor\": \"#506784\", \"ticks\": \"\"}, \"bgcolor\": \"rgb(17,17,17)\", \"radialaxis\": {\"gridcolor\": \"#506784\", \"linecolor\": \"#506784\", \"ticks\": \"\"}}, \"scene\": {\"xaxis\": {\"backgroundcolor\": \"rgb(17,17,17)\", \"gridcolor\": \"#506784\", \"gridwidth\": 2, \"linecolor\": \"#506784\", \"showbackground\": true, \"ticks\": \"\", \"zerolinecolor\": \"#C8D4E3\"}, \"yaxis\": {\"backgroundcolor\": \"rgb(17,17,17)\", \"gridcolor\": \"#506784\", \"gridwidth\": 2, \"linecolor\": \"#506784\", \"showbackground\": true, \"ticks\": \"\", \"zerolinecolor\": \"#C8D4E3\"}, \"zaxis\": {\"backgroundcolor\": \"rgb(17,17,17)\", \"gridcolor\": \"#506784\", \"gridwidth\": 2, \"linecolor\": \"#506784\", \"showbackground\": true, \"ticks\": \"\", \"zerolinecolor\": \"#C8D4E3\"}}, \"shapedefaults\": {\"line\": {\"color\": \"#f2f5fa\"}}, \"sliderdefaults\": {\"bgcolor\": \"#C8D4E3\", \"bordercolor\": \"rgb(17,17,17)\", \"borderwidth\": 1, \"tickwidth\": 0}, \"ternary\": {\"aaxis\": {\"gridcolor\": \"#506784\", \"linecolor\": \"#506784\", \"ticks\": \"\"}, \"baxis\": {\"gridcolor\": \"#506784\", \"linecolor\": \"#506784\", \"ticks\": \"\"}, \"bgcolor\": \"rgb(17,17,17)\", \"caxis\": {\"gridcolor\": \"#506784\", \"linecolor\": \"#506784\", \"ticks\": \"\"}}, \"title\": {\"x\": 0.05}, \"updatemenudefaults\": {\"bgcolor\": \"#506784\", \"borderwidth\": 0}, \"xaxis\": {\"automargin\": true, \"gridcolor\": \"#283442\", \"linecolor\": \"#506784\", \"ticks\": \"\", \"title\": {\"standoff\": 15}, \"zerolinecolor\": \"#283442\", \"zerolinewidth\": 2}, \"yaxis\": {\"automargin\": true, \"gridcolor\": \"#283442\", \"linecolor\": \"#506784\", \"ticks\": \"\", \"title\": {\"standoff\": 15}, \"zerolinecolor\": \"#283442\", \"zerolinewidth\": 2}}}, \"title\": {\"text\": \"age and bloodpressure correlation\"}, \"xaxis\": {\"anchor\": \"y\", \"domain\": [0.0, 0.7363], \"title\": {\"text\": \"BloodPressure\"}}, \"xaxis2\": {\"anchor\": \"y2\", \"domain\": [0.7413, 1.0], \"matches\": \"x2\", \"showgrid\": true, \"showline\": false, \"showticklabels\": false, \"ticks\": \"\"}, \"xaxis3\": {\"anchor\": \"y3\", \"domain\": [0.0, 0.7363], \"matches\": \"x\", \"showgrid\": true, \"showticklabels\": false}, \"xaxis4\": {\"anchor\": \"y4\", \"domain\": [0.7413, 1.0], \"matches\": \"x2\", \"showgrid\": true, \"showline\": false, \"showticklabels\": false, \"ticks\": \"\"}, \"yaxis\": {\"anchor\": \"x\", \"domain\": [0.0, 0.7326], \"title\": {\"text\": \"Age\"}}, \"yaxis2\": {\"anchor\": \"x2\", \"domain\": [0.0, 0.7326], \"matches\": \"y\", \"showgrid\": true, \"showticklabels\": false}, \"yaxis3\": {\"anchor\": \"x3\", \"domain\": [0.7426, 1.0], \"matches\": \"y3\", \"showgrid\": true, \"showline\": false, \"showticklabels\": false, \"ticks\": \"\"}, \"yaxis4\": {\"anchor\": \"x4\", \"domain\": [0.7426, 1.0], \"matches\": \"y3\", \"showgrid\": true, \"showline\": false, \"showticklabels\": false, \"ticks\": \"\"}},                        {\"responsive\": true}                    ).then(function(){\n",
       "                            \n",
       "var gd = document.getElementById('9db3d5f3-b775-4560-9b23-52387e00eb9d');\n",
       "var x = new MutationObserver(function (mutations, observer) {{\n",
       "        var display = window.getComputedStyle(gd).display;\n",
       "        if (!display || display === 'none') {{\n",
       "            console.log([gd, 'removed!']);\n",
       "            Plotly.purge(gd);\n",
       "            observer.disconnect();\n",
       "        }}\n",
       "}});\n",
       "\n",
       "// Listen for the removal of the full notebook cells\n",
       "var notebookContainer = gd.closest('#notebook-container');\n",
       "if (notebookContainer) {{\n",
       "    x.observe(notebookContainer, {childList: true});\n",
       "}}\n",
       "\n",
       "// Listen for the clearing of the current output cell\n",
       "var outputEl = gd.closest('.output');\n",
       "if (outputEl) {{\n",
       "    x.observe(outputEl, {childList: true});\n",
       "}}\n",
       "\n",
       "                        })                };                });            </script>        </div>"
      ]
     },
     "metadata": {},
     "output_type": "display_data"
    }
   ],
   "source": [
    "ax= px.scatter(df,x= \"BloodPressure\",y= \"Age\",marginal_x='histogram', marginal_y='histogram',size=\"Age\", size_max=20,\n",
    "              template= \"plotly_dark\",color= \"Outcome\",title=\"age and bloodpressure correlation\")\n",
    "ax.show()"
   ]
  },
  {
   "cell_type": "markdown",
   "id": "numerical-carpet",
   "metadata": {
    "papermill": {
     "duration": 0.065513,
     "end_time": "2021-06-11T14:17:07.437950",
     "exception": false,
     "start_time": "2021-06-11T14:17:07.372437",
     "status": "completed"
    },
    "tags": []
   },
   "source": [
    "<p style=\"background-color:Tomato;\">Insulin and age correlation/ distribution across target variable</p>"
   ]
  },
  {
   "cell_type": "code",
   "execution_count": 19,
   "id": "challenging-freight",
   "metadata": {
    "execution": {
     "iopub.execute_input": "2021-06-11T14:17:07.585885Z",
     "iopub.status.busy": "2021-06-11T14:17:07.585215Z",
     "iopub.status.idle": "2021-06-11T14:17:07.844451Z",
     "shell.execute_reply": "2021-06-11T14:17:07.843915Z",
     "shell.execute_reply.started": "2021-06-11T14:10:53.957054Z"
    },
    "papermill": {
     "duration": 0.34046,
     "end_time": "2021-06-11T14:17:07.844592",
     "exception": false,
     "start_time": "2021-06-11T14:17:07.504132",
     "status": "completed"
    },
    "tags": []
   },
   "outputs": [
    {
     "data": {
      "text/html": [
       "<div>                            <div id=\"062232a5-c139-438a-a6e0-1c020c9edcc3\" class=\"plotly-graph-div\" style=\"height:525px; width:100%;\"></div>            <script type=\"text/javascript\">                require([\"plotly\"], function(Plotly) {                    window.PLOTLYENV=window.PLOTLYENV || {};                                    if (document.getElementById(\"062232a5-c139-438a-a6e0-1c020c9edcc3\")) {                    Plotly.newPlot(                        \"062232a5-c139-438a-a6e0-1c020c9edcc3\",                        [{\"hovertemplate\": \"Insulin=%{x}<br>Age=%{marker.size}<br>Outcome=%{marker.color}<extra></extra>\", \"legendgroup\": \"\", \"marker\": {\"color\": [1, 0, 1, 0, 1, 0, 1, 0, 1, 1, 0, 1, 0, 1, 1, 1, 1, 1, 0, 1, 0, 0, 1, 1, 1, 1, 1, 0, 0, 0, 0, 1, 0, 0, 0, 0, 0, 1, 1, 1, 0, 0, 0, 1, 0, 1, 0, 0, 1, 0, 0, 0, 0, 1, 0, 0, 1, 0, 0, 0, 0, 1, 0, 0, 1, 0, 1, 0, 0, 0, 1, 0, 1, 0, 0, 0, 0, 0, 1, 0, 0, 0, 0, 0, 1, 0, 0, 0, 1, 0, 0, 0, 0, 1, 0, 0, 0, 0, 0, 1, 1, 0, 0, 0, 0, 0, 0, 0, 0, 1, 1, 1, 0, 0, 1, 1, 1, 0, 0, 0, 1, 0, 0, 0, 1, 1, 0, 0, 1, 1, 1, 1, 1, 0, 0, 0, 0, 0, 0, 0, 0, 0, 0, 1, 0, 0, 0, 0, 0, 0, 0, 0, 1, 0, 1, 1, 0, 0, 0, 1, 0, 0, 0, 0, 1, 1, 0, 0, 0, 0, 1, 1, 0, 0, 0, 1, 0, 1, 0, 1, 0, 0, 0, 0, 0, 1, 1, 1, 1, 1, 0, 0, 1, 1, 0, 1, 0, 1, 1, 1, 0, 0, 0, 0, 0, 0, 1, 1, 0, 1, 0, 0, 0, 1, 1, 1, 1, 0, 1, 1, 1, 1, 0, 0, 0, 0, 0, 1, 0, 0, 1, 1, 0, 0, 0, 1, 1, 1, 1, 0, 0, 0, 1, 1, 0, 1, 0, 0, 0, 0, 0, 0, 0, 0, 1, 1, 0, 0, 0, 1, 0, 1, 0, 0, 1, 0, 1, 0, 0, 1, 1, 0, 0, 0, 0, 0, 1, 0, 0, 0, 1, 0, 0, 1, 1, 0, 0, 1, 0, 0, 0, 1, 1, 1, 0, 0, 1, 0, 1, 0, 1, 1, 0, 1, 0, 0, 1, 0, 1, 1, 0, 0, 1, 0, 1, 0, 0, 1, 0, 1, 0, 1, 1, 1, 0, 0, 1, 0, 1, 0, 0, 0, 1, 0, 0, 0, 0, 1, 1, 1, 0, 0, 0, 0, 0, 0, 0, 0, 0, 1, 0, 0, 0, 0, 0, 1, 1, 1, 0, 1, 1, 0, 0, 1, 0, 0, 1, 0, 0, 1, 1, 0, 0, 0, 0, 1, 0, 0, 1, 0, 0, 0, 0, 0, 0, 0, 1, 1, 1, 0, 0, 1, 0, 0, 1, 0, 0, 1, 0, 1, 1, 0, 1, 0, 1, 0, 1, 0, 1, 1, 0, 0, 0, 0, 1, 1, 0, 1, 0, 1, 0, 0, 0, 0, 1, 1, 0, 1, 0, 1, 0, 0, 0, 0, 0, 1, 0, 0, 0, 0, 1, 0, 0, 1, 1, 1, 0, 0, 1, 0, 0, 1, 0, 0, 0, 1, 0, 0, 1, 0, 0, 0, 0, 0, 0, 0, 0, 0, 1, 0, 0, 0, 0, 0, 0, 0, 1, 0, 0, 0, 1, 0, 0, 0, 1, 1, 0, 0, 0, 0, 0, 0, 0, 1, 0, 0, 0, 0, 1, 0, 0, 0, 1, 0, 0, 0, 1, 0, 0, 0, 1, 0, 0, 0, 0, 1, 1, 0, 0, 0, 0, 0, 0, 1, 0, 0, 0, 0, 0, 0, 0, 0, 0, 0, 0, 1, 0, 0, 0, 1, 1, 1, 1, 0, 0, 1, 1, 0, 0, 0, 0, 0, 0, 0, 0, 0, 0, 0, 0, 0, 1, 1, 0, 0, 0, 0, 0, 0, 0, 1, 0, 0, 0, 0, 0, 0, 0, 1, 0, 1, 1, 0, 0, 0, 1, 0, 1, 0, 1, 0, 1, 0, 1, 0, 0, 1, 0, 0, 1, 0, 0, 0, 0, 1, 1, 0, 1, 0, 0, 0, 0, 1, 1, 0, 1, 0, 0, 0, 1, 1, 0, 0, 0, 0, 0, 0, 0, 0, 0, 0, 1, 0, 0, 0, 0, 1, 0, 0, 1, 0, 0, 0, 1, 0, 0, 0, 1, 1, 1, 0, 0, 0, 0, 0, 0, 1, 0, 0, 0, 1, 0, 1, 1, 1, 1, 0, 1, 1, 0, 0, 0, 0, 0, 0, 0, 1, 1, 0, 1, 0, 0, 1, 0, 1, 0, 0, 0, 0, 0, 1, 0, 1, 0, 1, 0, 1, 1, 0, 0, 0, 0, 1, 1, 0, 0, 0, 1, 0, 1, 1, 0, 0, 1, 0, 0, 1, 1, 0, 0, 1, 0, 0, 1, 0, 0, 0, 0, 0, 0, 0, 1, 1, 1, 0, 0, 0, 0, 0, 0, 1, 1, 0, 0, 1, 0, 0, 1, 0, 1, 1, 1, 0, 0, 1, 1, 1, 0, 1, 0, 1, 0, 1, 0, 0, 0, 0, 1, 0], \"coloraxis\": \"coloraxis\", \"size\": [50, 31, 32, 21, 33, 30, 26, 29, 53, 54, 30, 34, 57, 59, 51, 32, 31, 31, 33, 32, 27, 50, 41, 29, 51, 41, 43, 22, 57, 38, 60, 28, 22, 28, 45, 33, 35, 46, 27, 56, 26, 37, 48, 54, 40, 25, 29, 22, 31, 24, 22, 26, 30, 58, 42, 21, 41, 31, 44, 22, 21, 39, 36, 24, 42, 32, 38, 54, 25, 27, 28, 26, 42, 23, 22, 22, 41, 27, 26, 24, 22, 22, 36, 22, 37, 27, 45, 26, 43, 24, 21, 34, 42, 60, 21, 40, 24, 22, 23, 31, 33, 22, 21, 24, 27, 21, 27, 37, 25, 24, 24, 46, 23, 25, 39, 61, 38, 25, 22, 21, 25, 24, 23, 69, 23, 26, 30, 23, 40, 62, 33, 33, 30, 39, 26, 31, 21, 22, 29, 28, 55, 38, 22, 42, 23, 21, 41, 34, 65, 22, 24, 37, 42, 23, 43, 36, 21, 23, 22, 47, 36, 45, 27, 21, 32, 41, 22, 34, 29, 29, 36, 29, 25, 23, 33, 36, 42, 26, 47, 37, 32, 23, 21, 27, 40, 41, 60, 33, 31, 25, 21, 40, 36, 40, 42, 29, 21, 23, 26, 29, 21, 28, 32, 27, 55, 27, 57, 52, 21, 41, 25, 24, 60, 24, 36, 38, 25, 32, 32, 41, 21, 66, 37, 61, 26, 22, 26, 24, 31, 24, 22, 46, 22, 29, 23, 26, 51, 23, 32, 27, 21, 22, 22, 33, 29, 49, 41, 23, 34, 23, 42, 27, 24, 25, 44, 21, 30, 25, 24, 51, 34, 27, 24, 63, 35, 43, 25, 24, 21, 28, 38, 21, 40, 21, 52, 25, 29, 23, 57, 22, 28, 39, 37, 47, 52, 51, 34, 29, 26, 33, 21, 25, 31, 24, 65, 28, 29, 24, 46, 58, 30, 25, 35, 28, 37, 29, 47, 21, 25, 30, 41, 22, 27, 25, 43, 26, 30, 29, 28, 59, 31, 25, 36, 43, 21, 24, 30, 37, 23, 37, 46, 25, 41, 44, 22, 26, 44, 44, 33, 41, 22, 36, 22, 33, 57, 49, 22, 23, 26, 37, 29, 30, 46, 24, 21, 49, 28, 44, 48, 29, 29, 63, 65, 67, 30, 30, 29, 21, 22, 45, 25, 21, 21, 25, 28, 58, 22, 22, 32, 35, 24, 22, 21, 25, 25, 24, 35, 45, 58, 28, 42, 27, 21, 37, 31, 25, 39, 22, 25, 25, 31, 55, 35, 38, 41, 26, 46, 25, 39, 28, 28, 25, 22, 21, 21, 22, 22, 37, 27, 28, 26, 21, 21, 21, 36, 31, 25, 38, 26, 43, 23, 38, 22, 29, 36, 29, 41, 28, 21, 31, 41, 22, 24, 33, 30, 25, 28, 26, 22, 26, 23, 23, 25, 72, 24, 38, 62, 24, 51, 81, 48, 26, 39, 37, 34, 21, 22, 25, 38, 27, 28, 22, 22, 50, 24, 59, 29, 31, 39, 63, 35, 29, 28, 23, 31, 24, 21, 58, 28, 67, 24, 42, 33, 45, 22, 66, 30, 25, 55, 39, 21, 28, 41, 41, 40, 38, 35, 21, 21, 64, 46, 21, 58, 22, 24, 28, 53, 51, 41, 60, 25, 26, 26, 45, 24, 21, 21, 24, 22, 31, 22, 24, 29, 31, 24, 23, 46, 67, 23, 32, 43, 27, 56, 25, 29, 37, 53, 28, 50, 37, 21, 25, 66, 23, 28, 37, 30, 58, 42, 35, 54, 28, 24, 32, 27, 22, 21, 46, 37, 33, 39, 21, 22, 22, 23, 25, 35, 21, 36, 62, 21, 27, 62, 42, 52, 22, 41, 29, 52, 25, 45, 24, 44, 25, 34, 22, 46, 21, 38, 26, 24, 28, 30, 54, 36, 21, 22, 25, 27, 23, 24, 36, 40, 26, 50, 27, 30, 23, 50, 24, 28, 28, 45, 21, 21, 29, 21, 21, 45, 21, 34, 24, 23, 22, 31, 38, 48, 23, 32, 28, 27, 24, 50, 31, 27, 30, 33, 22, 42, 23, 23, 27, 28, 27, 22, 25, 22, 41, 51, 27, 54, 22, 43, 40, 40, 24, 70, 40, 43, 45, 49, 21, 47, 22, 68, 31, 53, 25, 25, 23, 22, 26, 22, 27, 69, 25, 22, 29, 23, 46, 34, 44, 23, 43, 25, 43, 31, 22, 28, 26, 26, 49, 52, 41, 27, 28, 30, 22, 45, 23, 24, 40, 38, 21, 32, 34, 31, 56, 24, 52, 34, 21, 42, 42, 45, 38, 25, 22, 22, 22, 34, 22, 24, 22, 53, 28, 21, 42, 21, 42, 48, 26, 22, 45, 39, 46, 27, 32, 36, 50, 22, 28, 25, 26, 45, 37, 39, 52, 26, 66, 22, 43, 33, 63, 27, 30, 47, 23], \"sizemode\": \"area\", \"sizeref\": 0.2025, \"symbol\": \"circle\"}, \"mode\": \"markers\", \"name\": \"\", \"orientation\": \"v\", \"showlegend\": false, \"type\": \"scatter\", \"x\": [155.5482233502538, 155.5482233502538, 155.5482233502538, 94.0, 168.0, 155.5482233502538, 88.0, 155.5482233502538, 543.0, 155.5482233502538, 155.5482233502538, 155.5482233502538, 155.5482233502538, 846.0, 175.0, 155.5482233502538, 230.0, 155.5482233502538, 83.0, 96.0, 235.0, 155.5482233502538, 155.5482233502538, 155.5482233502538, 146.0, 115.0, 155.5482233502538, 140.0, 110.0, 155.5482233502538, 155.5482233502538, 245.0, 54.0, 155.5482233502538, 155.5482233502538, 192.0, 155.5482233502538, 155.5482233502538, 155.5482233502538, 207.0, 70.0, 155.5482233502538, 155.5482233502538, 240.0, 155.5482233502538, 155.5482233502538, 155.5482233502538, 155.5482233502538, 155.5482233502538, 155.5482233502538, 82.0, 36.0, 23.0, 300.0, 342.0, 155.5482233502538, 304.0, 110.0, 155.5482233502538, 142.0, 155.5482233502538, 155.5482233502538, 155.5482233502538, 128.0, 155.5482233502538, 155.5482233502538, 155.5482233502538, 155.5482233502538, 38.0, 100.0, 90.0, 140.0, 155.5482233502538, 270.0, 155.5482233502538, 155.5482233502538, 155.5482233502538, 155.5482233502538, 155.5482233502538, 155.5482233502538, 155.5482233502538, 155.5482233502538, 71.0, 155.5482233502538, 155.5482233502538, 125.0, 155.5482233502538, 71.0, 110.0, 155.5482233502538, 155.5482233502538, 176.0, 48.0, 155.5482233502538, 64.0, 228.0, 155.5482233502538, 76.0, 64.0, 220.0, 155.5482233502538, 155.5482233502538, 155.5482233502538, 40.0, 155.5482233502538, 152.0, 155.5482233502538, 140.0, 18.0, 36.0, 135.0, 495.0, 37.0, 155.5482233502538, 175.0, 155.5482233502538, 155.5482233502538, 155.5482233502538, 155.5482233502538, 51.0, 100.0, 155.5482233502538, 100.0, 155.5482233502538, 155.5482233502538, 99.0, 135.0, 94.0, 145.0, 155.5482233502538, 168.0, 155.5482233502538, 225.0, 155.5482233502538, 49.0, 140.0, 50.0, 92.0, 155.5482233502538, 325.0, 155.5482233502538, 155.5482233502538, 63.0, 155.5482233502538, 284.0, 155.5482233502538, 155.5482233502538, 119.0, 155.5482233502538, 155.5482233502538, 204.0, 155.5482233502538, 155.0, 485.0, 155.5482233502538, 155.5482233502538, 94.0, 135.0, 53.0, 114.0, 155.5482233502538, 105.0, 285.0, 155.5482233502538, 155.5482233502538, 156.0, 155.5482233502538, 155.5482233502538, 155.5482233502538, 78.0, 155.5482233502538, 130.0, 155.5482233502538, 48.0, 55.0, 130.0, 155.5482233502538, 130.0, 155.5482233502538, 155.5482233502538, 155.5482233502538, 92.0, 23.0, 155.5482233502538, 155.5482233502538, 155.5482233502538, 495.0, 58.0, 114.0, 160.0, 155.5482233502538, 94.0, 155.5482233502538, 155.5482233502538, 155.5482233502538, 210.0, 155.5482233502538, 48.0, 99.0, 318.0, 155.5482233502538, 155.5482233502538, 155.5482233502538, 44.0, 190.0, 155.5482233502538, 280.0, 155.5482233502538, 87.0, 155.5482233502538, 155.5482233502538, 155.5482233502538, 155.5482233502538, 130.0, 175.0, 271.0, 129.0, 120.0, 155.5482233502538, 155.5482233502538, 478.0, 155.5482233502538, 155.5482233502538, 190.0, 56.0, 32.0, 155.5482233502538, 155.5482233502538, 744.0, 53.0, 155.5482233502538, 370.0, 37.0, 155.5482233502538, 45.0, 155.5482233502538, 192.0, 155.5482233502538, 155.5482233502538, 155.5482233502538, 155.5482233502538, 88.0, 155.5482233502538, 176.0, 194.0, 155.5482233502538, 155.5482233502538, 680.0, 402.0, 155.5482233502538, 155.5482233502538, 155.5482233502538, 55.0, 155.5482233502538, 258.0, 155.5482233502538, 155.5482233502538, 155.5482233502538, 375.0, 150.0, 130.0, 155.5482233502538, 155.5482233502538, 155.5482233502538, 155.5482233502538, 67.0, 155.5482233502538, 155.5482233502538, 155.5482233502538, 155.5482233502538, 155.5482233502538, 56.0, 155.5482233502538, 45.0, 155.5482233502538, 57.0, 155.5482233502538, 116.0, 155.5482233502538, 278.0, 155.5482233502538, 122.0, 155.0, 155.5482233502538, 155.5482233502538, 135.0, 545.0, 220.0, 49.0, 75.0, 40.0, 74.0, 182.0, 194.0, 155.5482233502538, 120.0, 360.0, 215.0, 184.0, 155.5482233502538, 155.5482233502538, 135.0, 42.0, 155.5482233502538, 155.5482233502538, 105.0, 132.0, 148.0, 180.0, 205.0, 155.5482233502538, 148.0, 96.0, 85.0, 155.5482233502538, 94.0, 64.0, 155.5482233502538, 140.0, 155.5482233502538, 231.0, 155.5482233502538, 155.5482233502538, 29.0, 155.5482233502538, 168.0, 156.0, 155.5482233502538, 120.0, 68.0, 155.5482233502538, 52.0, 155.5482233502538, 155.5482233502538, 58.0, 255.0, 155.5482233502538, 155.5482233502538, 171.0, 155.5482233502538, 105.0, 73.0, 155.5482233502538, 155.5482233502538, 155.5482233502538, 108.0, 83.0, 155.5482233502538, 74.0, 155.5482233502538, 155.5482233502538, 155.5482233502538, 155.5482233502538, 43.0, 155.5482233502538, 155.5482233502538, 167.0, 155.5482233502538, 54.0, 249.0, 325.0, 155.5482233502538, 155.5482233502538, 155.5482233502538, 293.0, 83.0, 155.5482233502538, 155.5482233502538, 66.0, 140.0, 465.0, 89.0, 66.0, 94.0, 158.0, 325.0, 84.0, 75.0, 155.5482233502538, 72.0, 82.0, 155.5482233502538, 182.0, 59.0, 110.0, 50.0, 155.5482233502538, 155.5482233502538, 285.0, 81.0, 196.0, 155.5482233502538, 415.0, 87.0, 155.5482233502538, 275.0, 115.0, 155.5482233502538, 155.5482233502538, 155.5482233502538, 155.5482233502538, 155.5482233502538, 88.0, 155.5482233502538, 155.5482233502538, 165.0, 155.5482233502538, 155.5482233502538, 155.5482233502538, 579.0, 155.5482233502538, 176.0, 310.0, 61.0, 167.0, 474.0, 155.5482233502538, 155.5482233502538, 155.5482233502538, 115.0, 170.0, 76.0, 78.0, 155.5482233502538, 210.0, 277.0, 155.5482233502538, 180.0, 145.0, 180.0, 155.5482233502538, 85.0, 60.0, 155.5482233502538, 155.5482233502538, 155.5482233502538, 155.5482233502538, 155.5482233502538, 155.5482233502538, 155.5482233502538, 155.5482233502538, 50.0, 120.0, 155.5482233502538, 155.5482233502538, 14.0, 70.0, 92.0, 64.0, 63.0, 95.0, 155.5482233502538, 210.0, 155.5482233502538, 105.0, 155.5482233502538, 155.5482233502538, 71.0, 237.0, 60.0, 56.0, 155.5482233502538, 49.0, 155.5482233502538, 155.5482233502538, 105.0, 36.0, 100.0, 155.5482233502538, 140.0, 155.5482233502538, 155.5482233502538, 155.5482233502538, 155.5482233502538, 155.5482233502538, 155.5482233502538, 191.0, 110.0, 75.0, 155.5482233502538, 328.0, 155.5482233502538, 49.0, 125.0, 155.5482233502538, 250.0, 480.0, 265.0, 155.5482233502538, 155.5482233502538, 66.0, 155.5482233502538, 155.5482233502538, 122.0, 155.5482233502538, 155.5482233502538, 155.5482233502538, 76.0, 145.0, 193.0, 71.0, 155.5482233502538, 155.5482233502538, 79.0, 155.5482233502538, 155.5482233502538, 90.0, 170.0, 76.0, 155.5482233502538, 155.5482233502538, 210.0, 155.5482233502538, 155.5482233502538, 86.0, 105.0, 165.0, 155.5482233502538, 155.5482233502538, 326.0, 66.0, 130.0, 155.5482233502538, 155.5482233502538, 155.5482233502538, 155.5482233502538, 82.0, 105.0, 188.0, 155.5482233502538, 106.0, 155.5482233502538, 65.0, 155.5482233502538, 56.0, 155.5482233502538, 155.5482233502538, 155.5482233502538, 210.0, 155.0, 215.0, 190.0, 155.5482233502538, 56.0, 76.0, 225.0, 207.0, 166.0, 67.0, 155.5482233502538, 155.5482233502538, 106.0, 155.5482233502538, 44.0, 115.0, 215.0, 155.5482233502538, 155.5482233502538, 155.5482233502538, 155.5482233502538, 155.5482233502538, 274.0, 77.0, 54.0, 155.5482233502538, 88.0, 18.0, 126.0, 126.0, 165.0, 155.5482233502538, 155.5482233502538, 44.0, 120.0, 330.0, 63.0, 130.0, 155.5482233502538, 155.5482233502538, 155.5482233502538, 155.5482233502538, 155.5482233502538, 155.5482233502538, 155.5482233502538, 600.0, 155.5482233502538, 155.5482233502538, 155.5482233502538, 156.0, 155.5482233502538, 155.5482233502538, 140.0, 155.5482233502538, 115.0, 230.0, 185.0, 155.5482233502538, 25.0, 155.5482233502538, 120.0, 155.5482233502538, 155.5482233502538, 155.5482233502538, 126.0, 155.5482233502538, 155.5482233502538, 293.0, 41.0, 272.0, 182.0, 158.0, 194.0, 321.0, 155.5482233502538, 144.0, 155.5482233502538, 155.5482233502538, 15.0, 155.5482233502538, 155.5482233502538, 160.0, 155.5482233502538, 155.5482233502538, 115.0, 155.5482233502538, 54.0, 155.5482233502538, 155.5482233502538, 155.5482233502538, 155.5482233502538, 155.5482233502538, 90.0, 155.5482233502538, 183.0, 155.5482233502538, 155.5482233502538, 155.5482233502538, 66.0, 91.0, 46.0, 105.0, 155.5482233502538, 155.5482233502538, 155.5482233502538, 152.0, 440.0, 144.0, 159.0, 130.0, 155.5482233502538, 100.0, 106.0, 77.0, 155.5482233502538, 135.0, 540.0, 90.0, 200.0, 155.5482233502538, 70.0, 155.5482233502538, 155.5482233502538, 231.0, 130.0, 155.5482233502538, 132.0, 155.5482233502538, 155.5482233502538, 190.0, 100.0, 168.0, 155.5482233502538, 49.0, 240.0, 155.5482233502538, 155.5482233502538, 155.5482233502538, 155.5482233502538, 155.5482233502538, 265.0, 45.0, 155.5482233502538, 105.0, 155.5482233502538, 155.5482233502538, 205.0, 155.5482233502538, 155.5482233502538, 180.0, 180.0, 155.5482233502538, 155.5482233502538, 95.0, 125.0, 155.5482233502538, 480.0, 125.0, 155.5482233502538, 155.0, 155.5482233502538, 200.0, 155.5482233502538, 155.5482233502538, 155.5482233502538, 100.0, 155.5482233502538, 155.5482233502538, 335.0, 155.5482233502538, 160.0, 387.0, 22.0, 155.5482233502538, 291.0, 155.5482233502538, 392.0, 185.0, 155.5482233502538, 178.0, 155.5482233502538, 155.5482233502538, 200.0, 127.0, 105.0, 155.5482233502538, 155.5482233502538, 180.0, 155.5482233502538, 155.5482233502538, 155.5482233502538, 79.0, 155.5482233502538, 120.0, 165.0, 155.5482233502538, 155.5482233502538, 120.0, 155.5482233502538, 160.0, 155.5482233502538, 150.0, 94.0, 116.0, 155.5482233502538, 140.0, 105.0, 155.5482233502538, 57.0, 200.0, 155.5482233502538, 155.5482233502538, 74.0, 155.5482233502538, 510.0, 155.5482233502538, 110.0, 155.5482233502538, 155.5482233502538, 155.5482233502538, 155.5482233502538, 16.0, 155.5482233502538, 155.5482233502538, 180.0, 155.5482233502538, 112.0, 155.5482233502538, 155.5482233502538], \"xaxis\": \"x\", \"y\": [50, 31, 32, 21, 33, 30, 26, 29, 53, 54, 30, 34, 57, 59, 51, 32, 31, 31, 33, 32, 27, 50, 41, 29, 51, 41, 43, 22, 57, 38, 60, 28, 22, 28, 45, 33, 35, 46, 27, 56, 26, 37, 48, 54, 40, 25, 29, 22, 31, 24, 22, 26, 30, 58, 42, 21, 41, 31, 44, 22, 21, 39, 36, 24, 42, 32, 38, 54, 25, 27, 28, 26, 42, 23, 22, 22, 41, 27, 26, 24, 22, 22, 36, 22, 37, 27, 45, 26, 43, 24, 21, 34, 42, 60, 21, 40, 24, 22, 23, 31, 33, 22, 21, 24, 27, 21, 27, 37, 25, 24, 24, 46, 23, 25, 39, 61, 38, 25, 22, 21, 25, 24, 23, 69, 23, 26, 30, 23, 40, 62, 33, 33, 30, 39, 26, 31, 21, 22, 29, 28, 55, 38, 22, 42, 23, 21, 41, 34, 65, 22, 24, 37, 42, 23, 43, 36, 21, 23, 22, 47, 36, 45, 27, 21, 32, 41, 22, 34, 29, 29, 36, 29, 25, 23, 33, 36, 42, 26, 47, 37, 32, 23, 21, 27, 40, 41, 60, 33, 31, 25, 21, 40, 36, 40, 42, 29, 21, 23, 26, 29, 21, 28, 32, 27, 55, 27, 57, 52, 21, 41, 25, 24, 60, 24, 36, 38, 25, 32, 32, 41, 21, 66, 37, 61, 26, 22, 26, 24, 31, 24, 22, 46, 22, 29, 23, 26, 51, 23, 32, 27, 21, 22, 22, 33, 29, 49, 41, 23, 34, 23, 42, 27, 24, 25, 44, 21, 30, 25, 24, 51, 34, 27, 24, 63, 35, 43, 25, 24, 21, 28, 38, 21, 40, 21, 52, 25, 29, 23, 57, 22, 28, 39, 37, 47, 52, 51, 34, 29, 26, 33, 21, 25, 31, 24, 65, 28, 29, 24, 46, 58, 30, 25, 35, 28, 37, 29, 47, 21, 25, 30, 41, 22, 27, 25, 43, 26, 30, 29, 28, 59, 31, 25, 36, 43, 21, 24, 30, 37, 23, 37, 46, 25, 41, 44, 22, 26, 44, 44, 33, 41, 22, 36, 22, 33, 57, 49, 22, 23, 26, 37, 29, 30, 46, 24, 21, 49, 28, 44, 48, 29, 29, 63, 65, 67, 30, 30, 29, 21, 22, 45, 25, 21, 21, 25, 28, 58, 22, 22, 32, 35, 24, 22, 21, 25, 25, 24, 35, 45, 58, 28, 42, 27, 21, 37, 31, 25, 39, 22, 25, 25, 31, 55, 35, 38, 41, 26, 46, 25, 39, 28, 28, 25, 22, 21, 21, 22, 22, 37, 27, 28, 26, 21, 21, 21, 36, 31, 25, 38, 26, 43, 23, 38, 22, 29, 36, 29, 41, 28, 21, 31, 41, 22, 24, 33, 30, 25, 28, 26, 22, 26, 23, 23, 25, 72, 24, 38, 62, 24, 51, 81, 48, 26, 39, 37, 34, 21, 22, 25, 38, 27, 28, 22, 22, 50, 24, 59, 29, 31, 39, 63, 35, 29, 28, 23, 31, 24, 21, 58, 28, 67, 24, 42, 33, 45, 22, 66, 30, 25, 55, 39, 21, 28, 41, 41, 40, 38, 35, 21, 21, 64, 46, 21, 58, 22, 24, 28, 53, 51, 41, 60, 25, 26, 26, 45, 24, 21, 21, 24, 22, 31, 22, 24, 29, 31, 24, 23, 46, 67, 23, 32, 43, 27, 56, 25, 29, 37, 53, 28, 50, 37, 21, 25, 66, 23, 28, 37, 30, 58, 42, 35, 54, 28, 24, 32, 27, 22, 21, 46, 37, 33, 39, 21, 22, 22, 23, 25, 35, 21, 36, 62, 21, 27, 62, 42, 52, 22, 41, 29, 52, 25, 45, 24, 44, 25, 34, 22, 46, 21, 38, 26, 24, 28, 30, 54, 36, 21, 22, 25, 27, 23, 24, 36, 40, 26, 50, 27, 30, 23, 50, 24, 28, 28, 45, 21, 21, 29, 21, 21, 45, 21, 34, 24, 23, 22, 31, 38, 48, 23, 32, 28, 27, 24, 50, 31, 27, 30, 33, 22, 42, 23, 23, 27, 28, 27, 22, 25, 22, 41, 51, 27, 54, 22, 43, 40, 40, 24, 70, 40, 43, 45, 49, 21, 47, 22, 68, 31, 53, 25, 25, 23, 22, 26, 22, 27, 69, 25, 22, 29, 23, 46, 34, 44, 23, 43, 25, 43, 31, 22, 28, 26, 26, 49, 52, 41, 27, 28, 30, 22, 45, 23, 24, 40, 38, 21, 32, 34, 31, 56, 24, 52, 34, 21, 42, 42, 45, 38, 25, 22, 22, 22, 34, 22, 24, 22, 53, 28, 21, 42, 21, 42, 48, 26, 22, 45, 39, 46, 27, 32, 36, 50, 22, 28, 25, 26, 45, 37, 39, 52, 26, 66, 22, 43, 33, 63, 27, 30, 47, 23], \"yaxis\": \"y\"}, {\"alignmentgroup\": \"True\", \"bingroup\": \"x\", \"hovertemplate\": \"Insulin=%{x}<br>count=%{y}<extra></extra>\", \"legendgroup\": \"\", \"marker\": {\"color\": \"#0d0887\"}, \"name\": \"\", \"offsetgroup\": \"\", \"opacity\": 0.5, \"showlegend\": false, \"type\": \"histogram\", \"x\": [155.5482233502538, 155.5482233502538, 155.5482233502538, 94.0, 168.0, 155.5482233502538, 88.0, 155.5482233502538, 543.0, 155.5482233502538, 155.5482233502538, 155.5482233502538, 155.5482233502538, 846.0, 175.0, 155.5482233502538, 230.0, 155.5482233502538, 83.0, 96.0, 235.0, 155.5482233502538, 155.5482233502538, 155.5482233502538, 146.0, 115.0, 155.5482233502538, 140.0, 110.0, 155.5482233502538, 155.5482233502538, 245.0, 54.0, 155.5482233502538, 155.5482233502538, 192.0, 155.5482233502538, 155.5482233502538, 155.5482233502538, 207.0, 70.0, 155.5482233502538, 155.5482233502538, 240.0, 155.5482233502538, 155.5482233502538, 155.5482233502538, 155.5482233502538, 155.5482233502538, 155.5482233502538, 82.0, 36.0, 23.0, 300.0, 342.0, 155.5482233502538, 304.0, 110.0, 155.5482233502538, 142.0, 155.5482233502538, 155.5482233502538, 155.5482233502538, 128.0, 155.5482233502538, 155.5482233502538, 155.5482233502538, 155.5482233502538, 38.0, 100.0, 90.0, 140.0, 155.5482233502538, 270.0, 155.5482233502538, 155.5482233502538, 155.5482233502538, 155.5482233502538, 155.5482233502538, 155.5482233502538, 155.5482233502538, 155.5482233502538, 71.0, 155.5482233502538, 155.5482233502538, 125.0, 155.5482233502538, 71.0, 110.0, 155.5482233502538, 155.5482233502538, 176.0, 48.0, 155.5482233502538, 64.0, 228.0, 155.5482233502538, 76.0, 64.0, 220.0, 155.5482233502538, 155.5482233502538, 155.5482233502538, 40.0, 155.5482233502538, 152.0, 155.5482233502538, 140.0, 18.0, 36.0, 135.0, 495.0, 37.0, 155.5482233502538, 175.0, 155.5482233502538, 155.5482233502538, 155.5482233502538, 155.5482233502538, 51.0, 100.0, 155.5482233502538, 100.0, 155.5482233502538, 155.5482233502538, 99.0, 135.0, 94.0, 145.0, 155.5482233502538, 168.0, 155.5482233502538, 225.0, 155.5482233502538, 49.0, 140.0, 50.0, 92.0, 155.5482233502538, 325.0, 155.5482233502538, 155.5482233502538, 63.0, 155.5482233502538, 284.0, 155.5482233502538, 155.5482233502538, 119.0, 155.5482233502538, 155.5482233502538, 204.0, 155.5482233502538, 155.0, 485.0, 155.5482233502538, 155.5482233502538, 94.0, 135.0, 53.0, 114.0, 155.5482233502538, 105.0, 285.0, 155.5482233502538, 155.5482233502538, 156.0, 155.5482233502538, 155.5482233502538, 155.5482233502538, 78.0, 155.5482233502538, 130.0, 155.5482233502538, 48.0, 55.0, 130.0, 155.5482233502538, 130.0, 155.5482233502538, 155.5482233502538, 155.5482233502538, 92.0, 23.0, 155.5482233502538, 155.5482233502538, 155.5482233502538, 495.0, 58.0, 114.0, 160.0, 155.5482233502538, 94.0, 155.5482233502538, 155.5482233502538, 155.5482233502538, 210.0, 155.5482233502538, 48.0, 99.0, 318.0, 155.5482233502538, 155.5482233502538, 155.5482233502538, 44.0, 190.0, 155.5482233502538, 280.0, 155.5482233502538, 87.0, 155.5482233502538, 155.5482233502538, 155.5482233502538, 155.5482233502538, 130.0, 175.0, 271.0, 129.0, 120.0, 155.5482233502538, 155.5482233502538, 478.0, 155.5482233502538, 155.5482233502538, 190.0, 56.0, 32.0, 155.5482233502538, 155.5482233502538, 744.0, 53.0, 155.5482233502538, 370.0, 37.0, 155.5482233502538, 45.0, 155.5482233502538, 192.0, 155.5482233502538, 155.5482233502538, 155.5482233502538, 155.5482233502538, 88.0, 155.5482233502538, 176.0, 194.0, 155.5482233502538, 155.5482233502538, 680.0, 402.0, 155.5482233502538, 155.5482233502538, 155.5482233502538, 55.0, 155.5482233502538, 258.0, 155.5482233502538, 155.5482233502538, 155.5482233502538, 375.0, 150.0, 130.0, 155.5482233502538, 155.5482233502538, 155.5482233502538, 155.5482233502538, 67.0, 155.5482233502538, 155.5482233502538, 155.5482233502538, 155.5482233502538, 155.5482233502538, 56.0, 155.5482233502538, 45.0, 155.5482233502538, 57.0, 155.5482233502538, 116.0, 155.5482233502538, 278.0, 155.5482233502538, 122.0, 155.0, 155.5482233502538, 155.5482233502538, 135.0, 545.0, 220.0, 49.0, 75.0, 40.0, 74.0, 182.0, 194.0, 155.5482233502538, 120.0, 360.0, 215.0, 184.0, 155.5482233502538, 155.5482233502538, 135.0, 42.0, 155.5482233502538, 155.5482233502538, 105.0, 132.0, 148.0, 180.0, 205.0, 155.5482233502538, 148.0, 96.0, 85.0, 155.5482233502538, 94.0, 64.0, 155.5482233502538, 140.0, 155.5482233502538, 231.0, 155.5482233502538, 155.5482233502538, 29.0, 155.5482233502538, 168.0, 156.0, 155.5482233502538, 120.0, 68.0, 155.5482233502538, 52.0, 155.5482233502538, 155.5482233502538, 58.0, 255.0, 155.5482233502538, 155.5482233502538, 171.0, 155.5482233502538, 105.0, 73.0, 155.5482233502538, 155.5482233502538, 155.5482233502538, 108.0, 83.0, 155.5482233502538, 74.0, 155.5482233502538, 155.5482233502538, 155.5482233502538, 155.5482233502538, 43.0, 155.5482233502538, 155.5482233502538, 167.0, 155.5482233502538, 54.0, 249.0, 325.0, 155.5482233502538, 155.5482233502538, 155.5482233502538, 293.0, 83.0, 155.5482233502538, 155.5482233502538, 66.0, 140.0, 465.0, 89.0, 66.0, 94.0, 158.0, 325.0, 84.0, 75.0, 155.5482233502538, 72.0, 82.0, 155.5482233502538, 182.0, 59.0, 110.0, 50.0, 155.5482233502538, 155.5482233502538, 285.0, 81.0, 196.0, 155.5482233502538, 415.0, 87.0, 155.5482233502538, 275.0, 115.0, 155.5482233502538, 155.5482233502538, 155.5482233502538, 155.5482233502538, 155.5482233502538, 88.0, 155.5482233502538, 155.5482233502538, 165.0, 155.5482233502538, 155.5482233502538, 155.5482233502538, 579.0, 155.5482233502538, 176.0, 310.0, 61.0, 167.0, 474.0, 155.5482233502538, 155.5482233502538, 155.5482233502538, 115.0, 170.0, 76.0, 78.0, 155.5482233502538, 210.0, 277.0, 155.5482233502538, 180.0, 145.0, 180.0, 155.5482233502538, 85.0, 60.0, 155.5482233502538, 155.5482233502538, 155.5482233502538, 155.5482233502538, 155.5482233502538, 155.5482233502538, 155.5482233502538, 155.5482233502538, 50.0, 120.0, 155.5482233502538, 155.5482233502538, 14.0, 70.0, 92.0, 64.0, 63.0, 95.0, 155.5482233502538, 210.0, 155.5482233502538, 105.0, 155.5482233502538, 155.5482233502538, 71.0, 237.0, 60.0, 56.0, 155.5482233502538, 49.0, 155.5482233502538, 155.5482233502538, 105.0, 36.0, 100.0, 155.5482233502538, 140.0, 155.5482233502538, 155.5482233502538, 155.5482233502538, 155.5482233502538, 155.5482233502538, 155.5482233502538, 191.0, 110.0, 75.0, 155.5482233502538, 328.0, 155.5482233502538, 49.0, 125.0, 155.5482233502538, 250.0, 480.0, 265.0, 155.5482233502538, 155.5482233502538, 66.0, 155.5482233502538, 155.5482233502538, 122.0, 155.5482233502538, 155.5482233502538, 155.5482233502538, 76.0, 145.0, 193.0, 71.0, 155.5482233502538, 155.5482233502538, 79.0, 155.5482233502538, 155.5482233502538, 90.0, 170.0, 76.0, 155.5482233502538, 155.5482233502538, 210.0, 155.5482233502538, 155.5482233502538, 86.0, 105.0, 165.0, 155.5482233502538, 155.5482233502538, 326.0, 66.0, 130.0, 155.5482233502538, 155.5482233502538, 155.5482233502538, 155.5482233502538, 82.0, 105.0, 188.0, 155.5482233502538, 106.0, 155.5482233502538, 65.0, 155.5482233502538, 56.0, 155.5482233502538, 155.5482233502538, 155.5482233502538, 210.0, 155.0, 215.0, 190.0, 155.5482233502538, 56.0, 76.0, 225.0, 207.0, 166.0, 67.0, 155.5482233502538, 155.5482233502538, 106.0, 155.5482233502538, 44.0, 115.0, 215.0, 155.5482233502538, 155.5482233502538, 155.5482233502538, 155.5482233502538, 155.5482233502538, 274.0, 77.0, 54.0, 155.5482233502538, 88.0, 18.0, 126.0, 126.0, 165.0, 155.5482233502538, 155.5482233502538, 44.0, 120.0, 330.0, 63.0, 130.0, 155.5482233502538, 155.5482233502538, 155.5482233502538, 155.5482233502538, 155.5482233502538, 155.5482233502538, 155.5482233502538, 600.0, 155.5482233502538, 155.5482233502538, 155.5482233502538, 156.0, 155.5482233502538, 155.5482233502538, 140.0, 155.5482233502538, 115.0, 230.0, 185.0, 155.5482233502538, 25.0, 155.5482233502538, 120.0, 155.5482233502538, 155.5482233502538, 155.5482233502538, 126.0, 155.5482233502538, 155.5482233502538, 293.0, 41.0, 272.0, 182.0, 158.0, 194.0, 321.0, 155.5482233502538, 144.0, 155.5482233502538, 155.5482233502538, 15.0, 155.5482233502538, 155.5482233502538, 160.0, 155.5482233502538, 155.5482233502538, 115.0, 155.5482233502538, 54.0, 155.5482233502538, 155.5482233502538, 155.5482233502538, 155.5482233502538, 155.5482233502538, 90.0, 155.5482233502538, 183.0, 155.5482233502538, 155.5482233502538, 155.5482233502538, 66.0, 91.0, 46.0, 105.0, 155.5482233502538, 155.5482233502538, 155.5482233502538, 152.0, 440.0, 144.0, 159.0, 130.0, 155.5482233502538, 100.0, 106.0, 77.0, 155.5482233502538, 135.0, 540.0, 90.0, 200.0, 155.5482233502538, 70.0, 155.5482233502538, 155.5482233502538, 231.0, 130.0, 155.5482233502538, 132.0, 155.5482233502538, 155.5482233502538, 190.0, 100.0, 168.0, 155.5482233502538, 49.0, 240.0, 155.5482233502538, 155.5482233502538, 155.5482233502538, 155.5482233502538, 155.5482233502538, 265.0, 45.0, 155.5482233502538, 105.0, 155.5482233502538, 155.5482233502538, 205.0, 155.5482233502538, 155.5482233502538, 180.0, 180.0, 155.5482233502538, 155.5482233502538, 95.0, 125.0, 155.5482233502538, 480.0, 125.0, 155.5482233502538, 155.0, 155.5482233502538, 200.0, 155.5482233502538, 155.5482233502538, 155.5482233502538, 100.0, 155.5482233502538, 155.5482233502538, 335.0, 155.5482233502538, 160.0, 387.0, 22.0, 155.5482233502538, 291.0, 155.5482233502538, 392.0, 185.0, 155.5482233502538, 178.0, 155.5482233502538, 155.5482233502538, 200.0, 127.0, 105.0, 155.5482233502538, 155.5482233502538, 180.0, 155.5482233502538, 155.5482233502538, 155.5482233502538, 79.0, 155.5482233502538, 120.0, 165.0, 155.5482233502538, 155.5482233502538, 120.0, 155.5482233502538, 160.0, 155.5482233502538, 150.0, 94.0, 116.0, 155.5482233502538, 140.0, 105.0, 155.5482233502538, 57.0, 200.0, 155.5482233502538, 155.5482233502538, 74.0, 155.5482233502538, 510.0, 155.5482233502538, 110.0, 155.5482233502538, 155.5482233502538, 155.5482233502538, 155.5482233502538, 16.0, 155.5482233502538, 155.5482233502538, 180.0, 155.5482233502538, 112.0, 155.5482233502538, 155.5482233502538], \"xaxis\": \"x3\", \"yaxis\": \"y3\"}, {\"alignmentgroup\": \"True\", \"bingroup\": \"y\", \"hovertemplate\": \"Age=%{y}<br>count=%{x}<extra></extra>\", \"legendgroup\": \"\", \"marker\": {\"color\": \"#0d0887\"}, \"name\": \"\", \"offsetgroup\": \"\", \"opacity\": 0.5, \"showlegend\": false, \"type\": \"histogram\", \"xaxis\": \"x2\", \"y\": [50, 31, 32, 21, 33, 30, 26, 29, 53, 54, 30, 34, 57, 59, 51, 32, 31, 31, 33, 32, 27, 50, 41, 29, 51, 41, 43, 22, 57, 38, 60, 28, 22, 28, 45, 33, 35, 46, 27, 56, 26, 37, 48, 54, 40, 25, 29, 22, 31, 24, 22, 26, 30, 58, 42, 21, 41, 31, 44, 22, 21, 39, 36, 24, 42, 32, 38, 54, 25, 27, 28, 26, 42, 23, 22, 22, 41, 27, 26, 24, 22, 22, 36, 22, 37, 27, 45, 26, 43, 24, 21, 34, 42, 60, 21, 40, 24, 22, 23, 31, 33, 22, 21, 24, 27, 21, 27, 37, 25, 24, 24, 46, 23, 25, 39, 61, 38, 25, 22, 21, 25, 24, 23, 69, 23, 26, 30, 23, 40, 62, 33, 33, 30, 39, 26, 31, 21, 22, 29, 28, 55, 38, 22, 42, 23, 21, 41, 34, 65, 22, 24, 37, 42, 23, 43, 36, 21, 23, 22, 47, 36, 45, 27, 21, 32, 41, 22, 34, 29, 29, 36, 29, 25, 23, 33, 36, 42, 26, 47, 37, 32, 23, 21, 27, 40, 41, 60, 33, 31, 25, 21, 40, 36, 40, 42, 29, 21, 23, 26, 29, 21, 28, 32, 27, 55, 27, 57, 52, 21, 41, 25, 24, 60, 24, 36, 38, 25, 32, 32, 41, 21, 66, 37, 61, 26, 22, 26, 24, 31, 24, 22, 46, 22, 29, 23, 26, 51, 23, 32, 27, 21, 22, 22, 33, 29, 49, 41, 23, 34, 23, 42, 27, 24, 25, 44, 21, 30, 25, 24, 51, 34, 27, 24, 63, 35, 43, 25, 24, 21, 28, 38, 21, 40, 21, 52, 25, 29, 23, 57, 22, 28, 39, 37, 47, 52, 51, 34, 29, 26, 33, 21, 25, 31, 24, 65, 28, 29, 24, 46, 58, 30, 25, 35, 28, 37, 29, 47, 21, 25, 30, 41, 22, 27, 25, 43, 26, 30, 29, 28, 59, 31, 25, 36, 43, 21, 24, 30, 37, 23, 37, 46, 25, 41, 44, 22, 26, 44, 44, 33, 41, 22, 36, 22, 33, 57, 49, 22, 23, 26, 37, 29, 30, 46, 24, 21, 49, 28, 44, 48, 29, 29, 63, 65, 67, 30, 30, 29, 21, 22, 45, 25, 21, 21, 25, 28, 58, 22, 22, 32, 35, 24, 22, 21, 25, 25, 24, 35, 45, 58, 28, 42, 27, 21, 37, 31, 25, 39, 22, 25, 25, 31, 55, 35, 38, 41, 26, 46, 25, 39, 28, 28, 25, 22, 21, 21, 22, 22, 37, 27, 28, 26, 21, 21, 21, 36, 31, 25, 38, 26, 43, 23, 38, 22, 29, 36, 29, 41, 28, 21, 31, 41, 22, 24, 33, 30, 25, 28, 26, 22, 26, 23, 23, 25, 72, 24, 38, 62, 24, 51, 81, 48, 26, 39, 37, 34, 21, 22, 25, 38, 27, 28, 22, 22, 50, 24, 59, 29, 31, 39, 63, 35, 29, 28, 23, 31, 24, 21, 58, 28, 67, 24, 42, 33, 45, 22, 66, 30, 25, 55, 39, 21, 28, 41, 41, 40, 38, 35, 21, 21, 64, 46, 21, 58, 22, 24, 28, 53, 51, 41, 60, 25, 26, 26, 45, 24, 21, 21, 24, 22, 31, 22, 24, 29, 31, 24, 23, 46, 67, 23, 32, 43, 27, 56, 25, 29, 37, 53, 28, 50, 37, 21, 25, 66, 23, 28, 37, 30, 58, 42, 35, 54, 28, 24, 32, 27, 22, 21, 46, 37, 33, 39, 21, 22, 22, 23, 25, 35, 21, 36, 62, 21, 27, 62, 42, 52, 22, 41, 29, 52, 25, 45, 24, 44, 25, 34, 22, 46, 21, 38, 26, 24, 28, 30, 54, 36, 21, 22, 25, 27, 23, 24, 36, 40, 26, 50, 27, 30, 23, 50, 24, 28, 28, 45, 21, 21, 29, 21, 21, 45, 21, 34, 24, 23, 22, 31, 38, 48, 23, 32, 28, 27, 24, 50, 31, 27, 30, 33, 22, 42, 23, 23, 27, 28, 27, 22, 25, 22, 41, 51, 27, 54, 22, 43, 40, 40, 24, 70, 40, 43, 45, 49, 21, 47, 22, 68, 31, 53, 25, 25, 23, 22, 26, 22, 27, 69, 25, 22, 29, 23, 46, 34, 44, 23, 43, 25, 43, 31, 22, 28, 26, 26, 49, 52, 41, 27, 28, 30, 22, 45, 23, 24, 40, 38, 21, 32, 34, 31, 56, 24, 52, 34, 21, 42, 42, 45, 38, 25, 22, 22, 22, 34, 22, 24, 22, 53, 28, 21, 42, 21, 42, 48, 26, 22, 45, 39, 46, 27, 32, 36, 50, 22, 28, 25, 26, 45, 37, 39, 52, 26, 66, 22, 43, 33, 63, 27, 30, 47, 23], \"yaxis\": \"y2\"}],                        {\"barmode\": \"overlay\", \"coloraxis\": {\"colorbar\": {\"title\": {\"text\": \"Outcome\"}}, \"colorscale\": [[0.0, \"#0d0887\"], [0.1111111111111111, \"#46039f\"], [0.2222222222222222, \"#7201a8\"], [0.3333333333333333, \"#9c179e\"], [0.4444444444444444, \"#bd3786\"], [0.5555555555555556, \"#d8576b\"], [0.6666666666666666, \"#ed7953\"], [0.7777777777777778, \"#fb9f3a\"], [0.8888888888888888, \"#fdca26\"], [1.0, \"#f0f921\"]]}, \"legend\": {\"itemsizing\": \"constant\", \"tracegroupgap\": 0}, \"template\": {\"data\": {\"bar\": [{\"error_x\": {\"color\": \"#f2f5fa\"}, \"error_y\": {\"color\": \"#f2f5fa\"}, \"marker\": {\"line\": {\"color\": \"rgb(17,17,17)\", \"width\": 0.5}}, \"type\": \"bar\"}], \"barpolar\": [{\"marker\": {\"line\": {\"color\": \"rgb(17,17,17)\", \"width\": 0.5}}, \"type\": \"barpolar\"}], \"carpet\": [{\"aaxis\": {\"endlinecolor\": \"#A2B1C6\", \"gridcolor\": \"#506784\", \"linecolor\": \"#506784\", \"minorgridcolor\": \"#506784\", \"startlinecolor\": \"#A2B1C6\"}, \"baxis\": {\"endlinecolor\": \"#A2B1C6\", \"gridcolor\": \"#506784\", \"linecolor\": \"#506784\", \"minorgridcolor\": \"#506784\", \"startlinecolor\": \"#A2B1C6\"}, \"type\": \"carpet\"}], \"choropleth\": [{\"colorbar\": {\"outlinewidth\": 0, \"ticks\": \"\"}, \"type\": \"choropleth\"}], \"contour\": [{\"colorbar\": {\"outlinewidth\": 0, \"ticks\": \"\"}, \"colorscale\": [[0.0, \"#0d0887\"], [0.1111111111111111, \"#46039f\"], [0.2222222222222222, \"#7201a8\"], [0.3333333333333333, \"#9c179e\"], [0.4444444444444444, \"#bd3786\"], [0.5555555555555556, \"#d8576b\"], [0.6666666666666666, \"#ed7953\"], [0.7777777777777778, \"#fb9f3a\"], [0.8888888888888888, \"#fdca26\"], [1.0, \"#f0f921\"]], \"type\": \"contour\"}], \"contourcarpet\": [{\"colorbar\": {\"outlinewidth\": 0, \"ticks\": \"\"}, \"type\": \"contourcarpet\"}], \"heatmap\": [{\"colorbar\": {\"outlinewidth\": 0, \"ticks\": \"\"}, \"colorscale\": [[0.0, \"#0d0887\"], [0.1111111111111111, \"#46039f\"], [0.2222222222222222, \"#7201a8\"], [0.3333333333333333, \"#9c179e\"], [0.4444444444444444, \"#bd3786\"], [0.5555555555555556, \"#d8576b\"], [0.6666666666666666, \"#ed7953\"], [0.7777777777777778, \"#fb9f3a\"], [0.8888888888888888, \"#fdca26\"], [1.0, \"#f0f921\"]], \"type\": \"heatmap\"}], \"heatmapgl\": [{\"colorbar\": {\"outlinewidth\": 0, \"ticks\": \"\"}, \"colorscale\": [[0.0, \"#0d0887\"], [0.1111111111111111, \"#46039f\"], [0.2222222222222222, \"#7201a8\"], [0.3333333333333333, \"#9c179e\"], [0.4444444444444444, \"#bd3786\"], [0.5555555555555556, \"#d8576b\"], [0.6666666666666666, \"#ed7953\"], [0.7777777777777778, \"#fb9f3a\"], [0.8888888888888888, \"#fdca26\"], [1.0, \"#f0f921\"]], \"type\": \"heatmapgl\"}], \"histogram\": [{\"marker\": {\"colorbar\": {\"outlinewidth\": 0, \"ticks\": \"\"}}, \"type\": \"histogram\"}], \"histogram2d\": [{\"colorbar\": {\"outlinewidth\": 0, \"ticks\": \"\"}, \"colorscale\": [[0.0, \"#0d0887\"], [0.1111111111111111, \"#46039f\"], [0.2222222222222222, \"#7201a8\"], [0.3333333333333333, \"#9c179e\"], [0.4444444444444444, \"#bd3786\"], [0.5555555555555556, \"#d8576b\"], [0.6666666666666666, \"#ed7953\"], [0.7777777777777778, \"#fb9f3a\"], [0.8888888888888888, \"#fdca26\"], [1.0, \"#f0f921\"]], \"type\": \"histogram2d\"}], \"histogram2dcontour\": [{\"colorbar\": {\"outlinewidth\": 0, \"ticks\": \"\"}, \"colorscale\": [[0.0, \"#0d0887\"], [0.1111111111111111, \"#46039f\"], [0.2222222222222222, \"#7201a8\"], [0.3333333333333333, \"#9c179e\"], [0.4444444444444444, \"#bd3786\"], [0.5555555555555556, \"#d8576b\"], [0.6666666666666666, \"#ed7953\"], [0.7777777777777778, \"#fb9f3a\"], [0.8888888888888888, \"#fdca26\"], [1.0, \"#f0f921\"]], \"type\": \"histogram2dcontour\"}], \"mesh3d\": [{\"colorbar\": {\"outlinewidth\": 0, \"ticks\": \"\"}, \"type\": \"mesh3d\"}], \"parcoords\": [{\"line\": {\"colorbar\": {\"outlinewidth\": 0, \"ticks\": \"\"}}, \"type\": \"parcoords\"}], \"pie\": [{\"automargin\": true, \"type\": \"pie\"}], \"scatter\": [{\"marker\": {\"line\": {\"color\": \"#283442\"}}, \"type\": \"scatter\"}], \"scatter3d\": [{\"line\": {\"colorbar\": {\"outlinewidth\": 0, \"ticks\": \"\"}}, \"marker\": {\"colorbar\": {\"outlinewidth\": 0, \"ticks\": \"\"}}, \"type\": \"scatter3d\"}], \"scattercarpet\": [{\"marker\": {\"colorbar\": {\"outlinewidth\": 0, \"ticks\": \"\"}}, \"type\": \"scattercarpet\"}], \"scattergeo\": [{\"marker\": {\"colorbar\": {\"outlinewidth\": 0, \"ticks\": \"\"}}, \"type\": \"scattergeo\"}], \"scattergl\": [{\"marker\": {\"line\": {\"color\": \"#283442\"}}, \"type\": \"scattergl\"}], \"scattermapbox\": [{\"marker\": {\"colorbar\": {\"outlinewidth\": 0, \"ticks\": \"\"}}, \"type\": \"scattermapbox\"}], \"scatterpolar\": [{\"marker\": {\"colorbar\": {\"outlinewidth\": 0, \"ticks\": \"\"}}, \"type\": \"scatterpolar\"}], \"scatterpolargl\": [{\"marker\": {\"colorbar\": {\"outlinewidth\": 0, \"ticks\": \"\"}}, \"type\": \"scatterpolargl\"}], \"scatterternary\": [{\"marker\": {\"colorbar\": {\"outlinewidth\": 0, \"ticks\": \"\"}}, \"type\": \"scatterternary\"}], \"surface\": [{\"colorbar\": {\"outlinewidth\": 0, \"ticks\": \"\"}, \"colorscale\": [[0.0, \"#0d0887\"], [0.1111111111111111, \"#46039f\"], [0.2222222222222222, \"#7201a8\"], [0.3333333333333333, \"#9c179e\"], [0.4444444444444444, \"#bd3786\"], [0.5555555555555556, \"#d8576b\"], [0.6666666666666666, \"#ed7953\"], [0.7777777777777778, \"#fb9f3a\"], [0.8888888888888888, \"#fdca26\"], [1.0, \"#f0f921\"]], \"type\": \"surface\"}], \"table\": [{\"cells\": {\"fill\": {\"color\": \"#506784\"}, \"line\": {\"color\": \"rgb(17,17,17)\"}}, \"header\": {\"fill\": {\"color\": \"#2a3f5f\"}, \"line\": {\"color\": \"rgb(17,17,17)\"}}, \"type\": \"table\"}]}, \"layout\": {\"annotationdefaults\": {\"arrowcolor\": \"#f2f5fa\", \"arrowhead\": 0, \"arrowwidth\": 1}, \"autotypenumbers\": \"strict\", \"coloraxis\": {\"colorbar\": {\"outlinewidth\": 0, \"ticks\": \"\"}}, \"colorscale\": {\"diverging\": [[0, \"#8e0152\"], [0.1, \"#c51b7d\"], [0.2, \"#de77ae\"], [0.3, \"#f1b6da\"], [0.4, \"#fde0ef\"], [0.5, \"#f7f7f7\"], [0.6, \"#e6f5d0\"], [0.7, \"#b8e186\"], [0.8, \"#7fbc41\"], [0.9, \"#4d9221\"], [1, \"#276419\"]], \"sequential\": [[0.0, \"#0d0887\"], [0.1111111111111111, \"#46039f\"], [0.2222222222222222, \"#7201a8\"], [0.3333333333333333, \"#9c179e\"], [0.4444444444444444, \"#bd3786\"], [0.5555555555555556, \"#d8576b\"], [0.6666666666666666, \"#ed7953\"], [0.7777777777777778, \"#fb9f3a\"], [0.8888888888888888, \"#fdca26\"], [1.0, \"#f0f921\"]], \"sequentialminus\": [[0.0, \"#0d0887\"], [0.1111111111111111, \"#46039f\"], [0.2222222222222222, \"#7201a8\"], [0.3333333333333333, \"#9c179e\"], [0.4444444444444444, \"#bd3786\"], [0.5555555555555556, \"#d8576b\"], [0.6666666666666666, \"#ed7953\"], [0.7777777777777778, \"#fb9f3a\"], [0.8888888888888888, \"#fdca26\"], [1.0, \"#f0f921\"]]}, \"colorway\": [\"#636efa\", \"#EF553B\", \"#00cc96\", \"#ab63fa\", \"#FFA15A\", \"#19d3f3\", \"#FF6692\", \"#B6E880\", \"#FF97FF\", \"#FECB52\"], \"font\": {\"color\": \"#f2f5fa\"}, \"geo\": {\"bgcolor\": \"rgb(17,17,17)\", \"lakecolor\": \"rgb(17,17,17)\", \"landcolor\": \"rgb(17,17,17)\", \"showlakes\": true, \"showland\": true, \"subunitcolor\": \"#506784\"}, \"hoverlabel\": {\"align\": \"left\"}, \"hovermode\": \"closest\", \"mapbox\": {\"style\": \"dark\"}, \"paper_bgcolor\": \"rgb(17,17,17)\", \"plot_bgcolor\": \"rgb(17,17,17)\", \"polar\": {\"angularaxis\": {\"gridcolor\": \"#506784\", \"linecolor\": \"#506784\", \"ticks\": \"\"}, \"bgcolor\": \"rgb(17,17,17)\", \"radialaxis\": {\"gridcolor\": \"#506784\", \"linecolor\": \"#506784\", \"ticks\": \"\"}}, \"scene\": {\"xaxis\": {\"backgroundcolor\": \"rgb(17,17,17)\", \"gridcolor\": \"#506784\", \"gridwidth\": 2, \"linecolor\": \"#506784\", \"showbackground\": true, \"ticks\": \"\", \"zerolinecolor\": \"#C8D4E3\"}, \"yaxis\": {\"backgroundcolor\": \"rgb(17,17,17)\", \"gridcolor\": \"#506784\", \"gridwidth\": 2, \"linecolor\": \"#506784\", \"showbackground\": true, \"ticks\": \"\", \"zerolinecolor\": \"#C8D4E3\"}, \"zaxis\": {\"backgroundcolor\": \"rgb(17,17,17)\", \"gridcolor\": \"#506784\", \"gridwidth\": 2, \"linecolor\": \"#506784\", \"showbackground\": true, \"ticks\": \"\", \"zerolinecolor\": \"#C8D4E3\"}}, \"shapedefaults\": {\"line\": {\"color\": \"#f2f5fa\"}}, \"sliderdefaults\": {\"bgcolor\": \"#C8D4E3\", \"bordercolor\": \"rgb(17,17,17)\", \"borderwidth\": 1, \"tickwidth\": 0}, \"ternary\": {\"aaxis\": {\"gridcolor\": \"#506784\", \"linecolor\": \"#506784\", \"ticks\": \"\"}, \"baxis\": {\"gridcolor\": \"#506784\", \"linecolor\": \"#506784\", \"ticks\": \"\"}, \"bgcolor\": \"rgb(17,17,17)\", \"caxis\": {\"gridcolor\": \"#506784\", \"linecolor\": \"#506784\", \"ticks\": \"\"}}, \"title\": {\"x\": 0.05}, \"updatemenudefaults\": {\"bgcolor\": \"#506784\", \"borderwidth\": 0}, \"xaxis\": {\"automargin\": true, \"gridcolor\": \"#283442\", \"linecolor\": \"#506784\", \"ticks\": \"\", \"title\": {\"standoff\": 15}, \"zerolinecolor\": \"#283442\", \"zerolinewidth\": 2}, \"yaxis\": {\"automargin\": true, \"gridcolor\": \"#283442\", \"linecolor\": \"#506784\", \"ticks\": \"\", \"title\": {\"standoff\": 15}, \"zerolinecolor\": \"#283442\", \"zerolinewidth\": 2}}}, \"title\": {\"text\": \"age and Insulin correlation\"}, \"xaxis\": {\"anchor\": \"y\", \"domain\": [0.0, 0.7363], \"title\": {\"text\": \"Insulin\"}}, \"xaxis2\": {\"anchor\": \"y2\", \"domain\": [0.7413, 1.0], \"matches\": \"x2\", \"showgrid\": true, \"showline\": false, \"showticklabels\": false, \"ticks\": \"\"}, \"xaxis3\": {\"anchor\": \"y3\", \"domain\": [0.0, 0.7363], \"matches\": \"x\", \"showgrid\": true, \"showticklabels\": false}, \"xaxis4\": {\"anchor\": \"y4\", \"domain\": [0.7413, 1.0], \"matches\": \"x2\", \"showgrid\": true, \"showline\": false, \"showticklabels\": false, \"ticks\": \"\"}, \"yaxis\": {\"anchor\": \"x\", \"domain\": [0.0, 0.7326], \"title\": {\"text\": \"Age\"}}, \"yaxis2\": {\"anchor\": \"x2\", \"domain\": [0.0, 0.7326], \"matches\": \"y\", \"showgrid\": true, \"showticklabels\": false}, \"yaxis3\": {\"anchor\": \"x3\", \"domain\": [0.7426, 1.0], \"matches\": \"y3\", \"showgrid\": true, \"showline\": false, \"showticklabels\": false, \"ticks\": \"\"}, \"yaxis4\": {\"anchor\": \"x4\", \"domain\": [0.7426, 1.0], \"matches\": \"y3\", \"showgrid\": true, \"showline\": false, \"showticklabels\": false, \"ticks\": \"\"}},                        {\"responsive\": true}                    ).then(function(){\n",
       "                            \n",
       "var gd = document.getElementById('062232a5-c139-438a-a6e0-1c020c9edcc3');\n",
       "var x = new MutationObserver(function (mutations, observer) {{\n",
       "        var display = window.getComputedStyle(gd).display;\n",
       "        if (!display || display === 'none') {{\n",
       "            console.log([gd, 'removed!']);\n",
       "            Plotly.purge(gd);\n",
       "            observer.disconnect();\n",
       "        }}\n",
       "}});\n",
       "\n",
       "// Listen for the removal of the full notebook cells\n",
       "var notebookContainer = gd.closest('#notebook-container');\n",
       "if (notebookContainer) {{\n",
       "    x.observe(notebookContainer, {childList: true});\n",
       "}}\n",
       "\n",
       "// Listen for the clearing of the current output cell\n",
       "var outputEl = gd.closest('.output');\n",
       "if (outputEl) {{\n",
       "    x.observe(outputEl, {childList: true});\n",
       "}}\n",
       "\n",
       "                        })                };                });            </script>        </div>"
      ]
     },
     "metadata": {},
     "output_type": "display_data"
    }
   ],
   "source": [
    "ax= px.scatter(df,x= \"Insulin\",y= \"Age\",marginal_x='histogram', marginal_y='histogram',size=\"Age\", size_max=20,\n",
    "              template= \"plotly_dark\",color= \"Outcome\",title=\"age and Insulin correlation\")\n",
    "ax.show()"
   ]
  },
  {
   "cell_type": "markdown",
   "id": "focused-alexandria",
   "metadata": {
    "papermill": {
     "duration": 0.0675,
     "end_time": "2021-06-11T14:17:07.981235",
     "exception": false,
     "start_time": "2021-06-11T14:17:07.913735",
     "status": "completed"
    },
    "tags": []
   },
   "source": [
    "<p style=\"background-color:Tomato;\">3D scatterplot showing correlation between insulin and glucose across ages and it impacts the target variable</p>"
   ]
  },
  {
   "cell_type": "code",
   "execution_count": 20,
   "id": "touched-humor",
   "metadata": {
    "execution": {
     "iopub.execute_input": "2021-06-11T14:17:08.133015Z",
     "iopub.status.busy": "2021-06-11T14:17:08.132314Z",
     "iopub.status.idle": "2021-06-11T14:17:08.242354Z",
     "shell.execute_reply": "2021-06-11T14:17:08.241793Z",
     "shell.execute_reply.started": "2021-06-11T14:10:54.097631Z"
    },
    "papermill": {
     "duration": 0.193131,
     "end_time": "2021-06-11T14:17:08.242526",
     "exception": false,
     "start_time": "2021-06-11T14:17:08.049395",
     "status": "completed"
    },
    "tags": []
   },
   "outputs": [
    {
     "data": {
      "text/html": [
       "<div>                            <div id=\"fbe24796-bc6c-4295-a362-c7dfe23903ff\" class=\"plotly-graph-div\" style=\"height:525px; width:100%;\"></div>            <script type=\"text/javascript\">                require([\"plotly\"], function(Plotly) {                    window.PLOTLYENV=window.PLOTLYENV || {};                                    if (document.getElementById(\"fbe24796-bc6c-4295-a362-c7dfe23903ff\")) {                    Plotly.newPlot(                        \"fbe24796-bc6c-4295-a362-c7dfe23903ff\",                        [{\"hovertemplate\": \"Age=%{x}<br>Glucose=%{y}<br>Insulin=%{z}<br>Outcome=%{marker.color}<extra></extra>\", \"legendgroup\": \"\", \"marker\": {\"color\": [1, 0, 1, 0, 1, 0, 1, 0, 1, 1, 0, 1, 0, 1, 1, 1, 1, 1, 0, 1, 0, 0, 1, 1, 1, 1, 1, 0, 0, 0, 0, 1, 0, 0, 0, 0, 0, 1, 1, 1, 0, 0, 0, 1, 0, 1, 0, 0, 1, 0, 0, 0, 0, 1, 0, 0, 1, 0, 0, 0, 0, 1, 0, 0, 1, 0, 1, 0, 0, 0, 1, 0, 1, 0, 0, 0, 0, 0, 1, 0, 0, 0, 0, 0, 1, 0, 0, 0, 1, 0, 0, 0, 0, 1, 0, 0, 0, 0, 0, 1, 1, 0, 0, 0, 0, 0, 0, 0, 0, 1, 1, 1, 0, 0, 1, 1, 1, 0, 0, 0, 1, 0, 0, 0, 1, 1, 0, 0, 1, 1, 1, 1, 1, 0, 0, 0, 0, 0, 0, 0, 0, 0, 0, 1, 0, 0, 0, 0, 0, 0, 0, 0, 1, 0, 1, 1, 0, 0, 0, 1, 0, 0, 0, 0, 1, 1, 0, 0, 0, 0, 1, 1, 0, 0, 0, 1, 0, 1, 0, 1, 0, 0, 0, 0, 0, 1, 1, 1, 1, 1, 0, 0, 1, 1, 0, 1, 0, 1, 1, 1, 0, 0, 0, 0, 0, 0, 1, 1, 0, 1, 0, 0, 0, 1, 1, 1, 1, 0, 1, 1, 1, 1, 0, 0, 0, 0, 0, 1, 0, 0, 1, 1, 0, 0, 0, 1, 1, 1, 1, 0, 0, 0, 1, 1, 0, 1, 0, 0, 0, 0, 0, 0, 0, 0, 1, 1, 0, 0, 0, 1, 0, 1, 0, 0, 1, 0, 1, 0, 0, 1, 1, 0, 0, 0, 0, 0, 1, 0, 0, 0, 1, 0, 0, 1, 1, 0, 0, 1, 0, 0, 0, 1, 1, 1, 0, 0, 1, 0, 1, 0, 1, 1, 0, 1, 0, 0, 1, 0, 1, 1, 0, 0, 1, 0, 1, 0, 0, 1, 0, 1, 0, 1, 1, 1, 0, 0, 1, 0, 1, 0, 0, 0, 1, 0, 0, 0, 0, 1, 1, 1, 0, 0, 0, 0, 0, 0, 0, 0, 0, 1, 0, 0, 0, 0, 0, 1, 1, 1, 0, 1, 1, 0, 0, 1, 0, 0, 1, 0, 0, 1, 1, 0, 0, 0, 0, 1, 0, 0, 1, 0, 0, 0, 0, 0, 0, 0, 1, 1, 1, 0, 0, 1, 0, 0, 1, 0, 0, 1, 0, 1, 1, 0, 1, 0, 1, 0, 1, 0, 1, 1, 0, 0, 0, 0, 1, 1, 0, 1, 0, 1, 0, 0, 0, 0, 1, 1, 0, 1, 0, 1, 0, 0, 0, 0, 0, 1, 0, 0, 0, 0, 1, 0, 0, 1, 1, 1, 0, 0, 1, 0, 0, 1, 0, 0, 0, 1, 0, 0, 1, 0, 0, 0, 0, 0, 0, 0, 0, 0, 1, 0, 0, 0, 0, 0, 0, 0, 1, 0, 0, 0, 1, 0, 0, 0, 1, 1, 0, 0, 0, 0, 0, 0, 0, 1, 0, 0, 0, 0, 1, 0, 0, 0, 1, 0, 0, 0, 1, 0, 0, 0, 1, 0, 0, 0, 0, 1, 1, 0, 0, 0, 0, 0, 0, 1, 0, 0, 0, 0, 0, 0, 0, 0, 0, 0, 0, 1, 0, 0, 0, 1, 1, 1, 1, 0, 0, 1, 1, 0, 0, 0, 0, 0, 0, 0, 0, 0, 0, 0, 0, 0, 1, 1, 0, 0, 0, 0, 0, 0, 0, 1, 0, 0, 0, 0, 0, 0, 0, 1, 0, 1, 1, 0, 0, 0, 1, 0, 1, 0, 1, 0, 1, 0, 1, 0, 0, 1, 0, 0, 1, 0, 0, 0, 0, 1, 1, 0, 1, 0, 0, 0, 0, 1, 1, 0, 1, 0, 0, 0, 1, 1, 0, 0, 0, 0, 0, 0, 0, 0, 0, 0, 1, 0, 0, 0, 0, 1, 0, 0, 1, 0, 0, 0, 1, 0, 0, 0, 1, 1, 1, 0, 0, 0, 0, 0, 0, 1, 0, 0, 0, 1, 0, 1, 1, 1, 1, 0, 1, 1, 0, 0, 0, 0, 0, 0, 0, 1, 1, 0, 1, 0, 0, 1, 0, 1, 0, 0, 0, 0, 0, 1, 0, 1, 0, 1, 0, 1, 1, 0, 0, 0, 0, 1, 1, 0, 0, 0, 1, 0, 1, 1, 0, 0, 1, 0, 0, 1, 1, 0, 0, 1, 0, 0, 1, 0, 0, 0, 0, 0, 0, 0, 1, 1, 1, 0, 0, 0, 0, 0, 0, 1, 1, 0, 0, 1, 0, 0, 1, 0, 1, 1, 1, 0, 0, 1, 1, 1, 0, 1, 0, 1, 0, 1, 0, 0, 0, 0, 1, 0], \"coloraxis\": \"coloraxis\", \"symbol\": \"circle\"}, \"mode\": \"markers\", \"name\": \"\", \"scene\": \"scene\", \"showlegend\": false, \"type\": \"scatter3d\", \"x\": [50, 31, 32, 21, 33, 30, 26, 29, 53, 54, 30, 34, 57, 59, 51, 32, 31, 31, 33, 32, 27, 50, 41, 29, 51, 41, 43, 22, 57, 38, 60, 28, 22, 28, 45, 33, 35, 46, 27, 56, 26, 37, 48, 54, 40, 25, 29, 22, 31, 24, 22, 26, 30, 58, 42, 21, 41, 31, 44, 22, 21, 39, 36, 24, 42, 32, 38, 54, 25, 27, 28, 26, 42, 23, 22, 22, 41, 27, 26, 24, 22, 22, 36, 22, 37, 27, 45, 26, 43, 24, 21, 34, 42, 60, 21, 40, 24, 22, 23, 31, 33, 22, 21, 24, 27, 21, 27, 37, 25, 24, 24, 46, 23, 25, 39, 61, 38, 25, 22, 21, 25, 24, 23, 69, 23, 26, 30, 23, 40, 62, 33, 33, 30, 39, 26, 31, 21, 22, 29, 28, 55, 38, 22, 42, 23, 21, 41, 34, 65, 22, 24, 37, 42, 23, 43, 36, 21, 23, 22, 47, 36, 45, 27, 21, 32, 41, 22, 34, 29, 29, 36, 29, 25, 23, 33, 36, 42, 26, 47, 37, 32, 23, 21, 27, 40, 41, 60, 33, 31, 25, 21, 40, 36, 40, 42, 29, 21, 23, 26, 29, 21, 28, 32, 27, 55, 27, 57, 52, 21, 41, 25, 24, 60, 24, 36, 38, 25, 32, 32, 41, 21, 66, 37, 61, 26, 22, 26, 24, 31, 24, 22, 46, 22, 29, 23, 26, 51, 23, 32, 27, 21, 22, 22, 33, 29, 49, 41, 23, 34, 23, 42, 27, 24, 25, 44, 21, 30, 25, 24, 51, 34, 27, 24, 63, 35, 43, 25, 24, 21, 28, 38, 21, 40, 21, 52, 25, 29, 23, 57, 22, 28, 39, 37, 47, 52, 51, 34, 29, 26, 33, 21, 25, 31, 24, 65, 28, 29, 24, 46, 58, 30, 25, 35, 28, 37, 29, 47, 21, 25, 30, 41, 22, 27, 25, 43, 26, 30, 29, 28, 59, 31, 25, 36, 43, 21, 24, 30, 37, 23, 37, 46, 25, 41, 44, 22, 26, 44, 44, 33, 41, 22, 36, 22, 33, 57, 49, 22, 23, 26, 37, 29, 30, 46, 24, 21, 49, 28, 44, 48, 29, 29, 63, 65, 67, 30, 30, 29, 21, 22, 45, 25, 21, 21, 25, 28, 58, 22, 22, 32, 35, 24, 22, 21, 25, 25, 24, 35, 45, 58, 28, 42, 27, 21, 37, 31, 25, 39, 22, 25, 25, 31, 55, 35, 38, 41, 26, 46, 25, 39, 28, 28, 25, 22, 21, 21, 22, 22, 37, 27, 28, 26, 21, 21, 21, 36, 31, 25, 38, 26, 43, 23, 38, 22, 29, 36, 29, 41, 28, 21, 31, 41, 22, 24, 33, 30, 25, 28, 26, 22, 26, 23, 23, 25, 72, 24, 38, 62, 24, 51, 81, 48, 26, 39, 37, 34, 21, 22, 25, 38, 27, 28, 22, 22, 50, 24, 59, 29, 31, 39, 63, 35, 29, 28, 23, 31, 24, 21, 58, 28, 67, 24, 42, 33, 45, 22, 66, 30, 25, 55, 39, 21, 28, 41, 41, 40, 38, 35, 21, 21, 64, 46, 21, 58, 22, 24, 28, 53, 51, 41, 60, 25, 26, 26, 45, 24, 21, 21, 24, 22, 31, 22, 24, 29, 31, 24, 23, 46, 67, 23, 32, 43, 27, 56, 25, 29, 37, 53, 28, 50, 37, 21, 25, 66, 23, 28, 37, 30, 58, 42, 35, 54, 28, 24, 32, 27, 22, 21, 46, 37, 33, 39, 21, 22, 22, 23, 25, 35, 21, 36, 62, 21, 27, 62, 42, 52, 22, 41, 29, 52, 25, 45, 24, 44, 25, 34, 22, 46, 21, 38, 26, 24, 28, 30, 54, 36, 21, 22, 25, 27, 23, 24, 36, 40, 26, 50, 27, 30, 23, 50, 24, 28, 28, 45, 21, 21, 29, 21, 21, 45, 21, 34, 24, 23, 22, 31, 38, 48, 23, 32, 28, 27, 24, 50, 31, 27, 30, 33, 22, 42, 23, 23, 27, 28, 27, 22, 25, 22, 41, 51, 27, 54, 22, 43, 40, 40, 24, 70, 40, 43, 45, 49, 21, 47, 22, 68, 31, 53, 25, 25, 23, 22, 26, 22, 27, 69, 25, 22, 29, 23, 46, 34, 44, 23, 43, 25, 43, 31, 22, 28, 26, 26, 49, 52, 41, 27, 28, 30, 22, 45, 23, 24, 40, 38, 21, 32, 34, 31, 56, 24, 52, 34, 21, 42, 42, 45, 38, 25, 22, 22, 22, 34, 22, 24, 22, 53, 28, 21, 42, 21, 42, 48, 26, 22, 45, 39, 46, 27, 32, 36, 50, 22, 28, 25, 26, 45, 37, 39, 52, 26, 66, 22, 43, 33, 63, 27, 30, 47, 23], \"y\": [148.0, 85.0, 183.0, 89.0, 137.0, 116.0, 78.0, 115.0, 197.0, 125.0, 110.0, 168.0, 139.0, 189.0, 166.0, 100.0, 118.0, 107.0, 103.0, 115.0, 126.0, 99.0, 196.0, 119.0, 143.0, 125.0, 147.0, 97.0, 145.0, 117.0, 109.0, 158.0, 88.0, 92.0, 122.0, 103.0, 138.0, 102.0, 90.0, 111.0, 180.0, 133.0, 106.0, 171.0, 159.0, 180.0, 146.0, 71.0, 103.0, 105.0, 103.0, 101.0, 88.0, 176.0, 150.0, 73.0, 187.0, 100.0, 146.0, 105.0, 84.0, 133.0, 44.0, 141.0, 114.0, 99.0, 109.0, 109.0, 95.0, 146.0, 100.0, 139.0, 126.0, 129.0, 79.0, 121.6867627785059, 62.0, 95.0, 131.0, 112.0, 113.0, 74.0, 83.0, 101.0, 137.0, 110.0, 106.0, 100.0, 136.0, 107.0, 80.0, 123.0, 81.0, 134.0, 142.0, 144.0, 92.0, 71.0, 93.0, 122.0, 163.0, 151.0, 125.0, 81.0, 85.0, 126.0, 96.0, 144.0, 83.0, 95.0, 171.0, 155.0, 89.0, 76.0, 160.0, 146.0, 124.0, 78.0, 97.0, 99.0, 162.0, 111.0, 107.0, 132.0, 113.0, 88.0, 120.0, 118.0, 117.0, 105.0, 173.0, 122.0, 170.0, 84.0, 96.0, 125.0, 100.0, 93.0, 129.0, 105.0, 128.0, 106.0, 108.0, 108.0, 154.0, 102.0, 57.0, 106.0, 147.0, 90.0, 136.0, 114.0, 156.0, 153.0, 188.0, 152.0, 99.0, 109.0, 88.0, 163.0, 151.0, 102.0, 114.0, 100.0, 131.0, 104.0, 148.0, 120.0, 110.0, 111.0, 102.0, 134.0, 87.0, 79.0, 75.0, 179.0, 85.0, 129.0, 143.0, 130.0, 87.0, 119.0, 121.6867627785059, 73.0, 141.0, 194.0, 181.0, 128.0, 109.0, 139.0, 111.0, 123.0, 159.0, 135.0, 85.0, 158.0, 105.0, 107.0, 109.0, 148.0, 113.0, 138.0, 108.0, 99.0, 103.0, 111.0, 196.0, 162.0, 96.0, 184.0, 81.0, 147.0, 179.0, 140.0, 112.0, 151.0, 109.0, 125.0, 85.0, 112.0, 177.0, 158.0, 119.0, 142.0, 100.0, 87.0, 101.0, 162.0, 197.0, 117.0, 142.0, 134.0, 79.0, 122.0, 74.0, 171.0, 181.0, 179.0, 164.0, 104.0, 91.0, 91.0, 139.0, 119.0, 146.0, 184.0, 122.0, 165.0, 124.0, 111.0, 106.0, 129.0, 90.0, 86.0, 92.0, 113.0, 111.0, 114.0, 193.0, 155.0, 191.0, 141.0, 95.0, 142.0, 123.0, 96.0, 138.0, 128.0, 102.0, 146.0, 101.0, 108.0, 122.0, 71.0, 106.0, 100.0, 106.0, 104.0, 114.0, 108.0, 146.0, 129.0, 133.0, 161.0, 108.0, 136.0, 155.0, 119.0, 96.0, 108.0, 78.0, 107.0, 128.0, 128.0, 161.0, 151.0, 146.0, 126.0, 100.0, 112.0, 167.0, 144.0, 77.0, 115.0, 150.0, 120.0, 161.0, 137.0, 128.0, 124.0, 80.0, 106.0, 155.0, 113.0, 109.0, 112.0, 99.0, 182.0, 115.0, 194.0, 129.0, 112.0, 124.0, 152.0, 112.0, 157.0, 122.0, 179.0, 102.0, 105.0, 118.0, 87.0, 180.0, 106.0, 95.0, 165.0, 117.0, 115.0, 152.0, 178.0, 130.0, 95.0, 121.6867627785059, 122.0, 95.0, 126.0, 139.0, 116.0, 99.0, 121.6867627785059, 92.0, 137.0, 61.0, 90.0, 90.0, 165.0, 125.0, 129.0, 88.0, 196.0, 189.0, 158.0, 103.0, 146.0, 147.0, 99.0, 124.0, 101.0, 81.0, 133.0, 173.0, 118.0, 84.0, 105.0, 122.0, 140.0, 98.0, 87.0, 156.0, 93.0, 107.0, 105.0, 109.0, 90.0, 125.0, 119.0, 116.0, 105.0, 144.0, 100.0, 100.0, 166.0, 131.0, 116.0, 158.0, 127.0, 96.0, 131.0, 82.0, 193.0, 95.0, 137.0, 136.0, 72.0, 168.0, 123.0, 115.0, 101.0, 197.0, 172.0, 102.0, 112.0, 143.0, 143.0, 138.0, 173.0, 97.0, 144.0, 83.0, 129.0, 119.0, 94.0, 102.0, 115.0, 151.0, 184.0, 94.0, 181.0, 135.0, 95.0, 99.0, 89.0, 80.0, 139.0, 90.0, 141.0, 140.0, 147.0, 97.0, 107.0, 189.0, 83.0, 117.0, 108.0, 117.0, 180.0, 100.0, 95.0, 104.0, 120.0, 82.0, 134.0, 91.0, 119.0, 100.0, 175.0, 135.0, 86.0, 148.0, 134.0, 120.0, 71.0, 74.0, 88.0, 115.0, 124.0, 74.0, 97.0, 120.0, 154.0, 144.0, 137.0, 119.0, 136.0, 114.0, 137.0, 105.0, 114.0, 126.0, 132.0, 158.0, 123.0, 85.0, 84.0, 145.0, 135.0, 139.0, 173.0, 99.0, 194.0, 83.0, 89.0, 99.0, 125.0, 80.0, 166.0, 110.0, 81.0, 195.0, 154.0, 117.0, 84.0, 121.6867627785059, 94.0, 96.0, 75.0, 180.0, 130.0, 84.0, 120.0, 84.0, 139.0, 91.0, 91.0, 99.0, 163.0, 145.0, 125.0, 76.0, 129.0, 68.0, 124.0, 114.0, 130.0, 125.0, 87.0, 97.0, 116.0, 117.0, 111.0, 122.0, 107.0, 86.0, 91.0, 77.0, 132.0, 105.0, 57.0, 127.0, 129.0, 100.0, 128.0, 90.0, 84.0, 88.0, 186.0, 187.0, 131.0, 164.0, 189.0, 116.0, 84.0, 114.0, 88.0, 84.0, 124.0, 97.0, 110.0, 103.0, 85.0, 125.0, 198.0, 87.0, 99.0, 91.0, 95.0, 99.0, 92.0, 154.0, 121.0, 78.0, 130.0, 111.0, 98.0, 143.0, 119.0, 108.0, 118.0, 133.0, 197.0, 151.0, 109.0, 121.0, 100.0, 124.0, 93.0, 143.0, 103.0, 176.0, 73.0, 111.0, 112.0, 132.0, 82.0, 123.0, 188.0, 67.0, 89.0, 173.0, 109.0, 108.0, 96.0, 124.0, 150.0, 183.0, 124.0, 181.0, 92.0, 152.0, 111.0, 106.0, 174.0, 168.0, 105.0, 138.0, 106.0, 117.0, 68.0, 112.0, 119.0, 112.0, 92.0, 183.0, 94.0, 108.0, 90.0, 125.0, 132.0, 128.0, 94.0, 114.0, 102.0, 111.0, 128.0, 92.0, 104.0, 104.0, 94.0, 97.0, 100.0, 102.0, 128.0, 147.0, 90.0, 103.0, 157.0, 167.0, 179.0, 136.0, 107.0, 91.0, 117.0, 123.0, 120.0, 106.0, 155.0, 101.0, 120.0, 127.0, 80.0, 162.0, 199.0, 167.0, 145.0, 115.0, 112.0, 145.0, 111.0, 98.0, 154.0, 165.0, 99.0, 68.0, 123.0, 91.0, 195.0, 156.0, 93.0, 121.0, 101.0, 56.0, 162.0, 95.0, 125.0, 136.0, 129.0, 130.0, 107.0, 140.0, 144.0, 107.0, 158.0, 121.0, 129.0, 90.0, 142.0, 169.0, 99.0, 127.0, 118.0, 122.0, 125.0, 168.0, 129.0, 110.0, 80.0, 115.0, 127.0, 164.0, 93.0, 158.0, 126.0, 129.0, 134.0, 102.0, 187.0, 173.0, 94.0, 108.0, 97.0, 83.0, 114.0, 149.0, 117.0, 111.0, 112.0, 116.0, 141.0, 175.0, 92.0, 130.0, 120.0, 174.0, 106.0, 105.0, 95.0, 126.0, 65.0, 99.0, 102.0, 120.0, 102.0, 109.0, 140.0, 153.0, 100.0, 147.0, 81.0, 187.0, 162.0, 136.0, 121.0, 108.0, 181.0, 154.0, 128.0, 137.0, 123.0, 106.0, 190.0, 88.0, 170.0, 89.0, 101.0, 122.0, 121.0, 126.0, 93.0], \"z\": [155.5482233502538, 155.5482233502538, 155.5482233502538, 94.0, 168.0, 155.5482233502538, 88.0, 155.5482233502538, 543.0, 155.5482233502538, 155.5482233502538, 155.5482233502538, 155.5482233502538, 846.0, 175.0, 155.5482233502538, 230.0, 155.5482233502538, 83.0, 96.0, 235.0, 155.5482233502538, 155.5482233502538, 155.5482233502538, 146.0, 115.0, 155.5482233502538, 140.0, 110.0, 155.5482233502538, 155.5482233502538, 245.0, 54.0, 155.5482233502538, 155.5482233502538, 192.0, 155.5482233502538, 155.5482233502538, 155.5482233502538, 207.0, 70.0, 155.5482233502538, 155.5482233502538, 240.0, 155.5482233502538, 155.5482233502538, 155.5482233502538, 155.5482233502538, 155.5482233502538, 155.5482233502538, 82.0, 36.0, 23.0, 300.0, 342.0, 155.5482233502538, 304.0, 110.0, 155.5482233502538, 142.0, 155.5482233502538, 155.5482233502538, 155.5482233502538, 128.0, 155.5482233502538, 155.5482233502538, 155.5482233502538, 155.5482233502538, 38.0, 100.0, 90.0, 140.0, 155.5482233502538, 270.0, 155.5482233502538, 155.5482233502538, 155.5482233502538, 155.5482233502538, 155.5482233502538, 155.5482233502538, 155.5482233502538, 155.5482233502538, 71.0, 155.5482233502538, 155.5482233502538, 125.0, 155.5482233502538, 71.0, 110.0, 155.5482233502538, 155.5482233502538, 176.0, 48.0, 155.5482233502538, 64.0, 228.0, 155.5482233502538, 76.0, 64.0, 220.0, 155.5482233502538, 155.5482233502538, 155.5482233502538, 40.0, 155.5482233502538, 152.0, 155.5482233502538, 140.0, 18.0, 36.0, 135.0, 495.0, 37.0, 155.5482233502538, 175.0, 155.5482233502538, 155.5482233502538, 155.5482233502538, 155.5482233502538, 51.0, 100.0, 155.5482233502538, 100.0, 155.5482233502538, 155.5482233502538, 99.0, 135.0, 94.0, 145.0, 155.5482233502538, 168.0, 155.5482233502538, 225.0, 155.5482233502538, 49.0, 140.0, 50.0, 92.0, 155.5482233502538, 325.0, 155.5482233502538, 155.5482233502538, 63.0, 155.5482233502538, 284.0, 155.5482233502538, 155.5482233502538, 119.0, 155.5482233502538, 155.5482233502538, 204.0, 155.5482233502538, 155.0, 485.0, 155.5482233502538, 155.5482233502538, 94.0, 135.0, 53.0, 114.0, 155.5482233502538, 105.0, 285.0, 155.5482233502538, 155.5482233502538, 156.0, 155.5482233502538, 155.5482233502538, 155.5482233502538, 78.0, 155.5482233502538, 130.0, 155.5482233502538, 48.0, 55.0, 130.0, 155.5482233502538, 130.0, 155.5482233502538, 155.5482233502538, 155.5482233502538, 92.0, 23.0, 155.5482233502538, 155.5482233502538, 155.5482233502538, 495.0, 58.0, 114.0, 160.0, 155.5482233502538, 94.0, 155.5482233502538, 155.5482233502538, 155.5482233502538, 210.0, 155.5482233502538, 48.0, 99.0, 318.0, 155.5482233502538, 155.5482233502538, 155.5482233502538, 44.0, 190.0, 155.5482233502538, 280.0, 155.5482233502538, 87.0, 155.5482233502538, 155.5482233502538, 155.5482233502538, 155.5482233502538, 130.0, 175.0, 271.0, 129.0, 120.0, 155.5482233502538, 155.5482233502538, 478.0, 155.5482233502538, 155.5482233502538, 190.0, 56.0, 32.0, 155.5482233502538, 155.5482233502538, 744.0, 53.0, 155.5482233502538, 370.0, 37.0, 155.5482233502538, 45.0, 155.5482233502538, 192.0, 155.5482233502538, 155.5482233502538, 155.5482233502538, 155.5482233502538, 88.0, 155.5482233502538, 176.0, 194.0, 155.5482233502538, 155.5482233502538, 680.0, 402.0, 155.5482233502538, 155.5482233502538, 155.5482233502538, 55.0, 155.5482233502538, 258.0, 155.5482233502538, 155.5482233502538, 155.5482233502538, 375.0, 150.0, 130.0, 155.5482233502538, 155.5482233502538, 155.5482233502538, 155.5482233502538, 67.0, 155.5482233502538, 155.5482233502538, 155.5482233502538, 155.5482233502538, 155.5482233502538, 56.0, 155.5482233502538, 45.0, 155.5482233502538, 57.0, 155.5482233502538, 116.0, 155.5482233502538, 278.0, 155.5482233502538, 122.0, 155.0, 155.5482233502538, 155.5482233502538, 135.0, 545.0, 220.0, 49.0, 75.0, 40.0, 74.0, 182.0, 194.0, 155.5482233502538, 120.0, 360.0, 215.0, 184.0, 155.5482233502538, 155.5482233502538, 135.0, 42.0, 155.5482233502538, 155.5482233502538, 105.0, 132.0, 148.0, 180.0, 205.0, 155.5482233502538, 148.0, 96.0, 85.0, 155.5482233502538, 94.0, 64.0, 155.5482233502538, 140.0, 155.5482233502538, 231.0, 155.5482233502538, 155.5482233502538, 29.0, 155.5482233502538, 168.0, 156.0, 155.5482233502538, 120.0, 68.0, 155.5482233502538, 52.0, 155.5482233502538, 155.5482233502538, 58.0, 255.0, 155.5482233502538, 155.5482233502538, 171.0, 155.5482233502538, 105.0, 73.0, 155.5482233502538, 155.5482233502538, 155.5482233502538, 108.0, 83.0, 155.5482233502538, 74.0, 155.5482233502538, 155.5482233502538, 155.5482233502538, 155.5482233502538, 43.0, 155.5482233502538, 155.5482233502538, 167.0, 155.5482233502538, 54.0, 249.0, 325.0, 155.5482233502538, 155.5482233502538, 155.5482233502538, 293.0, 83.0, 155.5482233502538, 155.5482233502538, 66.0, 140.0, 465.0, 89.0, 66.0, 94.0, 158.0, 325.0, 84.0, 75.0, 155.5482233502538, 72.0, 82.0, 155.5482233502538, 182.0, 59.0, 110.0, 50.0, 155.5482233502538, 155.5482233502538, 285.0, 81.0, 196.0, 155.5482233502538, 415.0, 87.0, 155.5482233502538, 275.0, 115.0, 155.5482233502538, 155.5482233502538, 155.5482233502538, 155.5482233502538, 155.5482233502538, 88.0, 155.5482233502538, 155.5482233502538, 165.0, 155.5482233502538, 155.5482233502538, 155.5482233502538, 579.0, 155.5482233502538, 176.0, 310.0, 61.0, 167.0, 474.0, 155.5482233502538, 155.5482233502538, 155.5482233502538, 115.0, 170.0, 76.0, 78.0, 155.5482233502538, 210.0, 277.0, 155.5482233502538, 180.0, 145.0, 180.0, 155.5482233502538, 85.0, 60.0, 155.5482233502538, 155.5482233502538, 155.5482233502538, 155.5482233502538, 155.5482233502538, 155.5482233502538, 155.5482233502538, 155.5482233502538, 50.0, 120.0, 155.5482233502538, 155.5482233502538, 14.0, 70.0, 92.0, 64.0, 63.0, 95.0, 155.5482233502538, 210.0, 155.5482233502538, 105.0, 155.5482233502538, 155.5482233502538, 71.0, 237.0, 60.0, 56.0, 155.5482233502538, 49.0, 155.5482233502538, 155.5482233502538, 105.0, 36.0, 100.0, 155.5482233502538, 140.0, 155.5482233502538, 155.5482233502538, 155.5482233502538, 155.5482233502538, 155.5482233502538, 155.5482233502538, 191.0, 110.0, 75.0, 155.5482233502538, 328.0, 155.5482233502538, 49.0, 125.0, 155.5482233502538, 250.0, 480.0, 265.0, 155.5482233502538, 155.5482233502538, 66.0, 155.5482233502538, 155.5482233502538, 122.0, 155.5482233502538, 155.5482233502538, 155.5482233502538, 76.0, 145.0, 193.0, 71.0, 155.5482233502538, 155.5482233502538, 79.0, 155.5482233502538, 155.5482233502538, 90.0, 170.0, 76.0, 155.5482233502538, 155.5482233502538, 210.0, 155.5482233502538, 155.5482233502538, 86.0, 105.0, 165.0, 155.5482233502538, 155.5482233502538, 326.0, 66.0, 130.0, 155.5482233502538, 155.5482233502538, 155.5482233502538, 155.5482233502538, 82.0, 105.0, 188.0, 155.5482233502538, 106.0, 155.5482233502538, 65.0, 155.5482233502538, 56.0, 155.5482233502538, 155.5482233502538, 155.5482233502538, 210.0, 155.0, 215.0, 190.0, 155.5482233502538, 56.0, 76.0, 225.0, 207.0, 166.0, 67.0, 155.5482233502538, 155.5482233502538, 106.0, 155.5482233502538, 44.0, 115.0, 215.0, 155.5482233502538, 155.5482233502538, 155.5482233502538, 155.5482233502538, 155.5482233502538, 274.0, 77.0, 54.0, 155.5482233502538, 88.0, 18.0, 126.0, 126.0, 165.0, 155.5482233502538, 155.5482233502538, 44.0, 120.0, 330.0, 63.0, 130.0, 155.5482233502538, 155.5482233502538, 155.5482233502538, 155.5482233502538, 155.5482233502538, 155.5482233502538, 155.5482233502538, 600.0, 155.5482233502538, 155.5482233502538, 155.5482233502538, 156.0, 155.5482233502538, 155.5482233502538, 140.0, 155.5482233502538, 115.0, 230.0, 185.0, 155.5482233502538, 25.0, 155.5482233502538, 120.0, 155.5482233502538, 155.5482233502538, 155.5482233502538, 126.0, 155.5482233502538, 155.5482233502538, 293.0, 41.0, 272.0, 182.0, 158.0, 194.0, 321.0, 155.5482233502538, 144.0, 155.5482233502538, 155.5482233502538, 15.0, 155.5482233502538, 155.5482233502538, 160.0, 155.5482233502538, 155.5482233502538, 115.0, 155.5482233502538, 54.0, 155.5482233502538, 155.5482233502538, 155.5482233502538, 155.5482233502538, 155.5482233502538, 90.0, 155.5482233502538, 183.0, 155.5482233502538, 155.5482233502538, 155.5482233502538, 66.0, 91.0, 46.0, 105.0, 155.5482233502538, 155.5482233502538, 155.5482233502538, 152.0, 440.0, 144.0, 159.0, 130.0, 155.5482233502538, 100.0, 106.0, 77.0, 155.5482233502538, 135.0, 540.0, 90.0, 200.0, 155.5482233502538, 70.0, 155.5482233502538, 155.5482233502538, 231.0, 130.0, 155.5482233502538, 132.0, 155.5482233502538, 155.5482233502538, 190.0, 100.0, 168.0, 155.5482233502538, 49.0, 240.0, 155.5482233502538, 155.5482233502538, 155.5482233502538, 155.5482233502538, 155.5482233502538, 265.0, 45.0, 155.5482233502538, 105.0, 155.5482233502538, 155.5482233502538, 205.0, 155.5482233502538, 155.5482233502538, 180.0, 180.0, 155.5482233502538, 155.5482233502538, 95.0, 125.0, 155.5482233502538, 480.0, 125.0, 155.5482233502538, 155.0, 155.5482233502538, 200.0, 155.5482233502538, 155.5482233502538, 155.5482233502538, 100.0, 155.5482233502538, 155.5482233502538, 335.0, 155.5482233502538, 160.0, 387.0, 22.0, 155.5482233502538, 291.0, 155.5482233502538, 392.0, 185.0, 155.5482233502538, 178.0, 155.5482233502538, 155.5482233502538, 200.0, 127.0, 105.0, 155.5482233502538, 155.5482233502538, 180.0, 155.5482233502538, 155.5482233502538, 155.5482233502538, 79.0, 155.5482233502538, 120.0, 165.0, 155.5482233502538, 155.5482233502538, 120.0, 155.5482233502538, 160.0, 155.5482233502538, 150.0, 94.0, 116.0, 155.5482233502538, 140.0, 105.0, 155.5482233502538, 57.0, 200.0, 155.5482233502538, 155.5482233502538, 74.0, 155.5482233502538, 510.0, 155.5482233502538, 110.0, 155.5482233502538, 155.5482233502538, 155.5482233502538, 155.5482233502538, 16.0, 155.5482233502538, 155.5482233502538, 180.0, 155.5482233502538, 112.0, 155.5482233502538, 155.5482233502538]}],                        {\"coloraxis\": {\"colorbar\": {\"title\": {\"text\": \"Outcome\"}}, \"colorscale\": [[0.0, \"#0d0887\"], [0.1111111111111111, \"#46039f\"], [0.2222222222222222, \"#7201a8\"], [0.3333333333333333, \"#9c179e\"], [0.4444444444444444, \"#bd3786\"], [0.5555555555555556, \"#d8576b\"], [0.6666666666666666, \"#ed7953\"], [0.7777777777777778, \"#fb9f3a\"], [0.8888888888888888, \"#fdca26\"], [1.0, \"#f0f921\"]]}, \"legend\": {\"tracegroupgap\": 0}, \"margin\": {\"t\": 60}, \"scene\": {\"domain\": {\"x\": [0.0, 1.0], \"y\": [0.0, 1.0]}, \"xaxis\": {\"title\": {\"text\": \"Age\"}}, \"yaxis\": {\"title\": {\"text\": \"Glucose\"}}, \"zaxis\": {\"title\": {\"text\": \"Insulin\"}}}, \"template\": {\"data\": {\"bar\": [{\"error_x\": {\"color\": \"#f2f5fa\"}, \"error_y\": {\"color\": \"#f2f5fa\"}, \"marker\": {\"line\": {\"color\": \"rgb(17,17,17)\", \"width\": 0.5}}, \"type\": \"bar\"}], \"barpolar\": [{\"marker\": {\"line\": {\"color\": \"rgb(17,17,17)\", \"width\": 0.5}}, \"type\": \"barpolar\"}], \"carpet\": [{\"aaxis\": {\"endlinecolor\": \"#A2B1C6\", \"gridcolor\": \"#506784\", \"linecolor\": \"#506784\", \"minorgridcolor\": \"#506784\", \"startlinecolor\": \"#A2B1C6\"}, \"baxis\": {\"endlinecolor\": \"#A2B1C6\", \"gridcolor\": \"#506784\", \"linecolor\": \"#506784\", \"minorgridcolor\": \"#506784\", \"startlinecolor\": \"#A2B1C6\"}, \"type\": \"carpet\"}], \"choropleth\": [{\"colorbar\": {\"outlinewidth\": 0, \"ticks\": \"\"}, \"type\": \"choropleth\"}], \"contour\": [{\"colorbar\": {\"outlinewidth\": 0, \"ticks\": \"\"}, \"colorscale\": [[0.0, \"#0d0887\"], [0.1111111111111111, \"#46039f\"], [0.2222222222222222, \"#7201a8\"], [0.3333333333333333, \"#9c179e\"], [0.4444444444444444, \"#bd3786\"], [0.5555555555555556, \"#d8576b\"], [0.6666666666666666, \"#ed7953\"], [0.7777777777777778, \"#fb9f3a\"], [0.8888888888888888, \"#fdca26\"], [1.0, \"#f0f921\"]], \"type\": \"contour\"}], \"contourcarpet\": [{\"colorbar\": {\"outlinewidth\": 0, \"ticks\": \"\"}, \"type\": \"contourcarpet\"}], \"heatmap\": [{\"colorbar\": {\"outlinewidth\": 0, \"ticks\": \"\"}, \"colorscale\": [[0.0, \"#0d0887\"], [0.1111111111111111, \"#46039f\"], [0.2222222222222222, \"#7201a8\"], [0.3333333333333333, \"#9c179e\"], [0.4444444444444444, \"#bd3786\"], [0.5555555555555556, \"#d8576b\"], [0.6666666666666666, \"#ed7953\"], [0.7777777777777778, \"#fb9f3a\"], [0.8888888888888888, \"#fdca26\"], [1.0, \"#f0f921\"]], \"type\": \"heatmap\"}], \"heatmapgl\": [{\"colorbar\": {\"outlinewidth\": 0, \"ticks\": \"\"}, \"colorscale\": [[0.0, \"#0d0887\"], [0.1111111111111111, \"#46039f\"], [0.2222222222222222, \"#7201a8\"], [0.3333333333333333, \"#9c179e\"], [0.4444444444444444, \"#bd3786\"], [0.5555555555555556, \"#d8576b\"], [0.6666666666666666, \"#ed7953\"], [0.7777777777777778, \"#fb9f3a\"], [0.8888888888888888, \"#fdca26\"], [1.0, \"#f0f921\"]], \"type\": \"heatmapgl\"}], \"histogram\": [{\"marker\": {\"colorbar\": {\"outlinewidth\": 0, \"ticks\": \"\"}}, \"type\": \"histogram\"}], \"histogram2d\": [{\"colorbar\": {\"outlinewidth\": 0, \"ticks\": \"\"}, \"colorscale\": [[0.0, \"#0d0887\"], [0.1111111111111111, \"#46039f\"], [0.2222222222222222, \"#7201a8\"], [0.3333333333333333, \"#9c179e\"], [0.4444444444444444, \"#bd3786\"], [0.5555555555555556, \"#d8576b\"], [0.6666666666666666, \"#ed7953\"], [0.7777777777777778, \"#fb9f3a\"], [0.8888888888888888, \"#fdca26\"], [1.0, \"#f0f921\"]], \"type\": \"histogram2d\"}], \"histogram2dcontour\": [{\"colorbar\": {\"outlinewidth\": 0, \"ticks\": \"\"}, \"colorscale\": [[0.0, \"#0d0887\"], [0.1111111111111111, \"#46039f\"], [0.2222222222222222, \"#7201a8\"], [0.3333333333333333, \"#9c179e\"], [0.4444444444444444, \"#bd3786\"], [0.5555555555555556, \"#d8576b\"], [0.6666666666666666, \"#ed7953\"], [0.7777777777777778, \"#fb9f3a\"], [0.8888888888888888, \"#fdca26\"], [1.0, \"#f0f921\"]], \"type\": \"histogram2dcontour\"}], \"mesh3d\": [{\"colorbar\": {\"outlinewidth\": 0, \"ticks\": \"\"}, \"type\": \"mesh3d\"}], \"parcoords\": [{\"line\": {\"colorbar\": {\"outlinewidth\": 0, \"ticks\": \"\"}}, \"type\": \"parcoords\"}], \"pie\": [{\"automargin\": true, \"type\": \"pie\"}], \"scatter\": [{\"marker\": {\"line\": {\"color\": \"#283442\"}}, \"type\": \"scatter\"}], \"scatter3d\": [{\"line\": {\"colorbar\": {\"outlinewidth\": 0, \"ticks\": \"\"}}, \"marker\": {\"colorbar\": {\"outlinewidth\": 0, \"ticks\": \"\"}}, \"type\": \"scatter3d\"}], \"scattercarpet\": [{\"marker\": {\"colorbar\": {\"outlinewidth\": 0, \"ticks\": \"\"}}, \"type\": \"scattercarpet\"}], \"scattergeo\": [{\"marker\": {\"colorbar\": {\"outlinewidth\": 0, \"ticks\": \"\"}}, \"type\": \"scattergeo\"}], \"scattergl\": [{\"marker\": {\"line\": {\"color\": \"#283442\"}}, \"type\": \"scattergl\"}], \"scattermapbox\": [{\"marker\": {\"colorbar\": {\"outlinewidth\": 0, \"ticks\": \"\"}}, \"type\": \"scattermapbox\"}], \"scatterpolar\": [{\"marker\": {\"colorbar\": {\"outlinewidth\": 0, \"ticks\": \"\"}}, \"type\": \"scatterpolar\"}], \"scatterpolargl\": [{\"marker\": {\"colorbar\": {\"outlinewidth\": 0, \"ticks\": \"\"}}, \"type\": \"scatterpolargl\"}], \"scatterternary\": [{\"marker\": {\"colorbar\": {\"outlinewidth\": 0, \"ticks\": \"\"}}, \"type\": \"scatterternary\"}], \"surface\": [{\"colorbar\": {\"outlinewidth\": 0, \"ticks\": \"\"}, \"colorscale\": [[0.0, \"#0d0887\"], [0.1111111111111111, \"#46039f\"], [0.2222222222222222, \"#7201a8\"], [0.3333333333333333, \"#9c179e\"], [0.4444444444444444, \"#bd3786\"], [0.5555555555555556, \"#d8576b\"], [0.6666666666666666, \"#ed7953\"], [0.7777777777777778, \"#fb9f3a\"], [0.8888888888888888, \"#fdca26\"], [1.0, \"#f0f921\"]], \"type\": \"surface\"}], \"table\": [{\"cells\": {\"fill\": {\"color\": \"#506784\"}, \"line\": {\"color\": \"rgb(17,17,17)\"}}, \"header\": {\"fill\": {\"color\": \"#2a3f5f\"}, \"line\": {\"color\": \"rgb(17,17,17)\"}}, \"type\": \"table\"}]}, \"layout\": {\"annotationdefaults\": {\"arrowcolor\": \"#f2f5fa\", \"arrowhead\": 0, \"arrowwidth\": 1}, \"autotypenumbers\": \"strict\", \"coloraxis\": {\"colorbar\": {\"outlinewidth\": 0, \"ticks\": \"\"}}, \"colorscale\": {\"diverging\": [[0, \"#8e0152\"], [0.1, \"#c51b7d\"], [0.2, \"#de77ae\"], [0.3, \"#f1b6da\"], [0.4, \"#fde0ef\"], [0.5, \"#f7f7f7\"], [0.6, \"#e6f5d0\"], [0.7, \"#b8e186\"], [0.8, \"#7fbc41\"], [0.9, \"#4d9221\"], [1, \"#276419\"]], \"sequential\": [[0.0, \"#0d0887\"], [0.1111111111111111, \"#46039f\"], [0.2222222222222222, \"#7201a8\"], [0.3333333333333333, \"#9c179e\"], [0.4444444444444444, \"#bd3786\"], [0.5555555555555556, \"#d8576b\"], [0.6666666666666666, \"#ed7953\"], [0.7777777777777778, \"#fb9f3a\"], [0.8888888888888888, \"#fdca26\"], [1.0, \"#f0f921\"]], \"sequentialminus\": [[0.0, \"#0d0887\"], [0.1111111111111111, \"#46039f\"], [0.2222222222222222, \"#7201a8\"], [0.3333333333333333, \"#9c179e\"], [0.4444444444444444, \"#bd3786\"], [0.5555555555555556, \"#d8576b\"], [0.6666666666666666, \"#ed7953\"], [0.7777777777777778, \"#fb9f3a\"], [0.8888888888888888, \"#fdca26\"], [1.0, \"#f0f921\"]]}, \"colorway\": [\"#636efa\", \"#EF553B\", \"#00cc96\", \"#ab63fa\", \"#FFA15A\", \"#19d3f3\", \"#FF6692\", \"#B6E880\", \"#FF97FF\", \"#FECB52\"], \"font\": {\"color\": \"#f2f5fa\"}, \"geo\": {\"bgcolor\": \"rgb(17,17,17)\", \"lakecolor\": \"rgb(17,17,17)\", \"landcolor\": \"rgb(17,17,17)\", \"showlakes\": true, \"showland\": true, \"subunitcolor\": \"#506784\"}, \"hoverlabel\": {\"align\": \"left\"}, \"hovermode\": \"closest\", \"mapbox\": {\"style\": \"dark\"}, \"paper_bgcolor\": \"rgb(17,17,17)\", \"plot_bgcolor\": \"rgb(17,17,17)\", \"polar\": {\"angularaxis\": {\"gridcolor\": \"#506784\", \"linecolor\": \"#506784\", \"ticks\": \"\"}, \"bgcolor\": \"rgb(17,17,17)\", \"radialaxis\": {\"gridcolor\": \"#506784\", \"linecolor\": \"#506784\", \"ticks\": \"\"}}, \"scene\": {\"xaxis\": {\"backgroundcolor\": \"rgb(17,17,17)\", \"gridcolor\": \"#506784\", \"gridwidth\": 2, \"linecolor\": \"#506784\", \"showbackground\": true, \"ticks\": \"\", \"zerolinecolor\": \"#C8D4E3\"}, \"yaxis\": {\"backgroundcolor\": \"rgb(17,17,17)\", \"gridcolor\": \"#506784\", \"gridwidth\": 2, \"linecolor\": \"#506784\", \"showbackground\": true, \"ticks\": \"\", \"zerolinecolor\": \"#C8D4E3\"}, \"zaxis\": {\"backgroundcolor\": \"rgb(17,17,17)\", \"gridcolor\": \"#506784\", \"gridwidth\": 2, \"linecolor\": \"#506784\", \"showbackground\": true, \"ticks\": \"\", \"zerolinecolor\": \"#C8D4E3\"}}, \"shapedefaults\": {\"line\": {\"color\": \"#f2f5fa\"}}, \"sliderdefaults\": {\"bgcolor\": \"#C8D4E3\", \"bordercolor\": \"rgb(17,17,17)\", \"borderwidth\": 1, \"tickwidth\": 0}, \"ternary\": {\"aaxis\": {\"gridcolor\": \"#506784\", \"linecolor\": \"#506784\", \"ticks\": \"\"}, \"baxis\": {\"gridcolor\": \"#506784\", \"linecolor\": \"#506784\", \"ticks\": \"\"}, \"bgcolor\": \"rgb(17,17,17)\", \"caxis\": {\"gridcolor\": \"#506784\", \"linecolor\": \"#506784\", \"ticks\": \"\"}}, \"title\": {\"x\": 0.05}, \"updatemenudefaults\": {\"bgcolor\": \"#506784\", \"borderwidth\": 0}, \"xaxis\": {\"automargin\": true, \"gridcolor\": \"#283442\", \"linecolor\": \"#506784\", \"ticks\": \"\", \"title\": {\"standoff\": 15}, \"zerolinecolor\": \"#283442\", \"zerolinewidth\": 2}, \"yaxis\": {\"automargin\": true, \"gridcolor\": \"#283442\", \"linecolor\": \"#506784\", \"ticks\": \"\", \"title\": {\"standoff\": 15}, \"zerolinecolor\": \"#283442\", \"zerolinewidth\": 2}}}},                        {\"responsive\": true}                    ).then(function(){\n",
       "                            \n",
       "var gd = document.getElementById('fbe24796-bc6c-4295-a362-c7dfe23903ff');\n",
       "var x = new MutationObserver(function (mutations, observer) {{\n",
       "        var display = window.getComputedStyle(gd).display;\n",
       "        if (!display || display === 'none') {{\n",
       "            console.log([gd, 'removed!']);\n",
       "            Plotly.purge(gd);\n",
       "            observer.disconnect();\n",
       "        }}\n",
       "}});\n",
       "\n",
       "// Listen for the removal of the full notebook cells\n",
       "var notebookContainer = gd.closest('#notebook-container');\n",
       "if (notebookContainer) {{\n",
       "    x.observe(notebookContainer, {childList: true});\n",
       "}}\n",
       "\n",
       "// Listen for the clearing of the current output cell\n",
       "var outputEl = gd.closest('.output');\n",
       "if (outputEl) {{\n",
       "    x.observe(outputEl, {childList: true});\n",
       "}}\n",
       "\n",
       "                        })                };                });            </script>        </div>"
      ]
     },
     "metadata": {},
     "output_type": "display_data"
    }
   ],
   "source": [
    "ax = px.scatter_3d(df, x=\"Age\", y=\"Glucose\", z=\"Insulin\",template= \"plotly_dark\",color=\"Outcome\")\n",
    "ax.show()"
   ]
  },
  {
   "cell_type": "markdown",
   "id": "swiss-poster",
   "metadata": {
    "papermill": {
     "duration": 0.068554,
     "end_time": "2021-06-11T14:17:08.380748",
     "exception": false,
     "start_time": "2021-06-11T14:17:08.312194",
     "status": "completed"
    },
    "tags": []
   },
   "source": [
    "<p style=\"background-color:Tomato;\">Visualizing the BMI and diabetes pedigree function</p>"
   ]
  },
  {
   "cell_type": "code",
   "execution_count": 21,
   "id": "rental-hello",
   "metadata": {
    "execution": {
     "iopub.execute_input": "2021-06-11T14:17:08.523794Z",
     "iopub.status.busy": "2021-06-11T14:17:08.523139Z",
     "iopub.status.idle": "2021-06-11T14:17:08.525044Z",
     "shell.execute_reply": "2021-06-11T14:17:08.525632Z",
     "shell.execute_reply.started": "2021-06-11T14:10:54.221031Z"
    },
    "papermill": {
     "duration": 0.076166,
     "end_time": "2021-06-11T14:17:08.525828",
     "exception": false,
     "start_time": "2021-06-11T14:17:08.449662",
     "status": "completed"
    },
    "tags": []
   },
   "outputs": [],
   "source": [
    "dt= df.iloc[:,6:]"
   ]
  },
  {
   "cell_type": "code",
   "execution_count": 22,
   "id": "sensitive-bleeding",
   "metadata": {
    "execution": {
     "iopub.execute_input": "2021-06-11T14:17:08.674353Z",
     "iopub.status.busy": "2021-06-11T14:17:08.673654Z",
     "iopub.status.idle": "2021-06-11T14:17:08.743949Z",
     "shell.execute_reply": "2021-06-11T14:17:08.743436Z",
     "shell.execute_reply.started": "2021-06-11T14:10:54.227819Z"
    },
    "papermill": {
     "duration": 0.149771,
     "end_time": "2021-06-11T14:17:08.744106",
     "exception": false,
     "start_time": "2021-06-11T14:17:08.594335",
     "status": "completed"
    },
    "tags": []
   },
   "outputs": [
    {
     "data": {
      "text/html": [
       "<div>                            <div id=\"e2987283-2506-40d1-a3fc-eef5529fccd4\" class=\"plotly-graph-div\" style=\"height:525px; width:100%;\"></div>            <script type=\"text/javascript\">                require([\"plotly\"], function(Plotly) {                    window.PLOTLYENV=window.PLOTLYENV || {};                                    if (document.getElementById(\"e2987283-2506-40d1-a3fc-eef5529fccd4\")) {                    Plotly.newPlot(                        \"e2987283-2506-40d1-a3fc-eef5529fccd4\",                        [{\"dimensions\": [{\"label\": \"DiabetesPedigreeFunction\", \"values\": [0.627, 0.351, 0.672, 0.167, 2.288, 0.201, 0.248, 0.134, 0.158, 0.232, 0.191, 0.537, 1.441, 0.398, 0.587, 0.484, 0.551, 0.254, 0.183, 0.529, 0.704, 0.388, 0.451, 0.263, 0.254, 0.205, 0.257, 0.487, 0.245, 0.337, 0.546, 0.851, 0.267, 0.188, 0.512, 0.966, 0.42, 0.665, 0.503, 1.39, 0.271, 0.696, 0.235, 0.721, 0.294, 1.893, 0.564, 0.586, 0.344, 0.305, 0.491, 0.526, 0.342, 0.467, 0.718, 0.248, 0.254, 0.962, 1.781, 0.173, 0.304, 0.27, 0.587, 0.699, 0.258, 0.203, 0.855, 0.845, 0.334, 0.189, 0.867, 0.411, 0.583, 0.231, 0.396, 0.14, 0.391, 0.37, 0.27, 0.307, 0.14, 0.102, 0.767, 0.237, 0.227, 0.698, 0.178, 0.324, 0.153, 0.165, 0.258, 0.443, 0.261, 0.277, 0.761, 0.255, 0.13, 0.323, 0.356, 0.325, 1.222, 0.179, 0.262, 0.283, 0.93, 0.801, 0.207, 0.287, 0.336, 0.247, 0.199, 0.543, 0.192, 0.391, 0.588, 0.539, 0.22, 0.654, 0.443, 0.223, 0.759, 0.26, 0.404, 0.186, 0.278, 0.496, 0.452, 0.261, 0.403, 0.741, 0.361, 1.114, 0.356, 0.457, 0.647, 0.088, 0.597, 0.532, 0.703, 0.159, 0.268, 0.286, 0.318, 0.272, 0.237, 0.572, 0.096, 1.4, 0.218, 0.085, 0.399, 0.432, 1.189, 0.687, 0.137, 0.337, 0.637, 0.833, 0.229, 0.817, 0.294, 0.204, 0.167, 0.368, 0.743, 0.722, 0.256, 0.709, 0.471, 0.495, 0.18, 0.542, 0.773, 0.678, 0.37, 0.719, 0.382, 0.319, 0.19, 0.956, 0.084, 0.725, 0.299, 0.268, 0.244, 0.745, 0.615, 1.321, 0.64, 0.361, 0.142, 0.374, 0.383, 0.578, 0.136, 0.395, 0.187, 0.678, 0.905, 0.15, 0.874, 0.236, 0.787, 0.235, 0.324, 0.407, 0.605, 0.151, 0.289, 0.355, 0.29, 0.375, 0.164, 0.431, 0.26, 0.742, 0.514, 0.464, 1.224, 0.261, 1.072, 0.805, 0.209, 0.687, 0.666, 0.101, 0.198, 0.652, 2.329, 0.089, 0.645, 0.238, 0.583, 0.394, 0.293, 0.479, 0.586, 0.686, 0.831, 0.582, 0.192, 0.446, 0.402, 1.318, 0.329, 1.213, 0.258, 0.427, 0.282, 0.143, 0.38, 0.284, 0.249, 0.238, 0.926, 0.543, 0.557, 0.092, 0.655, 1.353, 0.299, 0.761, 0.612, 0.2, 0.226, 0.997, 0.933, 1.101, 0.078, 0.24, 1.136, 0.128, 0.254, 0.422, 0.251, 0.677, 0.296, 0.454, 0.744, 0.881, 0.334, 0.28, 0.262, 0.165, 0.259, 0.647, 0.619, 0.808, 0.34, 0.263, 0.434, 0.757, 1.224, 0.613, 0.254, 0.692, 0.337, 0.52, 0.412, 0.84, 0.839, 0.422, 0.156, 0.209, 0.207, 0.215, 0.326, 0.143, 1.391, 0.875, 0.313, 0.605, 0.433, 0.626, 1.127, 0.315, 0.284, 0.345, 0.15, 0.129, 0.527, 0.197, 0.254, 0.731, 0.148, 0.123, 0.692, 0.2, 0.127, 0.122, 1.476, 0.166, 0.282, 0.137, 0.26, 0.259, 0.932, 0.343, 0.893, 0.331, 0.472, 0.673, 0.389, 0.29, 0.485, 0.349, 0.654, 0.187, 0.279, 0.346, 0.237, 0.252, 0.243, 0.58, 0.559, 0.302, 0.962, 0.569, 0.378, 0.875, 0.583, 0.207, 0.305, 0.52, 0.385, 0.499, 0.368, 0.252, 0.306, 0.234, 2.137, 1.731, 0.545, 0.225, 0.816, 0.528, 0.299, 0.509, 0.238, 1.021, 0.821, 0.236, 0.947, 1.268, 0.221, 0.205, 0.66, 0.239, 0.452, 0.949, 0.444, 0.34, 0.389, 0.463, 0.803, 1.6, 0.944, 0.196, 0.389, 0.241, 0.161, 0.151, 0.286, 0.28, 0.135, 0.52, 0.376, 0.336, 1.191, 0.702, 0.674, 0.528, 1.076, 0.256, 0.534, 0.258, 1.095, 0.554, 0.624, 0.219, 0.507, 0.561, 0.496, 0.421, 0.516, 0.264, 0.256, 0.328, 0.284, 0.233, 0.108, 0.551, 0.527, 0.167, 1.138, 0.205, 0.244, 0.434, 0.147, 0.727, 0.435, 0.497, 0.23, 0.955, 0.38, 2.42, 0.658, 0.33, 0.51, 0.285, 0.415, 0.542, 0.381, 0.832, 0.498, 0.212, 0.687, 0.364, 1.001, 0.46, 0.733, 0.416, 0.705, 0.258, 1.022, 0.452, 0.269, 0.6, 0.183, 0.571, 0.607, 0.17, 0.259, 0.21, 0.126, 0.231, 0.711, 0.466, 0.162, 0.419, 0.344, 0.197, 0.306, 0.233, 0.63, 0.365, 0.536, 1.159, 0.294, 0.551, 0.629, 0.292, 0.145, 1.144, 0.174, 0.304, 0.292, 0.547, 0.163, 0.839, 0.313, 0.267, 0.727, 0.738, 0.238, 0.263, 0.314, 0.692, 0.968, 0.409, 0.297, 0.207, 0.2, 0.525, 0.154, 0.268, 0.771, 0.304, 0.18, 0.582, 0.187, 0.305, 0.189, 0.652, 0.151, 0.444, 0.299, 0.107, 0.493, 0.66, 0.717, 0.686, 0.917, 0.501, 1.251, 0.302, 0.197, 0.735, 0.804, 0.968, 0.661, 0.549, 0.825, 0.159, 0.365, 0.423, 1.034, 0.16, 0.341, 0.68, 0.204, 0.591, 0.247, 0.422, 0.471, 0.161, 0.218, 0.237, 0.126, 0.3, 0.121, 0.502, 0.401, 0.497, 0.601, 0.748, 0.412, 0.085, 0.338, 0.203, 0.27, 0.268, 0.43, 0.198, 0.892, 0.28, 0.813, 0.693, 0.245, 0.575, 0.371, 0.206, 0.259, 0.19, 0.687, 0.417, 0.129, 0.249, 1.154, 0.342, 0.925, 0.175, 0.402, 1.699, 0.733, 0.682, 0.194, 0.559, 0.088, 0.407, 0.4, 0.19, 0.1, 0.692, 0.212, 0.514, 1.258, 0.482, 0.27, 0.138, 0.292, 0.593, 0.787, 0.878, 0.557, 0.207, 0.157, 0.257, 1.282, 0.141, 0.246, 1.698, 1.461, 0.347, 0.158, 0.362, 0.206, 0.393, 0.144, 0.148, 0.732, 0.238, 0.343, 0.115, 0.167, 0.465, 0.153, 0.649, 0.871, 0.149, 0.695, 0.303, 0.178, 0.61, 0.73, 0.134, 0.447, 0.455, 0.26, 0.133, 0.234, 0.466, 0.269, 0.455, 0.142, 0.24, 0.155, 1.162, 0.19, 1.292, 0.182, 1.394, 0.165, 0.637, 0.245, 0.217, 0.235, 0.141, 0.43, 0.164, 0.631, 0.551, 0.285, 0.88, 0.587, 0.328, 0.23, 0.263, 0.127, 0.614, 0.332, 0.364, 0.366, 0.536, 0.64, 0.591, 0.314, 0.181, 0.828, 0.335, 0.856, 0.257, 0.886, 0.439, 0.191, 0.128, 0.268, 0.253, 0.598, 0.904, 0.483, 0.565, 0.905, 0.304, 0.118, 0.177, 0.261, 0.176, 0.148, 0.674, 0.295, 0.439, 0.441, 0.352, 0.121, 0.826, 0.97, 0.595, 0.415, 0.378, 0.317, 0.289, 0.349, 0.251, 0.265, 0.236, 0.496, 0.433, 0.326, 0.141, 0.323, 0.259, 0.646, 0.426, 0.56, 0.284, 0.515, 0.6, 0.453, 0.293, 0.785, 0.4, 0.219, 0.734, 1.174, 0.488, 0.358, 1.096, 0.408, 0.178, 1.182, 0.261, 0.223, 0.222, 0.443, 1.057, 0.391, 0.258, 0.197, 0.278, 0.766, 0.403, 0.142, 0.171, 0.34, 0.245, 0.349, 0.315]}, {\"label\": \"Age\", \"values\": [50, 31, 32, 21, 33, 30, 26, 29, 53, 54, 30, 34, 57, 59, 51, 32, 31, 31, 33, 32, 27, 50, 41, 29, 51, 41, 43, 22, 57, 38, 60, 28, 22, 28, 45, 33, 35, 46, 27, 56, 26, 37, 48, 54, 40, 25, 29, 22, 31, 24, 22, 26, 30, 58, 42, 21, 41, 31, 44, 22, 21, 39, 36, 24, 42, 32, 38, 54, 25, 27, 28, 26, 42, 23, 22, 22, 41, 27, 26, 24, 22, 22, 36, 22, 37, 27, 45, 26, 43, 24, 21, 34, 42, 60, 21, 40, 24, 22, 23, 31, 33, 22, 21, 24, 27, 21, 27, 37, 25, 24, 24, 46, 23, 25, 39, 61, 38, 25, 22, 21, 25, 24, 23, 69, 23, 26, 30, 23, 40, 62, 33, 33, 30, 39, 26, 31, 21, 22, 29, 28, 55, 38, 22, 42, 23, 21, 41, 34, 65, 22, 24, 37, 42, 23, 43, 36, 21, 23, 22, 47, 36, 45, 27, 21, 32, 41, 22, 34, 29, 29, 36, 29, 25, 23, 33, 36, 42, 26, 47, 37, 32, 23, 21, 27, 40, 41, 60, 33, 31, 25, 21, 40, 36, 40, 42, 29, 21, 23, 26, 29, 21, 28, 32, 27, 55, 27, 57, 52, 21, 41, 25, 24, 60, 24, 36, 38, 25, 32, 32, 41, 21, 66, 37, 61, 26, 22, 26, 24, 31, 24, 22, 46, 22, 29, 23, 26, 51, 23, 32, 27, 21, 22, 22, 33, 29, 49, 41, 23, 34, 23, 42, 27, 24, 25, 44, 21, 30, 25, 24, 51, 34, 27, 24, 63, 35, 43, 25, 24, 21, 28, 38, 21, 40, 21, 52, 25, 29, 23, 57, 22, 28, 39, 37, 47, 52, 51, 34, 29, 26, 33, 21, 25, 31, 24, 65, 28, 29, 24, 46, 58, 30, 25, 35, 28, 37, 29, 47, 21, 25, 30, 41, 22, 27, 25, 43, 26, 30, 29, 28, 59, 31, 25, 36, 43, 21, 24, 30, 37, 23, 37, 46, 25, 41, 44, 22, 26, 44, 44, 33, 41, 22, 36, 22, 33, 57, 49, 22, 23, 26, 37, 29, 30, 46, 24, 21, 49, 28, 44, 48, 29, 29, 63, 65, 67, 30, 30, 29, 21, 22, 45, 25, 21, 21, 25, 28, 58, 22, 22, 32, 35, 24, 22, 21, 25, 25, 24, 35, 45, 58, 28, 42, 27, 21, 37, 31, 25, 39, 22, 25, 25, 31, 55, 35, 38, 41, 26, 46, 25, 39, 28, 28, 25, 22, 21, 21, 22, 22, 37, 27, 28, 26, 21, 21, 21, 36, 31, 25, 38, 26, 43, 23, 38, 22, 29, 36, 29, 41, 28, 21, 31, 41, 22, 24, 33, 30, 25, 28, 26, 22, 26, 23, 23, 25, 72, 24, 38, 62, 24, 51, 81, 48, 26, 39, 37, 34, 21, 22, 25, 38, 27, 28, 22, 22, 50, 24, 59, 29, 31, 39, 63, 35, 29, 28, 23, 31, 24, 21, 58, 28, 67, 24, 42, 33, 45, 22, 66, 30, 25, 55, 39, 21, 28, 41, 41, 40, 38, 35, 21, 21, 64, 46, 21, 58, 22, 24, 28, 53, 51, 41, 60, 25, 26, 26, 45, 24, 21, 21, 24, 22, 31, 22, 24, 29, 31, 24, 23, 46, 67, 23, 32, 43, 27, 56, 25, 29, 37, 53, 28, 50, 37, 21, 25, 66, 23, 28, 37, 30, 58, 42, 35, 54, 28, 24, 32, 27, 22, 21, 46, 37, 33, 39, 21, 22, 22, 23, 25, 35, 21, 36, 62, 21, 27, 62, 42, 52, 22, 41, 29, 52, 25, 45, 24, 44, 25, 34, 22, 46, 21, 38, 26, 24, 28, 30, 54, 36, 21, 22, 25, 27, 23, 24, 36, 40, 26, 50, 27, 30, 23, 50, 24, 28, 28, 45, 21, 21, 29, 21, 21, 45, 21, 34, 24, 23, 22, 31, 38, 48, 23, 32, 28, 27, 24, 50, 31, 27, 30, 33, 22, 42, 23, 23, 27, 28, 27, 22, 25, 22, 41, 51, 27, 54, 22, 43, 40, 40, 24, 70, 40, 43, 45, 49, 21, 47, 22, 68, 31, 53, 25, 25, 23, 22, 26, 22, 27, 69, 25, 22, 29, 23, 46, 34, 44, 23, 43, 25, 43, 31, 22, 28, 26, 26, 49, 52, 41, 27, 28, 30, 22, 45, 23, 24, 40, 38, 21, 32, 34, 31, 56, 24, 52, 34, 21, 42, 42, 45, 38, 25, 22, 22, 22, 34, 22, 24, 22, 53, 28, 21, 42, 21, 42, 48, 26, 22, 45, 39, 46, 27, 32, 36, 50, 22, 28, 25, 26, 45, 37, 39, 52, 26, 66, 22, 43, 33, 63, 27, 30, 47, 23]}, {\"label\": \"Outcome\", \"values\": [1, 0, 1, 0, 1, 0, 1, 0, 1, 1, 0, 1, 0, 1, 1, 1, 1, 1, 0, 1, 0, 0, 1, 1, 1, 1, 1, 0, 0, 0, 0, 1, 0, 0, 0, 0, 0, 1, 1, 1, 0, 0, 0, 1, 0, 1, 0, 0, 1, 0, 0, 0, 0, 1, 0, 0, 1, 0, 0, 0, 0, 1, 0, 0, 1, 0, 1, 0, 0, 0, 1, 0, 1, 0, 0, 0, 0, 0, 1, 0, 0, 0, 0, 0, 1, 0, 0, 0, 1, 0, 0, 0, 0, 1, 0, 0, 0, 0, 0, 1, 1, 0, 0, 0, 0, 0, 0, 0, 0, 1, 1, 1, 0, 0, 1, 1, 1, 0, 0, 0, 1, 0, 0, 0, 1, 1, 0, 0, 1, 1, 1, 1, 1, 0, 0, 0, 0, 0, 0, 0, 0, 0, 0, 1, 0, 0, 0, 0, 0, 0, 0, 0, 1, 0, 1, 1, 0, 0, 0, 1, 0, 0, 0, 0, 1, 1, 0, 0, 0, 0, 1, 1, 0, 0, 0, 1, 0, 1, 0, 1, 0, 0, 0, 0, 0, 1, 1, 1, 1, 1, 0, 0, 1, 1, 0, 1, 0, 1, 1, 1, 0, 0, 0, 0, 0, 0, 1, 1, 0, 1, 0, 0, 0, 1, 1, 1, 1, 0, 1, 1, 1, 1, 0, 0, 0, 0, 0, 1, 0, 0, 1, 1, 0, 0, 0, 1, 1, 1, 1, 0, 0, 0, 1, 1, 0, 1, 0, 0, 0, 0, 0, 0, 0, 0, 1, 1, 0, 0, 0, 1, 0, 1, 0, 0, 1, 0, 1, 0, 0, 1, 1, 0, 0, 0, 0, 0, 1, 0, 0, 0, 1, 0, 0, 1, 1, 0, 0, 1, 0, 0, 0, 1, 1, 1, 0, 0, 1, 0, 1, 0, 1, 1, 0, 1, 0, 0, 1, 0, 1, 1, 0, 0, 1, 0, 1, 0, 0, 1, 0, 1, 0, 1, 1, 1, 0, 0, 1, 0, 1, 0, 0, 0, 1, 0, 0, 0, 0, 1, 1, 1, 0, 0, 0, 0, 0, 0, 0, 0, 0, 1, 0, 0, 0, 0, 0, 1, 1, 1, 0, 1, 1, 0, 0, 1, 0, 0, 1, 0, 0, 1, 1, 0, 0, 0, 0, 1, 0, 0, 1, 0, 0, 0, 0, 0, 0, 0, 1, 1, 1, 0, 0, 1, 0, 0, 1, 0, 0, 1, 0, 1, 1, 0, 1, 0, 1, 0, 1, 0, 1, 1, 0, 0, 0, 0, 1, 1, 0, 1, 0, 1, 0, 0, 0, 0, 1, 1, 0, 1, 0, 1, 0, 0, 0, 0, 0, 1, 0, 0, 0, 0, 1, 0, 0, 1, 1, 1, 0, 0, 1, 0, 0, 1, 0, 0, 0, 1, 0, 0, 1, 0, 0, 0, 0, 0, 0, 0, 0, 0, 1, 0, 0, 0, 0, 0, 0, 0, 1, 0, 0, 0, 1, 0, 0, 0, 1, 1, 0, 0, 0, 0, 0, 0, 0, 1, 0, 0, 0, 0, 1, 0, 0, 0, 1, 0, 0, 0, 1, 0, 0, 0, 1, 0, 0, 0, 0, 1, 1, 0, 0, 0, 0, 0, 0, 1, 0, 0, 0, 0, 0, 0, 0, 0, 0, 0, 0, 1, 0, 0, 0, 1, 1, 1, 1, 0, 0, 1, 1, 0, 0, 0, 0, 0, 0, 0, 0, 0, 0, 0, 0, 0, 1, 1, 0, 0, 0, 0, 0, 0, 0, 1, 0, 0, 0, 0, 0, 0, 0, 1, 0, 1, 1, 0, 0, 0, 1, 0, 1, 0, 1, 0, 1, 0, 1, 0, 0, 1, 0, 0, 1, 0, 0, 0, 0, 1, 1, 0, 1, 0, 0, 0, 0, 1, 1, 0, 1, 0, 0, 0, 1, 1, 0, 0, 0, 0, 0, 0, 0, 0, 0, 0, 1, 0, 0, 0, 0, 1, 0, 0, 1, 0, 0, 0, 1, 0, 0, 0, 1, 1, 1, 0, 0, 0, 0, 0, 0, 1, 0, 0, 0, 1, 0, 1, 1, 1, 1, 0, 1, 1, 0, 0, 0, 0, 0, 0, 0, 1, 1, 0, 1, 0, 0, 1, 0, 1, 0, 0, 0, 0, 0, 1, 0, 1, 0, 1, 0, 1, 1, 0, 0, 0, 0, 1, 1, 0, 0, 0, 1, 0, 1, 1, 0, 0, 1, 0, 0, 1, 1, 0, 0, 1, 0, 0, 1, 0, 0, 0, 0, 0, 0, 0, 1, 1, 1, 0, 0, 0, 0, 0, 0, 1, 1, 0, 0, 1, 0, 0, 1, 0, 1, 1, 1, 0, 0, 1, 1, 1, 0, 1, 0, 1, 0, 1, 0, 0, 0, 0, 1, 0]}], \"domain\": {\"x\": [0.0, 1.0], \"y\": [0.0, 1.0]}, \"line\": {\"color\": [1, 0, 1, 0, 1, 0, 1, 0, 1, 1, 0, 1, 0, 1, 1, 1, 1, 1, 0, 1, 0, 0, 1, 1, 1, 1, 1, 0, 0, 0, 0, 1, 0, 0, 0, 0, 0, 1, 1, 1, 0, 0, 0, 1, 0, 1, 0, 0, 1, 0, 0, 0, 0, 1, 0, 0, 1, 0, 0, 0, 0, 1, 0, 0, 1, 0, 1, 0, 0, 0, 1, 0, 1, 0, 0, 0, 0, 0, 1, 0, 0, 0, 0, 0, 1, 0, 0, 0, 1, 0, 0, 0, 0, 1, 0, 0, 0, 0, 0, 1, 1, 0, 0, 0, 0, 0, 0, 0, 0, 1, 1, 1, 0, 0, 1, 1, 1, 0, 0, 0, 1, 0, 0, 0, 1, 1, 0, 0, 1, 1, 1, 1, 1, 0, 0, 0, 0, 0, 0, 0, 0, 0, 0, 1, 0, 0, 0, 0, 0, 0, 0, 0, 1, 0, 1, 1, 0, 0, 0, 1, 0, 0, 0, 0, 1, 1, 0, 0, 0, 0, 1, 1, 0, 0, 0, 1, 0, 1, 0, 1, 0, 0, 0, 0, 0, 1, 1, 1, 1, 1, 0, 0, 1, 1, 0, 1, 0, 1, 1, 1, 0, 0, 0, 0, 0, 0, 1, 1, 0, 1, 0, 0, 0, 1, 1, 1, 1, 0, 1, 1, 1, 1, 0, 0, 0, 0, 0, 1, 0, 0, 1, 1, 0, 0, 0, 1, 1, 1, 1, 0, 0, 0, 1, 1, 0, 1, 0, 0, 0, 0, 0, 0, 0, 0, 1, 1, 0, 0, 0, 1, 0, 1, 0, 0, 1, 0, 1, 0, 0, 1, 1, 0, 0, 0, 0, 0, 1, 0, 0, 0, 1, 0, 0, 1, 1, 0, 0, 1, 0, 0, 0, 1, 1, 1, 0, 0, 1, 0, 1, 0, 1, 1, 0, 1, 0, 0, 1, 0, 1, 1, 0, 0, 1, 0, 1, 0, 0, 1, 0, 1, 0, 1, 1, 1, 0, 0, 1, 0, 1, 0, 0, 0, 1, 0, 0, 0, 0, 1, 1, 1, 0, 0, 0, 0, 0, 0, 0, 0, 0, 1, 0, 0, 0, 0, 0, 1, 1, 1, 0, 1, 1, 0, 0, 1, 0, 0, 1, 0, 0, 1, 1, 0, 0, 0, 0, 1, 0, 0, 1, 0, 0, 0, 0, 0, 0, 0, 1, 1, 1, 0, 0, 1, 0, 0, 1, 0, 0, 1, 0, 1, 1, 0, 1, 0, 1, 0, 1, 0, 1, 1, 0, 0, 0, 0, 1, 1, 0, 1, 0, 1, 0, 0, 0, 0, 1, 1, 0, 1, 0, 1, 0, 0, 0, 0, 0, 1, 0, 0, 0, 0, 1, 0, 0, 1, 1, 1, 0, 0, 1, 0, 0, 1, 0, 0, 0, 1, 0, 0, 1, 0, 0, 0, 0, 0, 0, 0, 0, 0, 1, 0, 0, 0, 0, 0, 0, 0, 1, 0, 0, 0, 1, 0, 0, 0, 1, 1, 0, 0, 0, 0, 0, 0, 0, 1, 0, 0, 0, 0, 1, 0, 0, 0, 1, 0, 0, 0, 1, 0, 0, 0, 1, 0, 0, 0, 0, 1, 1, 0, 0, 0, 0, 0, 0, 1, 0, 0, 0, 0, 0, 0, 0, 0, 0, 0, 0, 1, 0, 0, 0, 1, 1, 1, 1, 0, 0, 1, 1, 0, 0, 0, 0, 0, 0, 0, 0, 0, 0, 0, 0, 0, 1, 1, 0, 0, 0, 0, 0, 0, 0, 1, 0, 0, 0, 0, 0, 0, 0, 1, 0, 1, 1, 0, 0, 0, 1, 0, 1, 0, 1, 0, 1, 0, 1, 0, 0, 1, 0, 0, 1, 0, 0, 0, 0, 1, 1, 0, 1, 0, 0, 0, 0, 1, 1, 0, 1, 0, 0, 0, 1, 1, 0, 0, 0, 0, 0, 0, 0, 0, 0, 0, 1, 0, 0, 0, 0, 1, 0, 0, 1, 0, 0, 0, 1, 0, 0, 0, 1, 1, 1, 0, 0, 0, 0, 0, 0, 1, 0, 0, 0, 1, 0, 1, 1, 1, 1, 0, 1, 1, 0, 0, 0, 0, 0, 0, 0, 1, 1, 0, 1, 0, 0, 1, 0, 1, 0, 0, 0, 0, 0, 1, 0, 1, 0, 1, 0, 1, 1, 0, 0, 0, 0, 1, 1, 0, 0, 0, 1, 0, 1, 1, 0, 0, 1, 0, 0, 1, 1, 0, 0, 1, 0, 0, 1, 0, 0, 0, 0, 0, 0, 0, 1, 1, 1, 0, 0, 0, 0, 0, 0, 1, 1, 0, 0, 1, 0, 0, 1, 0, 1, 1, 1, 0, 0, 1, 1, 1, 0, 1, 0, 1, 0, 1, 0, 0, 0, 0, 1, 0], \"coloraxis\": \"coloraxis\"}, \"name\": \"\", \"type\": \"parcoords\"}],                        {\"coloraxis\": {\"colorbar\": {\"title\": {\"text\": \"Outcome\"}}, \"colorscale\": [[0.0, \"#0d0887\"], [0.1111111111111111, \"#46039f\"], [0.2222222222222222, \"#7201a8\"], [0.3333333333333333, \"#9c179e\"], [0.4444444444444444, \"#bd3786\"], [0.5555555555555556, \"#d8576b\"], [0.6666666666666666, \"#ed7953\"], [0.7777777777777778, \"#fb9f3a\"], [0.8888888888888888, \"#fdca26\"], [1.0, \"#f0f921\"]]}, \"legend\": {\"tracegroupgap\": 0}, \"margin\": {\"t\": 60}, \"template\": {\"data\": {\"bar\": [{\"error_x\": {\"color\": \"#f2f5fa\"}, \"error_y\": {\"color\": \"#f2f5fa\"}, \"marker\": {\"line\": {\"color\": \"rgb(17,17,17)\", \"width\": 0.5}}, \"type\": \"bar\"}], \"barpolar\": [{\"marker\": {\"line\": {\"color\": \"rgb(17,17,17)\", \"width\": 0.5}}, \"type\": \"barpolar\"}], \"carpet\": [{\"aaxis\": {\"endlinecolor\": \"#A2B1C6\", \"gridcolor\": \"#506784\", \"linecolor\": \"#506784\", \"minorgridcolor\": \"#506784\", \"startlinecolor\": \"#A2B1C6\"}, \"baxis\": {\"endlinecolor\": \"#A2B1C6\", \"gridcolor\": \"#506784\", \"linecolor\": \"#506784\", \"minorgridcolor\": \"#506784\", \"startlinecolor\": \"#A2B1C6\"}, \"type\": \"carpet\"}], \"choropleth\": [{\"colorbar\": {\"outlinewidth\": 0, \"ticks\": \"\"}, \"type\": \"choropleth\"}], \"contour\": [{\"colorbar\": {\"outlinewidth\": 0, \"ticks\": \"\"}, \"colorscale\": [[0.0, \"#0d0887\"], [0.1111111111111111, \"#46039f\"], [0.2222222222222222, \"#7201a8\"], [0.3333333333333333, \"#9c179e\"], [0.4444444444444444, \"#bd3786\"], [0.5555555555555556, \"#d8576b\"], [0.6666666666666666, \"#ed7953\"], [0.7777777777777778, \"#fb9f3a\"], [0.8888888888888888, \"#fdca26\"], [1.0, \"#f0f921\"]], \"type\": \"contour\"}], \"contourcarpet\": [{\"colorbar\": {\"outlinewidth\": 0, \"ticks\": \"\"}, \"type\": \"contourcarpet\"}], \"heatmap\": [{\"colorbar\": {\"outlinewidth\": 0, \"ticks\": \"\"}, \"colorscale\": [[0.0, \"#0d0887\"], [0.1111111111111111, \"#46039f\"], [0.2222222222222222, \"#7201a8\"], [0.3333333333333333, \"#9c179e\"], [0.4444444444444444, \"#bd3786\"], [0.5555555555555556, \"#d8576b\"], [0.6666666666666666, \"#ed7953\"], [0.7777777777777778, \"#fb9f3a\"], [0.8888888888888888, \"#fdca26\"], [1.0, \"#f0f921\"]], \"type\": \"heatmap\"}], \"heatmapgl\": [{\"colorbar\": {\"outlinewidth\": 0, \"ticks\": \"\"}, \"colorscale\": [[0.0, \"#0d0887\"], [0.1111111111111111, \"#46039f\"], [0.2222222222222222, \"#7201a8\"], [0.3333333333333333, \"#9c179e\"], [0.4444444444444444, \"#bd3786\"], [0.5555555555555556, \"#d8576b\"], [0.6666666666666666, \"#ed7953\"], [0.7777777777777778, \"#fb9f3a\"], [0.8888888888888888, \"#fdca26\"], [1.0, \"#f0f921\"]], \"type\": \"heatmapgl\"}], \"histogram\": [{\"marker\": {\"colorbar\": {\"outlinewidth\": 0, \"ticks\": \"\"}}, \"type\": \"histogram\"}], \"histogram2d\": [{\"colorbar\": {\"outlinewidth\": 0, \"ticks\": \"\"}, \"colorscale\": [[0.0, \"#0d0887\"], [0.1111111111111111, \"#46039f\"], [0.2222222222222222, \"#7201a8\"], [0.3333333333333333, \"#9c179e\"], [0.4444444444444444, \"#bd3786\"], [0.5555555555555556, \"#d8576b\"], [0.6666666666666666, \"#ed7953\"], [0.7777777777777778, \"#fb9f3a\"], [0.8888888888888888, \"#fdca26\"], [1.0, \"#f0f921\"]], \"type\": \"histogram2d\"}], \"histogram2dcontour\": [{\"colorbar\": {\"outlinewidth\": 0, \"ticks\": \"\"}, \"colorscale\": [[0.0, \"#0d0887\"], [0.1111111111111111, \"#46039f\"], [0.2222222222222222, \"#7201a8\"], [0.3333333333333333, \"#9c179e\"], [0.4444444444444444, \"#bd3786\"], [0.5555555555555556, \"#d8576b\"], [0.6666666666666666, \"#ed7953\"], [0.7777777777777778, \"#fb9f3a\"], [0.8888888888888888, \"#fdca26\"], [1.0, \"#f0f921\"]], \"type\": \"histogram2dcontour\"}], \"mesh3d\": [{\"colorbar\": {\"outlinewidth\": 0, \"ticks\": \"\"}, \"type\": \"mesh3d\"}], \"parcoords\": [{\"line\": {\"colorbar\": {\"outlinewidth\": 0, \"ticks\": \"\"}}, \"type\": \"parcoords\"}], \"pie\": [{\"automargin\": true, \"type\": \"pie\"}], \"scatter\": [{\"marker\": {\"line\": {\"color\": \"#283442\"}}, \"type\": \"scatter\"}], \"scatter3d\": [{\"line\": {\"colorbar\": {\"outlinewidth\": 0, \"ticks\": \"\"}}, \"marker\": {\"colorbar\": {\"outlinewidth\": 0, \"ticks\": \"\"}}, \"type\": \"scatter3d\"}], \"scattercarpet\": [{\"marker\": {\"colorbar\": {\"outlinewidth\": 0, \"ticks\": \"\"}}, \"type\": \"scattercarpet\"}], \"scattergeo\": [{\"marker\": {\"colorbar\": {\"outlinewidth\": 0, \"ticks\": \"\"}}, \"type\": \"scattergeo\"}], \"scattergl\": [{\"marker\": {\"line\": {\"color\": \"#283442\"}}, \"type\": \"scattergl\"}], \"scattermapbox\": [{\"marker\": {\"colorbar\": {\"outlinewidth\": 0, \"ticks\": \"\"}}, \"type\": \"scattermapbox\"}], \"scatterpolar\": [{\"marker\": {\"colorbar\": {\"outlinewidth\": 0, \"ticks\": \"\"}}, \"type\": \"scatterpolar\"}], \"scatterpolargl\": [{\"marker\": {\"colorbar\": {\"outlinewidth\": 0, \"ticks\": \"\"}}, \"type\": \"scatterpolargl\"}], \"scatterternary\": [{\"marker\": {\"colorbar\": {\"outlinewidth\": 0, \"ticks\": \"\"}}, \"type\": \"scatterternary\"}], \"surface\": [{\"colorbar\": {\"outlinewidth\": 0, \"ticks\": \"\"}, \"colorscale\": [[0.0, \"#0d0887\"], [0.1111111111111111, \"#46039f\"], [0.2222222222222222, \"#7201a8\"], [0.3333333333333333, \"#9c179e\"], [0.4444444444444444, \"#bd3786\"], [0.5555555555555556, \"#d8576b\"], [0.6666666666666666, \"#ed7953\"], [0.7777777777777778, \"#fb9f3a\"], [0.8888888888888888, \"#fdca26\"], [1.0, \"#f0f921\"]], \"type\": \"surface\"}], \"table\": [{\"cells\": {\"fill\": {\"color\": \"#506784\"}, \"line\": {\"color\": \"rgb(17,17,17)\"}}, \"header\": {\"fill\": {\"color\": \"#2a3f5f\"}, \"line\": {\"color\": \"rgb(17,17,17)\"}}, \"type\": \"table\"}]}, \"layout\": {\"annotationdefaults\": {\"arrowcolor\": \"#f2f5fa\", \"arrowhead\": 0, \"arrowwidth\": 1}, \"autotypenumbers\": \"strict\", \"coloraxis\": {\"colorbar\": {\"outlinewidth\": 0, \"ticks\": \"\"}}, \"colorscale\": {\"diverging\": [[0, \"#8e0152\"], [0.1, \"#c51b7d\"], [0.2, \"#de77ae\"], [0.3, \"#f1b6da\"], [0.4, \"#fde0ef\"], [0.5, \"#f7f7f7\"], [0.6, \"#e6f5d0\"], [0.7, \"#b8e186\"], [0.8, \"#7fbc41\"], [0.9, \"#4d9221\"], [1, \"#276419\"]], \"sequential\": [[0.0, \"#0d0887\"], [0.1111111111111111, \"#46039f\"], [0.2222222222222222, \"#7201a8\"], [0.3333333333333333, \"#9c179e\"], [0.4444444444444444, \"#bd3786\"], [0.5555555555555556, \"#d8576b\"], [0.6666666666666666, \"#ed7953\"], [0.7777777777777778, \"#fb9f3a\"], [0.8888888888888888, \"#fdca26\"], [1.0, \"#f0f921\"]], \"sequentialminus\": [[0.0, \"#0d0887\"], [0.1111111111111111, \"#46039f\"], [0.2222222222222222, \"#7201a8\"], [0.3333333333333333, \"#9c179e\"], [0.4444444444444444, \"#bd3786\"], [0.5555555555555556, \"#d8576b\"], [0.6666666666666666, \"#ed7953\"], [0.7777777777777778, \"#fb9f3a\"], [0.8888888888888888, \"#fdca26\"], [1.0, \"#f0f921\"]]}, \"colorway\": [\"#636efa\", \"#EF553B\", \"#00cc96\", \"#ab63fa\", \"#FFA15A\", \"#19d3f3\", \"#FF6692\", \"#B6E880\", \"#FF97FF\", \"#FECB52\"], \"font\": {\"color\": \"#f2f5fa\"}, \"geo\": {\"bgcolor\": \"rgb(17,17,17)\", \"lakecolor\": \"rgb(17,17,17)\", \"landcolor\": \"rgb(17,17,17)\", \"showlakes\": true, \"showland\": true, \"subunitcolor\": \"#506784\"}, \"hoverlabel\": {\"align\": \"left\"}, \"hovermode\": \"closest\", \"mapbox\": {\"style\": \"dark\"}, \"paper_bgcolor\": \"rgb(17,17,17)\", \"plot_bgcolor\": \"rgb(17,17,17)\", \"polar\": {\"angularaxis\": {\"gridcolor\": \"#506784\", \"linecolor\": \"#506784\", \"ticks\": \"\"}, \"bgcolor\": \"rgb(17,17,17)\", \"radialaxis\": {\"gridcolor\": \"#506784\", \"linecolor\": \"#506784\", \"ticks\": \"\"}}, \"scene\": {\"xaxis\": {\"backgroundcolor\": \"rgb(17,17,17)\", \"gridcolor\": \"#506784\", \"gridwidth\": 2, \"linecolor\": \"#506784\", \"showbackground\": true, \"ticks\": \"\", \"zerolinecolor\": \"#C8D4E3\"}, \"yaxis\": {\"backgroundcolor\": \"rgb(17,17,17)\", \"gridcolor\": \"#506784\", \"gridwidth\": 2, \"linecolor\": \"#506784\", \"showbackground\": true, \"ticks\": \"\", \"zerolinecolor\": \"#C8D4E3\"}, \"zaxis\": {\"backgroundcolor\": \"rgb(17,17,17)\", \"gridcolor\": \"#506784\", \"gridwidth\": 2, \"linecolor\": \"#506784\", \"showbackground\": true, \"ticks\": \"\", \"zerolinecolor\": \"#C8D4E3\"}}, \"shapedefaults\": {\"line\": {\"color\": \"#f2f5fa\"}}, \"sliderdefaults\": {\"bgcolor\": \"#C8D4E3\", \"bordercolor\": \"rgb(17,17,17)\", \"borderwidth\": 1, \"tickwidth\": 0}, \"ternary\": {\"aaxis\": {\"gridcolor\": \"#506784\", \"linecolor\": \"#506784\", \"ticks\": \"\"}, \"baxis\": {\"gridcolor\": \"#506784\", \"linecolor\": \"#506784\", \"ticks\": \"\"}, \"bgcolor\": \"rgb(17,17,17)\", \"caxis\": {\"gridcolor\": \"#506784\", \"linecolor\": \"#506784\", \"ticks\": \"\"}}, \"title\": {\"x\": 0.05}, \"updatemenudefaults\": {\"bgcolor\": \"#506784\", \"borderwidth\": 0}, \"xaxis\": {\"automargin\": true, \"gridcolor\": \"#283442\", \"linecolor\": \"#506784\", \"ticks\": \"\", \"title\": {\"standoff\": 15}, \"zerolinecolor\": \"#283442\", \"zerolinewidth\": 2}, \"yaxis\": {\"automargin\": true, \"gridcolor\": \"#283442\", \"linecolor\": \"#506784\", \"ticks\": \"\", \"title\": {\"standoff\": 15}, \"zerolinecolor\": \"#283442\", \"zerolinewidth\": 2}}}},                        {\"responsive\": true}                    ).then(function(){\n",
       "                            \n",
       "var gd = document.getElementById('e2987283-2506-40d1-a3fc-eef5529fccd4');\n",
       "var x = new MutationObserver(function (mutations, observer) {{\n",
       "        var display = window.getComputedStyle(gd).display;\n",
       "        if (!display || display === 'none') {{\n",
       "            console.log([gd, 'removed!']);\n",
       "            Plotly.purge(gd);\n",
       "            observer.disconnect();\n",
       "        }}\n",
       "}});\n",
       "\n",
       "// Listen for the removal of the full notebook cells\n",
       "var notebookContainer = gd.closest('#notebook-container');\n",
       "if (notebookContainer) {{\n",
       "    x.observe(notebookContainer, {childList: true});\n",
       "}}\n",
       "\n",
       "// Listen for the clearing of the current output cell\n",
       "var outputEl = gd.closest('.output');\n",
       "if (outputEl) {{\n",
       "    x.observe(outputEl, {childList: true});\n",
       "}}\n",
       "\n",
       "                        })                };                });            </script>        </div>"
      ]
     },
     "metadata": {},
     "output_type": "display_data"
    }
   ],
   "source": [
    "ax= px.parallel_coordinates(dt, color=\"Outcome\",template= \"plotly_dark\")\n",
    "ax.show()"
   ]
  },
  {
   "cell_type": "code",
   "execution_count": 23,
   "id": "behavioral-croatia",
   "metadata": {
    "execution": {
     "iopub.execute_input": "2021-06-11T14:17:08.896301Z",
     "iopub.status.busy": "2021-06-11T14:17:08.895554Z",
     "iopub.status.idle": "2021-06-11T14:17:08.971189Z",
     "shell.execute_reply": "2021-06-11T14:17:08.971679Z",
     "shell.execute_reply.started": "2021-06-11T14:10:54.313017Z"
    },
    "papermill": {
     "duration": 0.158,
     "end_time": "2021-06-11T14:17:08.971861",
     "exception": false,
     "start_time": "2021-06-11T14:17:08.813861",
     "status": "completed"
    },
    "tags": []
   },
   "outputs": [
    {
     "data": {
      "text/html": [
       "<div>                            <div id=\"8df3f18f-bc7b-4169-8508-ac8cd7c32d8e\" class=\"plotly-graph-div\" style=\"height:525px; width:100%;\"></div>            <script type=\"text/javascript\">                require([\"plotly\"], function(Plotly) {                    window.PLOTLYENV=window.PLOTLYENV || {};                                    if (document.getElementById(\"8df3f18f-bc7b-4169-8508-ac8cd7c32d8e\")) {                    Plotly.newPlot(                        \"8df3f18f-bc7b-4169-8508-ac8cd7c32d8e\",                        [{\"hovertemplate\": \"Outcome=1<br>Age=%{x}<br>BMI=%{y}<extra></extra>\", \"legendgroup\": \"1\", \"line\": {\"color\": \"#636efa\"}, \"mode\": \"lines\", \"name\": \"1\", \"orientation\": \"v\", \"showlegend\": true, \"stackgroup\": \"1\", \"type\": \"scatter\", \"x\": [50, 32, 33, 26, 53, 54, 34, 59, 51, 32, 31, 31, 32, 41, 29, 51, 41, 43, 28, 46, 27, 56, 54, 25, 31, 58, 41, 39, 42, 38, 28, 42, 26, 37, 43, 60, 31, 33, 24, 24, 46, 39, 61, 38, 25, 23, 26, 40, 62, 33, 33, 30, 42, 42, 43, 36, 47, 32, 41, 36, 29, 36, 26, 37, 41, 60, 33, 31, 25, 36, 40, 29, 23, 26, 29, 57, 52, 41, 24, 36, 38, 25, 32, 41, 21, 66, 24, 22, 46, 26, 51, 23, 32, 22, 33, 49, 44, 21, 51, 27, 35, 25, 28, 38, 29, 28, 47, 52, 29, 25, 31, 24, 29, 46, 30, 25, 28, 47, 25, 30, 27, 43, 29, 59, 25, 36, 43, 30, 23, 41, 44, 33, 41, 37, 49, 28, 44, 29, 29, 67, 29, 45, 25, 58, 32, 35, 45, 58, 27, 31, 22, 25, 31, 35, 41, 46, 39, 28, 21, 22, 37, 28, 36, 31, 38, 43, 29, 41, 33, 30, 25, 22, 23, 38, 51, 38, 29, 35, 31, 24, 45, 55, 41, 35, 46, 28, 53, 45, 23, 32, 43, 27, 56, 37, 53, 54, 28, 33, 21, 62, 21, 52, 41, 52, 45, 44, 22, 38, 54, 36, 22, 36, 40, 50, 50, 24, 34, 38, 32, 50, 33, 22, 42, 25, 27, 22, 43, 40, 40, 70, 40, 31, 53, 25, 26, 27, 46, 44, 43, 43, 31, 49, 52, 30, 45, 23, 38, 34, 31, 52, 42, 34, 22, 24, 42, 48, 45, 27, 36, 50, 22, 26, 45, 37, 52, 66, 43, 47], \"xaxis\": \"x\", \"y\": [33.6, 23.3, 43.1, 31.0, 30.5, 32.457463672391015, 38.0, 30.1, 25.8, 30.0, 45.8, 29.6, 34.6, 39.8, 29.0, 36.6, 31.1, 39.4, 31.6, 32.9, 38.2, 37.1, 45.4, 42.0, 39.1, 33.7, 37.7, 32.9, 32.8, 32.5, 32.9, 43.4, 43.2, 48.8, 37.1, 23.8, 49.7, 39.0, 37.4, 33.3, 34.0, 30.5, 31.2, 34.0, 53.2, 33.3, 55.0, 34.5, 27.9, 29.7, 33.3, 34.5, 32.4, 34.3, 47.9, 50.0, 40.9, 31.6, 29.9, 30.8, 35.4, 32.7, 67.1, 39.1, 35.9, 30.1, 32.0, 27.9, 31.6, 30.4, 52.3, 39.4, 22.9, 34.8, 30.9, 37.5, 37.7, 35.5, 42.6, 34.2, 41.8, 35.8, 29.0, 37.8, 34.6, 31.6, 37.2, 44.0, 46.2, 43.6, 35.9, 44.1, 30.8, 25.6, 27.1, 30.0, 27.6, 33.6, 33.3, 30.0, 32.0, 36.3, 27.5, 45.6, 26.5, 37.9, 30.4, 27.0, 45.6, 36.6, 43.3, 40.5, 28.0, 36.6, 32.3, 31.6, 52.9, 25.5, 30.5, 32.9, 26.6, 35.9, 30.5, 23.5, 31.6, 27.4, 26.8, 35.1, 45.5, 43.3, 31.2, 34.2, 39.9, 41.0, 30.4, 33.3, 39.9, 36.5, 31.2, 38.5, 27.6, 32.8, 38.4, 39.2, 48.3, 32.3, 43.3, 32.0, 45.7, 32.9, 34.3, 34.9, 32.0, 35.0, 32.9, 28.9, 25.9, 42.4, 34.6, 35.7, 38.5, 26.4, 42.9, 37.0, 34.1, 35.0, 42.4, 34.3, 30.5, 29.7, 59.4, 33.6, 28.9, 33.6, 37.6, 30.0, 33.7, 35.5, 44.2, 42.3, 28.9, 25.1, 39.0, 36.5, 29.7, 31.6, 30.3, 34.2, 32.9, 36.4, 39.4, 32.4, 34.9, 34.5, 43.6, 33.8, 41.3, 34.3, 42.9, 34.7, 42.1, 28.7, 34.9, 33.3, 46.8, 34.4, 32.0, 36.8, 35.2, 28.4, 40.0, 32.9, 38.2, 36.1, 28.2, 32.4, 27.4, 31.2, 40.9, 29.5, 23.4, 37.8, 28.3, 38.7, 34.2, 42.9, 37.6, 37.9, 33.7, 32.5, 27.5, 30.9, 24.8, 36.0, 49.6, 32.3, 46.1, 42.3, 38.5, 30.4, 29.9, 27.6, 35.0, 32.457463672391015, 32.8, 38.0, 41.2, 33.9, 33.8, 35.6, 29.3, 28.4, 28.4, 44.5, 39.5, 42.3, 32.7, 49.3, 36.4, 24.3, 31.2, 43.3, 32.4, 36.5, 36.3, 35.5, 44.0, 30.1], \"yaxis\": \"y\"}, {\"hovertemplate\": \"Outcome=0<br>Age=%{x}<br>BMI=%{y}<extra></extra>\", \"legendgroup\": \"0\", \"line\": {\"color\": \"#EF553B\"}, \"mode\": \"lines\", \"name\": \"0\", \"orientation\": \"v\", \"showlegend\": true, \"stackgroup\": \"1\", \"type\": \"scatter\", \"x\": [31, 21, 30, 29, 30, 57, 33, 27, 50, 22, 57, 38, 60, 22, 28, 45, 33, 35, 26, 37, 48, 40, 29, 22, 24, 22, 26, 30, 42, 21, 31, 44, 22, 21, 36, 24, 32, 54, 25, 27, 26, 23, 22, 22, 41, 27, 24, 22, 22, 36, 22, 27, 45, 26, 24, 21, 34, 42, 21, 40, 24, 22, 23, 22, 21, 24, 27, 21, 27, 37, 25, 23, 25, 25, 22, 21, 24, 23, 69, 30, 23, 39, 26, 31, 21, 22, 29, 28, 55, 38, 22, 23, 21, 41, 34, 65, 22, 24, 37, 23, 21, 23, 22, 36, 45, 27, 21, 22, 34, 29, 29, 25, 23, 33, 42, 47, 32, 23, 21, 27, 40, 21, 40, 42, 21, 21, 28, 32, 27, 55, 27, 21, 25, 24, 60, 32, 37, 61, 26, 22, 26, 31, 24, 22, 29, 23, 27, 21, 22, 29, 41, 23, 34, 23, 42, 27, 24, 25, 30, 25, 24, 34, 24, 63, 43, 24, 21, 21, 40, 21, 52, 25, 23, 57, 22, 39, 37, 51, 34, 26, 33, 21, 65, 28, 24, 58, 35, 37, 29, 21, 41, 22, 25, 26, 30, 28, 31, 21, 24, 37, 37, 46, 25, 44, 22, 26, 44, 22, 36, 22, 33, 57, 49, 22, 23, 26, 29, 30, 46, 24, 21, 48, 63, 65, 30, 30, 21, 22, 21, 21, 25, 28, 22, 22, 35, 24, 22, 21, 25, 25, 24, 28, 42, 21, 37, 25, 39, 25, 55, 38, 26, 25, 28, 25, 22, 21, 22, 27, 26, 21, 21, 21, 25, 26, 23, 38, 22, 29, 36, 41, 28, 21, 31, 22, 24, 28, 26, 26, 23, 25, 72, 24, 62, 24, 81, 48, 26, 39, 37, 34, 21, 22, 25, 27, 28, 22, 22, 50, 24, 59, 31, 39, 63, 29, 28, 23, 21, 58, 28, 67, 24, 42, 33, 22, 66, 30, 25, 39, 21, 28, 41, 40, 38, 21, 21, 64, 21, 58, 22, 24, 51, 41, 60, 25, 26, 26, 24, 21, 21, 24, 22, 31, 22, 24, 29, 31, 24, 46, 67, 23, 25, 29, 28, 50, 37, 21, 25, 66, 23, 28, 37, 30, 58, 42, 35, 24, 32, 27, 22, 21, 46, 37, 39, 21, 22, 22, 23, 25, 35, 36, 27, 62, 42, 22, 29, 25, 24, 25, 34, 46, 21, 26, 24, 28, 30, 21, 25, 27, 23, 24, 26, 27, 30, 23, 28, 28, 45, 21, 21, 29, 21, 21, 45, 21, 24, 23, 22, 31, 48, 23, 28, 27, 24, 31, 27, 30, 23, 23, 27, 28, 27, 22, 22, 41, 51, 54, 24, 43, 45, 49, 21, 47, 22, 68, 25, 23, 22, 22, 69, 25, 22, 29, 23, 34, 23, 25, 22, 28, 26, 26, 41, 27, 28, 22, 24, 40, 21, 32, 56, 24, 34, 21, 42, 45, 38, 25, 22, 22, 22, 22, 53, 28, 21, 42, 21, 26, 22, 39, 46, 32, 28, 25, 39, 26, 22, 33, 63, 27, 30, 23], \"xaxis\": \"x\", \"y\": [26.6, 28.1, 25.6, 35.3, 37.6, 27.1, 43.3, 39.3, 35.4, 23.2, 22.2, 34.1, 36.0, 24.8, 19.9, 27.6, 24.0, 33.2, 34.0, 40.2, 22.7, 27.4, 29.7, 28.0, 32.457463672391015, 19.4, 24.2, 24.4, 34.7, 23.0, 46.8, 40.5, 41.5, 32.457463672391015, 25.0, 25.4, 29.0, 42.7, 19.6, 28.9, 28.6, 35.1, 32.0, 24.7, 32.6, 37.7, 25.0, 22.4, 32.457463672391015, 29.3, 24.6, 32.4, 36.6, 38.5, 26.5, 19.1, 32.0, 46.7, 24.7, 33.9, 31.6, 20.4, 28.7, 26.1, 22.5, 26.6, 39.6, 28.7, 22.4, 29.5, 34.3, 31.2, 34.0, 33.7, 28.2, 23.2, 34.2, 33.6, 26.8, 42.9, 33.3, 38.3, 21.1, 33.8, 30.8, 28.7, 31.2, 36.9, 21.1, 39.5, 32.5, 32.8, 32.457463672391015, 32.8, 30.5, 33.7, 27.3, 37.4, 21.9, 40.6, 24.6, 25.2, 29.0, 29.7, 37.2, 44.2, 29.7, 32.5, 29.6, 31.9, 28.4, 28.9, 43.5, 29.7, 31.2, 45.0, 23.2, 34.9, 27.7, 26.8, 27.6, 22.6, 33.1, 24.4, 24.3, 31.0, 40.1, 27.3, 20.4, 37.7, 23.9, 33.2, 27.7, 42.8, 34.2, 30.0, 25.2, 28.8, 23.6, 34.6, 35.7, 36.7, 45.2, 25.4, 35.0, 29.7, 18.4, 29.2, 33.1, 38.2, 31.2, 52.3, 35.4, 30.1, 31.2, 28.0, 24.4, 35.8, 30.1, 28.7, 25.9, 30.9, 32.1, 32.4, 33.6, 40.0, 25.1, 25.2, 23.0, 33.2, 34.2, 40.5, 27.8, 24.9, 25.3, 35.9, 32.4, 26.0, 38.7, 20.8, 36.1, 36.9, 21.9, 35.5, 30.7, 23.6, 35.8, 21.0, 39.7, 24.8, 26.2, 39.4, 29.5, 34.1, 19.3, 38.1, 27.5, 35.7, 25.6, 35.1, 30.8, 23.1, 32.7, 23.6, 23.9, 47.9, 33.8, 25.9, 25.9, 32.0, 34.7, 36.8, 38.5, 28.7, 23.5, 21.8, 42.2, 31.2, 34.4, 27.2, 42.7, 35.3, 29.8, 39.2, 34.9, 34.0, 21.0, 27.5, 32.457463672391015, 35.8, 34.9, 36.2, 25.2, 37.2, 43.4, 30.8, 20.0, 25.4, 25.1, 24.3, 22.3, 31.6, 32.0, 23.7, 22.1, 27.7, 24.7, 21.1, 24.2, 31.6, 42.1, 21.9, 35.7, 34.4, 42.4, 26.2, 27.2, 18.2, 45.3, 26.0, 40.6, 30.8, 32.457463672391015, 40.6, 22.2, 30.4, 30.0, 25.6, 24.5, 37.4, 29.9, 18.2, 36.8, 32.2, 33.2, 25.3, 36.5, 30.5, 21.2, 39.9, 19.6, 37.8, 26.7, 30.2, 25.9, 20.8, 21.8, 35.3, 27.6, 24.0, 21.8, 27.8, 36.8, 46.1, 41.3, 33.2, 38.8, 29.9, 28.9, 27.3, 23.8, 25.9, 28.0, 35.2, 27.8, 38.2, 40.7, 46.5, 25.6, 26.1, 36.8, 33.5, 32.8, 32.457463672391015, 26.6, 26.0, 30.1, 29.3, 25.2, 37.2, 33.3, 37.3, 33.3, 28.6, 30.4, 25.0, 22.1, 24.2, 27.3, 25.6, 37.6, 32.8, 19.6, 25.0, 33.2, 32.457463672391015, 31.6, 21.8, 18.2, 26.3, 30.8, 24.6, 29.8, 45.3, 41.3, 29.8, 33.3, 29.6, 21.7, 36.3, 39.5, 32.0, 33.1, 32.8, 28.5, 27.4, 31.9, 27.8, 29.9, 36.9, 25.5, 38.1, 27.8, 46.2, 30.1, 37.6, 26.9, 32.4, 26.1, 38.6, 32.0, 31.3, 32.5, 22.6, 29.5, 34.7, 30.1, 35.5, 24.0, 27.0, 25.0, 26.5, 38.7, 22.5, 24.3, 21.1, 39.4, 28.5, 33.6, 45.3, 27.8, 23.1, 27.1, 23.7, 27.8, 35.8, 19.5, 41.5, 24.0, 30.9, 32.5, 25.8, 28.7, 20.1, 38.4, 24.2, 40.8, 43.5, 30.8, 37.7, 24.7, 32.4, 34.6, 24.7, 34.5, 26.2, 27.5, 25.9, 28.8, 31.6, 19.5, 29.3, 34.3, 28.0, 27.6, 39.4, 26.4, 25.2, 33.8, 34.1, 26.8, 34.2, 21.8, 38.9, 39.0, 27.7, 34.8, 34.0, 30.9, 33.6, 25.4, 35.5, 57.3, 35.6, 35.3, 24.2, 24.2, 44.6, 32.457463672391015, 33.2, 23.1, 28.3, 24.1, 24.6, 39.1, 23.5, 25.0, 34.5, 44.5, 35.9, 38.5, 28.4, 39.8, 34.4, 31.2, 29.6, 26.4, 29.5, 23.1, 35.5, 29.3, 38.1, 39.1, 32.8, 39.4, 36.1, 32.4, 22.9, 30.1, 29.0, 23.3, 35.4, 27.4, 32.0, 36.6, 30.8, 28.5, 40.6, 30.0, 46.3, 39.0, 26.0, 32.0, 37.5, 28.4, 22.5, 32.9, 36.8, 26.2, 30.4], \"yaxis\": \"y\"}],                        {\"legend\": {\"title\": {\"text\": \"Outcome\"}, \"tracegroupgap\": 0}, \"margin\": {\"t\": 60}, \"template\": {\"data\": {\"bar\": [{\"error_x\": {\"color\": \"#f2f5fa\"}, \"error_y\": {\"color\": \"#f2f5fa\"}, \"marker\": {\"line\": {\"color\": \"rgb(17,17,17)\", \"width\": 0.5}}, \"type\": \"bar\"}], \"barpolar\": [{\"marker\": {\"line\": {\"color\": \"rgb(17,17,17)\", \"width\": 0.5}}, \"type\": \"barpolar\"}], \"carpet\": [{\"aaxis\": {\"endlinecolor\": \"#A2B1C6\", \"gridcolor\": \"#506784\", \"linecolor\": \"#506784\", \"minorgridcolor\": \"#506784\", \"startlinecolor\": \"#A2B1C6\"}, \"baxis\": {\"endlinecolor\": \"#A2B1C6\", \"gridcolor\": \"#506784\", \"linecolor\": \"#506784\", \"minorgridcolor\": \"#506784\", \"startlinecolor\": \"#A2B1C6\"}, \"type\": \"carpet\"}], \"choropleth\": [{\"colorbar\": {\"outlinewidth\": 0, \"ticks\": \"\"}, \"type\": \"choropleth\"}], \"contour\": [{\"colorbar\": {\"outlinewidth\": 0, \"ticks\": \"\"}, \"colorscale\": [[0.0, \"#0d0887\"], [0.1111111111111111, \"#46039f\"], [0.2222222222222222, \"#7201a8\"], [0.3333333333333333, \"#9c179e\"], [0.4444444444444444, \"#bd3786\"], [0.5555555555555556, \"#d8576b\"], [0.6666666666666666, \"#ed7953\"], [0.7777777777777778, \"#fb9f3a\"], [0.8888888888888888, \"#fdca26\"], [1.0, \"#f0f921\"]], \"type\": \"contour\"}], \"contourcarpet\": [{\"colorbar\": {\"outlinewidth\": 0, \"ticks\": \"\"}, \"type\": \"contourcarpet\"}], \"heatmap\": [{\"colorbar\": {\"outlinewidth\": 0, \"ticks\": \"\"}, \"colorscale\": [[0.0, \"#0d0887\"], [0.1111111111111111, \"#46039f\"], [0.2222222222222222, \"#7201a8\"], [0.3333333333333333, \"#9c179e\"], [0.4444444444444444, \"#bd3786\"], [0.5555555555555556, \"#d8576b\"], [0.6666666666666666, \"#ed7953\"], [0.7777777777777778, \"#fb9f3a\"], [0.8888888888888888, \"#fdca26\"], [1.0, \"#f0f921\"]], \"type\": \"heatmap\"}], \"heatmapgl\": [{\"colorbar\": {\"outlinewidth\": 0, \"ticks\": \"\"}, \"colorscale\": [[0.0, \"#0d0887\"], [0.1111111111111111, \"#46039f\"], [0.2222222222222222, \"#7201a8\"], [0.3333333333333333, \"#9c179e\"], [0.4444444444444444, \"#bd3786\"], [0.5555555555555556, \"#d8576b\"], [0.6666666666666666, \"#ed7953\"], [0.7777777777777778, \"#fb9f3a\"], [0.8888888888888888, \"#fdca26\"], [1.0, \"#f0f921\"]], \"type\": \"heatmapgl\"}], \"histogram\": [{\"marker\": {\"colorbar\": {\"outlinewidth\": 0, \"ticks\": \"\"}}, \"type\": \"histogram\"}], \"histogram2d\": [{\"colorbar\": {\"outlinewidth\": 0, \"ticks\": \"\"}, \"colorscale\": [[0.0, \"#0d0887\"], [0.1111111111111111, \"#46039f\"], [0.2222222222222222, \"#7201a8\"], [0.3333333333333333, \"#9c179e\"], [0.4444444444444444, \"#bd3786\"], [0.5555555555555556, \"#d8576b\"], [0.6666666666666666, \"#ed7953\"], [0.7777777777777778, \"#fb9f3a\"], [0.8888888888888888, \"#fdca26\"], [1.0, \"#f0f921\"]], \"type\": \"histogram2d\"}], \"histogram2dcontour\": [{\"colorbar\": {\"outlinewidth\": 0, \"ticks\": \"\"}, \"colorscale\": [[0.0, \"#0d0887\"], [0.1111111111111111, \"#46039f\"], [0.2222222222222222, \"#7201a8\"], [0.3333333333333333, \"#9c179e\"], [0.4444444444444444, \"#bd3786\"], [0.5555555555555556, \"#d8576b\"], [0.6666666666666666, \"#ed7953\"], [0.7777777777777778, \"#fb9f3a\"], [0.8888888888888888, \"#fdca26\"], [1.0, \"#f0f921\"]], \"type\": \"histogram2dcontour\"}], \"mesh3d\": [{\"colorbar\": {\"outlinewidth\": 0, \"ticks\": \"\"}, \"type\": \"mesh3d\"}], \"parcoords\": [{\"line\": {\"colorbar\": {\"outlinewidth\": 0, \"ticks\": \"\"}}, \"type\": \"parcoords\"}], \"pie\": [{\"automargin\": true, \"type\": \"pie\"}], \"scatter\": [{\"marker\": {\"line\": {\"color\": \"#283442\"}}, \"type\": \"scatter\"}], \"scatter3d\": [{\"line\": {\"colorbar\": {\"outlinewidth\": 0, \"ticks\": \"\"}}, \"marker\": {\"colorbar\": {\"outlinewidth\": 0, \"ticks\": \"\"}}, \"type\": \"scatter3d\"}], \"scattercarpet\": [{\"marker\": {\"colorbar\": {\"outlinewidth\": 0, \"ticks\": \"\"}}, \"type\": \"scattercarpet\"}], \"scattergeo\": [{\"marker\": {\"colorbar\": {\"outlinewidth\": 0, \"ticks\": \"\"}}, \"type\": \"scattergeo\"}], \"scattergl\": [{\"marker\": {\"line\": {\"color\": \"#283442\"}}, \"type\": \"scattergl\"}], \"scattermapbox\": [{\"marker\": {\"colorbar\": {\"outlinewidth\": 0, \"ticks\": \"\"}}, \"type\": \"scattermapbox\"}], \"scatterpolar\": [{\"marker\": {\"colorbar\": {\"outlinewidth\": 0, \"ticks\": \"\"}}, \"type\": \"scatterpolar\"}], \"scatterpolargl\": [{\"marker\": {\"colorbar\": {\"outlinewidth\": 0, \"ticks\": \"\"}}, \"type\": \"scatterpolargl\"}], \"scatterternary\": [{\"marker\": {\"colorbar\": {\"outlinewidth\": 0, \"ticks\": \"\"}}, \"type\": \"scatterternary\"}], \"surface\": [{\"colorbar\": {\"outlinewidth\": 0, \"ticks\": \"\"}, \"colorscale\": [[0.0, \"#0d0887\"], [0.1111111111111111, \"#46039f\"], [0.2222222222222222, \"#7201a8\"], [0.3333333333333333, \"#9c179e\"], [0.4444444444444444, \"#bd3786\"], [0.5555555555555556, \"#d8576b\"], [0.6666666666666666, \"#ed7953\"], [0.7777777777777778, \"#fb9f3a\"], [0.8888888888888888, \"#fdca26\"], [1.0, \"#f0f921\"]], \"type\": \"surface\"}], \"table\": [{\"cells\": {\"fill\": {\"color\": \"#506784\"}, \"line\": {\"color\": \"rgb(17,17,17)\"}}, \"header\": {\"fill\": {\"color\": \"#2a3f5f\"}, \"line\": {\"color\": \"rgb(17,17,17)\"}}, \"type\": \"table\"}]}, \"layout\": {\"annotationdefaults\": {\"arrowcolor\": \"#f2f5fa\", \"arrowhead\": 0, \"arrowwidth\": 1}, \"autotypenumbers\": \"strict\", \"coloraxis\": {\"colorbar\": {\"outlinewidth\": 0, \"ticks\": \"\"}}, \"colorscale\": {\"diverging\": [[0, \"#8e0152\"], [0.1, \"#c51b7d\"], [0.2, \"#de77ae\"], [0.3, \"#f1b6da\"], [0.4, \"#fde0ef\"], [0.5, \"#f7f7f7\"], [0.6, \"#e6f5d0\"], [0.7, \"#b8e186\"], [0.8, \"#7fbc41\"], [0.9, \"#4d9221\"], [1, \"#276419\"]], \"sequential\": [[0.0, \"#0d0887\"], [0.1111111111111111, \"#46039f\"], [0.2222222222222222, \"#7201a8\"], [0.3333333333333333, \"#9c179e\"], [0.4444444444444444, \"#bd3786\"], [0.5555555555555556, \"#d8576b\"], [0.6666666666666666, \"#ed7953\"], [0.7777777777777778, \"#fb9f3a\"], [0.8888888888888888, \"#fdca26\"], [1.0, \"#f0f921\"]], \"sequentialminus\": [[0.0, \"#0d0887\"], [0.1111111111111111, \"#46039f\"], [0.2222222222222222, \"#7201a8\"], [0.3333333333333333, \"#9c179e\"], [0.4444444444444444, \"#bd3786\"], [0.5555555555555556, \"#d8576b\"], [0.6666666666666666, \"#ed7953\"], [0.7777777777777778, \"#fb9f3a\"], [0.8888888888888888, \"#fdca26\"], [1.0, \"#f0f921\"]]}, \"colorway\": [\"#636efa\", \"#EF553B\", \"#00cc96\", \"#ab63fa\", \"#FFA15A\", \"#19d3f3\", \"#FF6692\", \"#B6E880\", \"#FF97FF\", \"#FECB52\"], \"font\": {\"color\": \"#f2f5fa\"}, \"geo\": {\"bgcolor\": \"rgb(17,17,17)\", \"lakecolor\": \"rgb(17,17,17)\", \"landcolor\": \"rgb(17,17,17)\", \"showlakes\": true, \"showland\": true, \"subunitcolor\": \"#506784\"}, \"hoverlabel\": {\"align\": \"left\"}, \"hovermode\": \"closest\", \"mapbox\": {\"style\": \"dark\"}, \"paper_bgcolor\": \"rgb(17,17,17)\", \"plot_bgcolor\": \"rgb(17,17,17)\", \"polar\": {\"angularaxis\": {\"gridcolor\": \"#506784\", \"linecolor\": \"#506784\", \"ticks\": \"\"}, \"bgcolor\": \"rgb(17,17,17)\", \"radialaxis\": {\"gridcolor\": \"#506784\", \"linecolor\": \"#506784\", \"ticks\": \"\"}}, \"scene\": {\"xaxis\": {\"backgroundcolor\": \"rgb(17,17,17)\", \"gridcolor\": \"#506784\", \"gridwidth\": 2, \"linecolor\": \"#506784\", \"showbackground\": true, \"ticks\": \"\", \"zerolinecolor\": \"#C8D4E3\"}, \"yaxis\": {\"backgroundcolor\": \"rgb(17,17,17)\", \"gridcolor\": \"#506784\", \"gridwidth\": 2, \"linecolor\": \"#506784\", \"showbackground\": true, \"ticks\": \"\", \"zerolinecolor\": \"#C8D4E3\"}, \"zaxis\": {\"backgroundcolor\": \"rgb(17,17,17)\", \"gridcolor\": \"#506784\", \"gridwidth\": 2, \"linecolor\": \"#506784\", \"showbackground\": true, \"ticks\": \"\", \"zerolinecolor\": \"#C8D4E3\"}}, \"shapedefaults\": {\"line\": {\"color\": \"#f2f5fa\"}}, \"sliderdefaults\": {\"bgcolor\": \"#C8D4E3\", \"bordercolor\": \"rgb(17,17,17)\", \"borderwidth\": 1, \"tickwidth\": 0}, \"ternary\": {\"aaxis\": {\"gridcolor\": \"#506784\", \"linecolor\": \"#506784\", \"ticks\": \"\"}, \"baxis\": {\"gridcolor\": \"#506784\", \"linecolor\": \"#506784\", \"ticks\": \"\"}, \"bgcolor\": \"rgb(17,17,17)\", \"caxis\": {\"gridcolor\": \"#506784\", \"linecolor\": \"#506784\", \"ticks\": \"\"}}, \"title\": {\"x\": 0.05}, \"updatemenudefaults\": {\"bgcolor\": \"#506784\", \"borderwidth\": 0}, \"xaxis\": {\"automargin\": true, \"gridcolor\": \"#283442\", \"linecolor\": \"#506784\", \"ticks\": \"\", \"title\": {\"standoff\": 15}, \"zerolinecolor\": \"#283442\", \"zerolinewidth\": 2}, \"yaxis\": {\"automargin\": true, \"gridcolor\": \"#283442\", \"linecolor\": \"#506784\", \"ticks\": \"\", \"title\": {\"standoff\": 15}, \"zerolinecolor\": \"#283442\", \"zerolinewidth\": 2}}}, \"xaxis\": {\"anchor\": \"y\", \"domain\": [0.0, 1.0], \"title\": {\"text\": \"Age\"}}, \"yaxis\": {\"anchor\": \"x\", \"domain\": [0.0, 1.0], \"title\": {\"text\": \"BMI\"}}},                        {\"responsive\": true}                    ).then(function(){\n",
       "                            \n",
       "var gd = document.getElementById('8df3f18f-bc7b-4169-8508-ac8cd7c32d8e');\n",
       "var x = new MutationObserver(function (mutations, observer) {{\n",
       "        var display = window.getComputedStyle(gd).display;\n",
       "        if (!display || display === 'none') {{\n",
       "            console.log([gd, 'removed!']);\n",
       "            Plotly.purge(gd);\n",
       "            observer.disconnect();\n",
       "        }}\n",
       "}});\n",
       "\n",
       "// Listen for the removal of the full notebook cells\n",
       "var notebookContainer = gd.closest('#notebook-container');\n",
       "if (notebookContainer) {{\n",
       "    x.observe(notebookContainer, {childList: true});\n",
       "}}\n",
       "\n",
       "// Listen for the clearing of the current output cell\n",
       "var outputEl = gd.closest('.output');\n",
       "if (outputEl) {{\n",
       "    x.observe(outputEl, {childList: true});\n",
       "}}\n",
       "\n",
       "                        })                };                });            </script>        </div>"
      ]
     },
     "metadata": {},
     "output_type": "display_data"
    }
   ],
   "source": [
    "fig = px.area(df, x=\"Age\", y=\"BMI\", color=\"Outcome\",template= \"plotly_dark\")\n",
    "fig.show()"
   ]
  },
  {
   "cell_type": "code",
   "execution_count": 24,
   "id": "british-birmingham",
   "metadata": {
    "execution": {
     "iopub.execute_input": "2021-06-11T14:17:09.117387Z",
     "iopub.status.busy": "2021-06-11T14:17:09.116727Z",
     "iopub.status.idle": "2021-06-11T14:17:09.121550Z",
     "shell.execute_reply": "2021-06-11T14:17:09.122049Z",
     "shell.execute_reply.started": "2021-06-11T14:10:54.394834Z"
    },
    "papermill": {
     "duration": 0.079669,
     "end_time": "2021-06-11T14:17:09.122291",
     "exception": false,
     "start_time": "2021-06-11T14:17:09.042622",
     "status": "completed"
    },
    "tags": []
   },
   "outputs": [],
   "source": [
    "dt= df.iloc[:,1:8]"
   ]
  },
  {
   "cell_type": "code",
   "execution_count": 25,
   "id": "middle-brisbane",
   "metadata": {
    "execution": {
     "iopub.execute_input": "2021-06-11T14:17:09.291476Z",
     "iopub.status.busy": "2021-06-11T14:17:09.274558Z",
     "iopub.status.idle": "2021-06-11T14:17:09.414544Z",
     "shell.execute_reply": "2021-06-11T14:17:09.415046Z",
     "shell.execute_reply.started": "2021-06-11T14:10:54.402033Z"
    },
    "papermill": {
     "duration": 0.222527,
     "end_time": "2021-06-11T14:17:09.415234",
     "exception": false,
     "start_time": "2021-06-11T14:17:09.192707",
     "status": "completed"
    },
    "tags": []
   },
   "outputs": [
    {
     "data": {
      "text/html": [
       "<div>                            <div id=\"f70cd0d5-3e93-4c85-a05f-d0b3c7b31a00\" class=\"plotly-graph-div\" style=\"height:525px; width:100%;\"></div>            <script type=\"text/javascript\">                require([\"plotly\"], function(Plotly) {                    window.PLOTLYENV=window.PLOTLYENV || {};                                    if (document.getElementById(\"f70cd0d5-3e93-4c85-a05f-d0b3c7b31a00\")) {                    Plotly.newPlot(                        \"f70cd0d5-3e93-4c85-a05f-d0b3c7b31a00\",                        [{\"alignmentgroup\": \"True\", \"hovertemplate\": \"variable=%{x}<br>value=%{y}<extra></extra>\", \"legendgroup\": \"\", \"marker\": {\"color\": \"#636efa\"}, \"name\": \"\", \"notched\": false, \"offsetgroup\": \"\", \"orientation\": \"v\", \"showlegend\": false, \"type\": \"box\", \"x\": [\"Glucose\", \"Glucose\", \"Glucose\", \"Glucose\", \"Glucose\", \"Glucose\", \"Glucose\", \"Glucose\", \"Glucose\", \"Glucose\", \"Glucose\", \"Glucose\", \"Glucose\", \"Glucose\", \"Glucose\", \"Glucose\", \"Glucose\", \"Glucose\", \"Glucose\", \"Glucose\", \"Glucose\", \"Glucose\", \"Glucose\", \"Glucose\", \"Glucose\", \"Glucose\", \"Glucose\", \"Glucose\", \"Glucose\", \"Glucose\", \"Glucose\", \"Glucose\", \"Glucose\", \"Glucose\", \"Glucose\", \"Glucose\", \"Glucose\", \"Glucose\", \"Glucose\", \"Glucose\", \"Glucose\", \"Glucose\", \"Glucose\", \"Glucose\", \"Glucose\", \"Glucose\", \"Glucose\", \"Glucose\", \"Glucose\", \"Glucose\", \"Glucose\", \"Glucose\", \"Glucose\", \"Glucose\", \"Glucose\", \"Glucose\", \"Glucose\", \"Glucose\", \"Glucose\", \"Glucose\", \"Glucose\", \"Glucose\", \"Glucose\", \"Glucose\", \"Glucose\", \"Glucose\", \"Glucose\", \"Glucose\", \"Glucose\", \"Glucose\", \"Glucose\", \"Glucose\", \"Glucose\", \"Glucose\", \"Glucose\", \"Glucose\", \"Glucose\", \"Glucose\", \"Glucose\", \"Glucose\", \"Glucose\", \"Glucose\", \"Glucose\", \"Glucose\", \"Glucose\", \"Glucose\", \"Glucose\", \"Glucose\", \"Glucose\", \"Glucose\", \"Glucose\", \"Glucose\", \"Glucose\", \"Glucose\", \"Glucose\", \"Glucose\", \"Glucose\", \"Glucose\", \"Glucose\", \"Glucose\", \"Glucose\", \"Glucose\", \"Glucose\", \"Glucose\", \"Glucose\", \"Glucose\", \"Glucose\", \"Glucose\", \"Glucose\", \"Glucose\", \"Glucose\", \"Glucose\", \"Glucose\", \"Glucose\", \"Glucose\", \"Glucose\", \"Glucose\", \"Glucose\", \"Glucose\", \"Glucose\", \"Glucose\", \"Glucose\", \"Glucose\", \"Glucose\", \"Glucose\", \"Glucose\", \"Glucose\", \"Glucose\", \"Glucose\", \"Glucose\", \"Glucose\", \"Glucose\", \"Glucose\", \"Glucose\", \"Glucose\", \"Glucose\", \"Glucose\", \"Glucose\", \"Glucose\", \"Glucose\", \"Glucose\", \"Glucose\", \"Glucose\", \"Glucose\", \"Glucose\", \"Glucose\", \"Glucose\", \"Glucose\", \"Glucose\", \"Glucose\", \"Glucose\", \"Glucose\", \"Glucose\", \"Glucose\", \"Glucose\", \"Glucose\", \"Glucose\", \"Glucose\", \"Glucose\", \"Glucose\", \"Glucose\", \"Glucose\", \"Glucose\", \"Glucose\", \"Glucose\", \"Glucose\", \"Glucose\", \"Glucose\", \"Glucose\", \"Glucose\", \"Glucose\", \"Glucose\", \"Glucose\", \"Glucose\", \"Glucose\", \"Glucose\", \"Glucose\", \"Glucose\", \"Glucose\", \"Glucose\", \"Glucose\", \"Glucose\", \"Glucose\", \"Glucose\", \"Glucose\", \"Glucose\", \"Glucose\", \"Glucose\", \"Glucose\", \"Glucose\", \"Glucose\", \"Glucose\", \"Glucose\", \"Glucose\", \"Glucose\", \"Glucose\", \"Glucose\", \"Glucose\", \"Glucose\", \"Glucose\", \"Glucose\", \"Glucose\", \"Glucose\", \"Glucose\", \"Glucose\", \"Glucose\", \"Glucose\", \"Glucose\", \"Glucose\", \"Glucose\", \"Glucose\", \"Glucose\", \"Glucose\", \"Glucose\", \"Glucose\", \"Glucose\", \"Glucose\", \"Glucose\", \"Glucose\", \"Glucose\", \"Glucose\", \"Glucose\", \"Glucose\", \"Glucose\", \"Glucose\", \"Glucose\", \"Glucose\", \"Glucose\", \"Glucose\", \"Glucose\", \"Glucose\", \"Glucose\", \"Glucose\", \"Glucose\", \"Glucose\", \"Glucose\", \"Glucose\", \"Glucose\", \"Glucose\", \"Glucose\", \"Glucose\", \"Glucose\", \"Glucose\", \"Glucose\", \"Glucose\", \"Glucose\", \"Glucose\", \"Glucose\", \"Glucose\", \"Glucose\", \"Glucose\", \"Glucose\", \"Glucose\", \"Glucose\", \"Glucose\", \"Glucose\", \"Glucose\", \"Glucose\", \"Glucose\", \"Glucose\", \"Glucose\", \"Glucose\", \"Glucose\", \"Glucose\", \"Glucose\", \"Glucose\", \"Glucose\", \"Glucose\", \"Glucose\", \"Glucose\", \"Glucose\", \"Glucose\", \"Glucose\", \"Glucose\", \"Glucose\", \"Glucose\", \"Glucose\", \"Glucose\", \"Glucose\", \"Glucose\", \"Glucose\", \"Glucose\", \"Glucose\", \"Glucose\", \"Glucose\", \"Glucose\", \"Glucose\", \"Glucose\", \"Glucose\", \"Glucose\", \"Glucose\", \"Glucose\", \"Glucose\", \"Glucose\", \"Glucose\", \"Glucose\", \"Glucose\", \"Glucose\", \"Glucose\", \"Glucose\", \"Glucose\", \"Glucose\", \"Glucose\", \"Glucose\", \"Glucose\", \"Glucose\", \"Glucose\", \"Glucose\", \"Glucose\", \"Glucose\", \"Glucose\", \"Glucose\", \"Glucose\", \"Glucose\", \"Glucose\", \"Glucose\", \"Glucose\", \"Glucose\", \"Glucose\", \"Glucose\", \"Glucose\", \"Glucose\", \"Glucose\", \"Glucose\", \"Glucose\", \"Glucose\", \"Glucose\", \"Glucose\", \"Glucose\", \"Glucose\", \"Glucose\", \"Glucose\", \"Glucose\", \"Glucose\", \"Glucose\", \"Glucose\", \"Glucose\", \"Glucose\", \"Glucose\", \"Glucose\", \"Glucose\", \"Glucose\", \"Glucose\", \"Glucose\", \"Glucose\", \"Glucose\", \"Glucose\", \"Glucose\", \"Glucose\", \"Glucose\", \"Glucose\", \"Glucose\", \"Glucose\", \"Glucose\", \"Glucose\", \"Glucose\", \"Glucose\", \"Glucose\", \"Glucose\", \"Glucose\", \"Glucose\", \"Glucose\", \"Glucose\", \"Glucose\", \"Glucose\", \"Glucose\", \"Glucose\", \"Glucose\", \"Glucose\", \"Glucose\", \"Glucose\", \"Glucose\", \"Glucose\", \"Glucose\", \"Glucose\", \"Glucose\", \"Glucose\", \"Glucose\", \"Glucose\", \"Glucose\", \"Glucose\", \"Glucose\", \"Glucose\", \"Glucose\", \"Glucose\", \"Glucose\", \"Glucose\", \"Glucose\", \"Glucose\", \"Glucose\", \"Glucose\", \"Glucose\", \"Glucose\", \"Glucose\", \"Glucose\", \"Glucose\", \"Glucose\", \"Glucose\", \"Glucose\", \"Glucose\", \"Glucose\", \"Glucose\", \"Glucose\", \"Glucose\", \"Glucose\", \"Glucose\", \"Glucose\", \"Glucose\", \"Glucose\", \"Glucose\", \"Glucose\", \"Glucose\", \"Glucose\", \"Glucose\", \"Glucose\", \"Glucose\", \"Glucose\", \"Glucose\", \"Glucose\", \"Glucose\", \"Glucose\", \"Glucose\", \"Glucose\", \"Glucose\", \"Glucose\", \"Glucose\", \"Glucose\", \"Glucose\", \"Glucose\", \"Glucose\", \"Glucose\", \"Glucose\", \"Glucose\", \"Glucose\", \"Glucose\", \"Glucose\", \"Glucose\", \"Glucose\", \"Glucose\", \"Glucose\", \"Glucose\", \"Glucose\", \"Glucose\", \"Glucose\", \"Glucose\", \"Glucose\", \"Glucose\", \"Glucose\", \"Glucose\", \"Glucose\", \"Glucose\", \"Glucose\", \"Glucose\", \"Glucose\", \"Glucose\", \"Glucose\", \"Glucose\", \"Glucose\", \"Glucose\", \"Glucose\", \"Glucose\", \"Glucose\", \"Glucose\", \"Glucose\", \"Glucose\", \"Glucose\", \"Glucose\", \"Glucose\", \"Glucose\", \"Glucose\", \"Glucose\", \"Glucose\", \"Glucose\", \"Glucose\", \"Glucose\", \"Glucose\", \"Glucose\", \"Glucose\", \"Glucose\", \"Glucose\", \"Glucose\", \"Glucose\", \"Glucose\", \"Glucose\", \"Glucose\", \"Glucose\", \"Glucose\", \"Glucose\", \"Glucose\", \"Glucose\", \"Glucose\", \"Glucose\", \"Glucose\", \"Glucose\", \"Glucose\", \"Glucose\", \"Glucose\", \"Glucose\", \"Glucose\", \"Glucose\", \"Glucose\", \"Glucose\", \"Glucose\", \"Glucose\", \"Glucose\", \"Glucose\", \"Glucose\", \"Glucose\", \"Glucose\", \"Glucose\", \"Glucose\", \"Glucose\", \"Glucose\", \"Glucose\", \"Glucose\", \"Glucose\", \"Glucose\", \"Glucose\", \"Glucose\", \"Glucose\", \"Glucose\", \"Glucose\", \"Glucose\", \"Glucose\", \"Glucose\", \"Glucose\", \"Glucose\", \"Glucose\", \"Glucose\", \"Glucose\", \"Glucose\", \"Glucose\", \"Glucose\", \"Glucose\", \"Glucose\", \"Glucose\", \"Glucose\", \"Glucose\", \"Glucose\", \"Glucose\", \"Glucose\", \"Glucose\", \"Glucose\", \"Glucose\", \"Glucose\", \"Glucose\", \"Glucose\", \"Glucose\", \"Glucose\", \"Glucose\", \"Glucose\", \"Glucose\", \"Glucose\", \"Glucose\", \"Glucose\", \"Glucose\", \"Glucose\", \"Glucose\", \"Glucose\", \"Glucose\", \"Glucose\", \"Glucose\", \"Glucose\", \"Glucose\", \"Glucose\", \"Glucose\", \"Glucose\", \"Glucose\", \"Glucose\", \"Glucose\", \"Glucose\", \"Glucose\", \"Glucose\", \"Glucose\", \"Glucose\", \"Glucose\", \"Glucose\", \"Glucose\", \"Glucose\", \"Glucose\", \"Glucose\", \"Glucose\", \"Glucose\", \"Glucose\", \"Glucose\", \"Glucose\", \"Glucose\", \"Glucose\", \"Glucose\", \"Glucose\", \"Glucose\", \"Glucose\", \"Glucose\", \"Glucose\", \"Glucose\", \"Glucose\", \"Glucose\", \"Glucose\", \"Glucose\", \"Glucose\", \"Glucose\", \"Glucose\", \"Glucose\", \"Glucose\", \"Glucose\", \"Glucose\", \"Glucose\", \"Glucose\", \"Glucose\", \"Glucose\", \"Glucose\", \"Glucose\", \"Glucose\", \"Glucose\", \"Glucose\", \"Glucose\", \"Glucose\", \"Glucose\", \"Glucose\", \"Glucose\", \"Glucose\", \"Glucose\", \"Glucose\", \"Glucose\", \"Glucose\", \"Glucose\", \"Glucose\", \"Glucose\", \"Glucose\", \"Glucose\", \"Glucose\", \"Glucose\", \"Glucose\", \"Glucose\", \"Glucose\", \"Glucose\", \"Glucose\", \"Glucose\", \"Glucose\", \"Glucose\", \"Glucose\", \"Glucose\", \"Glucose\", \"Glucose\", \"Glucose\", \"Glucose\", \"Glucose\", \"Glucose\", \"Glucose\", \"Glucose\", \"Glucose\", \"Glucose\", \"Glucose\", \"Glucose\", \"Glucose\", \"Glucose\", \"Glucose\", \"Glucose\", \"Glucose\", \"Glucose\", \"Glucose\", \"Glucose\", \"Glucose\", \"Glucose\", \"Glucose\", \"Glucose\", \"Glucose\", \"Glucose\", \"Glucose\", \"Glucose\", \"Glucose\", \"Glucose\", \"Glucose\", \"Glucose\", \"Glucose\", \"Glucose\", \"Glucose\", \"Glucose\", \"Glucose\", \"Glucose\", \"Glucose\", \"Glucose\", \"Glucose\", \"Glucose\", \"Glucose\", \"Glucose\", \"Glucose\", \"Glucose\", \"Glucose\", \"Glucose\", \"Glucose\", \"Glucose\", \"Glucose\", \"Glucose\", \"Glucose\", \"Glucose\", \"Glucose\", \"Glucose\", \"Glucose\", \"Glucose\", \"Glucose\", \"Glucose\", \"Glucose\", \"Glucose\", \"Glucose\", \"Glucose\", \"Glucose\", \"Glucose\", \"Glucose\", \"Glucose\", \"Glucose\", \"Glucose\", \"Glucose\", \"Glucose\", \"Glucose\", \"Glucose\", \"Glucose\", \"Glucose\", \"Glucose\", \"Glucose\", \"Glucose\", \"Glucose\", \"Glucose\", \"Glucose\", \"Glucose\", \"Glucose\", \"Glucose\", \"Glucose\", \"Glucose\", \"Glucose\", \"Glucose\", \"Glucose\", \"Glucose\", \"Glucose\", \"Glucose\", \"Glucose\", \"Glucose\", \"Glucose\", \"Glucose\", \"Glucose\", \"Glucose\", \"Glucose\", \"Glucose\", \"Glucose\", \"Glucose\", \"Glucose\", \"Glucose\", \"Glucose\", \"Glucose\", \"Glucose\", \"Glucose\", \"Glucose\", \"Glucose\", \"Glucose\", \"Glucose\", \"Glucose\", \"Glucose\", \"Glucose\", \"Glucose\", \"Glucose\", \"Glucose\", \"Glucose\", \"Glucose\", \"Glucose\", \"Glucose\", \"Glucose\", \"Glucose\", \"Glucose\", \"BloodPressure\", \"BloodPressure\", \"BloodPressure\", \"BloodPressure\", \"BloodPressure\", \"BloodPressure\", \"BloodPressure\", \"BloodPressure\", \"BloodPressure\", \"BloodPressure\", \"BloodPressure\", \"BloodPressure\", \"BloodPressure\", \"BloodPressure\", \"BloodPressure\", \"BloodPressure\", \"BloodPressure\", \"BloodPressure\", \"BloodPressure\", \"BloodPressure\", \"BloodPressure\", \"BloodPressure\", \"BloodPressure\", \"BloodPressure\", \"BloodPressure\", \"BloodPressure\", \"BloodPressure\", \"BloodPressure\", \"BloodPressure\", \"BloodPressure\", \"BloodPressure\", \"BloodPressure\", \"BloodPressure\", \"BloodPressure\", \"BloodPressure\", \"BloodPressure\", \"BloodPressure\", \"BloodPressure\", \"BloodPressure\", \"BloodPressure\", \"BloodPressure\", \"BloodPressure\", \"BloodPressure\", \"BloodPressure\", \"BloodPressure\", \"BloodPressure\", \"BloodPressure\", \"BloodPressure\", \"BloodPressure\", \"BloodPressure\", \"BloodPressure\", \"BloodPressure\", \"BloodPressure\", \"BloodPressure\", \"BloodPressure\", \"BloodPressure\", \"BloodPressure\", \"BloodPressure\", \"BloodPressure\", \"BloodPressure\", \"BloodPressure\", \"BloodPressure\", \"BloodPressure\", \"BloodPressure\", \"BloodPressure\", \"BloodPressure\", \"BloodPressure\", \"BloodPressure\", \"BloodPressure\", \"BloodPressure\", \"BloodPressure\", \"BloodPressure\", \"BloodPressure\", \"BloodPressure\", \"BloodPressure\", \"BloodPressure\", \"BloodPressure\", \"BloodPressure\", \"BloodPressure\", \"BloodPressure\", \"BloodPressure\", \"BloodPressure\", \"BloodPressure\", \"BloodPressure\", \"BloodPressure\", \"BloodPressure\", \"BloodPressure\", \"BloodPressure\", \"BloodPressure\", \"BloodPressure\", \"BloodPressure\", \"BloodPressure\", \"BloodPressure\", \"BloodPressure\", \"BloodPressure\", \"BloodPressure\", \"BloodPressure\", \"BloodPressure\", \"BloodPressure\", \"BloodPressure\", \"BloodPressure\", \"BloodPressure\", \"BloodPressure\", \"BloodPressure\", \"BloodPressure\", \"BloodPressure\", \"BloodPressure\", \"BloodPressure\", \"BloodPressure\", \"BloodPressure\", \"BloodPressure\", \"BloodPressure\", \"BloodPressure\", \"BloodPressure\", \"BloodPressure\", \"BloodPressure\", \"BloodPressure\", \"BloodPressure\", \"BloodPressure\", \"BloodPressure\", \"BloodPressure\", \"BloodPressure\", \"BloodPressure\", \"BloodPressure\", \"BloodPressure\", \"BloodPressure\", \"BloodPressure\", \"BloodPressure\", \"BloodPressure\", \"BloodPressure\", \"BloodPressure\", \"BloodPressure\", \"BloodPressure\", \"BloodPressure\", \"BloodPressure\", \"BloodPressure\", \"BloodPressure\", \"BloodPressure\", \"BloodPressure\", \"BloodPressure\", \"BloodPressure\", \"BloodPressure\", \"BloodPressure\", \"BloodPressure\", \"BloodPressure\", \"BloodPressure\", \"BloodPressure\", \"BloodPressure\", \"BloodPressure\", \"BloodPressure\", \"BloodPressure\", \"BloodPressure\", \"BloodPressure\", \"BloodPressure\", \"BloodPressure\", \"BloodPressure\", \"BloodPressure\", \"BloodPressure\", \"BloodPressure\", \"BloodPressure\", \"BloodPressure\", \"BloodPressure\", \"BloodPressure\", \"BloodPressure\", \"BloodPressure\", \"BloodPressure\", \"BloodPressure\", \"BloodPressure\", \"BloodPressure\", \"BloodPressure\", \"BloodPressure\", \"BloodPressure\", \"BloodPressure\", \"BloodPressure\", \"BloodPressure\", \"BloodPressure\", \"BloodPressure\", \"BloodPressure\", \"BloodPressure\", \"BloodPressure\", \"BloodPressure\", \"BloodPressure\", \"BloodPressure\", \"BloodPressure\", \"BloodPressure\", \"BloodPressure\", \"BloodPressure\", \"BloodPressure\", \"BloodPressure\", \"BloodPressure\", \"BloodPressure\", \"BloodPressure\", \"BloodPressure\", \"BloodPressure\", \"BloodPressure\", \"BloodPressure\", \"BloodPressure\", \"BloodPressure\", \"BloodPressure\", \"BloodPressure\", \"BloodPressure\", \"BloodPressure\", \"BloodPressure\", \"BloodPressure\", \"BloodPressure\", \"BloodPressure\", \"BloodPressure\", \"BloodPressure\", \"BloodPressure\", \"BloodPressure\", \"BloodPressure\", \"BloodPressure\", \"BloodPressure\", \"BloodPressure\", \"BloodPressure\", \"BloodPressure\", \"BloodPressure\", \"BloodPressure\", \"BloodPressure\", \"BloodPressure\", \"BloodPressure\", \"BloodPressure\", \"BloodPressure\", \"BloodPressure\", \"BloodPressure\", \"BloodPressure\", \"BloodPressure\", \"BloodPressure\", \"BloodPressure\", \"BloodPressure\", \"BloodPressure\", \"BloodPressure\", \"BloodPressure\", \"BloodPressure\", \"BloodPressure\", \"BloodPressure\", \"BloodPressure\", \"BloodPressure\", \"BloodPressure\", \"BloodPressure\", \"BloodPressure\", \"BloodPressure\", \"BloodPressure\", \"BloodPressure\", \"BloodPressure\", \"BloodPressure\", \"BloodPressure\", \"BloodPressure\", \"BloodPressure\", \"BloodPressure\", \"BloodPressure\", \"BloodPressure\", \"BloodPressure\", \"BloodPressure\", \"BloodPressure\", \"BloodPressure\", \"BloodPressure\", \"BloodPressure\", \"BloodPressure\", \"BloodPressure\", \"BloodPressure\", \"BloodPressure\", \"BloodPressure\", \"BloodPressure\", \"BloodPressure\", \"BloodPressure\", \"BloodPressure\", \"BloodPressure\", \"BloodPressure\", \"BloodPressure\", \"BloodPressure\", \"BloodPressure\", \"BloodPressure\", \"BloodPressure\", \"BloodPressure\", \"BloodPressure\", \"BloodPressure\", \"BloodPressure\", \"BloodPressure\", \"BloodPressure\", \"BloodPressure\", \"BloodPressure\", \"BloodPressure\", \"BloodPressure\", \"BloodPressure\", \"BloodPressure\", \"BloodPressure\", \"BloodPressure\", \"BloodPressure\", \"BloodPressure\", \"BloodPressure\", \"BloodPressure\", \"BloodPressure\", \"BloodPressure\", \"BloodPressure\", \"BloodPressure\", \"BloodPressure\", \"BloodPressure\", \"BloodPressure\", \"BloodPressure\", \"BloodPressure\", \"BloodPressure\", \"BloodPressure\", \"BloodPressure\", \"BloodPressure\", \"BloodPressure\", \"BloodPressure\", \"BloodPressure\", \"BloodPressure\", \"BloodPressure\", \"BloodPressure\", \"BloodPressure\", \"BloodPressure\", \"BloodPressure\", \"BloodPressure\", \"BloodPressure\", \"BloodPressure\", \"BloodPressure\", \"BloodPressure\", \"BloodPressure\", \"BloodPressure\", \"BloodPressure\", \"BloodPressure\", \"BloodPressure\", \"BloodPressure\", \"BloodPressure\", \"BloodPressure\", \"BloodPressure\", \"BloodPressure\", \"BloodPressure\", \"BloodPressure\", \"BloodPressure\", \"BloodPressure\", \"BloodPressure\", \"BloodPressure\", \"BloodPressure\", \"BloodPressure\", \"BloodPressure\", \"BloodPressure\", \"BloodPressure\", \"BloodPressure\", \"BloodPressure\", \"BloodPressure\", \"BloodPressure\", \"BloodPressure\", \"BloodPressure\", \"BloodPressure\", \"BloodPressure\", \"BloodPressure\", \"BloodPressure\", \"BloodPressure\", \"BloodPressure\", \"BloodPressure\", \"BloodPressure\", \"BloodPressure\", \"BloodPressure\", \"BloodPressure\", \"BloodPressure\", \"BloodPressure\", \"BloodPressure\", \"BloodPressure\", \"BloodPressure\", \"BloodPressure\", \"BloodPressure\", \"BloodPressure\", \"BloodPressure\", \"BloodPressure\", \"BloodPressure\", \"BloodPressure\", \"BloodPressure\", \"BloodPressure\", \"BloodPressure\", \"BloodPressure\", \"BloodPressure\", \"BloodPressure\", \"BloodPressure\", \"BloodPressure\", \"BloodPressure\", \"BloodPressure\", \"BloodPressure\", \"BloodPressure\", \"BloodPressure\", \"BloodPressure\", \"BloodPressure\", \"BloodPressure\", \"BloodPressure\", \"BloodPressure\", \"BloodPressure\", \"BloodPressure\", \"BloodPressure\", \"BloodPressure\", \"BloodPressure\", \"BloodPressure\", \"BloodPressure\", \"BloodPressure\", \"BloodPressure\", \"BloodPressure\", \"BloodPressure\", \"BloodPressure\", \"BloodPressure\", \"BloodPressure\", \"BloodPressure\", \"BloodPressure\", \"BloodPressure\", \"BloodPressure\", \"BloodPressure\", \"BloodPressure\", \"BloodPressure\", \"BloodPressure\", \"BloodPressure\", \"BloodPressure\", \"BloodPressure\", \"BloodPressure\", \"BloodPressure\", \"BloodPressure\", \"BloodPressure\", \"BloodPressure\", \"BloodPressure\", \"BloodPressure\", \"BloodPressure\", \"BloodPressure\", \"BloodPressure\", \"BloodPressure\", \"BloodPressure\", \"BloodPressure\", \"BloodPressure\", \"BloodPressure\", \"BloodPressure\", \"BloodPressure\", \"BloodPressure\", \"BloodPressure\", \"BloodPressure\", \"BloodPressure\", \"BloodPressure\", \"BloodPressure\", \"BloodPressure\", \"BloodPressure\", \"BloodPressure\", \"BloodPressure\", \"BloodPressure\", \"BloodPressure\", \"BloodPressure\", \"BloodPressure\", \"BloodPressure\", \"BloodPressure\", \"BloodPressure\", \"BloodPressure\", \"BloodPressure\", \"BloodPressure\", \"BloodPressure\", \"BloodPressure\", \"BloodPressure\", \"BloodPressure\", \"BloodPressure\", \"BloodPressure\", \"BloodPressure\", \"BloodPressure\", \"BloodPressure\", \"BloodPressure\", \"BloodPressure\", \"BloodPressure\", \"BloodPressure\", \"BloodPressure\", \"BloodPressure\", \"BloodPressure\", \"BloodPressure\", \"BloodPressure\", \"BloodPressure\", \"BloodPressure\", \"BloodPressure\", \"BloodPressure\", \"BloodPressure\", \"BloodPressure\", \"BloodPressure\", \"BloodPressure\", \"BloodPressure\", \"BloodPressure\", \"BloodPressure\", \"BloodPressure\", \"BloodPressure\", \"BloodPressure\", \"BloodPressure\", \"BloodPressure\", \"BloodPressure\", \"BloodPressure\", \"BloodPressure\", \"BloodPressure\", \"BloodPressure\", \"BloodPressure\", \"BloodPressure\", \"BloodPressure\", \"BloodPressure\", \"BloodPressure\", \"BloodPressure\", \"BloodPressure\", \"BloodPressure\", \"BloodPressure\", \"BloodPressure\", \"BloodPressure\", \"BloodPressure\", \"BloodPressure\", \"BloodPressure\", \"BloodPressure\", \"BloodPressure\", \"BloodPressure\", \"BloodPressure\", \"BloodPressure\", \"BloodPressure\", \"BloodPressure\", \"BloodPressure\", \"BloodPressure\", \"BloodPressure\", \"BloodPressure\", \"BloodPressure\", \"BloodPressure\", \"BloodPressure\", \"BloodPressure\", \"BloodPressure\", \"BloodPressure\", \"BloodPressure\", \"BloodPressure\", \"BloodPressure\", \"BloodPressure\", \"BloodPressure\", \"BloodPressure\", \"BloodPressure\", \"BloodPressure\", \"BloodPressure\", \"BloodPressure\", \"BloodPressure\", \"BloodPressure\", \"BloodPressure\", \"BloodPressure\", \"BloodPressure\", \"BloodPressure\", \"BloodPressure\", \"BloodPressure\", \"BloodPressure\", \"BloodPressure\", \"BloodPressure\", \"BloodPressure\", \"BloodPressure\", \"BloodPressure\", \"BloodPressure\", \"BloodPressure\", \"BloodPressure\", \"BloodPressure\", \"BloodPressure\", \"BloodPressure\", \"BloodPressure\", \"BloodPressure\", \"BloodPressure\", \"BloodPressure\", \"BloodPressure\", \"BloodPressure\", \"BloodPressure\", \"BloodPressure\", \"BloodPressure\", \"BloodPressure\", \"BloodPressure\", \"BloodPressure\", \"BloodPressure\", \"BloodPressure\", \"BloodPressure\", \"BloodPressure\", \"BloodPressure\", \"BloodPressure\", \"BloodPressure\", \"BloodPressure\", \"BloodPressure\", \"BloodPressure\", \"BloodPressure\", \"BloodPressure\", \"BloodPressure\", \"BloodPressure\", \"BloodPressure\", \"BloodPressure\", \"BloodPressure\", \"BloodPressure\", \"BloodPressure\", \"BloodPressure\", \"BloodPressure\", \"BloodPressure\", \"BloodPressure\", \"BloodPressure\", \"BloodPressure\", \"BloodPressure\", \"BloodPressure\", \"BloodPressure\", \"BloodPressure\", \"BloodPressure\", \"BloodPressure\", \"BloodPressure\", \"BloodPressure\", \"BloodPressure\", \"BloodPressure\", \"BloodPressure\", \"BloodPressure\", \"BloodPressure\", \"BloodPressure\", \"BloodPressure\", \"BloodPressure\", \"BloodPressure\", \"BloodPressure\", \"BloodPressure\", \"BloodPressure\", \"BloodPressure\", \"BloodPressure\", \"BloodPressure\", \"BloodPressure\", \"BloodPressure\", \"BloodPressure\", \"BloodPressure\", \"BloodPressure\", \"BloodPressure\", \"BloodPressure\", \"BloodPressure\", \"BloodPressure\", \"BloodPressure\", \"BloodPressure\", \"BloodPressure\", \"BloodPressure\", \"BloodPressure\", \"BloodPressure\", \"BloodPressure\", \"BloodPressure\", \"BloodPressure\", \"BloodPressure\", \"BloodPressure\", \"BloodPressure\", \"BloodPressure\", \"BloodPressure\", \"BloodPressure\", \"BloodPressure\", \"BloodPressure\", \"BloodPressure\", \"BloodPressure\", \"BloodPressure\", \"BloodPressure\", \"BloodPressure\", \"BloodPressure\", \"BloodPressure\", \"BloodPressure\", \"BloodPressure\", \"BloodPressure\", \"BloodPressure\", \"BloodPressure\", \"BloodPressure\", \"BloodPressure\", \"BloodPressure\", \"BloodPressure\", \"BloodPressure\", \"BloodPressure\", \"BloodPressure\", \"BloodPressure\", \"BloodPressure\", \"BloodPressure\", \"BloodPressure\", \"BloodPressure\", \"BloodPressure\", \"BloodPressure\", \"BloodPressure\", \"BloodPressure\", \"BloodPressure\", \"BloodPressure\", \"BloodPressure\", \"BloodPressure\", \"BloodPressure\", \"BloodPressure\", \"BloodPressure\", \"BloodPressure\", \"BloodPressure\", \"BloodPressure\", \"BloodPressure\", \"BloodPressure\", \"BloodPressure\", \"BloodPressure\", \"BloodPressure\", \"BloodPressure\", \"BloodPressure\", \"BloodPressure\", \"BloodPressure\", \"BloodPressure\", \"BloodPressure\", \"BloodPressure\", \"BloodPressure\", \"BloodPressure\", \"BloodPressure\", \"BloodPressure\", \"BloodPressure\", \"BloodPressure\", \"BloodPressure\", \"BloodPressure\", \"BloodPressure\", \"BloodPressure\", \"BloodPressure\", \"BloodPressure\", \"BloodPressure\", \"BloodPressure\", \"BloodPressure\", \"BloodPressure\", \"BloodPressure\", \"BloodPressure\", \"BloodPressure\", \"BloodPressure\", \"BloodPressure\", \"BloodPressure\", \"BloodPressure\", \"BloodPressure\", \"BloodPressure\", \"BloodPressure\", \"BloodPressure\", \"BloodPressure\", \"BloodPressure\", \"BloodPressure\", \"BloodPressure\", \"BloodPressure\", \"BloodPressure\", \"BloodPressure\", \"BloodPressure\", \"BloodPressure\", \"BloodPressure\", \"BloodPressure\", \"BloodPressure\", \"BloodPressure\", \"BloodPressure\", \"BloodPressure\", \"BloodPressure\", \"BloodPressure\", \"BloodPressure\", \"BloodPressure\", \"BloodPressure\", \"BloodPressure\", \"BloodPressure\", \"BloodPressure\", \"BloodPressure\", \"BloodPressure\", \"BloodPressure\", \"BloodPressure\", \"BloodPressure\", \"BloodPressure\", \"BloodPressure\", \"BloodPressure\", \"BloodPressure\", \"BloodPressure\", \"BloodPressure\", \"BloodPressure\", \"BloodPressure\", \"BloodPressure\", \"BloodPressure\", \"BloodPressure\", \"BloodPressure\", \"BloodPressure\", \"BloodPressure\", \"BloodPressure\", \"BloodPressure\", \"BloodPressure\", \"BloodPressure\", \"BloodPressure\", \"BloodPressure\", \"BloodPressure\", \"BloodPressure\", \"BloodPressure\", \"BloodPressure\", \"BloodPressure\", \"BloodPressure\", \"BloodPressure\", \"BloodPressure\", \"SkinThickness\", \"SkinThickness\", \"SkinThickness\", \"SkinThickness\", \"SkinThickness\", \"SkinThickness\", \"SkinThickness\", \"SkinThickness\", \"SkinThickness\", \"SkinThickness\", \"SkinThickness\", \"SkinThickness\", \"SkinThickness\", \"SkinThickness\", \"SkinThickness\", \"SkinThickness\", \"SkinThickness\", \"SkinThickness\", \"SkinThickness\", \"SkinThickness\", \"SkinThickness\", \"SkinThickness\", \"SkinThickness\", \"SkinThickness\", \"SkinThickness\", \"SkinThickness\", \"SkinThickness\", \"SkinThickness\", \"SkinThickness\", \"SkinThickness\", \"SkinThickness\", \"SkinThickness\", \"SkinThickness\", \"SkinThickness\", \"SkinThickness\", \"SkinThickness\", \"SkinThickness\", \"SkinThickness\", \"SkinThickness\", \"SkinThickness\", \"SkinThickness\", \"SkinThickness\", \"SkinThickness\", \"SkinThickness\", \"SkinThickness\", \"SkinThickness\", \"SkinThickness\", \"SkinThickness\", \"SkinThickness\", \"SkinThickness\", \"SkinThickness\", \"SkinThickness\", \"SkinThickness\", \"SkinThickness\", \"SkinThickness\", \"SkinThickness\", \"SkinThickness\", \"SkinThickness\", \"SkinThickness\", \"SkinThickness\", \"SkinThickness\", \"SkinThickness\", \"SkinThickness\", \"SkinThickness\", \"SkinThickness\", \"SkinThickness\", \"SkinThickness\", \"SkinThickness\", \"SkinThickness\", \"SkinThickness\", \"SkinThickness\", \"SkinThickness\", \"SkinThickness\", \"SkinThickness\", \"SkinThickness\", \"SkinThickness\", \"SkinThickness\", \"SkinThickness\", \"SkinThickness\", \"SkinThickness\", \"SkinThickness\", \"SkinThickness\", \"SkinThickness\", \"SkinThickness\", \"SkinThickness\", \"SkinThickness\", \"SkinThickness\", \"SkinThickness\", \"SkinThickness\", \"SkinThickness\", \"SkinThickness\", \"SkinThickness\", \"SkinThickness\", \"SkinThickness\", \"SkinThickness\", \"SkinThickness\", \"SkinThickness\", \"SkinThickness\", \"SkinThickness\", \"SkinThickness\", \"SkinThickness\", \"SkinThickness\", \"SkinThickness\", \"SkinThickness\", \"SkinThickness\", \"SkinThickness\", \"SkinThickness\", \"SkinThickness\", \"SkinThickness\", \"SkinThickness\", \"SkinThickness\", \"SkinThickness\", \"SkinThickness\", \"SkinThickness\", \"SkinThickness\", \"SkinThickness\", \"SkinThickness\", \"SkinThickness\", \"SkinThickness\", \"SkinThickness\", \"SkinThickness\", \"SkinThickness\", \"SkinThickness\", \"SkinThickness\", \"SkinThickness\", \"SkinThickness\", \"SkinThickness\", \"SkinThickness\", \"SkinThickness\", \"SkinThickness\", \"SkinThickness\", \"SkinThickness\", \"SkinThickness\", \"SkinThickness\", \"SkinThickness\", \"SkinThickness\", \"SkinThickness\", \"SkinThickness\", \"SkinThickness\", \"SkinThickness\", \"SkinThickness\", \"SkinThickness\", \"SkinThickness\", \"SkinThickness\", \"SkinThickness\", \"SkinThickness\", \"SkinThickness\", \"SkinThickness\", \"SkinThickness\", \"SkinThickness\", \"SkinThickness\", \"SkinThickness\", \"SkinThickness\", \"SkinThickness\", \"SkinThickness\", \"SkinThickness\", \"SkinThickness\", \"SkinThickness\", \"SkinThickness\", \"SkinThickness\", \"SkinThickness\", \"SkinThickness\", \"SkinThickness\", \"SkinThickness\", \"SkinThickness\", \"SkinThickness\", \"SkinThickness\", \"SkinThickness\", \"SkinThickness\", \"SkinThickness\", \"SkinThickness\", \"SkinThickness\", \"SkinThickness\", \"SkinThickness\", \"SkinThickness\", \"SkinThickness\", \"SkinThickness\", \"SkinThickness\", \"SkinThickness\", \"SkinThickness\", \"SkinThickness\", \"SkinThickness\", \"SkinThickness\", \"SkinThickness\", \"SkinThickness\", \"SkinThickness\", \"SkinThickness\", \"SkinThickness\", \"SkinThickness\", \"SkinThickness\", \"SkinThickness\", \"SkinThickness\", \"SkinThickness\", \"SkinThickness\", \"SkinThickness\", \"SkinThickness\", \"SkinThickness\", \"SkinThickness\", \"SkinThickness\", \"SkinThickness\", \"SkinThickness\", \"SkinThickness\", \"SkinThickness\", \"SkinThickness\", \"SkinThickness\", \"SkinThickness\", \"SkinThickness\", \"SkinThickness\", \"SkinThickness\", \"SkinThickness\", \"SkinThickness\", \"SkinThickness\", \"SkinThickness\", \"SkinThickness\", \"SkinThickness\", \"SkinThickness\", \"SkinThickness\", \"SkinThickness\", \"SkinThickness\", \"SkinThickness\", \"SkinThickness\", \"SkinThickness\", \"SkinThickness\", \"SkinThickness\", \"SkinThickness\", \"SkinThickness\", \"SkinThickness\", \"SkinThickness\", \"SkinThickness\", \"SkinThickness\", \"SkinThickness\", \"SkinThickness\", \"SkinThickness\", \"SkinThickness\", \"SkinThickness\", \"SkinThickness\", \"SkinThickness\", \"SkinThickness\", \"SkinThickness\", \"SkinThickness\", \"SkinThickness\", \"SkinThickness\", \"SkinThickness\", \"SkinThickness\", \"SkinThickness\", \"SkinThickness\", \"SkinThickness\", \"SkinThickness\", \"SkinThickness\", \"SkinThickness\", \"SkinThickness\", \"SkinThickness\", \"SkinThickness\", \"SkinThickness\", \"SkinThickness\", \"SkinThickness\", \"SkinThickness\", \"SkinThickness\", \"SkinThickness\", \"SkinThickness\", \"SkinThickness\", \"SkinThickness\", \"SkinThickness\", \"SkinThickness\", \"SkinThickness\", \"SkinThickness\", \"SkinThickness\", \"SkinThickness\", \"SkinThickness\", \"SkinThickness\", \"SkinThickness\", \"SkinThickness\", \"SkinThickness\", \"SkinThickness\", \"SkinThickness\", \"SkinThickness\", \"SkinThickness\", \"SkinThickness\", \"SkinThickness\", \"SkinThickness\", \"SkinThickness\", \"SkinThickness\", \"SkinThickness\", \"SkinThickness\", \"SkinThickness\", \"SkinThickness\", \"SkinThickness\", \"SkinThickness\", \"SkinThickness\", \"SkinThickness\", \"SkinThickness\", \"SkinThickness\", \"SkinThickness\", \"SkinThickness\", \"SkinThickness\", \"SkinThickness\", \"SkinThickness\", \"SkinThickness\", \"SkinThickness\", \"SkinThickness\", \"SkinThickness\", \"SkinThickness\", \"SkinThickness\", \"SkinThickness\", \"SkinThickness\", \"SkinThickness\", \"SkinThickness\", \"SkinThickness\", \"SkinThickness\", \"SkinThickness\", \"SkinThickness\", \"SkinThickness\", \"SkinThickness\", \"SkinThickness\", \"SkinThickness\", \"SkinThickness\", \"SkinThickness\", \"SkinThickness\", \"SkinThickness\", \"SkinThickness\", \"SkinThickness\", \"SkinThickness\", \"SkinThickness\", \"SkinThickness\", \"SkinThickness\", \"SkinThickness\", \"SkinThickness\", \"SkinThickness\", \"SkinThickness\", \"SkinThickness\", \"SkinThickness\", \"SkinThickness\", \"SkinThickness\", \"SkinThickness\", \"SkinThickness\", \"SkinThickness\", \"SkinThickness\", \"SkinThickness\", \"SkinThickness\", \"SkinThickness\", \"SkinThickness\", \"SkinThickness\", \"SkinThickness\", \"SkinThickness\", \"SkinThickness\", \"SkinThickness\", \"SkinThickness\", \"SkinThickness\", \"SkinThickness\", \"SkinThickness\", \"SkinThickness\", \"SkinThickness\", \"SkinThickness\", \"SkinThickness\", \"SkinThickness\", \"SkinThickness\", \"SkinThickness\", \"SkinThickness\", \"SkinThickness\", \"SkinThickness\", \"SkinThickness\", \"SkinThickness\", \"SkinThickness\", \"SkinThickness\", \"SkinThickness\", \"SkinThickness\", \"SkinThickness\", \"SkinThickness\", \"SkinThickness\", \"SkinThickness\", \"SkinThickness\", \"SkinThickness\", \"SkinThickness\", \"SkinThickness\", \"SkinThickness\", \"SkinThickness\", \"SkinThickness\", \"SkinThickness\", \"SkinThickness\", \"SkinThickness\", \"SkinThickness\", \"SkinThickness\", \"SkinThickness\", \"SkinThickness\", \"SkinThickness\", \"SkinThickness\", \"SkinThickness\", \"SkinThickness\", \"SkinThickness\", \"SkinThickness\", \"SkinThickness\", \"SkinThickness\", \"SkinThickness\", \"SkinThickness\", \"SkinThickness\", \"SkinThickness\", \"SkinThickness\", \"SkinThickness\", \"SkinThickness\", \"SkinThickness\", \"SkinThickness\", \"SkinThickness\", \"SkinThickness\", \"SkinThickness\", \"SkinThickness\", \"SkinThickness\", \"SkinThickness\", \"SkinThickness\", \"SkinThickness\", \"SkinThickness\", \"SkinThickness\", \"SkinThickness\", \"SkinThickness\", \"SkinThickness\", \"SkinThickness\", \"SkinThickness\", \"SkinThickness\", \"SkinThickness\", \"SkinThickness\", \"SkinThickness\", \"SkinThickness\", \"SkinThickness\", \"SkinThickness\", \"SkinThickness\", \"SkinThickness\", \"SkinThickness\", \"SkinThickness\", \"SkinThickness\", \"SkinThickness\", \"SkinThickness\", \"SkinThickness\", \"SkinThickness\", \"SkinThickness\", \"SkinThickness\", \"SkinThickness\", \"SkinThickness\", \"SkinThickness\", \"SkinThickness\", \"SkinThickness\", \"SkinThickness\", \"SkinThickness\", \"SkinThickness\", \"SkinThickness\", \"SkinThickness\", \"SkinThickness\", \"SkinThickness\", \"SkinThickness\", \"SkinThickness\", \"SkinThickness\", \"SkinThickness\", \"SkinThickness\", \"SkinThickness\", \"SkinThickness\", \"SkinThickness\", \"SkinThickness\", \"SkinThickness\", \"SkinThickness\", \"SkinThickness\", \"SkinThickness\", \"SkinThickness\", \"SkinThickness\", \"SkinThickness\", \"SkinThickness\", \"SkinThickness\", \"SkinThickness\", \"SkinThickness\", \"SkinThickness\", \"SkinThickness\", \"SkinThickness\", \"SkinThickness\", \"SkinThickness\", \"SkinThickness\", \"SkinThickness\", \"SkinThickness\", \"SkinThickness\", \"SkinThickness\", \"SkinThickness\", \"SkinThickness\", \"SkinThickness\", \"SkinThickness\", \"SkinThickness\", \"SkinThickness\", \"SkinThickness\", \"SkinThickness\", \"SkinThickness\", \"SkinThickness\", \"SkinThickness\", \"SkinThickness\", \"SkinThickness\", \"SkinThickness\", \"SkinThickness\", \"SkinThickness\", \"SkinThickness\", \"SkinThickness\", \"SkinThickness\", \"SkinThickness\", \"SkinThickness\", \"SkinThickness\", \"SkinThickness\", \"SkinThickness\", \"SkinThickness\", \"SkinThickness\", \"SkinThickness\", \"SkinThickness\", \"SkinThickness\", \"SkinThickness\", \"SkinThickness\", \"SkinThickness\", \"SkinThickness\", \"SkinThickness\", \"SkinThickness\", \"SkinThickness\", \"SkinThickness\", \"SkinThickness\", \"SkinThickness\", \"SkinThickness\", \"SkinThickness\", \"SkinThickness\", \"SkinThickness\", \"SkinThickness\", \"SkinThickness\", \"SkinThickness\", \"SkinThickness\", \"SkinThickness\", \"SkinThickness\", \"SkinThickness\", \"SkinThickness\", \"SkinThickness\", \"SkinThickness\", \"SkinThickness\", \"SkinThickness\", \"SkinThickness\", \"SkinThickness\", \"SkinThickness\", \"SkinThickness\", \"SkinThickness\", \"SkinThickness\", \"SkinThickness\", \"SkinThickness\", \"SkinThickness\", \"SkinThickness\", \"SkinThickness\", \"SkinThickness\", \"SkinThickness\", \"SkinThickness\", \"SkinThickness\", \"SkinThickness\", \"SkinThickness\", \"SkinThickness\", \"SkinThickness\", \"SkinThickness\", \"SkinThickness\", \"SkinThickness\", \"SkinThickness\", \"SkinThickness\", \"SkinThickness\", \"SkinThickness\", \"SkinThickness\", \"SkinThickness\", \"SkinThickness\", \"SkinThickness\", \"SkinThickness\", \"SkinThickness\", \"SkinThickness\", \"SkinThickness\", \"SkinThickness\", \"SkinThickness\", \"SkinThickness\", \"SkinThickness\", \"SkinThickness\", \"SkinThickness\", \"SkinThickness\", \"SkinThickness\", \"SkinThickness\", \"SkinThickness\", \"SkinThickness\", \"SkinThickness\", \"SkinThickness\", \"SkinThickness\", \"SkinThickness\", \"SkinThickness\", \"SkinThickness\", \"SkinThickness\", \"SkinThickness\", \"SkinThickness\", \"SkinThickness\", \"SkinThickness\", \"SkinThickness\", \"SkinThickness\", \"SkinThickness\", \"SkinThickness\", \"SkinThickness\", \"SkinThickness\", \"SkinThickness\", \"SkinThickness\", \"SkinThickness\", \"SkinThickness\", \"SkinThickness\", \"SkinThickness\", \"SkinThickness\", \"SkinThickness\", \"SkinThickness\", \"SkinThickness\", \"SkinThickness\", \"SkinThickness\", \"SkinThickness\", \"SkinThickness\", \"SkinThickness\", \"SkinThickness\", \"SkinThickness\", \"SkinThickness\", \"SkinThickness\", \"SkinThickness\", \"SkinThickness\", \"SkinThickness\", \"SkinThickness\", \"SkinThickness\", \"SkinThickness\", \"SkinThickness\", \"SkinThickness\", \"SkinThickness\", \"SkinThickness\", \"SkinThickness\", \"SkinThickness\", \"SkinThickness\", \"SkinThickness\", \"SkinThickness\", \"SkinThickness\", \"SkinThickness\", \"SkinThickness\", \"SkinThickness\", \"SkinThickness\", \"SkinThickness\", \"SkinThickness\", \"SkinThickness\", \"SkinThickness\", \"SkinThickness\", \"SkinThickness\", \"SkinThickness\", \"SkinThickness\", \"SkinThickness\", \"SkinThickness\", \"SkinThickness\", \"SkinThickness\", \"SkinThickness\", \"SkinThickness\", \"SkinThickness\", \"SkinThickness\", \"SkinThickness\", \"SkinThickness\", \"SkinThickness\", \"SkinThickness\", \"SkinThickness\", \"SkinThickness\", \"SkinThickness\", \"SkinThickness\", \"SkinThickness\", \"SkinThickness\", \"SkinThickness\", \"SkinThickness\", \"SkinThickness\", \"SkinThickness\", \"SkinThickness\", \"SkinThickness\", \"SkinThickness\", \"SkinThickness\", \"SkinThickness\", \"SkinThickness\", \"SkinThickness\", \"SkinThickness\", \"SkinThickness\", \"SkinThickness\", \"SkinThickness\", \"SkinThickness\", \"SkinThickness\", \"SkinThickness\", \"SkinThickness\", \"SkinThickness\", \"SkinThickness\", \"SkinThickness\", \"SkinThickness\", \"SkinThickness\", \"SkinThickness\", \"SkinThickness\", \"SkinThickness\", \"SkinThickness\", \"SkinThickness\", \"SkinThickness\", \"SkinThickness\", \"SkinThickness\", \"SkinThickness\", \"SkinThickness\", \"SkinThickness\", \"SkinThickness\", \"SkinThickness\", \"SkinThickness\", \"SkinThickness\", \"SkinThickness\", \"SkinThickness\", \"SkinThickness\", \"SkinThickness\", \"SkinThickness\", \"SkinThickness\", \"SkinThickness\", \"SkinThickness\", \"SkinThickness\", \"SkinThickness\", \"SkinThickness\", \"SkinThickness\", \"SkinThickness\", \"SkinThickness\", \"SkinThickness\", \"SkinThickness\", \"SkinThickness\", \"SkinThickness\", \"SkinThickness\", \"SkinThickness\", \"SkinThickness\", \"SkinThickness\", \"SkinThickness\", \"SkinThickness\", \"SkinThickness\", \"SkinThickness\", \"SkinThickness\", \"SkinThickness\", \"SkinThickness\", \"SkinThickness\", \"SkinThickness\", \"SkinThickness\", \"SkinThickness\", \"SkinThickness\", \"SkinThickness\", \"SkinThickness\", \"SkinThickness\", \"SkinThickness\", \"SkinThickness\", \"SkinThickness\", \"SkinThickness\", \"SkinThickness\", \"SkinThickness\", \"SkinThickness\", \"SkinThickness\", \"SkinThickness\", \"SkinThickness\", \"SkinThickness\", \"SkinThickness\", \"SkinThickness\", \"SkinThickness\", \"SkinThickness\", \"SkinThickness\", \"SkinThickness\", \"SkinThickness\", \"SkinThickness\", \"SkinThickness\", \"SkinThickness\", \"SkinThickness\", \"SkinThickness\", \"SkinThickness\", \"SkinThickness\", \"SkinThickness\", \"SkinThickness\", \"SkinThickness\", \"SkinThickness\", \"SkinThickness\", \"SkinThickness\", \"SkinThickness\", \"SkinThickness\", \"SkinThickness\", \"Insulin\", \"Insulin\", \"Insulin\", \"Insulin\", \"Insulin\", \"Insulin\", \"Insulin\", \"Insulin\", \"Insulin\", \"Insulin\", \"Insulin\", \"Insulin\", \"Insulin\", \"Insulin\", \"Insulin\", \"Insulin\", \"Insulin\", \"Insulin\", \"Insulin\", \"Insulin\", \"Insulin\", \"Insulin\", \"Insulin\", \"Insulin\", \"Insulin\", \"Insulin\", \"Insulin\", \"Insulin\", \"Insulin\", \"Insulin\", \"Insulin\", \"Insulin\", \"Insulin\", \"Insulin\", \"Insulin\", \"Insulin\", \"Insulin\", \"Insulin\", \"Insulin\", \"Insulin\", \"Insulin\", \"Insulin\", \"Insulin\", \"Insulin\", \"Insulin\", \"Insulin\", \"Insulin\", \"Insulin\", \"Insulin\", \"Insulin\", \"Insulin\", \"Insulin\", \"Insulin\", \"Insulin\", \"Insulin\", \"Insulin\", \"Insulin\", \"Insulin\", \"Insulin\", \"Insulin\", \"Insulin\", \"Insulin\", \"Insulin\", \"Insulin\", \"Insulin\", \"Insulin\", \"Insulin\", \"Insulin\", \"Insulin\", \"Insulin\", \"Insulin\", \"Insulin\", \"Insulin\", \"Insulin\", \"Insulin\", \"Insulin\", \"Insulin\", \"Insulin\", \"Insulin\", \"Insulin\", \"Insulin\", \"Insulin\", \"Insulin\", \"Insulin\", \"Insulin\", \"Insulin\", \"Insulin\", \"Insulin\", \"Insulin\", \"Insulin\", \"Insulin\", \"Insulin\", \"Insulin\", \"Insulin\", \"Insulin\", \"Insulin\", \"Insulin\", \"Insulin\", \"Insulin\", \"Insulin\", \"Insulin\", \"Insulin\", \"Insulin\", \"Insulin\", \"Insulin\", \"Insulin\", \"Insulin\", \"Insulin\", \"Insulin\", \"Insulin\", \"Insulin\", \"Insulin\", \"Insulin\", \"Insulin\", \"Insulin\", \"Insulin\", \"Insulin\", \"Insulin\", \"Insulin\", \"Insulin\", \"Insulin\", \"Insulin\", \"Insulin\", \"Insulin\", \"Insulin\", \"Insulin\", \"Insulin\", \"Insulin\", \"Insulin\", \"Insulin\", \"Insulin\", \"Insulin\", \"Insulin\", \"Insulin\", \"Insulin\", \"Insulin\", \"Insulin\", \"Insulin\", \"Insulin\", \"Insulin\", \"Insulin\", \"Insulin\", \"Insulin\", \"Insulin\", \"Insulin\", \"Insulin\", \"Insulin\", \"Insulin\", \"Insulin\", \"Insulin\", \"Insulin\", \"Insulin\", \"Insulin\", \"Insulin\", \"Insulin\", \"Insulin\", \"Insulin\", \"Insulin\", \"Insulin\", \"Insulin\", \"Insulin\", \"Insulin\", \"Insulin\", \"Insulin\", \"Insulin\", \"Insulin\", \"Insulin\", \"Insulin\", \"Insulin\", \"Insulin\", \"Insulin\", \"Insulin\", \"Insulin\", \"Insulin\", \"Insulin\", \"Insulin\", \"Insulin\", \"Insulin\", \"Insulin\", \"Insulin\", \"Insulin\", \"Insulin\", \"Insulin\", \"Insulin\", \"Insulin\", \"Insulin\", \"Insulin\", \"Insulin\", \"Insulin\", \"Insulin\", \"Insulin\", \"Insulin\", \"Insulin\", \"Insulin\", \"Insulin\", \"Insulin\", \"Insulin\", \"Insulin\", \"Insulin\", \"Insulin\", \"Insulin\", \"Insulin\", \"Insulin\", \"Insulin\", \"Insulin\", \"Insulin\", \"Insulin\", \"Insulin\", \"Insulin\", \"Insulin\", \"Insulin\", \"Insulin\", \"Insulin\", \"Insulin\", \"Insulin\", \"Insulin\", \"Insulin\", \"Insulin\", \"Insulin\", \"Insulin\", \"Insulin\", \"Insulin\", \"Insulin\", \"Insulin\", \"Insulin\", \"Insulin\", \"Insulin\", \"Insulin\", \"Insulin\", \"Insulin\", \"Insulin\", \"Insulin\", \"Insulin\", \"Insulin\", \"Insulin\", \"Insulin\", \"Insulin\", \"Insulin\", \"Insulin\", \"Insulin\", \"Insulin\", \"Insulin\", \"Insulin\", \"Insulin\", \"Insulin\", \"Insulin\", \"Insulin\", \"Insulin\", \"Insulin\", \"Insulin\", \"Insulin\", \"Insulin\", \"Insulin\", \"Insulin\", \"Insulin\", \"Insulin\", \"Insulin\", \"Insulin\", \"Insulin\", \"Insulin\", \"Insulin\", \"Insulin\", \"Insulin\", \"Insulin\", \"Insulin\", \"Insulin\", \"Insulin\", \"Insulin\", \"Insulin\", \"Insulin\", \"Insulin\", \"Insulin\", \"Insulin\", \"Insulin\", \"Insulin\", \"Insulin\", \"Insulin\", \"Insulin\", \"Insulin\", \"Insulin\", \"Insulin\", \"Insulin\", \"Insulin\", \"Insulin\", \"Insulin\", \"Insulin\", \"Insulin\", \"Insulin\", \"Insulin\", \"Insulin\", \"Insulin\", \"Insulin\", \"Insulin\", \"Insulin\", \"Insulin\", \"Insulin\", \"Insulin\", \"Insulin\", \"Insulin\", \"Insulin\", \"Insulin\", \"Insulin\", \"Insulin\", \"Insulin\", \"Insulin\", \"Insulin\", \"Insulin\", \"Insulin\", \"Insulin\", \"Insulin\", \"Insulin\", \"Insulin\", \"Insulin\", \"Insulin\", \"Insulin\", \"Insulin\", \"Insulin\", \"Insulin\", \"Insulin\", \"Insulin\", \"Insulin\", \"Insulin\", \"Insulin\", \"Insulin\", \"Insulin\", \"Insulin\", \"Insulin\", \"Insulin\", \"Insulin\", \"Insulin\", \"Insulin\", \"Insulin\", \"Insulin\", \"Insulin\", \"Insulin\", \"Insulin\", \"Insulin\", \"Insulin\", \"Insulin\", \"Insulin\", \"Insulin\", \"Insulin\", \"Insulin\", \"Insulin\", \"Insulin\", \"Insulin\", \"Insulin\", \"Insulin\", \"Insulin\", \"Insulin\", \"Insulin\", \"Insulin\", \"Insulin\", \"Insulin\", \"Insulin\", \"Insulin\", \"Insulin\", \"Insulin\", \"Insulin\", \"Insulin\", \"Insulin\", \"Insulin\", \"Insulin\", \"Insulin\", \"Insulin\", \"Insulin\", \"Insulin\", \"Insulin\", \"Insulin\", \"Insulin\", \"Insulin\", \"Insulin\", \"Insulin\", \"Insulin\", \"Insulin\", \"Insulin\", \"Insulin\", \"Insulin\", \"Insulin\", \"Insulin\", \"Insulin\", \"Insulin\", \"Insulin\", \"Insulin\", \"Insulin\", \"Insulin\", \"Insulin\", \"Insulin\", \"Insulin\", \"Insulin\", \"Insulin\", \"Insulin\", \"Insulin\", \"Insulin\", \"Insulin\", \"Insulin\", \"Insulin\", \"Insulin\", \"Insulin\", \"Insulin\", \"Insulin\", \"Insulin\", \"Insulin\", \"Insulin\", \"Insulin\", \"Insulin\", \"Insulin\", \"Insulin\", \"Insulin\", \"Insulin\", \"Insulin\", \"Insulin\", \"Insulin\", \"Insulin\", \"Insulin\", \"Insulin\", \"Insulin\", \"Insulin\", \"Insulin\", \"Insulin\", \"Insulin\", \"Insulin\", \"Insulin\", \"Insulin\", \"Insulin\", \"Insulin\", \"Insulin\", \"Insulin\", \"Insulin\", \"Insulin\", \"Insulin\", \"Insulin\", \"Insulin\", \"Insulin\", \"Insulin\", \"Insulin\", \"Insulin\", \"Insulin\", \"Insulin\", \"Insulin\", \"Insulin\", \"Insulin\", \"Insulin\", \"Insulin\", \"Insulin\", \"Insulin\", \"Insulin\", \"Insulin\", \"Insulin\", \"Insulin\", \"Insulin\", \"Insulin\", \"Insulin\", \"Insulin\", \"Insulin\", \"Insulin\", \"Insulin\", \"Insulin\", \"Insulin\", \"Insulin\", \"Insulin\", \"Insulin\", \"Insulin\", \"Insulin\", \"Insulin\", \"Insulin\", \"Insulin\", \"Insulin\", \"Insulin\", \"Insulin\", \"Insulin\", \"Insulin\", \"Insulin\", \"Insulin\", \"Insulin\", \"Insulin\", \"Insulin\", \"Insulin\", \"Insulin\", \"Insulin\", \"Insulin\", \"Insulin\", \"Insulin\", \"Insulin\", \"Insulin\", \"Insulin\", \"Insulin\", \"Insulin\", \"Insulin\", \"Insulin\", \"Insulin\", \"Insulin\", \"Insulin\", \"Insulin\", \"Insulin\", \"Insulin\", \"Insulin\", \"Insulin\", \"Insulin\", \"Insulin\", \"Insulin\", \"Insulin\", \"Insulin\", \"Insulin\", \"Insulin\", \"Insulin\", \"Insulin\", \"Insulin\", \"Insulin\", \"Insulin\", \"Insulin\", \"Insulin\", \"Insulin\", \"Insulin\", \"Insulin\", \"Insulin\", \"Insulin\", \"Insulin\", \"Insulin\", \"Insulin\", \"Insulin\", \"Insulin\", \"Insulin\", \"Insulin\", \"Insulin\", \"Insulin\", \"Insulin\", \"Insulin\", \"Insulin\", \"Insulin\", \"Insulin\", \"Insulin\", \"Insulin\", \"Insulin\", \"Insulin\", \"Insulin\", \"Insulin\", \"Insulin\", \"Insulin\", \"Insulin\", \"Insulin\", \"Insulin\", \"Insulin\", \"Insulin\", \"Insulin\", \"Insulin\", \"Insulin\", \"Insulin\", \"Insulin\", \"Insulin\", \"Insulin\", \"Insulin\", \"Insulin\", \"Insulin\", \"Insulin\", \"Insulin\", \"Insulin\", \"Insulin\", \"Insulin\", \"Insulin\", \"Insulin\", \"Insulin\", \"Insulin\", \"Insulin\", \"Insulin\", \"Insulin\", \"Insulin\", \"Insulin\", \"Insulin\", \"Insulin\", \"Insulin\", \"Insulin\", \"Insulin\", \"Insulin\", \"Insulin\", \"Insulin\", \"Insulin\", \"Insulin\", \"Insulin\", \"Insulin\", \"Insulin\", \"Insulin\", \"Insulin\", \"Insulin\", \"Insulin\", \"Insulin\", \"Insulin\", \"Insulin\", \"Insulin\", \"Insulin\", \"Insulin\", \"Insulin\", \"Insulin\", \"Insulin\", \"Insulin\", \"Insulin\", \"Insulin\", \"Insulin\", \"Insulin\", \"Insulin\", \"Insulin\", \"Insulin\", \"Insulin\", \"Insulin\", \"Insulin\", \"Insulin\", \"Insulin\", \"Insulin\", \"Insulin\", \"Insulin\", \"Insulin\", \"Insulin\", \"Insulin\", \"Insulin\", \"Insulin\", \"Insulin\", \"Insulin\", \"Insulin\", \"Insulin\", \"Insulin\", \"Insulin\", \"Insulin\", \"Insulin\", \"Insulin\", \"Insulin\", \"Insulin\", \"Insulin\", \"Insulin\", \"Insulin\", \"Insulin\", \"Insulin\", \"Insulin\", \"Insulin\", \"Insulin\", \"Insulin\", \"Insulin\", \"Insulin\", \"Insulin\", \"Insulin\", \"Insulin\", \"Insulin\", \"Insulin\", \"Insulin\", \"Insulin\", \"Insulin\", \"Insulin\", \"Insulin\", \"Insulin\", \"Insulin\", \"Insulin\", \"Insulin\", \"Insulin\", \"Insulin\", \"Insulin\", \"Insulin\", \"Insulin\", \"Insulin\", \"Insulin\", \"Insulin\", \"Insulin\", \"Insulin\", \"Insulin\", \"Insulin\", \"Insulin\", \"Insulin\", \"Insulin\", \"Insulin\", \"Insulin\", \"Insulin\", \"Insulin\", \"Insulin\", \"Insulin\", \"Insulin\", \"Insulin\", \"Insulin\", \"Insulin\", \"Insulin\", \"Insulin\", \"Insulin\", \"Insulin\", \"Insulin\", \"Insulin\", \"Insulin\", \"Insulin\", \"Insulin\", \"Insulin\", \"Insulin\", \"Insulin\", \"Insulin\", \"Insulin\", \"Insulin\", \"Insulin\", \"Insulin\", \"Insulin\", \"Insulin\", \"Insulin\", \"Insulin\", \"Insulin\", \"Insulin\", \"Insulin\", \"Insulin\", \"Insulin\", \"Insulin\", \"Insulin\", \"Insulin\", \"Insulin\", \"Insulin\", \"Insulin\", \"Insulin\", \"Insulin\", \"Insulin\", \"Insulin\", \"Insulin\", \"Insulin\", \"Insulin\", \"Insulin\", \"Insulin\", \"Insulin\", \"Insulin\", \"Insulin\", \"Insulin\", \"Insulin\", \"Insulin\", \"Insulin\", \"Insulin\", \"Insulin\", \"Insulin\", \"Insulin\", \"Insulin\", \"Insulin\", \"Insulin\", \"Insulin\", \"Insulin\", \"Insulin\", \"Insulin\", \"Insulin\", \"Insulin\", \"Insulin\", \"Insulin\", \"Insulin\", \"Insulin\", \"Insulin\", \"Insulin\", \"Insulin\", \"Insulin\", \"Insulin\", \"Insulin\", \"Insulin\", \"Insulin\", \"Insulin\", \"Insulin\", \"Insulin\", \"Insulin\", \"Insulin\", \"Insulin\", \"Insulin\", \"Insulin\", \"Insulin\", \"Insulin\", \"Insulin\", \"Insulin\", \"Insulin\", \"Insulin\", \"Insulin\", \"Insulin\", \"Insulin\", \"Insulin\", \"Insulin\", \"BMI\", \"BMI\", \"BMI\", \"BMI\", \"BMI\", \"BMI\", \"BMI\", \"BMI\", \"BMI\", \"BMI\", \"BMI\", \"BMI\", \"BMI\", \"BMI\", \"BMI\", \"BMI\", \"BMI\", \"BMI\", \"BMI\", \"BMI\", \"BMI\", \"BMI\", \"BMI\", \"BMI\", \"BMI\", \"BMI\", \"BMI\", \"BMI\", \"BMI\", \"BMI\", \"BMI\", \"BMI\", \"BMI\", \"BMI\", \"BMI\", \"BMI\", \"BMI\", \"BMI\", \"BMI\", \"BMI\", \"BMI\", \"BMI\", \"BMI\", \"BMI\", \"BMI\", \"BMI\", \"BMI\", \"BMI\", \"BMI\", \"BMI\", \"BMI\", \"BMI\", \"BMI\", \"BMI\", \"BMI\", \"BMI\", \"BMI\", \"BMI\", \"BMI\", \"BMI\", \"BMI\", \"BMI\", \"BMI\", \"BMI\", \"BMI\", \"BMI\", \"BMI\", \"BMI\", \"BMI\", \"BMI\", \"BMI\", \"BMI\", \"BMI\", \"BMI\", \"BMI\", \"BMI\", \"BMI\", \"BMI\", \"BMI\", \"BMI\", \"BMI\", \"BMI\", \"BMI\", \"BMI\", \"BMI\", \"BMI\", \"BMI\", \"BMI\", \"BMI\", \"BMI\", \"BMI\", \"BMI\", \"BMI\", \"BMI\", \"BMI\", \"BMI\", \"BMI\", \"BMI\", \"BMI\", \"BMI\", \"BMI\", \"BMI\", \"BMI\", \"BMI\", \"BMI\", \"BMI\", \"BMI\", \"BMI\", \"BMI\", \"BMI\", \"BMI\", \"BMI\", \"BMI\", \"BMI\", \"BMI\", \"BMI\", \"BMI\", \"BMI\", \"BMI\", \"BMI\", \"BMI\", \"BMI\", \"BMI\", \"BMI\", \"BMI\", \"BMI\", \"BMI\", \"BMI\", \"BMI\", \"BMI\", \"BMI\", \"BMI\", \"BMI\", \"BMI\", \"BMI\", \"BMI\", \"BMI\", \"BMI\", \"BMI\", \"BMI\", \"BMI\", \"BMI\", \"BMI\", \"BMI\", \"BMI\", \"BMI\", \"BMI\", \"BMI\", \"BMI\", \"BMI\", \"BMI\", \"BMI\", \"BMI\", \"BMI\", \"BMI\", \"BMI\", \"BMI\", \"BMI\", \"BMI\", \"BMI\", \"BMI\", \"BMI\", \"BMI\", \"BMI\", \"BMI\", \"BMI\", \"BMI\", \"BMI\", \"BMI\", \"BMI\", \"BMI\", \"BMI\", \"BMI\", \"BMI\", \"BMI\", \"BMI\", \"BMI\", \"BMI\", \"BMI\", \"BMI\", \"BMI\", \"BMI\", \"BMI\", \"BMI\", \"BMI\", \"BMI\", \"BMI\", \"BMI\", \"BMI\", \"BMI\", \"BMI\", \"BMI\", \"BMI\", \"BMI\", \"BMI\", \"BMI\", \"BMI\", \"BMI\", \"BMI\", \"BMI\", \"BMI\", \"BMI\", \"BMI\", \"BMI\", \"BMI\", \"BMI\", \"BMI\", \"BMI\", \"BMI\", \"BMI\", \"BMI\", \"BMI\", \"BMI\", \"BMI\", \"BMI\", \"BMI\", \"BMI\", \"BMI\", \"BMI\", \"BMI\", \"BMI\", \"BMI\", \"BMI\", \"BMI\", \"BMI\", \"BMI\", \"BMI\", \"BMI\", \"BMI\", \"BMI\", \"BMI\", \"BMI\", \"BMI\", \"BMI\", \"BMI\", \"BMI\", \"BMI\", \"BMI\", \"BMI\", \"BMI\", \"BMI\", \"BMI\", \"BMI\", \"BMI\", \"BMI\", \"BMI\", \"BMI\", \"BMI\", \"BMI\", \"BMI\", \"BMI\", \"BMI\", \"BMI\", \"BMI\", \"BMI\", \"BMI\", \"BMI\", \"BMI\", \"BMI\", \"BMI\", \"BMI\", \"BMI\", \"BMI\", \"BMI\", \"BMI\", \"BMI\", \"BMI\", \"BMI\", \"BMI\", \"BMI\", \"BMI\", \"BMI\", \"BMI\", \"BMI\", \"BMI\", \"BMI\", \"BMI\", \"BMI\", \"BMI\", \"BMI\", \"BMI\", \"BMI\", \"BMI\", \"BMI\", \"BMI\", \"BMI\", \"BMI\", \"BMI\", \"BMI\", \"BMI\", \"BMI\", \"BMI\", \"BMI\", \"BMI\", \"BMI\", \"BMI\", \"BMI\", \"BMI\", \"BMI\", \"BMI\", \"BMI\", \"BMI\", \"BMI\", \"BMI\", \"BMI\", \"BMI\", \"BMI\", \"BMI\", \"BMI\", \"BMI\", \"BMI\", \"BMI\", \"BMI\", \"BMI\", \"BMI\", \"BMI\", \"BMI\", \"BMI\", \"BMI\", \"BMI\", \"BMI\", \"BMI\", \"BMI\", \"BMI\", \"BMI\", \"BMI\", \"BMI\", \"BMI\", \"BMI\", \"BMI\", \"BMI\", \"BMI\", \"BMI\", \"BMI\", \"BMI\", \"BMI\", \"BMI\", \"BMI\", \"BMI\", \"BMI\", \"BMI\", \"BMI\", \"BMI\", \"BMI\", \"BMI\", \"BMI\", \"BMI\", \"BMI\", \"BMI\", \"BMI\", \"BMI\", \"BMI\", \"BMI\", \"BMI\", \"BMI\", \"BMI\", \"BMI\", \"BMI\", \"BMI\", \"BMI\", \"BMI\", \"BMI\", \"BMI\", \"BMI\", \"BMI\", \"BMI\", \"BMI\", \"BMI\", \"BMI\", \"BMI\", \"BMI\", \"BMI\", \"BMI\", \"BMI\", \"BMI\", \"BMI\", \"BMI\", \"BMI\", \"BMI\", \"BMI\", \"BMI\", \"BMI\", \"BMI\", \"BMI\", \"BMI\", \"BMI\", \"BMI\", \"BMI\", \"BMI\", \"BMI\", \"BMI\", \"BMI\", \"BMI\", \"BMI\", \"BMI\", \"BMI\", \"BMI\", \"BMI\", \"BMI\", \"BMI\", \"BMI\", \"BMI\", \"BMI\", \"BMI\", \"BMI\", \"BMI\", \"BMI\", \"BMI\", \"BMI\", \"BMI\", \"BMI\", \"BMI\", \"BMI\", \"BMI\", \"BMI\", \"BMI\", \"BMI\", \"BMI\", \"BMI\", \"BMI\", \"BMI\", \"BMI\", \"BMI\", \"BMI\", \"BMI\", \"BMI\", \"BMI\", \"BMI\", \"BMI\", \"BMI\", \"BMI\", \"BMI\", \"BMI\", \"BMI\", \"BMI\", \"BMI\", \"BMI\", \"BMI\", \"BMI\", \"BMI\", \"BMI\", \"BMI\", \"BMI\", \"BMI\", \"BMI\", \"BMI\", \"BMI\", \"BMI\", \"BMI\", \"BMI\", \"BMI\", \"BMI\", \"BMI\", \"BMI\", \"BMI\", \"BMI\", \"BMI\", \"BMI\", \"BMI\", \"BMI\", \"BMI\", \"BMI\", \"BMI\", \"BMI\", \"BMI\", \"BMI\", \"BMI\", \"BMI\", \"BMI\", \"BMI\", \"BMI\", \"BMI\", \"BMI\", \"BMI\", \"BMI\", \"BMI\", \"BMI\", \"BMI\", \"BMI\", \"BMI\", \"BMI\", \"BMI\", \"BMI\", \"BMI\", \"BMI\", \"BMI\", \"BMI\", \"BMI\", \"BMI\", \"BMI\", \"BMI\", \"BMI\", \"BMI\", \"BMI\", \"BMI\", \"BMI\", \"BMI\", \"BMI\", \"BMI\", \"BMI\", \"BMI\", \"BMI\", \"BMI\", \"BMI\", \"BMI\", \"BMI\", \"BMI\", \"BMI\", \"BMI\", \"BMI\", \"BMI\", \"BMI\", \"BMI\", \"BMI\", \"BMI\", \"BMI\", \"BMI\", \"BMI\", \"BMI\", \"BMI\", \"BMI\", \"BMI\", \"BMI\", \"BMI\", \"BMI\", \"BMI\", \"BMI\", \"BMI\", \"BMI\", \"BMI\", \"BMI\", \"BMI\", \"BMI\", \"BMI\", \"BMI\", \"BMI\", \"BMI\", \"BMI\", \"BMI\", \"BMI\", \"BMI\", \"BMI\", \"BMI\", \"BMI\", \"BMI\", \"BMI\", \"BMI\", \"BMI\", \"BMI\", \"BMI\", \"BMI\", \"BMI\", \"BMI\", \"BMI\", \"BMI\", \"BMI\", \"BMI\", \"BMI\", \"BMI\", \"BMI\", \"BMI\", \"BMI\", \"BMI\", \"BMI\", \"BMI\", \"BMI\", \"BMI\", \"BMI\", \"BMI\", \"BMI\", \"BMI\", \"BMI\", \"BMI\", \"BMI\", \"BMI\", \"BMI\", \"BMI\", \"BMI\", \"BMI\", \"BMI\", \"BMI\", \"BMI\", \"BMI\", \"BMI\", \"BMI\", \"BMI\", \"BMI\", \"BMI\", \"BMI\", \"BMI\", \"BMI\", \"BMI\", \"BMI\", \"BMI\", \"BMI\", \"BMI\", \"BMI\", \"BMI\", \"BMI\", \"BMI\", \"BMI\", \"BMI\", \"BMI\", \"BMI\", \"BMI\", \"BMI\", \"BMI\", \"BMI\", \"BMI\", \"BMI\", \"BMI\", \"BMI\", \"BMI\", \"BMI\", \"BMI\", \"BMI\", \"BMI\", \"BMI\", \"BMI\", \"BMI\", \"BMI\", \"BMI\", \"BMI\", \"BMI\", \"BMI\", \"BMI\", \"BMI\", \"BMI\", \"BMI\", \"BMI\", \"BMI\", \"BMI\", \"BMI\", \"BMI\", \"BMI\", \"BMI\", \"BMI\", \"BMI\", \"BMI\", \"BMI\", \"BMI\", \"BMI\", \"BMI\", \"BMI\", \"BMI\", \"BMI\", \"BMI\", \"BMI\", \"BMI\", \"BMI\", \"BMI\", \"BMI\", \"BMI\", \"BMI\", \"BMI\", \"BMI\", \"BMI\", \"BMI\", \"BMI\", \"BMI\", \"BMI\", \"BMI\", \"BMI\", \"BMI\", \"BMI\", \"BMI\", \"BMI\", \"BMI\", \"BMI\", \"BMI\", \"BMI\", \"BMI\", \"BMI\", \"BMI\", \"BMI\", \"BMI\", \"BMI\", \"BMI\", \"BMI\", \"BMI\", \"BMI\", \"BMI\", \"BMI\", \"BMI\", \"BMI\", \"BMI\", \"BMI\", \"BMI\", \"BMI\", \"BMI\", \"BMI\", \"BMI\", \"BMI\", \"BMI\", \"BMI\", \"BMI\", \"BMI\", \"BMI\", \"BMI\", \"BMI\", \"BMI\", \"BMI\", \"BMI\", \"BMI\", \"BMI\", \"BMI\", \"BMI\", \"BMI\", \"BMI\", \"BMI\", \"BMI\", \"BMI\", \"BMI\", \"BMI\", \"BMI\", \"BMI\", \"BMI\", \"BMI\", \"BMI\", \"BMI\", \"BMI\", \"BMI\", \"BMI\", \"BMI\", \"BMI\", \"BMI\", \"BMI\", \"BMI\", \"BMI\", \"BMI\", \"BMI\", \"BMI\", \"BMI\", \"BMI\", \"BMI\", \"BMI\", \"BMI\", \"BMI\", \"BMI\", \"BMI\", \"BMI\", \"BMI\", \"BMI\", \"BMI\", \"BMI\", \"BMI\", \"BMI\", \"BMI\", \"BMI\", \"BMI\", \"BMI\", \"BMI\", \"BMI\", \"BMI\", \"BMI\", \"BMI\", \"BMI\", \"BMI\", \"BMI\", \"BMI\", \"BMI\", \"BMI\", \"BMI\", \"BMI\", \"BMI\", \"BMI\", \"BMI\", \"BMI\", \"DiabetesPedigreeFunction\", \"DiabetesPedigreeFunction\", \"DiabetesPedigreeFunction\", \"DiabetesPedigreeFunction\", \"DiabetesPedigreeFunction\", \"DiabetesPedigreeFunction\", \"DiabetesPedigreeFunction\", \"DiabetesPedigreeFunction\", \"DiabetesPedigreeFunction\", \"DiabetesPedigreeFunction\", \"DiabetesPedigreeFunction\", \"DiabetesPedigreeFunction\", \"DiabetesPedigreeFunction\", \"DiabetesPedigreeFunction\", \"DiabetesPedigreeFunction\", \"DiabetesPedigreeFunction\", \"DiabetesPedigreeFunction\", \"DiabetesPedigreeFunction\", \"DiabetesPedigreeFunction\", \"DiabetesPedigreeFunction\", \"DiabetesPedigreeFunction\", \"DiabetesPedigreeFunction\", \"DiabetesPedigreeFunction\", \"DiabetesPedigreeFunction\", \"DiabetesPedigreeFunction\", \"DiabetesPedigreeFunction\", \"DiabetesPedigreeFunction\", \"DiabetesPedigreeFunction\", \"DiabetesPedigreeFunction\", \"DiabetesPedigreeFunction\", \"DiabetesPedigreeFunction\", \"DiabetesPedigreeFunction\", \"DiabetesPedigreeFunction\", \"DiabetesPedigreeFunction\", \"DiabetesPedigreeFunction\", \"DiabetesPedigreeFunction\", \"DiabetesPedigreeFunction\", \"DiabetesPedigreeFunction\", \"DiabetesPedigreeFunction\", \"DiabetesPedigreeFunction\", \"DiabetesPedigreeFunction\", \"DiabetesPedigreeFunction\", \"DiabetesPedigreeFunction\", \"DiabetesPedigreeFunction\", \"DiabetesPedigreeFunction\", \"DiabetesPedigreeFunction\", \"DiabetesPedigreeFunction\", \"DiabetesPedigreeFunction\", \"DiabetesPedigreeFunction\", \"DiabetesPedigreeFunction\", \"DiabetesPedigreeFunction\", \"DiabetesPedigreeFunction\", \"DiabetesPedigreeFunction\", \"DiabetesPedigreeFunction\", \"DiabetesPedigreeFunction\", \"DiabetesPedigreeFunction\", \"DiabetesPedigreeFunction\", \"DiabetesPedigreeFunction\", \"DiabetesPedigreeFunction\", \"DiabetesPedigreeFunction\", \"DiabetesPedigreeFunction\", \"DiabetesPedigreeFunction\", \"DiabetesPedigreeFunction\", \"DiabetesPedigreeFunction\", \"DiabetesPedigreeFunction\", \"DiabetesPedigreeFunction\", \"DiabetesPedigreeFunction\", \"DiabetesPedigreeFunction\", \"DiabetesPedigreeFunction\", \"DiabetesPedigreeFunction\", \"DiabetesPedigreeFunction\", \"DiabetesPedigreeFunction\", \"DiabetesPedigreeFunction\", \"DiabetesPedigreeFunction\", \"DiabetesPedigreeFunction\", \"DiabetesPedigreeFunction\", \"DiabetesPedigreeFunction\", \"DiabetesPedigreeFunction\", \"DiabetesPedigreeFunction\", \"DiabetesPedigreeFunction\", \"DiabetesPedigreeFunction\", \"DiabetesPedigreeFunction\", \"DiabetesPedigreeFunction\", \"DiabetesPedigreeFunction\", \"DiabetesPedigreeFunction\", \"DiabetesPedigreeFunction\", \"DiabetesPedigreeFunction\", \"DiabetesPedigreeFunction\", \"DiabetesPedigreeFunction\", \"DiabetesPedigreeFunction\", \"DiabetesPedigreeFunction\", \"DiabetesPedigreeFunction\", \"DiabetesPedigreeFunction\", \"DiabetesPedigreeFunction\", \"DiabetesPedigreeFunction\", \"DiabetesPedigreeFunction\", \"DiabetesPedigreeFunction\", \"DiabetesPedigreeFunction\", \"DiabetesPedigreeFunction\", \"DiabetesPedigreeFunction\", \"DiabetesPedigreeFunction\", \"DiabetesPedigreeFunction\", \"DiabetesPedigreeFunction\", \"DiabetesPedigreeFunction\", \"DiabetesPedigreeFunction\", \"DiabetesPedigreeFunction\", \"DiabetesPedigreeFunction\", \"DiabetesPedigreeFunction\", \"DiabetesPedigreeFunction\", \"DiabetesPedigreeFunction\", \"DiabetesPedigreeFunction\", \"DiabetesPedigreeFunction\", \"DiabetesPedigreeFunction\", \"DiabetesPedigreeFunction\", \"DiabetesPedigreeFunction\", \"DiabetesPedigreeFunction\", \"DiabetesPedigreeFunction\", \"DiabetesPedigreeFunction\", \"DiabetesPedigreeFunction\", \"DiabetesPedigreeFunction\", \"DiabetesPedigreeFunction\", \"DiabetesPedigreeFunction\", \"DiabetesPedigreeFunction\", \"DiabetesPedigreeFunction\", \"DiabetesPedigreeFunction\", \"DiabetesPedigreeFunction\", \"DiabetesPedigreeFunction\", \"DiabetesPedigreeFunction\", \"DiabetesPedigreeFunction\", \"DiabetesPedigreeFunction\", \"DiabetesPedigreeFunction\", \"DiabetesPedigreeFunction\", \"DiabetesPedigreeFunction\", \"DiabetesPedigreeFunction\", \"DiabetesPedigreeFunction\", \"DiabetesPedigreeFunction\", \"DiabetesPedigreeFunction\", \"DiabetesPedigreeFunction\", \"DiabetesPedigreeFunction\", \"DiabetesPedigreeFunction\", \"DiabetesPedigreeFunction\", \"DiabetesPedigreeFunction\", \"DiabetesPedigreeFunction\", \"DiabetesPedigreeFunction\", \"DiabetesPedigreeFunction\", \"DiabetesPedigreeFunction\", \"DiabetesPedigreeFunction\", \"DiabetesPedigreeFunction\", \"DiabetesPedigreeFunction\", \"DiabetesPedigreeFunction\", \"DiabetesPedigreeFunction\", \"DiabetesPedigreeFunction\", \"DiabetesPedigreeFunction\", \"DiabetesPedigreeFunction\", \"DiabetesPedigreeFunction\", \"DiabetesPedigreeFunction\", \"DiabetesPedigreeFunction\", \"DiabetesPedigreeFunction\", \"DiabetesPedigreeFunction\", \"DiabetesPedigreeFunction\", \"DiabetesPedigreeFunction\", \"DiabetesPedigreeFunction\", \"DiabetesPedigreeFunction\", \"DiabetesPedigreeFunction\", \"DiabetesPedigreeFunction\", \"DiabetesPedigreeFunction\", \"DiabetesPedigreeFunction\", \"DiabetesPedigreeFunction\", \"DiabetesPedigreeFunction\", \"DiabetesPedigreeFunction\", \"DiabetesPedigreeFunction\", \"DiabetesPedigreeFunction\", \"DiabetesPedigreeFunction\", \"DiabetesPedigreeFunction\", \"DiabetesPedigreeFunction\", \"DiabetesPedigreeFunction\", \"DiabetesPedigreeFunction\", \"DiabetesPedigreeFunction\", \"DiabetesPedigreeFunction\", \"DiabetesPedigreeFunction\", \"DiabetesPedigreeFunction\", \"DiabetesPedigreeFunction\", \"DiabetesPedigreeFunction\", \"DiabetesPedigreeFunction\", \"DiabetesPedigreeFunction\", \"DiabetesPedigreeFunction\", \"DiabetesPedigreeFunction\", \"DiabetesPedigreeFunction\", \"DiabetesPedigreeFunction\", \"DiabetesPedigreeFunction\", \"DiabetesPedigreeFunction\", \"DiabetesPedigreeFunction\", \"DiabetesPedigreeFunction\", \"DiabetesPedigreeFunction\", \"DiabetesPedigreeFunction\", \"DiabetesPedigreeFunction\", \"DiabetesPedigreeFunction\", \"DiabetesPedigreeFunction\", \"DiabetesPedigreeFunction\", \"DiabetesPedigreeFunction\", \"DiabetesPedigreeFunction\", \"DiabetesPedigreeFunction\", \"DiabetesPedigreeFunction\", \"DiabetesPedigreeFunction\", \"DiabetesPedigreeFunction\", \"DiabetesPedigreeFunction\", \"DiabetesPedigreeFunction\", \"DiabetesPedigreeFunction\", \"DiabetesPedigreeFunction\", \"DiabetesPedigreeFunction\", \"DiabetesPedigreeFunction\", \"DiabetesPedigreeFunction\", \"DiabetesPedigreeFunction\", \"DiabetesPedigreeFunction\", \"DiabetesPedigreeFunction\", \"DiabetesPedigreeFunction\", \"DiabetesPedigreeFunction\", \"DiabetesPedigreeFunction\", \"DiabetesPedigreeFunction\", \"DiabetesPedigreeFunction\", \"DiabetesPedigreeFunction\", \"DiabetesPedigreeFunction\", \"DiabetesPedigreeFunction\", \"DiabetesPedigreeFunction\", \"DiabetesPedigreeFunction\", \"DiabetesPedigreeFunction\", \"DiabetesPedigreeFunction\", \"DiabetesPedigreeFunction\", \"DiabetesPedigreeFunction\", \"DiabetesPedigreeFunction\", \"DiabetesPedigreeFunction\", \"DiabetesPedigreeFunction\", \"DiabetesPedigreeFunction\", \"DiabetesPedigreeFunction\", \"DiabetesPedigreeFunction\", \"DiabetesPedigreeFunction\", \"DiabetesPedigreeFunction\", \"DiabetesPedigreeFunction\", \"DiabetesPedigreeFunction\", \"DiabetesPedigreeFunction\", \"DiabetesPedigreeFunction\", \"DiabetesPedigreeFunction\", \"DiabetesPedigreeFunction\", \"DiabetesPedigreeFunction\", \"DiabetesPedigreeFunction\", \"DiabetesPedigreeFunction\", \"DiabetesPedigreeFunction\", \"DiabetesPedigreeFunction\", \"DiabetesPedigreeFunction\", \"DiabetesPedigreeFunction\", \"DiabetesPedigreeFunction\", \"DiabetesPedigreeFunction\", \"DiabetesPedigreeFunction\", \"DiabetesPedigreeFunction\", \"DiabetesPedigreeFunction\", \"DiabetesPedigreeFunction\", \"DiabetesPedigreeFunction\", \"DiabetesPedigreeFunction\", \"DiabetesPedigreeFunction\", \"DiabetesPedigreeFunction\", \"DiabetesPedigreeFunction\", \"DiabetesPedigreeFunction\", \"DiabetesPedigreeFunction\", \"DiabetesPedigreeFunction\", \"DiabetesPedigreeFunction\", \"DiabetesPedigreeFunction\", \"DiabetesPedigreeFunction\", \"DiabetesPedigreeFunction\", \"DiabetesPedigreeFunction\", \"DiabetesPedigreeFunction\", \"DiabetesPedigreeFunction\", \"DiabetesPedigreeFunction\", \"DiabetesPedigreeFunction\", \"DiabetesPedigreeFunction\", \"DiabetesPedigreeFunction\", \"DiabetesPedigreeFunction\", \"DiabetesPedigreeFunction\", \"DiabetesPedigreeFunction\", \"DiabetesPedigreeFunction\", \"DiabetesPedigreeFunction\", \"DiabetesPedigreeFunction\", \"DiabetesPedigreeFunction\", \"DiabetesPedigreeFunction\", \"DiabetesPedigreeFunction\", \"DiabetesPedigreeFunction\", \"DiabetesPedigreeFunction\", \"DiabetesPedigreeFunction\", \"DiabetesPedigreeFunction\", \"DiabetesPedigreeFunction\", \"DiabetesPedigreeFunction\", \"DiabetesPedigreeFunction\", \"DiabetesPedigreeFunction\", \"DiabetesPedigreeFunction\", \"DiabetesPedigreeFunction\", \"DiabetesPedigreeFunction\", \"DiabetesPedigreeFunction\", \"DiabetesPedigreeFunction\", \"DiabetesPedigreeFunction\", \"DiabetesPedigreeFunction\", \"DiabetesPedigreeFunction\", \"DiabetesPedigreeFunction\", \"DiabetesPedigreeFunction\", \"DiabetesPedigreeFunction\", \"DiabetesPedigreeFunction\", \"DiabetesPedigreeFunction\", \"DiabetesPedigreeFunction\", \"DiabetesPedigreeFunction\", \"DiabetesPedigreeFunction\", \"DiabetesPedigreeFunction\", \"DiabetesPedigreeFunction\", \"DiabetesPedigreeFunction\", \"DiabetesPedigreeFunction\", \"DiabetesPedigreeFunction\", \"DiabetesPedigreeFunction\", \"DiabetesPedigreeFunction\", \"DiabetesPedigreeFunction\", \"DiabetesPedigreeFunction\", \"DiabetesPedigreeFunction\", \"DiabetesPedigreeFunction\", \"DiabetesPedigreeFunction\", \"DiabetesPedigreeFunction\", \"DiabetesPedigreeFunction\", \"DiabetesPedigreeFunction\", \"DiabetesPedigreeFunction\", \"DiabetesPedigreeFunction\", \"DiabetesPedigreeFunction\", \"DiabetesPedigreeFunction\", \"DiabetesPedigreeFunction\", \"DiabetesPedigreeFunction\", \"DiabetesPedigreeFunction\", \"DiabetesPedigreeFunction\", \"DiabetesPedigreeFunction\", \"DiabetesPedigreeFunction\", \"DiabetesPedigreeFunction\", \"DiabetesPedigreeFunction\", \"DiabetesPedigreeFunction\", \"DiabetesPedigreeFunction\", \"DiabetesPedigreeFunction\", \"DiabetesPedigreeFunction\", \"DiabetesPedigreeFunction\", \"DiabetesPedigreeFunction\", \"DiabetesPedigreeFunction\", \"DiabetesPedigreeFunction\", \"DiabetesPedigreeFunction\", \"DiabetesPedigreeFunction\", \"DiabetesPedigreeFunction\", \"DiabetesPedigreeFunction\", \"DiabetesPedigreeFunction\", \"DiabetesPedigreeFunction\", \"DiabetesPedigreeFunction\", \"DiabetesPedigreeFunction\", \"DiabetesPedigreeFunction\", \"DiabetesPedigreeFunction\", \"DiabetesPedigreeFunction\", \"DiabetesPedigreeFunction\", \"DiabetesPedigreeFunction\", \"DiabetesPedigreeFunction\", \"DiabetesPedigreeFunction\", \"DiabetesPedigreeFunction\", \"DiabetesPedigreeFunction\", \"DiabetesPedigreeFunction\", \"DiabetesPedigreeFunction\", \"DiabetesPedigreeFunction\", \"DiabetesPedigreeFunction\", \"DiabetesPedigreeFunction\", \"DiabetesPedigreeFunction\", \"DiabetesPedigreeFunction\", \"DiabetesPedigreeFunction\", \"DiabetesPedigreeFunction\", \"DiabetesPedigreeFunction\", \"DiabetesPedigreeFunction\", \"DiabetesPedigreeFunction\", \"DiabetesPedigreeFunction\", \"DiabetesPedigreeFunction\", \"DiabetesPedigreeFunction\", \"DiabetesPedigreeFunction\", \"DiabetesPedigreeFunction\", \"DiabetesPedigreeFunction\", \"DiabetesPedigreeFunction\", \"DiabetesPedigreeFunction\", \"DiabetesPedigreeFunction\", \"DiabetesPedigreeFunction\", \"DiabetesPedigreeFunction\", \"DiabetesPedigreeFunction\", \"DiabetesPedigreeFunction\", \"DiabetesPedigreeFunction\", \"DiabetesPedigreeFunction\", \"DiabetesPedigreeFunction\", \"DiabetesPedigreeFunction\", \"DiabetesPedigreeFunction\", \"DiabetesPedigreeFunction\", \"DiabetesPedigreeFunction\", \"DiabetesPedigreeFunction\", \"DiabetesPedigreeFunction\", \"DiabetesPedigreeFunction\", \"DiabetesPedigreeFunction\", \"DiabetesPedigreeFunction\", \"DiabetesPedigreeFunction\", \"DiabetesPedigreeFunction\", \"DiabetesPedigreeFunction\", \"DiabetesPedigreeFunction\", \"DiabetesPedigreeFunction\", \"DiabetesPedigreeFunction\", \"DiabetesPedigreeFunction\", \"DiabetesPedigreeFunction\", \"DiabetesPedigreeFunction\", \"DiabetesPedigreeFunction\", \"DiabetesPedigreeFunction\", \"DiabetesPedigreeFunction\", \"DiabetesPedigreeFunction\", \"DiabetesPedigreeFunction\", \"DiabetesPedigreeFunction\", \"DiabetesPedigreeFunction\", \"DiabetesPedigreeFunction\", \"DiabetesPedigreeFunction\", \"DiabetesPedigreeFunction\", \"DiabetesPedigreeFunction\", \"DiabetesPedigreeFunction\", \"DiabetesPedigreeFunction\", \"DiabetesPedigreeFunction\", \"DiabetesPedigreeFunction\", \"DiabetesPedigreeFunction\", \"DiabetesPedigreeFunction\", \"DiabetesPedigreeFunction\", \"DiabetesPedigreeFunction\", \"DiabetesPedigreeFunction\", \"DiabetesPedigreeFunction\", \"DiabetesPedigreeFunction\", \"DiabetesPedigreeFunction\", \"DiabetesPedigreeFunction\", \"DiabetesPedigreeFunction\", \"DiabetesPedigreeFunction\", \"DiabetesPedigreeFunction\", \"DiabetesPedigreeFunction\", \"DiabetesPedigreeFunction\", \"DiabetesPedigreeFunction\", \"DiabetesPedigreeFunction\", \"DiabetesPedigreeFunction\", \"DiabetesPedigreeFunction\", \"DiabetesPedigreeFunction\", \"DiabetesPedigreeFunction\", \"DiabetesPedigreeFunction\", \"DiabetesPedigreeFunction\", \"DiabetesPedigreeFunction\", \"DiabetesPedigreeFunction\", \"DiabetesPedigreeFunction\", \"DiabetesPedigreeFunction\", \"DiabetesPedigreeFunction\", \"DiabetesPedigreeFunction\", \"DiabetesPedigreeFunction\", \"DiabetesPedigreeFunction\", \"DiabetesPedigreeFunction\", \"DiabetesPedigreeFunction\", \"DiabetesPedigreeFunction\", \"DiabetesPedigreeFunction\", \"DiabetesPedigreeFunction\", \"DiabetesPedigreeFunction\", \"DiabetesPedigreeFunction\", \"DiabetesPedigreeFunction\", \"DiabetesPedigreeFunction\", \"DiabetesPedigreeFunction\", \"DiabetesPedigreeFunction\", \"DiabetesPedigreeFunction\", \"DiabetesPedigreeFunction\", \"DiabetesPedigreeFunction\", \"DiabetesPedigreeFunction\", \"DiabetesPedigreeFunction\", \"DiabetesPedigreeFunction\", \"DiabetesPedigreeFunction\", \"DiabetesPedigreeFunction\", \"DiabetesPedigreeFunction\", \"DiabetesPedigreeFunction\", \"DiabetesPedigreeFunction\", \"DiabetesPedigreeFunction\", \"DiabetesPedigreeFunction\", \"DiabetesPedigreeFunction\", \"DiabetesPedigreeFunction\", \"DiabetesPedigreeFunction\", \"DiabetesPedigreeFunction\", \"DiabetesPedigreeFunction\", \"DiabetesPedigreeFunction\", \"DiabetesPedigreeFunction\", \"DiabetesPedigreeFunction\", \"DiabetesPedigreeFunction\", \"DiabetesPedigreeFunction\", \"DiabetesPedigreeFunction\", \"DiabetesPedigreeFunction\", \"DiabetesPedigreeFunction\", \"DiabetesPedigreeFunction\", \"DiabetesPedigreeFunction\", \"DiabetesPedigreeFunction\", \"DiabetesPedigreeFunction\", \"DiabetesPedigreeFunction\", \"DiabetesPedigreeFunction\", \"DiabetesPedigreeFunction\", \"DiabetesPedigreeFunction\", \"DiabetesPedigreeFunction\", \"DiabetesPedigreeFunction\", \"DiabetesPedigreeFunction\", \"DiabetesPedigreeFunction\", \"DiabetesPedigreeFunction\", \"DiabetesPedigreeFunction\", \"DiabetesPedigreeFunction\", \"DiabetesPedigreeFunction\", \"DiabetesPedigreeFunction\", \"DiabetesPedigreeFunction\", \"DiabetesPedigreeFunction\", \"DiabetesPedigreeFunction\", \"DiabetesPedigreeFunction\", \"DiabetesPedigreeFunction\", \"DiabetesPedigreeFunction\", \"DiabetesPedigreeFunction\", \"DiabetesPedigreeFunction\", \"DiabetesPedigreeFunction\", \"DiabetesPedigreeFunction\", \"DiabetesPedigreeFunction\", \"DiabetesPedigreeFunction\", \"DiabetesPedigreeFunction\", \"DiabetesPedigreeFunction\", \"DiabetesPedigreeFunction\", \"DiabetesPedigreeFunction\", \"DiabetesPedigreeFunction\", \"DiabetesPedigreeFunction\", \"DiabetesPedigreeFunction\", \"DiabetesPedigreeFunction\", \"DiabetesPedigreeFunction\", \"DiabetesPedigreeFunction\", \"DiabetesPedigreeFunction\", \"DiabetesPedigreeFunction\", \"DiabetesPedigreeFunction\", \"DiabetesPedigreeFunction\", \"DiabetesPedigreeFunction\", \"DiabetesPedigreeFunction\", \"DiabetesPedigreeFunction\", \"DiabetesPedigreeFunction\", \"DiabetesPedigreeFunction\", \"DiabetesPedigreeFunction\", \"DiabetesPedigreeFunction\", \"DiabetesPedigreeFunction\", \"DiabetesPedigreeFunction\", \"DiabetesPedigreeFunction\", \"DiabetesPedigreeFunction\", \"DiabetesPedigreeFunction\", \"DiabetesPedigreeFunction\", \"DiabetesPedigreeFunction\", \"DiabetesPedigreeFunction\", \"DiabetesPedigreeFunction\", \"DiabetesPedigreeFunction\", \"DiabetesPedigreeFunction\", \"DiabetesPedigreeFunction\", \"DiabetesPedigreeFunction\", \"DiabetesPedigreeFunction\", \"DiabetesPedigreeFunction\", \"DiabetesPedigreeFunction\", \"DiabetesPedigreeFunction\", \"DiabetesPedigreeFunction\", \"DiabetesPedigreeFunction\", \"DiabetesPedigreeFunction\", \"DiabetesPedigreeFunction\", \"DiabetesPedigreeFunction\", \"DiabetesPedigreeFunction\", \"DiabetesPedigreeFunction\", \"DiabetesPedigreeFunction\", \"DiabetesPedigreeFunction\", \"DiabetesPedigreeFunction\", \"DiabetesPedigreeFunction\", \"DiabetesPedigreeFunction\", \"DiabetesPedigreeFunction\", \"DiabetesPedigreeFunction\", \"DiabetesPedigreeFunction\", \"DiabetesPedigreeFunction\", \"DiabetesPedigreeFunction\", \"DiabetesPedigreeFunction\", \"DiabetesPedigreeFunction\", \"DiabetesPedigreeFunction\", \"DiabetesPedigreeFunction\", \"DiabetesPedigreeFunction\", \"DiabetesPedigreeFunction\", \"DiabetesPedigreeFunction\", \"DiabetesPedigreeFunction\", \"DiabetesPedigreeFunction\", \"DiabetesPedigreeFunction\", \"DiabetesPedigreeFunction\", \"DiabetesPedigreeFunction\", \"DiabetesPedigreeFunction\", \"DiabetesPedigreeFunction\", \"DiabetesPedigreeFunction\", \"DiabetesPedigreeFunction\", \"DiabetesPedigreeFunction\", \"DiabetesPedigreeFunction\", \"DiabetesPedigreeFunction\", \"DiabetesPedigreeFunction\", \"DiabetesPedigreeFunction\", \"DiabetesPedigreeFunction\", \"DiabetesPedigreeFunction\", \"DiabetesPedigreeFunction\", \"DiabetesPedigreeFunction\", \"DiabetesPedigreeFunction\", \"DiabetesPedigreeFunction\", \"DiabetesPedigreeFunction\", \"DiabetesPedigreeFunction\", \"DiabetesPedigreeFunction\", \"DiabetesPedigreeFunction\", \"DiabetesPedigreeFunction\", \"DiabetesPedigreeFunction\", \"DiabetesPedigreeFunction\", \"DiabetesPedigreeFunction\", \"DiabetesPedigreeFunction\", \"DiabetesPedigreeFunction\", \"DiabetesPedigreeFunction\", \"DiabetesPedigreeFunction\", \"DiabetesPedigreeFunction\", \"DiabetesPedigreeFunction\", \"DiabetesPedigreeFunction\", \"DiabetesPedigreeFunction\", \"DiabetesPedigreeFunction\", \"DiabetesPedigreeFunction\", \"DiabetesPedigreeFunction\", \"DiabetesPedigreeFunction\", \"DiabetesPedigreeFunction\", \"DiabetesPedigreeFunction\", \"DiabetesPedigreeFunction\", \"DiabetesPedigreeFunction\", \"DiabetesPedigreeFunction\", \"DiabetesPedigreeFunction\", \"DiabetesPedigreeFunction\", \"DiabetesPedigreeFunction\", \"DiabetesPedigreeFunction\", \"DiabetesPedigreeFunction\", \"DiabetesPedigreeFunction\", \"DiabetesPedigreeFunction\", \"DiabetesPedigreeFunction\", \"DiabetesPedigreeFunction\", \"DiabetesPedigreeFunction\", \"DiabetesPedigreeFunction\", \"DiabetesPedigreeFunction\", \"DiabetesPedigreeFunction\", \"DiabetesPedigreeFunction\", \"DiabetesPedigreeFunction\", \"DiabetesPedigreeFunction\", \"DiabetesPedigreeFunction\", \"DiabetesPedigreeFunction\", \"DiabetesPedigreeFunction\", \"DiabetesPedigreeFunction\", \"DiabetesPedigreeFunction\", \"DiabetesPedigreeFunction\", \"DiabetesPedigreeFunction\", \"DiabetesPedigreeFunction\", \"DiabetesPedigreeFunction\", \"DiabetesPedigreeFunction\", \"DiabetesPedigreeFunction\", \"DiabetesPedigreeFunction\", \"DiabetesPedigreeFunction\", \"DiabetesPedigreeFunction\", \"DiabetesPedigreeFunction\", \"DiabetesPedigreeFunction\", \"DiabetesPedigreeFunction\", \"DiabetesPedigreeFunction\", \"DiabetesPedigreeFunction\", \"DiabetesPedigreeFunction\", \"DiabetesPedigreeFunction\", \"DiabetesPedigreeFunction\", \"DiabetesPedigreeFunction\", \"DiabetesPedigreeFunction\", \"DiabetesPedigreeFunction\", \"DiabetesPedigreeFunction\", \"DiabetesPedigreeFunction\", \"DiabetesPedigreeFunction\", \"DiabetesPedigreeFunction\", \"DiabetesPedigreeFunction\", \"DiabetesPedigreeFunction\", \"DiabetesPedigreeFunction\", \"DiabetesPedigreeFunction\", \"DiabetesPedigreeFunction\", \"DiabetesPedigreeFunction\", \"DiabetesPedigreeFunction\", \"DiabetesPedigreeFunction\", \"DiabetesPedigreeFunction\", \"DiabetesPedigreeFunction\", \"DiabetesPedigreeFunction\", \"DiabetesPedigreeFunction\", \"DiabetesPedigreeFunction\", \"DiabetesPedigreeFunction\", \"DiabetesPedigreeFunction\", \"DiabetesPedigreeFunction\", \"DiabetesPedigreeFunction\", \"DiabetesPedigreeFunction\", \"DiabetesPedigreeFunction\", \"DiabetesPedigreeFunction\", \"DiabetesPedigreeFunction\", \"DiabetesPedigreeFunction\", \"DiabetesPedigreeFunction\", \"DiabetesPedigreeFunction\", \"DiabetesPedigreeFunction\", \"DiabetesPedigreeFunction\", \"DiabetesPedigreeFunction\", \"DiabetesPedigreeFunction\", \"DiabetesPedigreeFunction\", \"DiabetesPedigreeFunction\", \"DiabetesPedigreeFunction\", \"DiabetesPedigreeFunction\", \"DiabetesPedigreeFunction\", \"DiabetesPedigreeFunction\", \"DiabetesPedigreeFunction\", \"DiabetesPedigreeFunction\", \"DiabetesPedigreeFunction\", \"DiabetesPedigreeFunction\", \"DiabetesPedigreeFunction\", \"DiabetesPedigreeFunction\", \"DiabetesPedigreeFunction\", \"DiabetesPedigreeFunction\", \"DiabetesPedigreeFunction\", \"DiabetesPedigreeFunction\", \"DiabetesPedigreeFunction\", \"DiabetesPedigreeFunction\", \"DiabetesPedigreeFunction\", \"DiabetesPedigreeFunction\", \"DiabetesPedigreeFunction\", \"DiabetesPedigreeFunction\", \"DiabetesPedigreeFunction\", \"DiabetesPedigreeFunction\", \"DiabetesPedigreeFunction\", \"DiabetesPedigreeFunction\", \"DiabetesPedigreeFunction\", \"DiabetesPedigreeFunction\", \"DiabetesPedigreeFunction\", \"DiabetesPedigreeFunction\", \"DiabetesPedigreeFunction\", \"DiabetesPedigreeFunction\", \"DiabetesPedigreeFunction\", \"DiabetesPedigreeFunction\", \"DiabetesPedigreeFunction\", \"DiabetesPedigreeFunction\", \"DiabetesPedigreeFunction\", \"DiabetesPedigreeFunction\", \"DiabetesPedigreeFunction\", \"DiabetesPedigreeFunction\", \"DiabetesPedigreeFunction\", \"DiabetesPedigreeFunction\", \"DiabetesPedigreeFunction\", \"DiabetesPedigreeFunction\", \"DiabetesPedigreeFunction\", \"DiabetesPedigreeFunction\", \"DiabetesPedigreeFunction\", \"DiabetesPedigreeFunction\", \"DiabetesPedigreeFunction\", \"DiabetesPedigreeFunction\", \"DiabetesPedigreeFunction\", \"DiabetesPedigreeFunction\", \"DiabetesPedigreeFunction\", \"DiabetesPedigreeFunction\", \"DiabetesPedigreeFunction\", \"DiabetesPedigreeFunction\", \"DiabetesPedigreeFunction\", \"DiabetesPedigreeFunction\", \"DiabetesPedigreeFunction\", \"DiabetesPedigreeFunction\", \"DiabetesPedigreeFunction\", \"DiabetesPedigreeFunction\", \"DiabetesPedigreeFunction\", \"DiabetesPedigreeFunction\", \"DiabetesPedigreeFunction\", \"DiabetesPedigreeFunction\", \"DiabetesPedigreeFunction\", \"DiabetesPedigreeFunction\", \"DiabetesPedigreeFunction\", \"DiabetesPedigreeFunction\", \"DiabetesPedigreeFunction\", \"Age\", \"Age\", \"Age\", \"Age\", \"Age\", \"Age\", \"Age\", \"Age\", \"Age\", \"Age\", \"Age\", \"Age\", \"Age\", \"Age\", \"Age\", \"Age\", \"Age\", \"Age\", \"Age\", \"Age\", \"Age\", \"Age\", \"Age\", \"Age\", \"Age\", \"Age\", \"Age\", \"Age\", \"Age\", \"Age\", \"Age\", \"Age\", \"Age\", \"Age\", \"Age\", \"Age\", \"Age\", \"Age\", \"Age\", \"Age\", \"Age\", \"Age\", \"Age\", \"Age\", \"Age\", \"Age\", \"Age\", \"Age\", \"Age\", \"Age\", \"Age\", \"Age\", \"Age\", \"Age\", \"Age\", \"Age\", \"Age\", \"Age\", \"Age\", \"Age\", \"Age\", \"Age\", \"Age\", \"Age\", \"Age\", \"Age\", \"Age\", \"Age\", \"Age\", \"Age\", \"Age\", \"Age\", \"Age\", \"Age\", \"Age\", \"Age\", \"Age\", \"Age\", \"Age\", \"Age\", \"Age\", \"Age\", \"Age\", \"Age\", \"Age\", \"Age\", \"Age\", \"Age\", \"Age\", \"Age\", \"Age\", \"Age\", \"Age\", \"Age\", \"Age\", \"Age\", \"Age\", \"Age\", \"Age\", \"Age\", \"Age\", \"Age\", \"Age\", \"Age\", \"Age\", \"Age\", \"Age\", \"Age\", \"Age\", \"Age\", \"Age\", \"Age\", \"Age\", \"Age\", \"Age\", \"Age\", \"Age\", \"Age\", \"Age\", \"Age\", \"Age\", \"Age\", \"Age\", \"Age\", \"Age\", \"Age\", \"Age\", \"Age\", \"Age\", \"Age\", \"Age\", \"Age\", \"Age\", \"Age\", \"Age\", \"Age\", \"Age\", \"Age\", \"Age\", \"Age\", \"Age\", \"Age\", \"Age\", \"Age\", \"Age\", \"Age\", \"Age\", \"Age\", \"Age\", \"Age\", \"Age\", \"Age\", \"Age\", \"Age\", \"Age\", \"Age\", \"Age\", \"Age\", \"Age\", \"Age\", \"Age\", \"Age\", \"Age\", \"Age\", \"Age\", \"Age\", \"Age\", \"Age\", \"Age\", \"Age\", \"Age\", \"Age\", \"Age\", \"Age\", \"Age\", \"Age\", \"Age\", \"Age\", \"Age\", \"Age\", \"Age\", \"Age\", \"Age\", \"Age\", \"Age\", \"Age\", \"Age\", \"Age\", \"Age\", \"Age\", \"Age\", \"Age\", \"Age\", \"Age\", \"Age\", \"Age\", \"Age\", \"Age\", \"Age\", \"Age\", \"Age\", \"Age\", \"Age\", \"Age\", \"Age\", \"Age\", \"Age\", \"Age\", \"Age\", \"Age\", \"Age\", \"Age\", \"Age\", \"Age\", \"Age\", \"Age\", \"Age\", \"Age\", \"Age\", \"Age\", \"Age\", \"Age\", \"Age\", \"Age\", \"Age\", \"Age\", \"Age\", \"Age\", \"Age\", \"Age\", \"Age\", \"Age\", \"Age\", \"Age\", \"Age\", \"Age\", \"Age\", \"Age\", \"Age\", \"Age\", \"Age\", \"Age\", \"Age\", \"Age\", \"Age\", \"Age\", \"Age\", \"Age\", \"Age\", \"Age\", \"Age\", \"Age\", \"Age\", \"Age\", \"Age\", \"Age\", \"Age\", \"Age\", \"Age\", \"Age\", \"Age\", \"Age\", \"Age\", \"Age\", \"Age\", \"Age\", \"Age\", \"Age\", \"Age\", \"Age\", \"Age\", \"Age\", \"Age\", \"Age\", \"Age\", \"Age\", \"Age\", \"Age\", \"Age\", \"Age\", \"Age\", \"Age\", \"Age\", \"Age\", \"Age\", \"Age\", \"Age\", \"Age\", \"Age\", \"Age\", \"Age\", \"Age\", \"Age\", \"Age\", \"Age\", \"Age\", \"Age\", \"Age\", \"Age\", \"Age\", \"Age\", \"Age\", \"Age\", \"Age\", \"Age\", \"Age\", \"Age\", \"Age\", \"Age\", \"Age\", \"Age\", \"Age\", \"Age\", \"Age\", \"Age\", \"Age\", \"Age\", \"Age\", \"Age\", \"Age\", \"Age\", \"Age\", \"Age\", \"Age\", \"Age\", \"Age\", \"Age\", \"Age\", \"Age\", \"Age\", \"Age\", \"Age\", \"Age\", \"Age\", \"Age\", \"Age\", \"Age\", \"Age\", \"Age\", \"Age\", \"Age\", \"Age\", \"Age\", \"Age\", \"Age\", \"Age\", \"Age\", \"Age\", \"Age\", \"Age\", \"Age\", \"Age\", \"Age\", \"Age\", \"Age\", \"Age\", \"Age\", \"Age\", \"Age\", \"Age\", \"Age\", \"Age\", \"Age\", \"Age\", \"Age\", \"Age\", \"Age\", \"Age\", \"Age\", \"Age\", \"Age\", \"Age\", \"Age\", \"Age\", \"Age\", \"Age\", \"Age\", \"Age\", \"Age\", \"Age\", \"Age\", \"Age\", \"Age\", \"Age\", \"Age\", \"Age\", \"Age\", \"Age\", \"Age\", \"Age\", \"Age\", \"Age\", \"Age\", \"Age\", \"Age\", \"Age\", \"Age\", \"Age\", \"Age\", \"Age\", \"Age\", \"Age\", \"Age\", \"Age\", \"Age\", \"Age\", \"Age\", \"Age\", \"Age\", \"Age\", \"Age\", \"Age\", \"Age\", \"Age\", \"Age\", \"Age\", \"Age\", \"Age\", \"Age\", \"Age\", \"Age\", \"Age\", \"Age\", \"Age\", \"Age\", \"Age\", \"Age\", \"Age\", \"Age\", \"Age\", \"Age\", \"Age\", \"Age\", \"Age\", \"Age\", \"Age\", \"Age\", \"Age\", \"Age\", \"Age\", \"Age\", \"Age\", \"Age\", \"Age\", \"Age\", \"Age\", \"Age\", \"Age\", \"Age\", \"Age\", \"Age\", \"Age\", \"Age\", \"Age\", \"Age\", \"Age\", \"Age\", \"Age\", \"Age\", \"Age\", \"Age\", \"Age\", \"Age\", \"Age\", \"Age\", \"Age\", \"Age\", \"Age\", \"Age\", \"Age\", \"Age\", \"Age\", \"Age\", \"Age\", \"Age\", \"Age\", \"Age\", \"Age\", \"Age\", \"Age\", \"Age\", \"Age\", \"Age\", \"Age\", \"Age\", \"Age\", \"Age\", \"Age\", \"Age\", \"Age\", \"Age\", \"Age\", \"Age\", \"Age\", \"Age\", \"Age\", \"Age\", \"Age\", \"Age\", \"Age\", \"Age\", \"Age\", \"Age\", \"Age\", \"Age\", \"Age\", \"Age\", \"Age\", \"Age\", \"Age\", \"Age\", \"Age\", \"Age\", \"Age\", \"Age\", \"Age\", \"Age\", \"Age\", \"Age\", \"Age\", \"Age\", \"Age\", \"Age\", \"Age\", \"Age\", \"Age\", \"Age\", \"Age\", \"Age\", \"Age\", \"Age\", \"Age\", \"Age\", \"Age\", \"Age\", \"Age\", \"Age\", \"Age\", \"Age\", \"Age\", \"Age\", \"Age\", \"Age\", \"Age\", \"Age\", \"Age\", \"Age\", \"Age\", \"Age\", \"Age\", \"Age\", \"Age\", \"Age\", \"Age\", \"Age\", \"Age\", \"Age\", \"Age\", \"Age\", \"Age\", \"Age\", \"Age\", \"Age\", \"Age\", \"Age\", \"Age\", \"Age\", \"Age\", \"Age\", \"Age\", \"Age\", \"Age\", \"Age\", \"Age\", \"Age\", \"Age\", \"Age\", \"Age\", \"Age\", \"Age\", \"Age\", \"Age\", \"Age\", \"Age\", \"Age\", \"Age\", \"Age\", \"Age\", \"Age\", \"Age\", \"Age\", \"Age\", \"Age\", \"Age\", \"Age\", \"Age\", \"Age\", \"Age\", \"Age\", \"Age\", \"Age\", \"Age\", \"Age\", \"Age\", \"Age\", \"Age\", \"Age\", \"Age\", \"Age\", \"Age\", \"Age\", \"Age\", \"Age\", \"Age\", \"Age\", \"Age\", \"Age\", \"Age\", \"Age\", \"Age\", \"Age\", \"Age\", \"Age\", \"Age\", \"Age\", \"Age\", \"Age\", \"Age\", \"Age\", \"Age\", \"Age\", \"Age\", \"Age\", \"Age\", \"Age\", \"Age\", \"Age\", \"Age\", \"Age\", \"Age\", \"Age\", \"Age\", \"Age\", \"Age\", \"Age\", \"Age\", \"Age\", \"Age\", \"Age\", \"Age\", \"Age\", \"Age\", \"Age\", \"Age\", \"Age\", \"Age\", \"Age\", \"Age\", \"Age\", \"Age\", \"Age\", \"Age\", \"Age\", \"Age\", \"Age\", \"Age\", \"Age\", \"Age\", \"Age\", \"Age\", \"Age\", \"Age\", \"Age\", \"Age\", \"Age\", \"Age\", \"Age\", \"Age\", \"Age\", \"Age\", \"Age\", \"Age\", \"Age\", \"Age\", \"Age\", \"Age\", \"Age\", \"Age\", \"Age\", \"Age\", \"Age\", \"Age\", \"Age\", \"Age\", \"Age\", \"Age\", \"Age\", \"Age\", \"Age\", \"Age\", \"Age\", \"Age\", \"Age\", \"Age\", \"Age\", \"Age\", \"Age\", \"Age\", \"Age\", \"Age\", \"Age\", \"Age\", \"Age\", \"Age\", \"Age\", \"Age\", \"Age\", \"Age\", \"Age\", \"Age\", \"Age\", \"Age\", \"Age\", \"Age\", \"Age\", \"Age\", \"Age\", \"Age\", \"Age\", \"Age\", \"Age\", \"Age\", \"Age\", \"Age\", \"Age\", \"Age\", \"Age\", \"Age\", \"Age\", \"Age\", \"Age\", \"Age\", \"Age\", \"Age\", \"Age\", \"Age\", \"Age\", \"Age\", \"Age\", \"Age\", \"Age\", \"Age\", \"Age\", \"Age\", \"Age\", \"Age\", \"Age\", \"Age\", \"Age\", \"Age\", \"Age\", \"Age\", \"Age\", \"Age\", \"Age\", \"Age\", \"Age\", \"Age\"], \"x0\": \" \", \"xaxis\": \"x\", \"y\": [148.0, 85.0, 183.0, 89.0, 137.0, 116.0, 78.0, 115.0, 197.0, 125.0, 110.0, 168.0, 139.0, 189.0, 166.0, 100.0, 118.0, 107.0, 103.0, 115.0, 126.0, 99.0, 196.0, 119.0, 143.0, 125.0, 147.0, 97.0, 145.0, 117.0, 109.0, 158.0, 88.0, 92.0, 122.0, 103.0, 138.0, 102.0, 90.0, 111.0, 180.0, 133.0, 106.0, 171.0, 159.0, 180.0, 146.0, 71.0, 103.0, 105.0, 103.0, 101.0, 88.0, 176.0, 150.0, 73.0, 187.0, 100.0, 146.0, 105.0, 84.0, 133.0, 44.0, 141.0, 114.0, 99.0, 109.0, 109.0, 95.0, 146.0, 100.0, 139.0, 126.0, 129.0, 79.0, 121.6867627785059, 62.0, 95.0, 131.0, 112.0, 113.0, 74.0, 83.0, 101.0, 137.0, 110.0, 106.0, 100.0, 136.0, 107.0, 80.0, 123.0, 81.0, 134.0, 142.0, 144.0, 92.0, 71.0, 93.0, 122.0, 163.0, 151.0, 125.0, 81.0, 85.0, 126.0, 96.0, 144.0, 83.0, 95.0, 171.0, 155.0, 89.0, 76.0, 160.0, 146.0, 124.0, 78.0, 97.0, 99.0, 162.0, 111.0, 107.0, 132.0, 113.0, 88.0, 120.0, 118.0, 117.0, 105.0, 173.0, 122.0, 170.0, 84.0, 96.0, 125.0, 100.0, 93.0, 129.0, 105.0, 128.0, 106.0, 108.0, 108.0, 154.0, 102.0, 57.0, 106.0, 147.0, 90.0, 136.0, 114.0, 156.0, 153.0, 188.0, 152.0, 99.0, 109.0, 88.0, 163.0, 151.0, 102.0, 114.0, 100.0, 131.0, 104.0, 148.0, 120.0, 110.0, 111.0, 102.0, 134.0, 87.0, 79.0, 75.0, 179.0, 85.0, 129.0, 143.0, 130.0, 87.0, 119.0, 121.6867627785059, 73.0, 141.0, 194.0, 181.0, 128.0, 109.0, 139.0, 111.0, 123.0, 159.0, 135.0, 85.0, 158.0, 105.0, 107.0, 109.0, 148.0, 113.0, 138.0, 108.0, 99.0, 103.0, 111.0, 196.0, 162.0, 96.0, 184.0, 81.0, 147.0, 179.0, 140.0, 112.0, 151.0, 109.0, 125.0, 85.0, 112.0, 177.0, 158.0, 119.0, 142.0, 100.0, 87.0, 101.0, 162.0, 197.0, 117.0, 142.0, 134.0, 79.0, 122.0, 74.0, 171.0, 181.0, 179.0, 164.0, 104.0, 91.0, 91.0, 139.0, 119.0, 146.0, 184.0, 122.0, 165.0, 124.0, 111.0, 106.0, 129.0, 90.0, 86.0, 92.0, 113.0, 111.0, 114.0, 193.0, 155.0, 191.0, 141.0, 95.0, 142.0, 123.0, 96.0, 138.0, 128.0, 102.0, 146.0, 101.0, 108.0, 122.0, 71.0, 106.0, 100.0, 106.0, 104.0, 114.0, 108.0, 146.0, 129.0, 133.0, 161.0, 108.0, 136.0, 155.0, 119.0, 96.0, 108.0, 78.0, 107.0, 128.0, 128.0, 161.0, 151.0, 146.0, 126.0, 100.0, 112.0, 167.0, 144.0, 77.0, 115.0, 150.0, 120.0, 161.0, 137.0, 128.0, 124.0, 80.0, 106.0, 155.0, 113.0, 109.0, 112.0, 99.0, 182.0, 115.0, 194.0, 129.0, 112.0, 124.0, 152.0, 112.0, 157.0, 122.0, 179.0, 102.0, 105.0, 118.0, 87.0, 180.0, 106.0, 95.0, 165.0, 117.0, 115.0, 152.0, 178.0, 130.0, 95.0, 121.6867627785059, 122.0, 95.0, 126.0, 139.0, 116.0, 99.0, 121.6867627785059, 92.0, 137.0, 61.0, 90.0, 90.0, 165.0, 125.0, 129.0, 88.0, 196.0, 189.0, 158.0, 103.0, 146.0, 147.0, 99.0, 124.0, 101.0, 81.0, 133.0, 173.0, 118.0, 84.0, 105.0, 122.0, 140.0, 98.0, 87.0, 156.0, 93.0, 107.0, 105.0, 109.0, 90.0, 125.0, 119.0, 116.0, 105.0, 144.0, 100.0, 100.0, 166.0, 131.0, 116.0, 158.0, 127.0, 96.0, 131.0, 82.0, 193.0, 95.0, 137.0, 136.0, 72.0, 168.0, 123.0, 115.0, 101.0, 197.0, 172.0, 102.0, 112.0, 143.0, 143.0, 138.0, 173.0, 97.0, 144.0, 83.0, 129.0, 119.0, 94.0, 102.0, 115.0, 151.0, 184.0, 94.0, 181.0, 135.0, 95.0, 99.0, 89.0, 80.0, 139.0, 90.0, 141.0, 140.0, 147.0, 97.0, 107.0, 189.0, 83.0, 117.0, 108.0, 117.0, 180.0, 100.0, 95.0, 104.0, 120.0, 82.0, 134.0, 91.0, 119.0, 100.0, 175.0, 135.0, 86.0, 148.0, 134.0, 120.0, 71.0, 74.0, 88.0, 115.0, 124.0, 74.0, 97.0, 120.0, 154.0, 144.0, 137.0, 119.0, 136.0, 114.0, 137.0, 105.0, 114.0, 126.0, 132.0, 158.0, 123.0, 85.0, 84.0, 145.0, 135.0, 139.0, 173.0, 99.0, 194.0, 83.0, 89.0, 99.0, 125.0, 80.0, 166.0, 110.0, 81.0, 195.0, 154.0, 117.0, 84.0, 121.6867627785059, 94.0, 96.0, 75.0, 180.0, 130.0, 84.0, 120.0, 84.0, 139.0, 91.0, 91.0, 99.0, 163.0, 145.0, 125.0, 76.0, 129.0, 68.0, 124.0, 114.0, 130.0, 125.0, 87.0, 97.0, 116.0, 117.0, 111.0, 122.0, 107.0, 86.0, 91.0, 77.0, 132.0, 105.0, 57.0, 127.0, 129.0, 100.0, 128.0, 90.0, 84.0, 88.0, 186.0, 187.0, 131.0, 164.0, 189.0, 116.0, 84.0, 114.0, 88.0, 84.0, 124.0, 97.0, 110.0, 103.0, 85.0, 125.0, 198.0, 87.0, 99.0, 91.0, 95.0, 99.0, 92.0, 154.0, 121.0, 78.0, 130.0, 111.0, 98.0, 143.0, 119.0, 108.0, 118.0, 133.0, 197.0, 151.0, 109.0, 121.0, 100.0, 124.0, 93.0, 143.0, 103.0, 176.0, 73.0, 111.0, 112.0, 132.0, 82.0, 123.0, 188.0, 67.0, 89.0, 173.0, 109.0, 108.0, 96.0, 124.0, 150.0, 183.0, 124.0, 181.0, 92.0, 152.0, 111.0, 106.0, 174.0, 168.0, 105.0, 138.0, 106.0, 117.0, 68.0, 112.0, 119.0, 112.0, 92.0, 183.0, 94.0, 108.0, 90.0, 125.0, 132.0, 128.0, 94.0, 114.0, 102.0, 111.0, 128.0, 92.0, 104.0, 104.0, 94.0, 97.0, 100.0, 102.0, 128.0, 147.0, 90.0, 103.0, 157.0, 167.0, 179.0, 136.0, 107.0, 91.0, 117.0, 123.0, 120.0, 106.0, 155.0, 101.0, 120.0, 127.0, 80.0, 162.0, 199.0, 167.0, 145.0, 115.0, 112.0, 145.0, 111.0, 98.0, 154.0, 165.0, 99.0, 68.0, 123.0, 91.0, 195.0, 156.0, 93.0, 121.0, 101.0, 56.0, 162.0, 95.0, 125.0, 136.0, 129.0, 130.0, 107.0, 140.0, 144.0, 107.0, 158.0, 121.0, 129.0, 90.0, 142.0, 169.0, 99.0, 127.0, 118.0, 122.0, 125.0, 168.0, 129.0, 110.0, 80.0, 115.0, 127.0, 164.0, 93.0, 158.0, 126.0, 129.0, 134.0, 102.0, 187.0, 173.0, 94.0, 108.0, 97.0, 83.0, 114.0, 149.0, 117.0, 111.0, 112.0, 116.0, 141.0, 175.0, 92.0, 130.0, 120.0, 174.0, 106.0, 105.0, 95.0, 126.0, 65.0, 99.0, 102.0, 120.0, 102.0, 109.0, 140.0, 153.0, 100.0, 147.0, 81.0, 187.0, 162.0, 136.0, 121.0, 108.0, 181.0, 154.0, 128.0, 137.0, 123.0, 106.0, 190.0, 88.0, 170.0, 89.0, 101.0, 122.0, 121.0, 126.0, 93.0, 72.0, 66.0, 64.0, 66.0, 40.0, 74.0, 50.0, 72.40518417462484, 70.0, 96.0, 92.0, 74.0, 80.0, 60.0, 72.0, 72.40518417462484, 84.0, 74.0, 30.0, 70.0, 88.0, 84.0, 90.0, 80.0, 94.0, 70.0, 76.0, 66.0, 82.0, 92.0, 75.0, 76.0, 58.0, 92.0, 78.0, 60.0, 76.0, 76.0, 68.0, 72.0, 64.0, 84.0, 92.0, 110.0, 64.0, 66.0, 56.0, 70.0, 66.0, 72.40518417462484, 80.0, 50.0, 66.0, 90.0, 66.0, 50.0, 68.0, 88.0, 82.0, 64.0, 72.40518417462484, 72.0, 62.0, 58.0, 66.0, 74.0, 88.0, 92.0, 66.0, 85.0, 66.0, 64.0, 90.0, 86.0, 75.0, 48.0, 78.0, 72.0, 72.40518417462484, 66.0, 44.0, 72.40518417462484, 78.0, 65.0, 108.0, 74.0, 72.0, 68.0, 70.0, 68.0, 55.0, 80.0, 78.0, 72.0, 82.0, 72.0, 62.0, 48.0, 50.0, 90.0, 72.0, 60.0, 96.0, 72.0, 65.0, 56.0, 122.0, 58.0, 58.0, 85.0, 72.0, 62.0, 76.0, 62.0, 54.0, 92.0, 74.0, 48.0, 60.0, 76.0, 76.0, 64.0, 74.0, 80.0, 76.0, 30.0, 70.0, 58.0, 88.0, 84.0, 70.0, 56.0, 64.0, 74.0, 68.0, 60.0, 70.0, 60.0, 80.0, 72.0, 78.0, 82.0, 52.0, 66.0, 62.0, 75.0, 80.0, 64.0, 78.0, 70.0, 74.0, 65.0, 86.0, 82.0, 78.0, 88.0, 52.0, 56.0, 74.0, 72.0, 90.0, 74.0, 80.0, 64.0, 88.0, 74.0, 66.0, 68.0, 66.0, 90.0, 82.0, 70.0, 72.40518417462484, 60.0, 64.0, 72.0, 78.0, 110.0, 78.0, 82.0, 80.0, 64.0, 74.0, 60.0, 74.0, 68.0, 68.0, 98.0, 76.0, 80.0, 62.0, 70.0, 66.0, 72.40518417462484, 55.0, 84.0, 58.0, 62.0, 64.0, 60.0, 80.0, 82.0, 68.0, 70.0, 72.0, 72.0, 76.0, 104.0, 64.0, 84.0, 60.0, 85.0, 95.0, 65.0, 82.0, 70.0, 62.0, 68.0, 74.0, 66.0, 60.0, 90.0, 72.40518417462484, 60.0, 66.0, 78.0, 76.0, 52.0, 70.0, 80.0, 86.0, 80.0, 80.0, 68.0, 68.0, 72.0, 84.0, 90.0, 84.0, 76.0, 64.0, 70.0, 54.0, 50.0, 76.0, 85.0, 68.0, 90.0, 70.0, 86.0, 52.0, 84.0, 80.0, 68.0, 62.0, 64.0, 56.0, 68.0, 50.0, 76.0, 68.0, 72.40518417462484, 70.0, 80.0, 62.0, 74.0, 72.40518417462484, 64.0, 52.0, 72.40518417462484, 86.0, 62.0, 78.0, 78.0, 70.0, 70.0, 60.0, 64.0, 74.0, 62.0, 70.0, 76.0, 88.0, 86.0, 80.0, 74.0, 84.0, 86.0, 56.0, 72.0, 88.0, 62.0, 78.0, 48.0, 50.0, 62.0, 70.0, 84.0, 78.0, 72.0, 72.40518417462484, 58.0, 82.0, 98.0, 76.0, 76.0, 68.0, 68.0, 68.0, 68.0, 66.0, 70.0, 74.0, 50.0, 80.0, 68.0, 80.0, 74.0, 66.0, 78.0, 60.0, 74.0, 70.0, 90.0, 75.0, 72.0, 64.0, 70.0, 86.0, 70.0, 72.0, 58.0, 72.40518417462484, 80.0, 60.0, 76.0, 72.40518417462484, 76.0, 78.0, 84.0, 70.0, 74.0, 68.0, 86.0, 72.0, 88.0, 46.0, 72.40518417462484, 62.0, 80.0, 80.0, 84.0, 82.0, 62.0, 78.0, 88.0, 50.0, 72.40518417462484, 74.0, 76.0, 64.0, 70.0, 108.0, 78.0, 74.0, 54.0, 72.0, 64.0, 86.0, 102.0, 82.0, 64.0, 64.0, 58.0, 52.0, 82.0, 82.0, 60.0, 75.0, 100.0, 72.0, 68.0, 60.0, 62.0, 70.0, 54.0, 74.0, 100.0, 82.0, 68.0, 66.0, 76.0, 64.0, 72.0, 78.0, 58.0, 56.0, 66.0, 70.0, 70.0, 64.0, 61.0, 84.0, 78.0, 64.0, 48.0, 72.0, 62.0, 74.0, 68.0, 90.0, 72.0, 84.0, 74.0, 60.0, 84.0, 68.0, 82.0, 68.0, 64.0, 88.0, 68.0, 64.0, 64.0, 78.0, 78.0, 72.40518417462484, 64.0, 94.0, 82.0, 72.40518417462484, 74.0, 74.0, 75.0, 68.0, 72.40518417462484, 85.0, 75.0, 70.0, 88.0, 104.0, 66.0, 64.0, 70.0, 62.0, 78.0, 72.0, 80.0, 64.0, 74.0, 64.0, 70.0, 68.0, 72.40518417462484, 54.0, 62.0, 54.0, 68.0, 84.0, 74.0, 72.0, 62.0, 70.0, 78.0, 98.0, 56.0, 52.0, 64.0, 72.40518417462484, 78.0, 82.0, 70.0, 66.0, 90.0, 64.0, 84.0, 80.0, 76.0, 74.0, 86.0, 70.0, 88.0, 58.0, 82.0, 72.40518417462484, 68.0, 62.0, 78.0, 72.0, 80.0, 65.0, 90.0, 68.0, 70.0, 72.40518417462484, 74.0, 68.0, 72.0, 70.0, 74.0, 90.0, 72.0, 68.0, 64.0, 78.0, 82.0, 90.0, 60.0, 50.0, 78.0, 72.0, 62.0, 68.0, 62.0, 54.0, 70.0, 88.0, 86.0, 60.0, 90.0, 70.0, 80.0, 72.40518417462484, 70.0, 58.0, 60.0, 64.0, 74.0, 66.0, 65.0, 60.0, 76.0, 66.0, 72.40518417462484, 56.0, 72.40518417462484, 90.0, 60.0, 80.0, 92.0, 74.0, 72.0, 85.0, 90.0, 78.0, 90.0, 76.0, 68.0, 82.0, 110.0, 70.0, 68.0, 88.0, 62.0, 64.0, 70.0, 70.0, 76.0, 68.0, 74.0, 76.0, 66.0, 68.0, 60.0, 80.0, 54.0, 72.0, 62.0, 72.0, 66.0, 70.0, 96.0, 58.0, 60.0, 86.0, 44.0, 44.0, 80.0, 68.0, 70.0, 90.0, 60.0, 78.0, 76.0, 76.0, 56.0, 66.0, 66.0, 86.0, 72.40518417462484, 84.0, 78.0, 80.0, 52.0, 72.0, 82.0, 76.0, 24.0, 74.0, 38.0, 88.0, 72.40518417462484, 74.0, 78.0, 72.40518417462484, 60.0, 78.0, 62.0, 82.0, 62.0, 54.0, 58.0, 88.0, 80.0, 74.0, 72.0, 96.0, 62.0, 82.0, 72.40518417462484, 86.0, 76.0, 94.0, 70.0, 64.0, 88.0, 68.0, 78.0, 80.0, 65.0, 64.0, 78.0, 60.0, 82.0, 62.0, 72.0, 74.0, 76.0, 76.0, 74.0, 86.0, 70.0, 80.0, 72.40518417462484, 72.0, 74.0, 74.0, 50.0, 84.0, 60.0, 54.0, 60.0, 74.0, 54.0, 70.0, 52.0, 58.0, 80.0, 106.0, 82.0, 84.0, 76.0, 106.0, 80.0, 60.0, 80.0, 82.0, 70.0, 58.0, 78.0, 68.0, 58.0, 106.0, 100.0, 82.0, 70.0, 86.0, 60.0, 52.0, 58.0, 56.0, 76.0, 64.0, 80.0, 82.0, 74.0, 64.0, 50.0, 74.0, 82.0, 80.0, 114.0, 70.0, 68.0, 60.0, 90.0, 74.0, 72.40518417462484, 88.0, 70.0, 76.0, 78.0, 88.0, 72.40518417462484, 76.0, 80.0, 72.40518417462484, 46.0, 78.0, 64.0, 64.0, 78.0, 62.0, 58.0, 74.0, 50.0, 78.0, 72.0, 60.0, 76.0, 86.0, 66.0, 68.0, 86.0, 94.0, 78.0, 78.0, 84.0, 88.0, 52.0, 78.0, 86.0, 88.0, 56.0, 75.0, 60.0, 86.0, 72.0, 60.0, 74.0, 80.0, 44.0, 58.0, 94.0, 88.0, 84.0, 94.0, 74.0, 70.0, 62.0, 70.0, 78.0, 62.0, 88.0, 78.0, 88.0, 90.0, 72.0, 76.0, 92.0, 58.0, 74.0, 62.0, 76.0, 70.0, 72.0, 60.0, 70.0, 35.0, 29.0, 29.153419593345657, 23.0, 35.0, 29.153419593345657, 32.0, 29.153419593345657, 45.0, 29.153419593345657, 29.153419593345657, 29.153419593345657, 29.153419593345657, 23.0, 19.0, 29.153419593345657, 47.0, 29.153419593345657, 38.0, 30.0, 41.0, 29.153419593345657, 29.153419593345657, 35.0, 33.0, 26.0, 29.153419593345657, 15.0, 19.0, 29.153419593345657, 26.0, 36.0, 11.0, 29.153419593345657, 31.0, 33.0, 29.153419593345657, 37.0, 42.0, 47.0, 25.0, 29.153419593345657, 18.0, 24.0, 29.153419593345657, 39.0, 29.153419593345657, 27.0, 32.0, 29.153419593345657, 11.0, 15.0, 21.0, 34.0, 42.0, 10.0, 39.0, 60.0, 29.153419593345657, 41.0, 29.153419593345657, 29.153419593345657, 29.153419593345657, 34.0, 29.153419593345657, 27.0, 30.0, 29.153419593345657, 13.0, 27.0, 20.0, 35.0, 29.153419593345657, 20.0, 30.0, 20.0, 29.153419593345657, 33.0, 29.153419593345657, 22.0, 13.0, 29.153419593345657, 26.0, 28.0, 29.153419593345657, 29.0, 54.0, 25.0, 32.0, 19.0, 29.153419593345657, 15.0, 40.0, 29.153419593345657, 18.0, 27.0, 28.0, 18.0, 30.0, 51.0, 29.153419593345657, 29.153419593345657, 29.153419593345657, 18.0, 29.153419593345657, 29.0, 29.153419593345657, 28.0, 31.0, 25.0, 33.0, 26.0, 34.0, 29.153419593345657, 32.0, 29.153419593345657, 29.153419593345657, 29.153419593345657, 23.0, 15.0, 56.0, 39.0, 30.0, 29.153419593345657, 29.153419593345657, 42.0, 30.0, 36.0, 24.0, 29.153419593345657, 14.0, 29.153419593345657, 37.0, 31.0, 13.0, 20.0, 26.0, 25.0, 29.153419593345657, 29.0, 29.153419593345657, 30.0, 26.0, 29.153419593345657, 31.0, 23.0, 37.0, 35.0, 29.153419593345657, 17.0, 50.0, 29.153419593345657, 28.0, 42.0, 29.153419593345657, 44.0, 15.0, 21.0, 19.0, 41.0, 38.0, 40.0, 34.0, 23.0, 29.153419593345657, 18.0, 25.0, 29.153419593345657, 29.153419593345657, 12.0, 29.153419593345657, 23.0, 23.0, 42.0, 24.0, 42.0, 29.153419593345657, 46.0, 29.153419593345657, 29.153419593345657, 29.153419593345657, 18.0, 20.0, 29.153419593345657, 29.153419593345657, 28.0, 36.0, 41.0, 39.0, 35.0, 29.153419593345657, 44.0, 29.153419593345657, 29.153419593345657, 20.0, 41.0, 29.153419593345657, 13.0, 44.0, 27.0, 16.0, 29.153419593345657, 20.0, 16.0, 32.0, 28.0, 29.0, 29.153419593345657, 27.0, 33.0, 22.0, 54.0, 31.0, 26.0, 32.0, 40.0, 41.0, 30.0, 22.0, 29.153419593345657, 29.0, 29.153419593345657, 29.153419593345657, 33.0, 15.0, 27.0, 29.153419593345657, 38.0, 39.0, 31.0, 29.153419593345657, 37.0, 25.0, 29.153419593345657, 28.0, 29.153419593345657, 21.0, 27.0, 21.0, 29.153419593345657, 24.0, 32.0, 29.153419593345657, 22.0, 35.0, 15.0, 29.153419593345657, 33.0, 33.0, 19.0, 29.153419593345657, 29.153419593345657, 14.0, 32.0, 7.0, 35.0, 39.0, 22.0, 16.0, 28.0, 15.0, 29.153419593345657, 32.0, 15.0, 29.153419593345657, 18.0, 29.153419593345657, 42.0, 29.153419593345657, 29.153419593345657, 37.0, 32.0, 29.153419593345657, 50.0, 29.153419593345657, 52.0, 24.0, 23.0, 29.153419593345657, 10.0, 29.153419593345657, 28.0, 15.0, 29.153419593345657, 29.153419593345657, 26.0, 44.0, 39.0, 17.0, 43.0, 29.0, 30.0, 37.0, 45.0, 29.153419593345657, 31.0, 38.0, 29.0, 25.0, 29.153419593345657, 29.153419593345657, 33.0, 41.0, 29.153419593345657, 29.153419593345657, 37.0, 23.0, 14.0, 19.0, 28.0, 30.0, 37.0, 17.0, 10.0, 31.0, 22.0, 11.0, 29.153419593345657, 39.0, 29.153419593345657, 12.0, 30.0, 20.0, 33.0, 32.0, 21.0, 32.0, 29.153419593345657, 36.0, 32.0, 19.0, 16.0, 29.153419593345657, 29.153419593345657, 18.0, 43.0, 29.153419593345657, 29.153419593345657, 34.0, 29.153419593345657, 13.0, 21.0, 35.0, 29.153419593345657, 29.153419593345657, 36.0, 19.0, 29.153419593345657, 19.0, 32.0, 29.153419593345657, 29.153419593345657, 28.0, 12.0, 29.153419593345657, 29.153419593345657, 40.0, 30.0, 40.0, 36.0, 33.0, 29.153419593345657, 37.0, 29.153419593345657, 25.0, 28.0, 29.153419593345657, 17.0, 16.0, 28.0, 48.0, 23.0, 22.0, 40.0, 43.0, 43.0, 15.0, 37.0, 29.153419593345657, 39.0, 30.0, 22.0, 8.0, 18.0, 24.0, 13.0, 29.0, 36.0, 26.0, 23.0, 29.0, 29.153419593345657, 14.0, 12.0, 29.153419593345657, 24.0, 34.0, 40.0, 29.153419593345657, 31.0, 29.153419593345657, 29.153419593345657, 41.0, 25.0, 29.153419593345657, 32.0, 29.153419593345657, 29.153419593345657, 29.153419593345657, 49.0, 39.0, 30.0, 23.0, 22.0, 35.0, 33.0, 21.0, 32.0, 29.153419593345657, 29.0, 41.0, 18.0, 46.0, 22.0, 32.0, 39.0, 29.153419593345657, 30.0, 46.0, 25.0, 29.153419593345657, 16.0, 11.0, 29.153419593345657, 8.0, 29.153419593345657, 33.0, 29.153419593345657, 15.0, 29.153419593345657, 25.0, 23.0, 27.0, 29.153419593345657, 12.0, 63.0, 12.0, 45.0, 37.0, 18.0, 13.0, 29.153419593345657, 32.0, 29.153419593345657, 28.0, 30.0, 29.153419593345657, 28.0, 48.0, 33.0, 22.0, 29.153419593345657, 40.0, 30.0, 29.153419593345657, 13.0, 10.0, 36.0, 29.153419593345657, 41.0, 40.0, 38.0, 27.0, 29.153419593345657, 29.153419593345657, 27.0, 45.0, 17.0, 38.0, 31.0, 30.0, 37.0, 22.0, 31.0, 29.153419593345657, 42.0, 41.0, 32.0, 17.0, 29.153419593345657, 28.0, 30.0, 38.0, 18.0, 29.153419593345657, 29.153419593345657, 29.153419593345657, 15.0, 33.0, 32.0, 19.0, 32.0, 41.0, 25.0, 39.0, 29.153419593345657, 26.0, 23.0, 23.0, 29.153419593345657, 31.0, 17.0, 29.153419593345657, 29.153419593345657, 19.0, 18.0, 34.0, 29.153419593345657, 29.153419593345657, 7.0, 32.0, 33.0, 29.153419593345657, 29.153419593345657, 29.153419593345657, 18.0, 19.0, 15.0, 31.0, 29.153419593345657, 18.0, 29.153419593345657, 52.0, 29.153419593345657, 30.0, 29.153419593345657, 29.153419593345657, 29.153419593345657, 37.0, 49.0, 40.0, 25.0, 32.0, 23.0, 29.0, 35.0, 27.0, 21.0, 43.0, 31.0, 28.0, 30.0, 29.153419593345657, 24.0, 23.0, 33.0, 40.0, 29.153419593345657, 40.0, 29.153419593345657, 29.153419593345657, 32.0, 34.0, 19.0, 29.153419593345657, 14.0, 30.0, 32.0, 29.0, 30.0, 29.153419593345657, 29.153419593345657, 31.0, 17.0, 30.0, 47.0, 20.0, 29.153419593345657, 29.153419593345657, 99.0, 46.0, 27.0, 17.0, 29.153419593345657, 24.0, 11.0, 29.153419593345657, 29.153419593345657, 27.0, 29.153419593345657, 40.0, 50.0, 29.153419593345657, 22.0, 45.0, 14.0, 29.153419593345657, 19.0, 29.153419593345657, 18.0, 19.0, 29.153419593345657, 36.0, 29.0, 29.153419593345657, 32.0, 42.0, 25.0, 39.0, 13.0, 21.0, 22.0, 42.0, 28.0, 26.0, 29.153419593345657, 29.153419593345657, 13.0, 24.0, 29.153419593345657, 42.0, 20.0, 29.153419593345657, 27.0, 29.153419593345657, 47.0, 29.153419593345657, 29.153419593345657, 29.153419593345657, 22.0, 29.153419593345657, 40.0, 29.153419593345657, 17.0, 29.153419593345657, 29.153419593345657, 29.153419593345657, 18.0, 32.0, 12.0, 17.0, 29.153419593345657, 29.153419593345657, 29.153419593345657, 30.0, 35.0, 17.0, 36.0, 35.0, 25.0, 25.0, 23.0, 40.0, 29.153419593345657, 28.0, 27.0, 35.0, 48.0, 29.153419593345657, 31.0, 29.153419593345657, 43.0, 46.0, 46.0, 39.0, 45.0, 18.0, 27.0, 33.0, 30.0, 26.0, 10.0, 23.0, 35.0, 29.153419593345657, 29.153419593345657, 29.153419593345657, 29.153419593345657, 29.153419593345657, 17.0, 28.0, 36.0, 39.0, 29.153419593345657, 29.153419593345657, 26.0, 29.153419593345657, 19.0, 26.0, 46.0, 29.153419593345657, 29.153419593345657, 32.0, 49.0, 29.153419593345657, 24.0, 19.0, 29.153419593345657, 11.0, 29.153419593345657, 27.0, 31.0, 29.0, 29.153419593345657, 20.0, 36.0, 29.153419593345657, 21.0, 29.153419593345657, 32.0, 13.0, 27.0, 36.0, 20.0, 29.153419593345657, 33.0, 39.0, 18.0, 46.0, 27.0, 19.0, 36.0, 29.0, 30.0, 29.153419593345657, 40.0, 29.0, 26.0, 29.153419593345657, 29.153419593345657, 23.0, 29.153419593345657, 37.0, 27.0, 29.153419593345657, 32.0, 27.0, 23.0, 17.0, 29.153419593345657, 37.0, 20.0, 18.0, 29.153419593345657, 37.0, 33.0, 41.0, 41.0, 22.0, 29.153419593345657, 29.153419593345657, 39.0, 24.0, 44.0, 32.0, 39.0, 41.0, 29.153419593345657, 29.153419593345657, 29.153419593345657, 26.0, 31.0, 29.153419593345657, 48.0, 27.0, 23.0, 29.153419593345657, 31.0, 155.5482233502538, 155.5482233502538, 155.5482233502538, 94.0, 168.0, 155.5482233502538, 88.0, 155.5482233502538, 543.0, 155.5482233502538, 155.5482233502538, 155.5482233502538, 155.5482233502538, 846.0, 175.0, 155.5482233502538, 230.0, 155.5482233502538, 83.0, 96.0, 235.0, 155.5482233502538, 155.5482233502538, 155.5482233502538, 146.0, 115.0, 155.5482233502538, 140.0, 110.0, 155.5482233502538, 155.5482233502538, 245.0, 54.0, 155.5482233502538, 155.5482233502538, 192.0, 155.5482233502538, 155.5482233502538, 155.5482233502538, 207.0, 70.0, 155.5482233502538, 155.5482233502538, 240.0, 155.5482233502538, 155.5482233502538, 155.5482233502538, 155.5482233502538, 155.5482233502538, 155.5482233502538, 82.0, 36.0, 23.0, 300.0, 342.0, 155.5482233502538, 304.0, 110.0, 155.5482233502538, 142.0, 155.5482233502538, 155.5482233502538, 155.5482233502538, 128.0, 155.5482233502538, 155.5482233502538, 155.5482233502538, 155.5482233502538, 38.0, 100.0, 90.0, 140.0, 155.5482233502538, 270.0, 155.5482233502538, 155.5482233502538, 155.5482233502538, 155.5482233502538, 155.5482233502538, 155.5482233502538, 155.5482233502538, 155.5482233502538, 71.0, 155.5482233502538, 155.5482233502538, 125.0, 155.5482233502538, 71.0, 110.0, 155.5482233502538, 155.5482233502538, 176.0, 48.0, 155.5482233502538, 64.0, 228.0, 155.5482233502538, 76.0, 64.0, 220.0, 155.5482233502538, 155.5482233502538, 155.5482233502538, 40.0, 155.5482233502538, 152.0, 155.5482233502538, 140.0, 18.0, 36.0, 135.0, 495.0, 37.0, 155.5482233502538, 175.0, 155.5482233502538, 155.5482233502538, 155.5482233502538, 155.5482233502538, 51.0, 100.0, 155.5482233502538, 100.0, 155.5482233502538, 155.5482233502538, 99.0, 135.0, 94.0, 145.0, 155.5482233502538, 168.0, 155.5482233502538, 225.0, 155.5482233502538, 49.0, 140.0, 50.0, 92.0, 155.5482233502538, 325.0, 155.5482233502538, 155.5482233502538, 63.0, 155.5482233502538, 284.0, 155.5482233502538, 155.5482233502538, 119.0, 155.5482233502538, 155.5482233502538, 204.0, 155.5482233502538, 155.0, 485.0, 155.5482233502538, 155.5482233502538, 94.0, 135.0, 53.0, 114.0, 155.5482233502538, 105.0, 285.0, 155.5482233502538, 155.5482233502538, 156.0, 155.5482233502538, 155.5482233502538, 155.5482233502538, 78.0, 155.5482233502538, 130.0, 155.5482233502538, 48.0, 55.0, 130.0, 155.5482233502538, 130.0, 155.5482233502538, 155.5482233502538, 155.5482233502538, 92.0, 23.0, 155.5482233502538, 155.5482233502538, 155.5482233502538, 495.0, 58.0, 114.0, 160.0, 155.5482233502538, 94.0, 155.5482233502538, 155.5482233502538, 155.5482233502538, 210.0, 155.5482233502538, 48.0, 99.0, 318.0, 155.5482233502538, 155.5482233502538, 155.5482233502538, 44.0, 190.0, 155.5482233502538, 280.0, 155.5482233502538, 87.0, 155.5482233502538, 155.5482233502538, 155.5482233502538, 155.5482233502538, 130.0, 175.0, 271.0, 129.0, 120.0, 155.5482233502538, 155.5482233502538, 478.0, 155.5482233502538, 155.5482233502538, 190.0, 56.0, 32.0, 155.5482233502538, 155.5482233502538, 744.0, 53.0, 155.5482233502538, 370.0, 37.0, 155.5482233502538, 45.0, 155.5482233502538, 192.0, 155.5482233502538, 155.5482233502538, 155.5482233502538, 155.5482233502538, 88.0, 155.5482233502538, 176.0, 194.0, 155.5482233502538, 155.5482233502538, 680.0, 402.0, 155.5482233502538, 155.5482233502538, 155.5482233502538, 55.0, 155.5482233502538, 258.0, 155.5482233502538, 155.5482233502538, 155.5482233502538, 375.0, 150.0, 130.0, 155.5482233502538, 155.5482233502538, 155.5482233502538, 155.5482233502538, 67.0, 155.5482233502538, 155.5482233502538, 155.5482233502538, 155.5482233502538, 155.5482233502538, 56.0, 155.5482233502538, 45.0, 155.5482233502538, 57.0, 155.5482233502538, 116.0, 155.5482233502538, 278.0, 155.5482233502538, 122.0, 155.0, 155.5482233502538, 155.5482233502538, 135.0, 545.0, 220.0, 49.0, 75.0, 40.0, 74.0, 182.0, 194.0, 155.5482233502538, 120.0, 360.0, 215.0, 184.0, 155.5482233502538, 155.5482233502538, 135.0, 42.0, 155.5482233502538, 155.5482233502538, 105.0, 132.0, 148.0, 180.0, 205.0, 155.5482233502538, 148.0, 96.0, 85.0, 155.5482233502538, 94.0, 64.0, 155.5482233502538, 140.0, 155.5482233502538, 231.0, 155.5482233502538, 155.5482233502538, 29.0, 155.5482233502538, 168.0, 156.0, 155.5482233502538, 120.0, 68.0, 155.5482233502538, 52.0, 155.5482233502538, 155.5482233502538, 58.0, 255.0, 155.5482233502538, 155.5482233502538, 171.0, 155.5482233502538, 105.0, 73.0, 155.5482233502538, 155.5482233502538, 155.5482233502538, 108.0, 83.0, 155.5482233502538, 74.0, 155.5482233502538, 155.5482233502538, 155.5482233502538, 155.5482233502538, 43.0, 155.5482233502538, 155.5482233502538, 167.0, 155.5482233502538, 54.0, 249.0, 325.0, 155.5482233502538, 155.5482233502538, 155.5482233502538, 293.0, 83.0, 155.5482233502538, 155.5482233502538, 66.0, 140.0, 465.0, 89.0, 66.0, 94.0, 158.0, 325.0, 84.0, 75.0, 155.5482233502538, 72.0, 82.0, 155.5482233502538, 182.0, 59.0, 110.0, 50.0, 155.5482233502538, 155.5482233502538, 285.0, 81.0, 196.0, 155.5482233502538, 415.0, 87.0, 155.5482233502538, 275.0, 115.0, 155.5482233502538, 155.5482233502538, 155.5482233502538, 155.5482233502538, 155.5482233502538, 88.0, 155.5482233502538, 155.5482233502538, 165.0, 155.5482233502538, 155.5482233502538, 155.5482233502538, 579.0, 155.5482233502538, 176.0, 310.0, 61.0, 167.0, 474.0, 155.5482233502538, 155.5482233502538, 155.5482233502538, 115.0, 170.0, 76.0, 78.0, 155.5482233502538, 210.0, 277.0, 155.5482233502538, 180.0, 145.0, 180.0, 155.5482233502538, 85.0, 60.0, 155.5482233502538, 155.5482233502538, 155.5482233502538, 155.5482233502538, 155.5482233502538, 155.5482233502538, 155.5482233502538, 155.5482233502538, 50.0, 120.0, 155.5482233502538, 155.5482233502538, 14.0, 70.0, 92.0, 64.0, 63.0, 95.0, 155.5482233502538, 210.0, 155.5482233502538, 105.0, 155.5482233502538, 155.5482233502538, 71.0, 237.0, 60.0, 56.0, 155.5482233502538, 49.0, 155.5482233502538, 155.5482233502538, 105.0, 36.0, 100.0, 155.5482233502538, 140.0, 155.5482233502538, 155.5482233502538, 155.5482233502538, 155.5482233502538, 155.5482233502538, 155.5482233502538, 191.0, 110.0, 75.0, 155.5482233502538, 328.0, 155.5482233502538, 49.0, 125.0, 155.5482233502538, 250.0, 480.0, 265.0, 155.5482233502538, 155.5482233502538, 66.0, 155.5482233502538, 155.5482233502538, 122.0, 155.5482233502538, 155.5482233502538, 155.5482233502538, 76.0, 145.0, 193.0, 71.0, 155.5482233502538, 155.5482233502538, 79.0, 155.5482233502538, 155.5482233502538, 90.0, 170.0, 76.0, 155.5482233502538, 155.5482233502538, 210.0, 155.5482233502538, 155.5482233502538, 86.0, 105.0, 165.0, 155.5482233502538, 155.5482233502538, 326.0, 66.0, 130.0, 155.5482233502538, 155.5482233502538, 155.5482233502538, 155.5482233502538, 82.0, 105.0, 188.0, 155.5482233502538, 106.0, 155.5482233502538, 65.0, 155.5482233502538, 56.0, 155.5482233502538, 155.5482233502538, 155.5482233502538, 210.0, 155.0, 215.0, 190.0, 155.5482233502538, 56.0, 76.0, 225.0, 207.0, 166.0, 67.0, 155.5482233502538, 155.5482233502538, 106.0, 155.5482233502538, 44.0, 115.0, 215.0, 155.5482233502538, 155.5482233502538, 155.5482233502538, 155.5482233502538, 155.5482233502538, 274.0, 77.0, 54.0, 155.5482233502538, 88.0, 18.0, 126.0, 126.0, 165.0, 155.5482233502538, 155.5482233502538, 44.0, 120.0, 330.0, 63.0, 130.0, 155.5482233502538, 155.5482233502538, 155.5482233502538, 155.5482233502538, 155.5482233502538, 155.5482233502538, 155.5482233502538, 600.0, 155.5482233502538, 155.5482233502538, 155.5482233502538, 156.0, 155.5482233502538, 155.5482233502538, 140.0, 155.5482233502538, 115.0, 230.0, 185.0, 155.5482233502538, 25.0, 155.5482233502538, 120.0, 155.5482233502538, 155.5482233502538, 155.5482233502538, 126.0, 155.5482233502538, 155.5482233502538, 293.0, 41.0, 272.0, 182.0, 158.0, 194.0, 321.0, 155.5482233502538, 144.0, 155.5482233502538, 155.5482233502538, 15.0, 155.5482233502538, 155.5482233502538, 160.0, 155.5482233502538, 155.5482233502538, 115.0, 155.5482233502538, 54.0, 155.5482233502538, 155.5482233502538, 155.5482233502538, 155.5482233502538, 155.5482233502538, 90.0, 155.5482233502538, 183.0, 155.5482233502538, 155.5482233502538, 155.5482233502538, 66.0, 91.0, 46.0, 105.0, 155.5482233502538, 155.5482233502538, 155.5482233502538, 152.0, 440.0, 144.0, 159.0, 130.0, 155.5482233502538, 100.0, 106.0, 77.0, 155.5482233502538, 135.0, 540.0, 90.0, 200.0, 155.5482233502538, 70.0, 155.5482233502538, 155.5482233502538, 231.0, 130.0, 155.5482233502538, 132.0, 155.5482233502538, 155.5482233502538, 190.0, 100.0, 168.0, 155.5482233502538, 49.0, 240.0, 155.5482233502538, 155.5482233502538, 155.5482233502538, 155.5482233502538, 155.5482233502538, 265.0, 45.0, 155.5482233502538, 105.0, 155.5482233502538, 155.5482233502538, 205.0, 155.5482233502538, 155.5482233502538, 180.0, 180.0, 155.5482233502538, 155.5482233502538, 95.0, 125.0, 155.5482233502538, 480.0, 125.0, 155.5482233502538, 155.0, 155.5482233502538, 200.0, 155.5482233502538, 155.5482233502538, 155.5482233502538, 100.0, 155.5482233502538, 155.5482233502538, 335.0, 155.5482233502538, 160.0, 387.0, 22.0, 155.5482233502538, 291.0, 155.5482233502538, 392.0, 185.0, 155.5482233502538, 178.0, 155.5482233502538, 155.5482233502538, 200.0, 127.0, 105.0, 155.5482233502538, 155.5482233502538, 180.0, 155.5482233502538, 155.5482233502538, 155.5482233502538, 79.0, 155.5482233502538, 120.0, 165.0, 155.5482233502538, 155.5482233502538, 120.0, 155.5482233502538, 160.0, 155.5482233502538, 150.0, 94.0, 116.0, 155.5482233502538, 140.0, 105.0, 155.5482233502538, 57.0, 200.0, 155.5482233502538, 155.5482233502538, 74.0, 155.5482233502538, 510.0, 155.5482233502538, 110.0, 155.5482233502538, 155.5482233502538, 155.5482233502538, 155.5482233502538, 16.0, 155.5482233502538, 155.5482233502538, 180.0, 155.5482233502538, 112.0, 155.5482233502538, 155.5482233502538, 33.6, 26.6, 23.3, 28.1, 43.1, 25.6, 31.0, 35.3, 30.5, 32.457463672391015, 37.6, 38.0, 27.1, 30.1, 25.8, 30.0, 45.8, 29.6, 43.3, 34.6, 39.3, 35.4, 39.8, 29.0, 36.6, 31.1, 39.4, 23.2, 22.2, 34.1, 36.0, 31.6, 24.8, 19.9, 27.6, 24.0, 33.2, 32.9, 38.2, 37.1, 34.0, 40.2, 22.7, 45.4, 27.4, 42.0, 29.7, 28.0, 39.1, 32.457463672391015, 19.4, 24.2, 24.4, 33.7, 34.7, 23.0, 37.7, 46.8, 40.5, 41.5, 32.457463672391015, 32.9, 25.0, 25.4, 32.8, 29.0, 32.5, 42.7, 19.6, 28.9, 32.9, 28.6, 43.4, 35.1, 32.0, 24.7, 32.6, 37.7, 43.2, 25.0, 22.4, 32.457463672391015, 29.3, 24.6, 48.8, 32.4, 36.6, 38.5, 37.1, 26.5, 19.1, 32.0, 46.7, 23.8, 24.7, 33.9, 31.6, 20.4, 28.7, 49.7, 39.0, 26.1, 22.5, 26.6, 39.6, 28.7, 22.4, 29.5, 34.3, 37.4, 33.3, 34.0, 31.2, 34.0, 30.5, 31.2, 34.0, 33.7, 28.2, 23.2, 53.2, 34.2, 33.6, 26.8, 33.3, 55.0, 42.9, 33.3, 34.5, 27.9, 29.7, 33.3, 34.5, 38.3, 21.1, 33.8, 30.8, 28.7, 31.2, 36.9, 21.1, 39.5, 32.5, 32.4, 32.8, 32.457463672391015, 32.8, 30.5, 33.7, 27.3, 37.4, 21.9, 34.3, 40.6, 47.9, 50.0, 24.6, 25.2, 29.0, 40.9, 29.7, 37.2, 44.2, 29.7, 31.6, 29.9, 32.5, 29.6, 31.9, 28.4, 30.8, 35.4, 28.9, 43.5, 29.7, 32.7, 31.2, 67.1, 45.0, 39.1, 23.2, 34.9, 27.7, 26.8, 27.6, 35.9, 30.1, 32.0, 27.9, 31.6, 22.6, 33.1, 30.4, 52.3, 24.4, 39.4, 24.3, 22.9, 34.8, 30.9, 31.0, 40.1, 27.3, 20.4, 37.7, 23.9, 37.5, 37.7, 33.2, 35.5, 27.7, 42.8, 34.2, 42.6, 34.2, 41.8, 35.8, 30.0, 29.0, 37.8, 34.6, 31.6, 25.2, 28.8, 23.6, 34.6, 35.7, 37.2, 36.7, 45.2, 44.0, 46.2, 25.4, 35.0, 29.7, 43.6, 35.9, 44.1, 30.8, 18.4, 29.2, 33.1, 25.6, 27.1, 38.2, 30.0, 31.2, 52.3, 35.4, 30.1, 31.2, 28.0, 24.4, 35.8, 27.6, 33.6, 30.1, 28.7, 25.9, 33.3, 30.9, 30.0, 32.1, 32.4, 32.0, 33.6, 36.3, 40.0, 25.1, 27.5, 45.6, 25.2, 23.0, 33.2, 34.2, 40.5, 26.5, 27.8, 24.9, 25.3, 37.9, 35.9, 32.4, 30.4, 27.0, 26.0, 38.7, 45.6, 20.8, 36.1, 36.9, 36.6, 43.3, 40.5, 21.9, 35.5, 28.0, 30.7, 36.6, 23.6, 32.3, 31.6, 35.8, 52.9, 21.0, 39.7, 25.5, 24.8, 30.5, 32.9, 26.2, 39.4, 26.6, 29.5, 35.9, 34.1, 19.3, 30.5, 38.1, 23.5, 27.5, 31.6, 27.4, 26.8, 35.7, 25.6, 35.1, 35.1, 45.5, 30.8, 23.1, 32.7, 43.3, 23.6, 23.9, 47.9, 33.8, 31.2, 34.2, 39.9, 25.9, 25.9, 32.0, 34.7, 36.8, 38.5, 28.7, 23.5, 21.8, 41.0, 42.2, 31.2, 34.4, 27.2, 42.7, 30.4, 33.3, 39.9, 35.3, 36.5, 31.2, 29.8, 39.2, 38.5, 34.9, 34.0, 27.6, 21.0, 27.5, 32.8, 38.4, 32.457463672391015, 35.8, 34.9, 36.2, 39.2, 25.2, 37.2, 48.3, 43.4, 30.8, 20.0, 25.4, 25.1, 24.3, 22.3, 32.3, 43.3, 32.0, 31.6, 32.0, 45.7, 23.7, 22.1, 32.9, 27.7, 24.7, 34.3, 21.1, 34.9, 32.0, 24.2, 35.0, 31.6, 32.9, 42.1, 28.9, 21.9, 25.9, 42.4, 35.7, 34.4, 42.4, 26.2, 34.6, 35.7, 27.2, 38.5, 18.2, 26.4, 45.3, 26.0, 40.6, 30.8, 42.9, 37.0, 32.457463672391015, 34.1, 40.6, 35.0, 22.2, 30.4, 30.0, 25.6, 24.5, 42.4, 37.4, 29.9, 18.2, 36.8, 34.3, 32.2, 33.2, 30.5, 29.7, 59.4, 25.3, 36.5, 33.6, 30.5, 21.2, 28.9, 39.9, 19.6, 37.8, 33.6, 26.7, 30.2, 37.6, 25.9, 20.8, 21.8, 35.3, 27.6, 24.0, 21.8, 27.8, 36.8, 30.0, 46.1, 41.3, 33.2, 38.8, 29.9, 28.9, 27.3, 33.7, 23.8, 25.9, 28.0, 35.5, 35.2, 27.8, 38.2, 44.2, 42.3, 40.7, 46.5, 25.6, 26.1, 36.8, 33.5, 32.8, 28.9, 32.457463672391015, 26.6, 26.0, 30.1, 25.1, 29.3, 25.2, 37.2, 39.0, 33.3, 37.3, 33.3, 36.5, 28.6, 30.4, 25.0, 29.7, 22.1, 24.2, 27.3, 25.6, 31.6, 30.3, 37.6, 32.8, 19.6, 25.0, 33.2, 32.457463672391015, 34.2, 31.6, 21.8, 18.2, 26.3, 30.8, 24.6, 29.8, 45.3, 41.3, 29.8, 33.3, 32.9, 29.6, 21.7, 36.3, 36.4, 39.4, 32.4, 34.9, 39.5, 32.0, 34.5, 43.6, 33.1, 32.8, 28.5, 27.4, 31.9, 27.8, 29.9, 36.9, 25.5, 38.1, 27.8, 46.2, 30.1, 33.8, 41.3, 37.6, 26.9, 32.4, 26.1, 38.6, 32.0, 31.3, 34.3, 32.5, 22.6, 29.5, 34.7, 30.1, 35.5, 24.0, 42.9, 27.0, 34.7, 42.1, 25.0, 26.5, 38.7, 28.7, 22.5, 34.9, 24.3, 33.3, 21.1, 46.8, 39.4, 34.4, 28.5, 33.6, 32.0, 45.3, 27.8, 36.8, 23.1, 27.1, 23.7, 27.8, 35.2, 28.4, 35.8, 40.0, 19.5, 41.5, 24.0, 30.9, 32.9, 38.2, 32.5, 36.1, 25.8, 28.7, 20.1, 28.2, 32.4, 38.4, 24.2, 40.8, 43.5, 30.8, 37.7, 24.7, 32.4, 34.6, 24.7, 27.4, 34.5, 26.2, 27.5, 25.9, 31.2, 28.8, 31.6, 40.9, 19.5, 29.3, 34.3, 29.5, 28.0, 27.6, 39.4, 23.4, 37.8, 28.3, 26.4, 25.2, 33.8, 34.1, 26.8, 34.2, 38.7, 21.8, 38.9, 39.0, 34.2, 27.7, 42.9, 37.6, 37.9, 33.7, 34.8, 32.5, 27.5, 34.0, 30.9, 33.6, 25.4, 35.5, 57.3, 35.6, 30.9, 24.8, 35.3, 36.0, 24.2, 24.2, 49.6, 44.6, 32.3, 32.457463672391015, 33.2, 23.1, 28.3, 24.1, 46.1, 24.6, 42.3, 39.1, 38.5, 23.5, 30.4, 29.9, 25.0, 34.5, 44.5, 35.9, 27.6, 35.0, 38.5, 28.4, 39.8, 32.457463672391015, 34.4, 32.8, 38.0, 31.2, 29.6, 41.2, 26.4, 29.5, 33.9, 33.8, 23.1, 35.5, 35.6, 29.3, 38.1, 29.3, 39.1, 32.8, 39.4, 36.1, 32.4, 22.9, 30.1, 28.4, 28.4, 44.5, 29.0, 23.3, 35.4, 27.4, 32.0, 36.6, 39.5, 42.3, 30.8, 28.5, 32.7, 40.6, 30.0, 49.3, 46.3, 36.4, 24.3, 31.2, 39.0, 26.0, 43.3, 32.4, 36.5, 32.0, 36.3, 37.5, 35.5, 28.4, 44.0, 22.5, 32.9, 36.8, 26.2, 30.1, 30.4, 0.627, 0.351, 0.672, 0.167, 2.288, 0.201, 0.248, 0.134, 0.158, 0.232, 0.191, 0.537, 1.441, 0.398, 0.587, 0.484, 0.551, 0.254, 0.183, 0.529, 0.704, 0.388, 0.451, 0.263, 0.254, 0.205, 0.257, 0.487, 0.245, 0.337, 0.546, 0.851, 0.267, 0.188, 0.512, 0.966, 0.42, 0.665, 0.503, 1.39, 0.271, 0.696, 0.235, 0.721, 0.294, 1.893, 0.564, 0.586, 0.344, 0.305, 0.491, 0.526, 0.342, 0.467, 0.718, 0.248, 0.254, 0.962, 1.781, 0.173, 0.304, 0.27, 0.587, 0.699, 0.258, 0.203, 0.855, 0.845, 0.334, 0.189, 0.867, 0.411, 0.583, 0.231, 0.396, 0.14, 0.391, 0.37, 0.27, 0.307, 0.14, 0.102, 0.767, 0.237, 0.227, 0.698, 0.178, 0.324, 0.153, 0.165, 0.258, 0.443, 0.261, 0.277, 0.761, 0.255, 0.13, 0.323, 0.356, 0.325, 1.222, 0.179, 0.262, 0.283, 0.93, 0.801, 0.207, 0.287, 0.336, 0.247, 0.199, 0.543, 0.192, 0.391, 0.588, 0.539, 0.22, 0.654, 0.443, 0.223, 0.759, 0.26, 0.404, 0.186, 0.278, 0.496, 0.452, 0.261, 0.403, 0.741, 0.361, 1.114, 0.356, 0.457, 0.647, 0.088, 0.597, 0.532, 0.703, 0.159, 0.268, 0.286, 0.318, 0.272, 0.237, 0.572, 0.096, 1.4, 0.218, 0.085, 0.399, 0.432, 1.189, 0.687, 0.137, 0.337, 0.637, 0.833, 0.229, 0.817, 0.294, 0.204, 0.167, 0.368, 0.743, 0.722, 0.256, 0.709, 0.471, 0.495, 0.18, 0.542, 0.773, 0.678, 0.37, 0.719, 0.382, 0.319, 0.19, 0.956, 0.084, 0.725, 0.299, 0.268, 0.244, 0.745, 0.615, 1.321, 0.64, 0.361, 0.142, 0.374, 0.383, 0.578, 0.136, 0.395, 0.187, 0.678, 0.905, 0.15, 0.874, 0.236, 0.787, 0.235, 0.324, 0.407, 0.605, 0.151, 0.289, 0.355, 0.29, 0.375, 0.164, 0.431, 0.26, 0.742, 0.514, 0.464, 1.224, 0.261, 1.072, 0.805, 0.209, 0.687, 0.666, 0.101, 0.198, 0.652, 2.329, 0.089, 0.645, 0.238, 0.583, 0.394, 0.293, 0.479, 0.586, 0.686, 0.831, 0.582, 0.192, 0.446, 0.402, 1.318, 0.329, 1.213, 0.258, 0.427, 0.282, 0.143, 0.38, 0.284, 0.249, 0.238, 0.926, 0.543, 0.557, 0.092, 0.655, 1.353, 0.299, 0.761, 0.612, 0.2, 0.226, 0.997, 0.933, 1.101, 0.078, 0.24, 1.136, 0.128, 0.254, 0.422, 0.251, 0.677, 0.296, 0.454, 0.744, 0.881, 0.334, 0.28, 0.262, 0.165, 0.259, 0.647, 0.619, 0.808, 0.34, 0.263, 0.434, 0.757, 1.224, 0.613, 0.254, 0.692, 0.337, 0.52, 0.412, 0.84, 0.839, 0.422, 0.156, 0.209, 0.207, 0.215, 0.326, 0.143, 1.391, 0.875, 0.313, 0.605, 0.433, 0.626, 1.127, 0.315, 0.284, 0.345, 0.15, 0.129, 0.527, 0.197, 0.254, 0.731, 0.148, 0.123, 0.692, 0.2, 0.127, 0.122, 1.476, 0.166, 0.282, 0.137, 0.26, 0.259, 0.932, 0.343, 0.893, 0.331, 0.472, 0.673, 0.389, 0.29, 0.485, 0.349, 0.654, 0.187, 0.279, 0.346, 0.237, 0.252, 0.243, 0.58, 0.559, 0.302, 0.962, 0.569, 0.378, 0.875, 0.583, 0.207, 0.305, 0.52, 0.385, 0.499, 0.368, 0.252, 0.306, 0.234, 2.137, 1.731, 0.545, 0.225, 0.816, 0.528, 0.299, 0.509, 0.238, 1.021, 0.821, 0.236, 0.947, 1.268, 0.221, 0.205, 0.66, 0.239, 0.452, 0.949, 0.444, 0.34, 0.389, 0.463, 0.803, 1.6, 0.944, 0.196, 0.389, 0.241, 0.161, 0.151, 0.286, 0.28, 0.135, 0.52, 0.376, 0.336, 1.191, 0.702, 0.674, 0.528, 1.076, 0.256, 0.534, 0.258, 1.095, 0.554, 0.624, 0.219, 0.507, 0.561, 0.496, 0.421, 0.516, 0.264, 0.256, 0.328, 0.284, 0.233, 0.108, 0.551, 0.527, 0.167, 1.138, 0.205, 0.244, 0.434, 0.147, 0.727, 0.435, 0.497, 0.23, 0.955, 0.38, 2.42, 0.658, 0.33, 0.51, 0.285, 0.415, 0.542, 0.381, 0.832, 0.498, 0.212, 0.687, 0.364, 1.001, 0.46, 0.733, 0.416, 0.705, 0.258, 1.022, 0.452, 0.269, 0.6, 0.183, 0.571, 0.607, 0.17, 0.259, 0.21, 0.126, 0.231, 0.711, 0.466, 0.162, 0.419, 0.344, 0.197, 0.306, 0.233, 0.63, 0.365, 0.536, 1.159, 0.294, 0.551, 0.629, 0.292, 0.145, 1.144, 0.174, 0.304, 0.292, 0.547, 0.163, 0.839, 0.313, 0.267, 0.727, 0.738, 0.238, 0.263, 0.314, 0.692, 0.968, 0.409, 0.297, 0.207, 0.2, 0.525, 0.154, 0.268, 0.771, 0.304, 0.18, 0.582, 0.187, 0.305, 0.189, 0.652, 0.151, 0.444, 0.299, 0.107, 0.493, 0.66, 0.717, 0.686, 0.917, 0.501, 1.251, 0.302, 0.197, 0.735, 0.804, 0.968, 0.661, 0.549, 0.825, 0.159, 0.365, 0.423, 1.034, 0.16, 0.341, 0.68, 0.204, 0.591, 0.247, 0.422, 0.471, 0.161, 0.218, 0.237, 0.126, 0.3, 0.121, 0.502, 0.401, 0.497, 0.601, 0.748, 0.412, 0.085, 0.338, 0.203, 0.27, 0.268, 0.43, 0.198, 0.892, 0.28, 0.813, 0.693, 0.245, 0.575, 0.371, 0.206, 0.259, 0.19, 0.687, 0.417, 0.129, 0.249, 1.154, 0.342, 0.925, 0.175, 0.402, 1.699, 0.733, 0.682, 0.194, 0.559, 0.088, 0.407, 0.4, 0.19, 0.1, 0.692, 0.212, 0.514, 1.258, 0.482, 0.27, 0.138, 0.292, 0.593, 0.787, 0.878, 0.557, 0.207, 0.157, 0.257, 1.282, 0.141, 0.246, 1.698, 1.461, 0.347, 0.158, 0.362, 0.206, 0.393, 0.144, 0.148, 0.732, 0.238, 0.343, 0.115, 0.167, 0.465, 0.153, 0.649, 0.871, 0.149, 0.695, 0.303, 0.178, 0.61, 0.73, 0.134, 0.447, 0.455, 0.26, 0.133, 0.234, 0.466, 0.269, 0.455, 0.142, 0.24, 0.155, 1.162, 0.19, 1.292, 0.182, 1.394, 0.165, 0.637, 0.245, 0.217, 0.235, 0.141, 0.43, 0.164, 0.631, 0.551, 0.285, 0.88, 0.587, 0.328, 0.23, 0.263, 0.127, 0.614, 0.332, 0.364, 0.366, 0.536, 0.64, 0.591, 0.314, 0.181, 0.828, 0.335, 0.856, 0.257, 0.886, 0.439, 0.191, 0.128, 0.268, 0.253, 0.598, 0.904, 0.483, 0.565, 0.905, 0.304, 0.118, 0.177, 0.261, 0.176, 0.148, 0.674, 0.295, 0.439, 0.441, 0.352, 0.121, 0.826, 0.97, 0.595, 0.415, 0.378, 0.317, 0.289, 0.349, 0.251, 0.265, 0.236, 0.496, 0.433, 0.326, 0.141, 0.323, 0.259, 0.646, 0.426, 0.56, 0.284, 0.515, 0.6, 0.453, 0.293, 0.785, 0.4, 0.219, 0.734, 1.174, 0.488, 0.358, 1.096, 0.408, 0.178, 1.182, 0.261, 0.223, 0.222, 0.443, 1.057, 0.391, 0.258, 0.197, 0.278, 0.766, 0.403, 0.142, 0.171, 0.34, 0.245, 0.349, 0.315, 50.0, 31.0, 32.0, 21.0, 33.0, 30.0, 26.0, 29.0, 53.0, 54.0, 30.0, 34.0, 57.0, 59.0, 51.0, 32.0, 31.0, 31.0, 33.0, 32.0, 27.0, 50.0, 41.0, 29.0, 51.0, 41.0, 43.0, 22.0, 57.0, 38.0, 60.0, 28.0, 22.0, 28.0, 45.0, 33.0, 35.0, 46.0, 27.0, 56.0, 26.0, 37.0, 48.0, 54.0, 40.0, 25.0, 29.0, 22.0, 31.0, 24.0, 22.0, 26.0, 30.0, 58.0, 42.0, 21.0, 41.0, 31.0, 44.0, 22.0, 21.0, 39.0, 36.0, 24.0, 42.0, 32.0, 38.0, 54.0, 25.0, 27.0, 28.0, 26.0, 42.0, 23.0, 22.0, 22.0, 41.0, 27.0, 26.0, 24.0, 22.0, 22.0, 36.0, 22.0, 37.0, 27.0, 45.0, 26.0, 43.0, 24.0, 21.0, 34.0, 42.0, 60.0, 21.0, 40.0, 24.0, 22.0, 23.0, 31.0, 33.0, 22.0, 21.0, 24.0, 27.0, 21.0, 27.0, 37.0, 25.0, 24.0, 24.0, 46.0, 23.0, 25.0, 39.0, 61.0, 38.0, 25.0, 22.0, 21.0, 25.0, 24.0, 23.0, 69.0, 23.0, 26.0, 30.0, 23.0, 40.0, 62.0, 33.0, 33.0, 30.0, 39.0, 26.0, 31.0, 21.0, 22.0, 29.0, 28.0, 55.0, 38.0, 22.0, 42.0, 23.0, 21.0, 41.0, 34.0, 65.0, 22.0, 24.0, 37.0, 42.0, 23.0, 43.0, 36.0, 21.0, 23.0, 22.0, 47.0, 36.0, 45.0, 27.0, 21.0, 32.0, 41.0, 22.0, 34.0, 29.0, 29.0, 36.0, 29.0, 25.0, 23.0, 33.0, 36.0, 42.0, 26.0, 47.0, 37.0, 32.0, 23.0, 21.0, 27.0, 40.0, 41.0, 60.0, 33.0, 31.0, 25.0, 21.0, 40.0, 36.0, 40.0, 42.0, 29.0, 21.0, 23.0, 26.0, 29.0, 21.0, 28.0, 32.0, 27.0, 55.0, 27.0, 57.0, 52.0, 21.0, 41.0, 25.0, 24.0, 60.0, 24.0, 36.0, 38.0, 25.0, 32.0, 32.0, 41.0, 21.0, 66.0, 37.0, 61.0, 26.0, 22.0, 26.0, 24.0, 31.0, 24.0, 22.0, 46.0, 22.0, 29.0, 23.0, 26.0, 51.0, 23.0, 32.0, 27.0, 21.0, 22.0, 22.0, 33.0, 29.0, 49.0, 41.0, 23.0, 34.0, 23.0, 42.0, 27.0, 24.0, 25.0, 44.0, 21.0, 30.0, 25.0, 24.0, 51.0, 34.0, 27.0, 24.0, 63.0, 35.0, 43.0, 25.0, 24.0, 21.0, 28.0, 38.0, 21.0, 40.0, 21.0, 52.0, 25.0, 29.0, 23.0, 57.0, 22.0, 28.0, 39.0, 37.0, 47.0, 52.0, 51.0, 34.0, 29.0, 26.0, 33.0, 21.0, 25.0, 31.0, 24.0, 65.0, 28.0, 29.0, 24.0, 46.0, 58.0, 30.0, 25.0, 35.0, 28.0, 37.0, 29.0, 47.0, 21.0, 25.0, 30.0, 41.0, 22.0, 27.0, 25.0, 43.0, 26.0, 30.0, 29.0, 28.0, 59.0, 31.0, 25.0, 36.0, 43.0, 21.0, 24.0, 30.0, 37.0, 23.0, 37.0, 46.0, 25.0, 41.0, 44.0, 22.0, 26.0, 44.0, 44.0, 33.0, 41.0, 22.0, 36.0, 22.0, 33.0, 57.0, 49.0, 22.0, 23.0, 26.0, 37.0, 29.0, 30.0, 46.0, 24.0, 21.0, 49.0, 28.0, 44.0, 48.0, 29.0, 29.0, 63.0, 65.0, 67.0, 30.0, 30.0, 29.0, 21.0, 22.0, 45.0, 25.0, 21.0, 21.0, 25.0, 28.0, 58.0, 22.0, 22.0, 32.0, 35.0, 24.0, 22.0, 21.0, 25.0, 25.0, 24.0, 35.0, 45.0, 58.0, 28.0, 42.0, 27.0, 21.0, 37.0, 31.0, 25.0, 39.0, 22.0, 25.0, 25.0, 31.0, 55.0, 35.0, 38.0, 41.0, 26.0, 46.0, 25.0, 39.0, 28.0, 28.0, 25.0, 22.0, 21.0, 21.0, 22.0, 22.0, 37.0, 27.0, 28.0, 26.0, 21.0, 21.0, 21.0, 36.0, 31.0, 25.0, 38.0, 26.0, 43.0, 23.0, 38.0, 22.0, 29.0, 36.0, 29.0, 41.0, 28.0, 21.0, 31.0, 41.0, 22.0, 24.0, 33.0, 30.0, 25.0, 28.0, 26.0, 22.0, 26.0, 23.0, 23.0, 25.0, 72.0, 24.0, 38.0, 62.0, 24.0, 51.0, 81.0, 48.0, 26.0, 39.0, 37.0, 34.0, 21.0, 22.0, 25.0, 38.0, 27.0, 28.0, 22.0, 22.0, 50.0, 24.0, 59.0, 29.0, 31.0, 39.0, 63.0, 35.0, 29.0, 28.0, 23.0, 31.0, 24.0, 21.0, 58.0, 28.0, 67.0, 24.0, 42.0, 33.0, 45.0, 22.0, 66.0, 30.0, 25.0, 55.0, 39.0, 21.0, 28.0, 41.0, 41.0, 40.0, 38.0, 35.0, 21.0, 21.0, 64.0, 46.0, 21.0, 58.0, 22.0, 24.0, 28.0, 53.0, 51.0, 41.0, 60.0, 25.0, 26.0, 26.0, 45.0, 24.0, 21.0, 21.0, 24.0, 22.0, 31.0, 22.0, 24.0, 29.0, 31.0, 24.0, 23.0, 46.0, 67.0, 23.0, 32.0, 43.0, 27.0, 56.0, 25.0, 29.0, 37.0, 53.0, 28.0, 50.0, 37.0, 21.0, 25.0, 66.0, 23.0, 28.0, 37.0, 30.0, 58.0, 42.0, 35.0, 54.0, 28.0, 24.0, 32.0, 27.0, 22.0, 21.0, 46.0, 37.0, 33.0, 39.0, 21.0, 22.0, 22.0, 23.0, 25.0, 35.0, 21.0, 36.0, 62.0, 21.0, 27.0, 62.0, 42.0, 52.0, 22.0, 41.0, 29.0, 52.0, 25.0, 45.0, 24.0, 44.0, 25.0, 34.0, 22.0, 46.0, 21.0, 38.0, 26.0, 24.0, 28.0, 30.0, 54.0, 36.0, 21.0, 22.0, 25.0, 27.0, 23.0, 24.0, 36.0, 40.0, 26.0, 50.0, 27.0, 30.0, 23.0, 50.0, 24.0, 28.0, 28.0, 45.0, 21.0, 21.0, 29.0, 21.0, 21.0, 45.0, 21.0, 34.0, 24.0, 23.0, 22.0, 31.0, 38.0, 48.0, 23.0, 32.0, 28.0, 27.0, 24.0, 50.0, 31.0, 27.0, 30.0, 33.0, 22.0, 42.0, 23.0, 23.0, 27.0, 28.0, 27.0, 22.0, 25.0, 22.0, 41.0, 51.0, 27.0, 54.0, 22.0, 43.0, 40.0, 40.0, 24.0, 70.0, 40.0, 43.0, 45.0, 49.0, 21.0, 47.0, 22.0, 68.0, 31.0, 53.0, 25.0, 25.0, 23.0, 22.0, 26.0, 22.0, 27.0, 69.0, 25.0, 22.0, 29.0, 23.0, 46.0, 34.0, 44.0, 23.0, 43.0, 25.0, 43.0, 31.0, 22.0, 28.0, 26.0, 26.0, 49.0, 52.0, 41.0, 27.0, 28.0, 30.0, 22.0, 45.0, 23.0, 24.0, 40.0, 38.0, 21.0, 32.0, 34.0, 31.0, 56.0, 24.0, 52.0, 34.0, 21.0, 42.0, 42.0, 45.0, 38.0, 25.0, 22.0, 22.0, 22.0, 34.0, 22.0, 24.0, 22.0, 53.0, 28.0, 21.0, 42.0, 21.0, 42.0, 48.0, 26.0, 22.0, 45.0, 39.0, 46.0, 27.0, 32.0, 36.0, 50.0, 22.0, 28.0, 25.0, 26.0, 45.0, 37.0, 39.0, 52.0, 26.0, 66.0, 22.0, 43.0, 33.0, 63.0, 27.0, 30.0, 47.0, 23.0], \"y0\": \" \", \"yaxis\": \"y\"}],                        {\"boxmode\": \"group\", \"legend\": {\"tracegroupgap\": 0}, \"margin\": {\"t\": 60}, \"template\": {\"data\": {\"bar\": [{\"error_x\": {\"color\": \"#f2f5fa\"}, \"error_y\": {\"color\": \"#f2f5fa\"}, \"marker\": {\"line\": {\"color\": \"rgb(17,17,17)\", \"width\": 0.5}}, \"type\": \"bar\"}], \"barpolar\": [{\"marker\": {\"line\": {\"color\": \"rgb(17,17,17)\", \"width\": 0.5}}, \"type\": \"barpolar\"}], \"carpet\": [{\"aaxis\": {\"endlinecolor\": \"#A2B1C6\", \"gridcolor\": \"#506784\", \"linecolor\": \"#506784\", \"minorgridcolor\": \"#506784\", \"startlinecolor\": \"#A2B1C6\"}, \"baxis\": {\"endlinecolor\": \"#A2B1C6\", \"gridcolor\": \"#506784\", \"linecolor\": \"#506784\", \"minorgridcolor\": \"#506784\", \"startlinecolor\": \"#A2B1C6\"}, \"type\": \"carpet\"}], \"choropleth\": [{\"colorbar\": {\"outlinewidth\": 0, \"ticks\": \"\"}, \"type\": \"choropleth\"}], \"contour\": [{\"colorbar\": {\"outlinewidth\": 0, \"ticks\": \"\"}, \"colorscale\": [[0.0, \"#0d0887\"], [0.1111111111111111, \"#46039f\"], [0.2222222222222222, \"#7201a8\"], [0.3333333333333333, \"#9c179e\"], [0.4444444444444444, \"#bd3786\"], [0.5555555555555556, \"#d8576b\"], [0.6666666666666666, \"#ed7953\"], [0.7777777777777778, \"#fb9f3a\"], [0.8888888888888888, \"#fdca26\"], [1.0, \"#f0f921\"]], \"type\": \"contour\"}], \"contourcarpet\": [{\"colorbar\": {\"outlinewidth\": 0, \"ticks\": \"\"}, \"type\": \"contourcarpet\"}], \"heatmap\": [{\"colorbar\": {\"outlinewidth\": 0, \"ticks\": \"\"}, \"colorscale\": [[0.0, \"#0d0887\"], [0.1111111111111111, \"#46039f\"], [0.2222222222222222, \"#7201a8\"], [0.3333333333333333, \"#9c179e\"], [0.4444444444444444, \"#bd3786\"], [0.5555555555555556, \"#d8576b\"], [0.6666666666666666, \"#ed7953\"], [0.7777777777777778, \"#fb9f3a\"], [0.8888888888888888, \"#fdca26\"], [1.0, \"#f0f921\"]], \"type\": \"heatmap\"}], \"heatmapgl\": [{\"colorbar\": {\"outlinewidth\": 0, \"ticks\": \"\"}, \"colorscale\": [[0.0, \"#0d0887\"], [0.1111111111111111, \"#46039f\"], [0.2222222222222222, \"#7201a8\"], [0.3333333333333333, \"#9c179e\"], [0.4444444444444444, \"#bd3786\"], [0.5555555555555556, \"#d8576b\"], [0.6666666666666666, \"#ed7953\"], [0.7777777777777778, \"#fb9f3a\"], [0.8888888888888888, \"#fdca26\"], [1.0, \"#f0f921\"]], \"type\": \"heatmapgl\"}], \"histogram\": [{\"marker\": {\"colorbar\": {\"outlinewidth\": 0, \"ticks\": \"\"}}, \"type\": \"histogram\"}], \"histogram2d\": [{\"colorbar\": {\"outlinewidth\": 0, \"ticks\": \"\"}, \"colorscale\": [[0.0, \"#0d0887\"], [0.1111111111111111, \"#46039f\"], [0.2222222222222222, \"#7201a8\"], [0.3333333333333333, \"#9c179e\"], [0.4444444444444444, \"#bd3786\"], [0.5555555555555556, \"#d8576b\"], [0.6666666666666666, \"#ed7953\"], [0.7777777777777778, \"#fb9f3a\"], [0.8888888888888888, \"#fdca26\"], [1.0, \"#f0f921\"]], \"type\": \"histogram2d\"}], \"histogram2dcontour\": [{\"colorbar\": {\"outlinewidth\": 0, \"ticks\": \"\"}, \"colorscale\": [[0.0, \"#0d0887\"], [0.1111111111111111, \"#46039f\"], [0.2222222222222222, \"#7201a8\"], [0.3333333333333333, \"#9c179e\"], [0.4444444444444444, \"#bd3786\"], [0.5555555555555556, \"#d8576b\"], [0.6666666666666666, \"#ed7953\"], [0.7777777777777778, \"#fb9f3a\"], [0.8888888888888888, \"#fdca26\"], [1.0, \"#f0f921\"]], \"type\": \"histogram2dcontour\"}], \"mesh3d\": [{\"colorbar\": {\"outlinewidth\": 0, \"ticks\": \"\"}, \"type\": \"mesh3d\"}], \"parcoords\": [{\"line\": {\"colorbar\": {\"outlinewidth\": 0, \"ticks\": \"\"}}, \"type\": \"parcoords\"}], \"pie\": [{\"automargin\": true, \"type\": \"pie\"}], \"scatter\": [{\"marker\": {\"line\": {\"color\": \"#283442\"}}, \"type\": \"scatter\"}], \"scatter3d\": [{\"line\": {\"colorbar\": {\"outlinewidth\": 0, \"ticks\": \"\"}}, \"marker\": {\"colorbar\": {\"outlinewidth\": 0, \"ticks\": \"\"}}, \"type\": \"scatter3d\"}], \"scattercarpet\": [{\"marker\": {\"colorbar\": {\"outlinewidth\": 0, \"ticks\": \"\"}}, \"type\": \"scattercarpet\"}], \"scattergeo\": [{\"marker\": {\"colorbar\": {\"outlinewidth\": 0, \"ticks\": \"\"}}, \"type\": \"scattergeo\"}], \"scattergl\": [{\"marker\": {\"line\": {\"color\": \"#283442\"}}, \"type\": \"scattergl\"}], \"scattermapbox\": [{\"marker\": {\"colorbar\": {\"outlinewidth\": 0, \"ticks\": \"\"}}, \"type\": \"scattermapbox\"}], \"scatterpolar\": [{\"marker\": {\"colorbar\": {\"outlinewidth\": 0, \"ticks\": \"\"}}, \"type\": \"scatterpolar\"}], \"scatterpolargl\": [{\"marker\": {\"colorbar\": {\"outlinewidth\": 0, \"ticks\": \"\"}}, \"type\": \"scatterpolargl\"}], \"scatterternary\": [{\"marker\": {\"colorbar\": {\"outlinewidth\": 0, \"ticks\": \"\"}}, \"type\": \"scatterternary\"}], \"surface\": [{\"colorbar\": {\"outlinewidth\": 0, \"ticks\": \"\"}, \"colorscale\": [[0.0, \"#0d0887\"], [0.1111111111111111, \"#46039f\"], [0.2222222222222222, \"#7201a8\"], [0.3333333333333333, \"#9c179e\"], [0.4444444444444444, \"#bd3786\"], [0.5555555555555556, \"#d8576b\"], [0.6666666666666666, \"#ed7953\"], [0.7777777777777778, \"#fb9f3a\"], [0.8888888888888888, \"#fdca26\"], [1.0, \"#f0f921\"]], \"type\": \"surface\"}], \"table\": [{\"cells\": {\"fill\": {\"color\": \"#506784\"}, \"line\": {\"color\": \"rgb(17,17,17)\"}}, \"header\": {\"fill\": {\"color\": \"#2a3f5f\"}, \"line\": {\"color\": \"rgb(17,17,17)\"}}, \"type\": \"table\"}]}, \"layout\": {\"annotationdefaults\": {\"arrowcolor\": \"#f2f5fa\", \"arrowhead\": 0, \"arrowwidth\": 1}, \"autotypenumbers\": \"strict\", \"coloraxis\": {\"colorbar\": {\"outlinewidth\": 0, \"ticks\": \"\"}}, \"colorscale\": {\"diverging\": [[0, \"#8e0152\"], [0.1, \"#c51b7d\"], [0.2, \"#de77ae\"], [0.3, \"#f1b6da\"], [0.4, \"#fde0ef\"], [0.5, \"#f7f7f7\"], [0.6, \"#e6f5d0\"], [0.7, \"#b8e186\"], [0.8, \"#7fbc41\"], [0.9, \"#4d9221\"], [1, \"#276419\"]], \"sequential\": [[0.0, \"#0d0887\"], [0.1111111111111111, \"#46039f\"], [0.2222222222222222, \"#7201a8\"], [0.3333333333333333, \"#9c179e\"], [0.4444444444444444, \"#bd3786\"], [0.5555555555555556, \"#d8576b\"], [0.6666666666666666, \"#ed7953\"], [0.7777777777777778, \"#fb9f3a\"], [0.8888888888888888, \"#fdca26\"], [1.0, \"#f0f921\"]], \"sequentialminus\": [[0.0, \"#0d0887\"], [0.1111111111111111, \"#46039f\"], [0.2222222222222222, \"#7201a8\"], [0.3333333333333333, \"#9c179e\"], [0.4444444444444444, \"#bd3786\"], [0.5555555555555556, \"#d8576b\"], [0.6666666666666666, \"#ed7953\"], [0.7777777777777778, \"#fb9f3a\"], [0.8888888888888888, \"#fdca26\"], [1.0, \"#f0f921\"]]}, \"colorway\": [\"#636efa\", \"#EF553B\", \"#00cc96\", \"#ab63fa\", \"#FFA15A\", \"#19d3f3\", \"#FF6692\", \"#B6E880\", \"#FF97FF\", \"#FECB52\"], \"font\": {\"color\": \"#f2f5fa\"}, \"geo\": {\"bgcolor\": \"rgb(17,17,17)\", \"lakecolor\": \"rgb(17,17,17)\", \"landcolor\": \"rgb(17,17,17)\", \"showlakes\": true, \"showland\": true, \"subunitcolor\": \"#506784\"}, \"hoverlabel\": {\"align\": \"left\"}, \"hovermode\": \"closest\", \"mapbox\": {\"style\": \"dark\"}, \"paper_bgcolor\": \"rgb(17,17,17)\", \"plot_bgcolor\": \"rgb(17,17,17)\", \"polar\": {\"angularaxis\": {\"gridcolor\": \"#506784\", \"linecolor\": \"#506784\", \"ticks\": \"\"}, \"bgcolor\": \"rgb(17,17,17)\", \"radialaxis\": {\"gridcolor\": \"#506784\", \"linecolor\": \"#506784\", \"ticks\": \"\"}}, \"scene\": {\"xaxis\": {\"backgroundcolor\": \"rgb(17,17,17)\", \"gridcolor\": \"#506784\", \"gridwidth\": 2, \"linecolor\": \"#506784\", \"showbackground\": true, \"ticks\": \"\", \"zerolinecolor\": \"#C8D4E3\"}, \"yaxis\": {\"backgroundcolor\": \"rgb(17,17,17)\", \"gridcolor\": \"#506784\", \"gridwidth\": 2, \"linecolor\": \"#506784\", \"showbackground\": true, \"ticks\": \"\", \"zerolinecolor\": \"#C8D4E3\"}, \"zaxis\": {\"backgroundcolor\": \"rgb(17,17,17)\", \"gridcolor\": \"#506784\", \"gridwidth\": 2, \"linecolor\": \"#506784\", \"showbackground\": true, \"ticks\": \"\", \"zerolinecolor\": \"#C8D4E3\"}}, \"shapedefaults\": {\"line\": {\"color\": \"#f2f5fa\"}}, \"sliderdefaults\": {\"bgcolor\": \"#C8D4E3\", \"bordercolor\": \"rgb(17,17,17)\", \"borderwidth\": 1, \"tickwidth\": 0}, \"ternary\": {\"aaxis\": {\"gridcolor\": \"#506784\", \"linecolor\": \"#506784\", \"ticks\": \"\"}, \"baxis\": {\"gridcolor\": \"#506784\", \"linecolor\": \"#506784\", \"ticks\": \"\"}, \"bgcolor\": \"rgb(17,17,17)\", \"caxis\": {\"gridcolor\": \"#506784\", \"linecolor\": \"#506784\", \"ticks\": \"\"}}, \"title\": {\"x\": 0.05}, \"updatemenudefaults\": {\"bgcolor\": \"#506784\", \"borderwidth\": 0}, \"xaxis\": {\"automargin\": true, \"gridcolor\": \"#283442\", \"linecolor\": \"#506784\", \"ticks\": \"\", \"title\": {\"standoff\": 15}, \"zerolinecolor\": \"#283442\", \"zerolinewidth\": 2}, \"yaxis\": {\"automargin\": true, \"gridcolor\": \"#283442\", \"linecolor\": \"#506784\", \"ticks\": \"\", \"title\": {\"standoff\": 15}, \"zerolinecolor\": \"#283442\", \"zerolinewidth\": 2}}}, \"xaxis\": {\"anchor\": \"y\", \"domain\": [0.0, 1.0], \"title\": {\"text\": \"variable\"}}, \"yaxis\": {\"anchor\": \"x\", \"domain\": [0.0, 1.0], \"title\": {\"text\": \"value\"}}},                        {\"responsive\": true}                    ).then(function(){\n",
       "                            \n",
       "var gd = document.getElementById('f70cd0d5-3e93-4c85-a05f-d0b3c7b31a00');\n",
       "var x = new MutationObserver(function (mutations, observer) {{\n",
       "        var display = window.getComputedStyle(gd).display;\n",
       "        if (!display || display === 'none') {{\n",
       "            console.log([gd, 'removed!']);\n",
       "            Plotly.purge(gd);\n",
       "            observer.disconnect();\n",
       "        }}\n",
       "}});\n",
       "\n",
       "// Listen for the removal of the full notebook cells\n",
       "var notebookContainer = gd.closest('#notebook-container');\n",
       "if (notebookContainer) {{\n",
       "    x.observe(notebookContainer, {childList: true});\n",
       "}}\n",
       "\n",
       "// Listen for the clearing of the current output cell\n",
       "var outputEl = gd.closest('.output');\n",
       "if (outputEl) {{\n",
       "    x.observe(outputEl, {childList: true});\n",
       "}}\n",
       "\n",
       "                        })                };                });            </script>        </div>"
      ]
     },
     "metadata": {},
     "output_type": "display_data"
    }
   ],
   "source": [
    "ax = px.box(dt,template= \"plotly_dark\")\n",
    "ax.show()"
   ]
  },
  {
   "cell_type": "markdown",
   "id": "earned-twelve",
   "metadata": {
    "papermill": {
     "duration": 0.074021,
     "end_time": "2021-06-11T14:17:09.563714",
     "exception": false,
     "start_time": "2021-06-11T14:17:09.489693",
     "status": "completed"
    },
    "tags": []
   },
   "source": [
    "\n",
    "# **<h2 style=\"background-color:DodgerBlue;\">MODELS</h2>**"
   ]
  },
  {
   "cell_type": "code",
   "execution_count": 26,
   "id": "middle-dispute",
   "metadata": {
    "execution": {
     "iopub.execute_input": "2021-06-11T14:17:09.719061Z",
     "iopub.status.busy": "2021-06-11T14:17:09.718244Z",
     "iopub.status.idle": "2021-06-11T14:17:09.860767Z",
     "shell.execute_reply": "2021-06-11T14:17:09.859356Z",
     "shell.execute_reply.started": "2021-06-11T14:10:54.558112Z"
    },
    "papermill": {
     "duration": 0.222997,
     "end_time": "2021-06-11T14:17:09.860939",
     "exception": false,
     "start_time": "2021-06-11T14:17:09.637942",
     "status": "completed"
    },
    "tags": []
   },
   "outputs": [],
   "source": [
    "#importing essential libraries\n",
    "from sklearn.metrics import confusion_matrix,classification_report,accuracy_score\n",
    "from sklearn.preprocessing import StandardScaler\n",
    "from sklearn.neighbors import KNeighborsClassifier\n",
    "from sklearn.tree import DecisionTreeClassifier\n",
    "from sklearn.linear_model import LogisticRegression\n",
    "from sklearn.ensemble import RandomForestClassifier\n",
    "from sklearn.ensemble import GradientBoostingClassifier\n",
    "from sklearn.ensemble import AdaBoostClassifier\n",
    "from xgboost import XGBClassifier\n",
    "from sklearn.model_selection import train_test_split\n",
    "from sklearn.model_selection import GridSearchCV"
   ]
  },
  {
   "cell_type": "code",
   "execution_count": 27,
   "id": "expected-aaron",
   "metadata": {
    "execution": {
     "iopub.execute_input": "2021-06-11T14:17:10.043125Z",
     "iopub.status.busy": "2021-06-11T14:17:10.042451Z",
     "iopub.status.idle": "2021-06-11T14:17:10.046062Z",
     "shell.execute_reply": "2021-06-11T14:17:10.045418Z",
     "shell.execute_reply.started": "2021-06-11T14:10:54.699887Z"
    },
    "papermill": {
     "duration": 0.093069,
     "end_time": "2021-06-11T14:17:10.046217",
     "exception": false,
     "start_time": "2021-06-11T14:17:09.953148",
     "status": "completed"
    },
    "tags": []
   },
   "outputs": [
    {
     "data": {
      "text/plain": [
       "Pregnancies                   11.354056\n",
       "Glucose                      926.346983\n",
       "BloodPressure                146.321591\n",
       "SkinThickness                 77.280660\n",
       "Insulin                     7228.588766\n",
       "BMI                           47.267706\n",
       "DiabetesPedigreeFunction       0.109779\n",
       "Age                          138.303046\n",
       "Outcome                        0.227483\n",
       "dtype: float64"
      ]
     },
     "execution_count": 27,
     "metadata": {},
     "output_type": "execute_result"
    }
   ],
   "source": [
    "df.var()"
   ]
  },
  {
   "cell_type": "markdown",
   "id": "parallel-delhi",
   "metadata": {
    "papermill": {
     "duration": 0.074708,
     "end_time": "2021-06-11T14:17:10.196895",
     "exception": false,
     "start_time": "2021-06-11T14:17:10.122187",
     "status": "completed"
    },
    "tags": []
   },
   "source": [
    "<p style=\"background-color:Tomato;\">The features have high variance and hence need to be normalized</p>"
   ]
  },
  {
   "cell_type": "code",
   "execution_count": 28,
   "id": "advisory-feedback",
   "metadata": {
    "execution": {
     "iopub.execute_input": "2021-06-11T14:17:10.353209Z",
     "iopub.status.busy": "2021-06-11T14:17:10.352404Z",
     "iopub.status.idle": "2021-06-11T14:17:10.355680Z",
     "shell.execute_reply": "2021-06-11T14:17:10.355150Z",
     "shell.execute_reply.started": "2021-06-11T14:10:54.710658Z"
    },
    "papermill": {
     "duration": 0.084913,
     "end_time": "2021-06-11T14:17:10.355823",
     "exception": false,
     "start_time": "2021-06-11T14:17:10.270910",
     "status": "completed"
    },
    "tags": []
   },
   "outputs": [],
   "source": [
    "df[\"Glucose\"]= np.log(df.Glucose)\n",
    "df[\"BloodPressure\"]= np.log(df.BloodPressure)\n",
    "df[\"Insulin\"]= np.log(df.Insulin)\n",
    "df[\"BMI\"]= np.log(df.BMI)"
   ]
  },
  {
   "cell_type": "code",
   "execution_count": 29,
   "id": "classified-lodge",
   "metadata": {
    "execution": {
     "iopub.execute_input": "2021-06-11T14:17:10.509757Z",
     "iopub.status.busy": "2021-06-11T14:17:10.508788Z",
     "iopub.status.idle": "2021-06-11T14:17:10.513727Z",
     "shell.execute_reply": "2021-06-11T14:17:10.513206Z",
     "shell.execute_reply.started": "2021-06-11T14:10:54.723654Z"
    },
    "papermill": {
     "duration": 0.083907,
     "end_time": "2021-06-11T14:17:10.513870",
     "exception": false,
     "start_time": "2021-06-11T14:17:10.429963",
     "status": "completed"
    },
    "tags": []
   },
   "outputs": [],
   "source": [
    "df[\"SkinThickness\"]= np.log(df.SkinThickness)\n",
    "df[\"Age\"]= np.log(df.Age)"
   ]
  },
  {
   "cell_type": "code",
   "execution_count": 30,
   "id": "casual-forth",
   "metadata": {
    "execution": {
     "iopub.execute_input": "2021-06-11T14:17:10.667266Z",
     "iopub.status.busy": "2021-06-11T14:17:10.666270Z",
     "iopub.status.idle": "2021-06-11T14:17:10.673436Z",
     "shell.execute_reply": "2021-06-11T14:17:10.673897Z",
     "shell.execute_reply.started": "2021-06-11T14:10:54.742380Z"
    },
    "papermill": {
     "duration": 0.086202,
     "end_time": "2021-06-11T14:17:10.674076",
     "exception": false,
     "start_time": "2021-06-11T14:17:10.587874",
     "status": "completed"
    },
    "tags": []
   },
   "outputs": [
    {
     "data": {
      "text/plain": [
       "Pregnancies                 11.354056\n",
       "Glucose                      0.062359\n",
       "BloodPressure                0.030542\n",
       "SkinThickness                0.107611\n",
       "Insulin                      0.264560\n",
       "BMI                          0.044450\n",
       "DiabetesPedigreeFunction     0.109779\n",
       "Age                          0.104137\n",
       "Outcome                      0.227483\n",
       "dtype: float64"
      ]
     },
     "execution_count": 30,
     "metadata": {},
     "output_type": "execute_result"
    }
   ],
   "source": [
    "df.var()"
   ]
  },
  {
   "cell_type": "code",
   "execution_count": 31,
   "id": "sophisticated-trouble",
   "metadata": {
    "execution": {
     "iopub.execute_input": "2021-06-11T14:17:10.830147Z",
     "iopub.status.busy": "2021-06-11T14:17:10.829008Z",
     "iopub.status.idle": "2021-06-11T14:17:10.833443Z",
     "shell.execute_reply": "2021-06-11T14:17:10.832782Z",
     "shell.execute_reply.started": "2021-06-11T14:10:54.759305Z"
    },
    "papermill": {
     "duration": 0.084704,
     "end_time": "2021-06-11T14:17:10.833584",
     "exception": false,
     "start_time": "2021-06-11T14:17:10.748880",
     "status": "completed"
    },
    "tags": []
   },
   "outputs": [],
   "source": [
    "#train test split\n",
    "label= df[\"Outcome\"]\n",
    "train= df.drop(\"Outcome\",axis= 1)"
   ]
  },
  {
   "cell_type": "code",
   "execution_count": 32,
   "id": "determined-solomon",
   "metadata": {
    "execution": {
     "iopub.execute_input": "2021-06-11T14:17:10.992294Z",
     "iopub.status.busy": "2021-06-11T14:17:10.991117Z",
     "iopub.status.idle": "2021-06-11T14:17:10.997380Z",
     "shell.execute_reply": "2021-06-11T14:17:10.996730Z",
     "shell.execute_reply.started": "2021-06-11T14:10:54.767659Z"
    },
    "papermill": {
     "duration": 0.08733,
     "end_time": "2021-06-11T14:17:10.997528",
     "exception": false,
     "start_time": "2021-06-11T14:17:10.910198",
     "status": "completed"
    },
    "tags": []
   },
   "outputs": [],
   "source": [
    "x_train,x_test,y_train,y_test= train_test_split(train,label,test_size= 0.3,random_state= 5)"
   ]
  },
  {
   "cell_type": "markdown",
   "id": "valuable-transparency",
   "metadata": {
    "papermill": {
     "duration": 0.075929,
     "end_time": "2021-06-11T14:17:11.148375",
     "exception": false,
     "start_time": "2021-06-11T14:17:11.072446",
     "status": "completed"
    },
    "tags": []
   },
   "source": [
    "# **<h2 style=\"background-color:DodgerBlue;\">KNN</h2>**"
   ]
  },
  {
   "cell_type": "code",
   "execution_count": 33,
   "id": "heard-avenue",
   "metadata": {
    "execution": {
     "iopub.execute_input": "2021-06-11T14:17:11.310835Z",
     "iopub.status.busy": "2021-06-11T14:17:11.310184Z",
     "iopub.status.idle": "2021-06-11T14:17:12.060900Z",
     "shell.execute_reply": "2021-06-11T14:17:12.061398Z",
     "shell.execute_reply.started": "2021-06-11T14:10:54.783022Z"
    },
    "papermill": {
     "duration": 0.838493,
     "end_time": "2021-06-11T14:17:12.061581",
     "exception": false,
     "start_time": "2021-06-11T14:17:11.223088",
     "status": "completed"
    },
    "tags": []
   },
   "outputs": [],
   "source": [
    "scores= []\n",
    "for i in range(1,50):\n",
    "    knn= KNeighborsClassifier(n_neighbors= i)\n",
    "    knn.fit(x_train,y_train)\n",
    "    scores.append(accuracy_score(y_test,knn.predict(x_test)))"
   ]
  },
  {
   "cell_type": "code",
   "execution_count": 34,
   "id": "undefined-group",
   "metadata": {
    "execution": {
     "iopub.execute_input": "2021-06-11T14:17:12.265542Z",
     "iopub.status.busy": "2021-06-11T14:17:12.264849Z",
     "iopub.status.idle": "2021-06-11T14:17:12.432593Z",
     "shell.execute_reply": "2021-06-11T14:17:12.431941Z",
     "shell.execute_reply.started": "2021-06-11T14:10:55.549446Z"
    },
    "papermill": {
     "duration": 0.294581,
     "end_time": "2021-06-11T14:17:12.432733",
     "exception": false,
     "start_time": "2021-06-11T14:17:12.138152",
     "status": "completed"
    },
    "tags": []
   },
   "outputs": [
    {
     "data": {
      "image/png": "[encoded data removed]",
      "text/plain": [
       "<Figure size 1080x432 with 1 Axes>"
      ]
     },
     "metadata": {},
     "output_type": "display_data"
    }
   ],
   "source": [
    "plt.figure(figsize= (15,6))\n",
    "sns.lineplot(np.arange(1,50),scores)\n",
    "plt.show()"
   ]
  },
  {
   "cell_type": "code",
   "execution_count": 35,
   "id": "accomplished-stack",
   "metadata": {
    "execution": {
     "iopub.execute_input": "2021-06-11T14:17:12.596891Z",
     "iopub.status.busy": "2021-06-11T14:17:12.593795Z",
     "iopub.status.idle": "2021-06-11T14:17:12.612445Z",
     "shell.execute_reply": "2021-06-11T14:17:12.611925Z",
     "shell.execute_reply.started": "2021-06-11T14:10:55.759392Z"
    },
    "papermill": {
     "duration": 0.10229,
     "end_time": "2021-06-11T14:17:12.612597",
     "exception": false,
     "start_time": "2021-06-11T14:17:12.510307",
     "status": "completed"
    },
    "tags": []
   },
   "outputs": [
    {
     "name": "stdout",
     "output_type": "stream",
     "text": [
      "accuracy score:  0.7445887445887446\n"
     ]
    }
   ],
   "source": [
    "knn= KNeighborsClassifier(n_neighbors= 15)\n",
    "knn.fit(x_train,y_train)\n",
    "knnpred = knn.predict(x_test)\n",
    "print(f\"accuracy score: \",accuracy_score(y_test,knnpred))"
   ]
  },
  {
   "cell_type": "code",
   "execution_count": 36,
   "id": "sexual-corporation",
   "metadata": {
    "execution": {
     "iopub.execute_input": "2021-06-11T14:17:12.772834Z",
     "iopub.status.busy": "2021-06-11T14:17:12.769619Z",
     "iopub.status.idle": "2021-06-11T14:17:12.780600Z",
     "shell.execute_reply": "2021-06-11T14:17:12.779386Z",
     "shell.execute_reply.started": "2021-06-11T14:10:55.784816Z"
    },
    "papermill": {
     "duration": 0.092592,
     "end_time": "2021-06-11T14:17:12.780885",
     "exception": false,
     "start_time": "2021-06-11T14:17:12.688293",
     "status": "completed"
    },
    "tags": []
   },
   "outputs": [
    {
     "name": "stdout",
     "output_type": "stream",
     "text": [
      "              precision    recall  f1-score   support\n",
      "\n",
      "           0       0.83      0.79      0.81       160\n",
      "           1       0.57      0.65      0.61        71\n",
      "\n",
      "    accuracy                           0.74       231\n",
      "   macro avg       0.70      0.72      0.71       231\n",
      "weighted avg       0.75      0.74      0.75       231\n",
      "\n"
     ]
    }
   ],
   "source": [
    "#classification report\n",
    "cr= classification_report(y_test,knnpred)\n",
    "print(cr)"
   ]
  },
  {
   "cell_type": "markdown",
   "id": "classified-humanity",
   "metadata": {
    "papermill": {
     "duration": 0.07768,
     "end_time": "2021-06-11T14:17:12.936513",
     "exception": false,
     "start_time": "2021-06-11T14:17:12.858833",
     "status": "completed"
    },
    "tags": []
   },
   "source": [
    "# **<h2 style=\"background-color:DodgerBlue;\">LOGISTIC REGRESSION</h2>**"
   ]
  },
  {
   "cell_type": "code",
   "execution_count": 37,
   "id": "bottom-light",
   "metadata": {
    "execution": {
     "iopub.execute_input": "2021-06-11T14:17:13.099564Z",
     "iopub.status.busy": "2021-06-11T14:17:13.098488Z",
     "iopub.status.idle": "2021-06-11T14:17:13.137660Z",
     "shell.execute_reply": "2021-06-11T14:17:13.138195Z",
     "shell.execute_reply.started": "2021-06-11T14:10:55.797041Z"
    },
    "papermill": {
     "duration": 0.124849,
     "end_time": "2021-06-11T14:17:13.138369",
     "exception": false,
     "start_time": "2021-06-11T14:17:13.013520",
     "status": "completed"
    },
    "tags": []
   },
   "outputs": [
    {
     "name": "stdout",
     "output_type": "stream",
     "text": [
      "accuracy score:  0.7878787878787878\n"
     ]
    }
   ],
   "source": [
    "lr= LogisticRegression()\n",
    "lr.fit(x_train,y_train)\n",
    "lrpred= lr.predict(x_test)\n",
    "print(f\"accuracy score: \",accuracy_score(y_test,lrpred))"
   ]
  },
  {
   "cell_type": "code",
   "execution_count": 38,
   "id": "fatal-hello",
   "metadata": {
    "execution": {
     "iopub.execute_input": "2021-06-11T14:17:13.301847Z",
     "iopub.status.busy": "2021-06-11T14:17:13.301209Z",
     "iopub.status.idle": "2021-06-11T14:17:13.311344Z",
     "shell.execute_reply": "2021-06-11T14:17:13.310802Z",
     "shell.execute_reply.started": "2021-06-11T14:10:55.843745Z"
    },
    "papermill": {
     "duration": 0.094819,
     "end_time": "2021-06-11T14:17:13.311492",
     "exception": false,
     "start_time": "2021-06-11T14:17:13.216673",
     "status": "completed"
    },
    "tags": []
   },
   "outputs": [
    {
     "name": "stdout",
     "output_type": "stream",
     "text": [
      "              precision    recall  f1-score   support\n",
      "\n",
      "           0       0.85      0.84      0.85       160\n",
      "           1       0.65      0.68      0.66        71\n",
      "\n",
      "    accuracy                           0.79       231\n",
      "   macro avg       0.75      0.76      0.75       231\n",
      "weighted avg       0.79      0.79      0.79       231\n",
      "\n"
     ]
    }
   ],
   "source": [
    "#classification report\n",
    "cr= classification_report(y_test,lrpred)\n",
    "print(cr)"
   ]
  },
  {
   "cell_type": "markdown",
   "id": "middle-discipline",
   "metadata": {
    "papermill": {
     "duration": 0.077019,
     "end_time": "2021-06-11T14:17:13.466321",
     "exception": false,
     "start_time": "2021-06-11T14:17:13.389302",
     "status": "completed"
    },
    "tags": []
   },
   "source": [
    "# **<h2 style=\"background-color:DodgerBlue;\">RANDOM FOREST</h2>**"
   ]
  },
  {
   "cell_type": "code",
   "execution_count": 39,
   "id": "respective-first",
   "metadata": {
    "execution": {
     "iopub.execute_input": "2021-06-11T14:17:13.636721Z",
     "iopub.status.busy": "2021-06-11T14:17:13.631491Z",
     "iopub.status.idle": "2021-06-11T14:17:13.871713Z",
     "shell.execute_reply": "2021-06-11T14:17:13.871143Z",
     "shell.execute_reply.started": "2021-06-11T14:10:55.858991Z"
    },
    "papermill": {
     "duration": 0.325383,
     "end_time": "2021-06-11T14:17:13.871858",
     "exception": false,
     "start_time": "2021-06-11T14:17:13.546475",
     "status": "completed"
    },
    "tags": []
   },
   "outputs": [
    {
     "data": {
      "text/plain": [
       "0.7705627705627706"
      ]
     },
     "execution_count": 39,
     "metadata": {},
     "output_type": "execute_result"
    }
   ],
   "source": [
    "rf= RandomForestClassifier()\n",
    "rf.fit(x_train,y_train)\n",
    "rfpred= rf.predict(x_test)\n",
    "accuracy_score(y_test,rfpred)"
   ]
  },
  {
   "cell_type": "code",
   "execution_count": 40,
   "id": "offensive-salvation",
   "metadata": {
    "execution": {
     "iopub.execute_input": "2021-06-11T14:17:14.033801Z",
     "iopub.status.busy": "2021-06-11T14:17:14.032766Z",
     "iopub.status.idle": "2021-06-11T14:17:14.035075Z",
     "shell.execute_reply": "2021-06-11T14:17:14.035607Z",
     "shell.execute_reply.started": "2021-06-11T14:10:56.105865Z"
    },
    "papermill": {
     "duration": 0.084932,
     "end_time": "2021-06-11T14:17:14.035778",
     "exception": false,
     "start_time": "2021-06-11T14:17:13.950846",
     "status": "completed"
    },
    "tags": []
   },
   "outputs": [],
   "source": [
    "#hyperparameter tuning\n",
    "params={\n",
    "    'max_depth': [80, 90, 100],\n",
    "    'max_features': [2, 3],\n",
    "    'min_samples_leaf': [3, 4, 5],\n",
    "    'min_samples_split': [8, 10, 12],\n",
    "    'n_estimators': [100, 200]\n",
    "}"
   ]
  },
  {
   "cell_type": "code",
   "execution_count": 41,
   "id": "technological-referral",
   "metadata": {
    "execution": {
     "iopub.execute_input": "2021-06-11T14:17:14.195899Z",
     "iopub.status.busy": "2021-06-11T14:17:14.194901Z",
     "iopub.status.idle": "2021-06-11T14:17:14.198834Z",
     "shell.execute_reply": "2021-06-11T14:17:14.199334Z",
     "shell.execute_reply.started": "2021-06-11T14:10:56.111657Z"
    },
    "papermill": {
     "duration": 0.086105,
     "end_time": "2021-06-11T14:17:14.199513",
     "exception": false,
     "start_time": "2021-06-11T14:17:14.113408",
     "status": "completed"
    },
    "tags": []
   },
   "outputs": [],
   "source": [
    "grid_search = GridSearchCV(estimator = rf, param_grid = params,cv = 3)"
   ]
  },
  {
   "cell_type": "code",
   "execution_count": 42,
   "id": "organic-bundle",
   "metadata": {
    "execution": {
     "iopub.execute_input": "2021-06-11T14:17:14.357524Z",
     "iopub.status.busy": "2021-06-11T14:17:14.356567Z",
     "iopub.status.idle": "2021-06-11T14:18:56.516900Z",
     "shell.execute_reply": "2021-06-11T14:18:56.517418Z",
     "shell.execute_reply.started": "2021-06-11T14:10:56.124700Z"
    },
    "papermill": {
     "duration": 102.240639,
     "end_time": "2021-06-11T14:18:56.517607",
     "exception": false,
     "start_time": "2021-06-11T14:17:14.276968",
     "status": "completed"
    },
    "tags": []
   },
   "outputs": [
    {
     "data": {
      "text/plain": [
       "GridSearchCV(cv=3, estimator=RandomForestClassifier(),\n",
       "             param_grid={'max_depth': [80, 90, 100], 'max_features': [2, 3],\n",
       "                         'min_samples_leaf': [3, 4, 5],\n",
       "                         'min_samples_split': [8, 10, 12],\n",
       "                         'n_estimators': [100, 200]})"
      ]
     },
     "execution_count": 42,
     "metadata": {},
     "output_type": "execute_result"
    }
   ],
   "source": [
    "grid_search.fit(x_train,y_train)"
   ]
  },
  {
   "cell_type": "code",
   "execution_count": 43,
   "id": "chemical-triple",
   "metadata": {
    "execution": {
     "iopub.execute_input": "2021-06-11T14:18:56.677804Z",
     "iopub.status.busy": "2021-06-11T14:18:56.676924Z",
     "iopub.status.idle": "2021-06-11T14:18:56.680416Z",
     "shell.execute_reply": "2021-06-11T14:18:56.680876Z",
     "shell.execute_reply.started": "2021-06-11T14:12:37.851026Z"
    },
    "papermill": {
     "duration": 0.086073,
     "end_time": "2021-06-11T14:18:56.681045",
     "exception": false,
     "start_time": "2021-06-11T14:18:56.594972",
     "status": "completed"
    },
    "tags": []
   },
   "outputs": [
    {
     "data": {
      "text/plain": [
       "0.7709497206703911"
      ]
     },
     "execution_count": 43,
     "metadata": {},
     "output_type": "execute_result"
    }
   ],
   "source": [
    "grid_search.best_score_"
   ]
  },
  {
   "cell_type": "code",
   "execution_count": 44,
   "id": "short-rider",
   "metadata": {
    "execution": {
     "iopub.execute_input": "2021-06-11T14:18:56.844066Z",
     "iopub.status.busy": "2021-06-11T14:18:56.843446Z",
     "iopub.status.idle": "2021-06-11T14:18:56.852062Z",
     "shell.execute_reply": "2021-06-11T14:18:56.851555Z",
     "shell.execute_reply.started": "2021-06-11T14:12:37.857775Z"
    },
    "papermill": {
     "duration": 0.092785,
     "end_time": "2021-06-11T14:18:56.852222",
     "exception": false,
     "start_time": "2021-06-11T14:18:56.759437",
     "status": "completed"
    },
    "tags": []
   },
   "outputs": [
    {
     "name": "stdout",
     "output_type": "stream",
     "text": [
      "              precision    recall  f1-score   support\n",
      "\n",
      "           0       0.86      0.79      0.83       160\n",
      "           1       0.61      0.72      0.66        71\n",
      "\n",
      "    accuracy                           0.77       231\n",
      "   macro avg       0.74      0.76      0.74       231\n",
      "weighted avg       0.79      0.77      0.78       231\n",
      "\n"
     ]
    }
   ],
   "source": [
    "#classification report\n",
    "cr= classification_report(y_test,rfpred)\n",
    "print(cr)"
   ]
  },
  {
   "cell_type": "markdown",
   "id": "involved-minister",
   "metadata": {
    "papermill": {
     "duration": 0.079122,
     "end_time": "2021-06-11T14:18:57.012838",
     "exception": false,
     "start_time": "2021-06-11T14:18:56.933716",
     "status": "completed"
    },
    "tags": []
   },
   "source": [
    "* # **<h2 style=\"background-color:DodgerBlue;\">AdaBoost</h2>**"
   ]
  },
  {
   "cell_type": "code",
   "execution_count": 45,
   "id": "wooden-overview",
   "metadata": {
    "execution": {
     "iopub.execute_input": "2021-06-11T14:18:57.179647Z",
     "iopub.status.busy": "2021-06-11T14:18:57.178803Z",
     "iopub.status.idle": "2021-06-11T14:18:57.291658Z",
     "shell.execute_reply": "2021-06-11T14:18:57.290999Z",
     "shell.execute_reply.started": "2021-06-11T14:12:37.882031Z"
    },
    "papermill": {
     "duration": 0.200101,
     "end_time": "2021-06-11T14:18:57.291796",
     "exception": false,
     "start_time": "2021-06-11T14:18:57.091695",
     "status": "completed"
    },
    "tags": []
   },
   "outputs": [
    {
     "data": {
      "text/plain": [
       "0.7489177489177489"
      ]
     },
     "execution_count": 45,
     "metadata": {},
     "output_type": "execute_result"
    }
   ],
   "source": [
    "ad=AdaBoostClassifier()\n",
    "ad.fit(x_train,y_train)\n",
    "adpred= ad.predict(x_test)\n",
    "accuracy_score(y_test,adpred)"
   ]
  },
  {
   "cell_type": "code",
   "execution_count": 46,
   "id": "voluntary-error",
   "metadata": {
    "execution": {
     "iopub.execute_input": "2021-06-11T14:18:57.452967Z",
     "iopub.status.busy": "2021-06-11T14:18:57.452368Z",
     "iopub.status.idle": "2021-06-11T14:18:57.454360Z",
     "shell.execute_reply": "2021-06-11T14:18:57.454794Z",
     "shell.execute_reply.started": "2021-06-11T14:12:38.005157Z"
    },
    "papermill": {
     "duration": 0.084632,
     "end_time": "2021-06-11T14:18:57.454963",
     "exception": false,
     "start_time": "2021-06-11T14:18:57.370331",
     "status": "completed"
    },
    "tags": []
   },
   "outputs": [],
   "source": [
    "#hyperparameter tuning\n",
    "params={\n",
    "   \"learning_rate\":[0.2,0.1,0.5],\n",
    "   \"n_estimators\": [100,150,200]\n",
    "}"
   ]
  },
  {
   "cell_type": "code",
   "execution_count": 47,
   "id": "returning-spain",
   "metadata": {
    "execution": {
     "iopub.execute_input": "2021-06-11T14:18:57.616511Z",
     "iopub.status.busy": "2021-06-11T14:18:57.615828Z",
     "iopub.status.idle": "2021-06-11T14:18:57.617641Z",
     "shell.execute_reply": "2021-06-11T14:18:57.618102Z",
     "shell.execute_reply.started": "2021-06-11T14:12:38.012167Z"
    },
    "papermill": {
     "duration": 0.085132,
     "end_time": "2021-06-11T14:18:57.618285",
     "exception": false,
     "start_time": "2021-06-11T14:18:57.533153",
     "status": "completed"
    },
    "tags": []
   },
   "outputs": [],
   "source": [
    "grid_search = GridSearchCV(estimator = ad, param_grid = params,cv = 3)"
   ]
  },
  {
   "cell_type": "code",
   "execution_count": 48,
   "id": "tropical-wealth",
   "metadata": {
    "execution": {
     "iopub.execute_input": "2021-06-11T14:18:57.777962Z",
     "iopub.status.busy": "2021-06-11T14:18:57.777332Z",
     "iopub.status.idle": "2021-06-11T14:19:05.996669Z",
     "shell.execute_reply": "2021-06-11T14:19:05.997270Z",
     "shell.execute_reply.started": "2021-06-11T14:12:38.026075Z"
    },
    "papermill": {
     "duration": 8.300838,
     "end_time": "2021-06-11T14:19:05.997445",
     "exception": false,
     "start_time": "2021-06-11T14:18:57.696607",
     "status": "completed"
    },
    "tags": []
   },
   "outputs": [
    {
     "data": {
      "text/plain": [
       "GridSearchCV(cv=3, estimator=AdaBoostClassifier(),\n",
       "             param_grid={'learning_rate': [0.2, 0.1, 0.5],\n",
       "                         'n_estimators': [100, 150, 200]})"
      ]
     },
     "execution_count": 48,
     "metadata": {},
     "output_type": "execute_result"
    }
   ],
   "source": [
    "grid_search.fit(x_train,y_train)"
   ]
  },
  {
   "cell_type": "code",
   "execution_count": 49,
   "id": "altered-richards",
   "metadata": {
    "execution": {
     "iopub.execute_input": "2021-06-11T14:19:06.160207Z",
     "iopub.status.busy": "2021-06-11T14:19:06.159543Z",
     "iopub.status.idle": "2021-06-11T14:19:06.163950Z",
     "shell.execute_reply": "2021-06-11T14:19:06.164463Z",
     "shell.execute_reply.started": "2021-06-11T14:12:46.276011Z"
    },
    "papermill": {
     "duration": 0.087982,
     "end_time": "2021-06-11T14:19:06.164633",
     "exception": false,
     "start_time": "2021-06-11T14:19:06.076651",
     "status": "completed"
    },
    "tags": []
   },
   "outputs": [
    {
     "data": {
      "text/plain": [
       "{'learning_rate': 0.1, 'n_estimators': 100}"
      ]
     },
     "execution_count": 49,
     "metadata": {},
     "output_type": "execute_result"
    }
   ],
   "source": [
    "grid_search.best_params_"
   ]
  },
  {
   "cell_type": "code",
   "execution_count": 50,
   "id": "adaptive-corpus",
   "metadata": {
    "execution": {
     "iopub.execute_input": "2021-06-11T14:19:06.326524Z",
     "iopub.status.busy": "2021-06-11T14:19:06.325481Z",
     "iopub.status.idle": "2021-06-11T14:19:06.330666Z",
     "shell.execute_reply": "2021-06-11T14:19:06.331210Z",
     "shell.execute_reply.started": "2021-06-11T14:12:46.283346Z"
    },
    "papermill": {
     "duration": 0.08777,
     "end_time": "2021-06-11T14:19:06.331380",
     "exception": false,
     "start_time": "2021-06-11T14:19:06.243610",
     "status": "completed"
    },
    "tags": []
   },
   "outputs": [
    {
     "data": {
      "text/plain": [
       "0.750465549348231"
      ]
     },
     "execution_count": 50,
     "metadata": {},
     "output_type": "execute_result"
    }
   ],
   "source": [
    "grid_search.best_score_"
   ]
  },
  {
   "cell_type": "code",
   "execution_count": 51,
   "id": "attempted-salad",
   "metadata": {
    "execution": {
     "iopub.execute_input": "2021-06-11T14:19:06.496221Z",
     "iopub.status.busy": "2021-06-11T14:19:06.495200Z",
     "iopub.status.idle": "2021-06-11T14:19:06.715866Z",
     "shell.execute_reply": "2021-06-11T14:19:06.716365Z",
     "shell.execute_reply.started": "2021-06-11T14:12:46.300101Z"
    },
    "papermill": {
     "duration": 0.304514,
     "end_time": "2021-06-11T14:19:06.716541",
     "exception": false,
     "start_time": "2021-06-11T14:19:06.412027",
     "status": "completed"
    },
    "tags": []
   },
   "outputs": [
    {
     "name": "stdout",
     "output_type": "stream",
     "text": [
      "accuracy score:  0.7922077922077922\n"
     ]
    }
   ],
   "source": [
    "ad=AdaBoostClassifier(learning_rate= 0.1,n_estimators=100)\n",
    "ad.fit(x_train,y_train)\n",
    "adpred= ad.predict(x_test)\n",
    "print(f\"accuracy score: \",accuracy_score(y_test,adpred))"
   ]
  },
  {
   "cell_type": "code",
   "execution_count": 52,
   "id": "ordered-sewing",
   "metadata": {
    "execution": {
     "iopub.execute_input": "2021-06-11T14:19:06.887455Z",
     "iopub.status.busy": "2021-06-11T14:19:06.886424Z",
     "iopub.status.idle": "2021-06-11T14:19:06.897695Z",
     "shell.execute_reply": "2021-06-11T14:19:06.898715Z",
     "shell.execute_reply.started": "2021-06-11T14:12:46.531928Z"
    },
    "papermill": {
     "duration": 0.101846,
     "end_time": "2021-06-11T14:19:06.898982",
     "exception": false,
     "start_time": "2021-06-11T14:19:06.797136",
     "status": "completed"
    },
    "tags": []
   },
   "outputs": [
    {
     "name": "stdout",
     "output_type": "stream",
     "text": [
      "              precision    recall  f1-score   support\n",
      "\n",
      "           0       0.85      0.84      0.85       160\n",
      "           1       0.66      0.68      0.67        71\n",
      "\n",
      "    accuracy                           0.79       231\n",
      "   macro avg       0.76      0.76      0.76       231\n",
      "weighted avg       0.79      0.79      0.79       231\n",
      "\n"
     ]
    }
   ],
   "source": [
    "#classification report\n",
    "cr= classification_report(y_test,adpred)\n",
    "print(cr)"
   ]
  },
  {
   "cell_type": "markdown",
   "id": "exciting-wisconsin",
   "metadata": {
    "papermill": {
     "duration": 0.081718,
     "end_time": "2021-06-11T14:19:07.066102",
     "exception": false,
     "start_time": "2021-06-11T14:19:06.984384",
     "status": "completed"
    },
    "tags": []
   },
   "source": [
    "* # **<h2 style=\"background-color:DodgerBlue;\">GradientBoosting</h2>**"
   ]
  },
  {
   "cell_type": "code",
   "execution_count": 53,
   "id": "chinese-disco",
   "metadata": {
    "execution": {
     "iopub.execute_input": "2021-06-11T14:19:07.236687Z",
     "iopub.status.busy": "2021-06-11T14:19:07.235653Z",
     "iopub.status.idle": "2021-06-11T14:19:07.378093Z",
     "shell.execute_reply": "2021-06-11T14:19:07.378636Z",
     "shell.execute_reply.started": "2021-06-11T14:12:46.545245Z"
    },
    "papermill": {
     "duration": 0.231619,
     "end_time": "2021-06-11T14:19:07.378816",
     "exception": false,
     "start_time": "2021-06-11T14:19:07.147197",
     "status": "completed"
    },
    "tags": []
   },
   "outputs": [
    {
     "data": {
      "text/plain": [
       "0.7575757575757576"
      ]
     },
     "execution_count": 53,
     "metadata": {},
     "output_type": "execute_result"
    }
   ],
   "source": [
    "gb= GradientBoostingClassifier()\n",
    "gb.fit(x_train,y_train)\n",
    "predgb= gb.predict(x_test)\n",
    "accuracy_score(y_test,predgb)"
   ]
  },
  {
   "cell_type": "code",
   "execution_count": 54,
   "id": "prime-lighting",
   "metadata": {
    "execution": {
     "iopub.execute_input": "2021-06-11T14:19:07.549681Z",
     "iopub.status.busy": "2021-06-11T14:19:07.548693Z",
     "iopub.status.idle": "2021-06-11T14:19:07.557494Z",
     "shell.execute_reply": "2021-06-11T14:19:07.557984Z",
     "shell.execute_reply.started": "2021-06-11T14:12:46.694617Z"
    },
    "papermill": {
     "duration": 0.096799,
     "end_time": "2021-06-11T14:19:07.558154",
     "exception": false,
     "start_time": "2021-06-11T14:19:07.461355",
     "status": "completed"
    },
    "tags": []
   },
   "outputs": [
    {
     "name": "stdout",
     "output_type": "stream",
     "text": [
      "              precision    recall  f1-score   support\n",
      "\n",
      "           0       0.85      0.79      0.82       160\n",
      "           1       0.59      0.69      0.64        71\n",
      "\n",
      "    accuracy                           0.76       231\n",
      "   macro avg       0.72      0.74      0.73       231\n",
      "weighted avg       0.77      0.76      0.76       231\n",
      "\n"
     ]
    }
   ],
   "source": [
    "#classification report\n",
    "cr= classification_report(y_test,predgb)\n",
    "print(cr)"
   ]
  },
  {
   "cell_type": "code",
   "execution_count": 55,
   "id": "ranking-literacy",
   "metadata": {
    "execution": {
     "iopub.execute_input": "2021-06-11T14:19:07.727505Z",
     "iopub.status.busy": "2021-06-11T14:19:07.726861Z",
     "iopub.status.idle": "2021-06-11T14:19:07.732973Z",
     "shell.execute_reply": "2021-06-11T14:19:07.732344Z",
     "shell.execute_reply.started": "2021-06-11T14:12:46.706500Z"
    },
    "papermill": {
     "duration": 0.093876,
     "end_time": "2021-06-11T14:19:07.733108",
     "exception": false,
     "start_time": "2021-06-11T14:19:07.639232",
     "status": "completed"
    },
    "tags": []
   },
   "outputs": [],
   "source": [
    "from pandas import DataFrame\n",
    "model=[[\"KNN\",accuracy_score(y_test,knnpred)],[\"GRADIENTBOOST\",accuracy_score(y_test,predgb)],[\"RANDOMFOREST\",accuracy_score(y_test,rfpred)]\n",
    "       ,[\"ADABOOST\",accuracy_score(y_test,adpred)],[\"LOGISTICREGRESSION\",accuracy_score(y_test,lrpred)]]\n",
    "dx= DataFrame(model,columns= [\"model\",\"score\"])"
   ]
  },
  {
   "cell_type": "code",
   "execution_count": 56,
   "id": "short-founder",
   "metadata": {
    "execution": {
     "iopub.execute_input": "2021-06-11T14:19:07.910464Z",
     "iopub.status.busy": "2021-06-11T14:19:07.909800Z",
     "iopub.status.idle": "2021-06-11T14:19:07.995257Z",
     "shell.execute_reply": "2021-06-11T14:19:07.994717Z",
     "shell.execute_reply.started": "2021-06-11T14:12:46.717425Z"
    },
    "papermill": {
     "duration": 0.180228,
     "end_time": "2021-06-11T14:19:07.995399",
     "exception": false,
     "start_time": "2021-06-11T14:19:07.815171",
     "status": "completed"
    },
    "tags": []
   },
   "outputs": [
    {
     "data": {
      "text/html": [
       "<div>                            <div id=\"8b01f476-52e9-4571-a95e-3675c4548e49\" class=\"plotly-graph-div\" style=\"height:525px; width:100%;\"></div>            <script type=\"text/javascript\">                require([\"plotly\"], function(Plotly) {                    window.PLOTLYENV=window.PLOTLYENV || {};                                    if (document.getElementById(\"8b01f476-52e9-4571-a95e-3675c4548e49\")) {                    Plotly.newPlot(                        \"8b01f476-52e9-4571-a95e-3675c4548e49\",                        [{\"alignmentgroup\": \"True\", \"hovertemplate\": \"model=%{x}<br>score=%{y}<extra></extra>\", \"legendgroup\": \"KNN\", \"marker\": {\"color\": \"#636efa\"}, \"name\": \"KNN\", \"offsetgroup\": \"KNN\", \"orientation\": \"v\", \"showlegend\": true, \"textposition\": \"auto\", \"type\": \"bar\", \"x\": [\"KNN\"], \"xaxis\": \"x\", \"y\": [0.7445887445887446], \"yaxis\": \"y\"}, {\"alignmentgroup\": \"True\", \"hovertemplate\": \"model=%{x}<br>score=%{y}<extra></extra>\", \"legendgroup\": \"GRADIENTBOOST\", \"marker\": {\"color\": \"#EF553B\"}, \"name\": \"GRADIENTBOOST\", \"offsetgroup\": \"GRADIENTBOOST\", \"orientation\": \"v\", \"showlegend\": true, \"textposition\": \"auto\", \"type\": \"bar\", \"x\": [\"GRADIENTBOOST\"], \"xaxis\": \"x\", \"y\": [0.7575757575757576], \"yaxis\": \"y\"}, {\"alignmentgroup\": \"True\", \"hovertemplate\": \"model=%{x}<br>score=%{y}<extra></extra>\", \"legendgroup\": \"RANDOMFOREST\", \"marker\": {\"color\": \"#00cc96\"}, \"name\": \"RANDOMFOREST\", \"offsetgroup\": \"RANDOMFOREST\", \"orientation\": \"v\", \"showlegend\": true, \"textposition\": \"auto\", \"type\": \"bar\", \"x\": [\"RANDOMFOREST\"], \"xaxis\": \"x\", \"y\": [0.7705627705627706], \"yaxis\": \"y\"}, {\"alignmentgroup\": \"True\", \"hovertemplate\": \"model=%{x}<br>score=%{y}<extra></extra>\", \"legendgroup\": \"ADABOOST\", \"marker\": {\"color\": \"#ab63fa\"}, \"name\": \"ADABOOST\", \"offsetgroup\": \"ADABOOST\", \"orientation\": \"v\", \"showlegend\": true, \"textposition\": \"auto\", \"type\": \"bar\", \"x\": [\"ADABOOST\"], \"xaxis\": \"x\", \"y\": [0.7922077922077922], \"yaxis\": \"y\"}, {\"alignmentgroup\": \"True\", \"hovertemplate\": \"model=%{x}<br>score=%{y}<extra></extra>\", \"legendgroup\": \"LOGISTICREGRESSION\", \"marker\": {\"color\": \"#FFA15A\"}, \"name\": \"LOGISTICREGRESSION\", \"offsetgroup\": \"LOGISTICREGRESSION\", \"orientation\": \"v\", \"showlegend\": true, \"textposition\": \"auto\", \"type\": \"bar\", \"x\": [\"LOGISTICREGRESSION\"], \"xaxis\": \"x\", \"y\": [0.7878787878787878], \"yaxis\": \"y\"}],                        {\"barmode\": \"relative\", \"legend\": {\"title\": {\"text\": \"model\"}, \"tracegroupgap\": 0}, \"template\": {\"data\": {\"bar\": [{\"error_x\": {\"color\": \"#f2f5fa\"}, \"error_y\": {\"color\": \"#f2f5fa\"}, \"marker\": {\"line\": {\"color\": \"rgb(17,17,17)\", \"width\": 0.5}}, \"type\": \"bar\"}], \"barpolar\": [{\"marker\": {\"line\": {\"color\": \"rgb(17,17,17)\", \"width\": 0.5}}, \"type\": \"barpolar\"}], \"carpet\": [{\"aaxis\": {\"endlinecolor\": \"#A2B1C6\", \"gridcolor\": \"#506784\", \"linecolor\": \"#506784\", \"minorgridcolor\": \"#506784\", \"startlinecolor\": \"#A2B1C6\"}, \"baxis\": {\"endlinecolor\": \"#A2B1C6\", \"gridcolor\": \"#506784\", \"linecolor\": \"#506784\", \"minorgridcolor\": \"#506784\", \"startlinecolor\": \"#A2B1C6\"}, \"type\": \"carpet\"}], \"choropleth\": [{\"colorbar\": {\"outlinewidth\": 0, \"ticks\": \"\"}, \"type\": \"choropleth\"}], \"contour\": [{\"colorbar\": {\"outlinewidth\": 0, \"ticks\": \"\"}, \"colorscale\": [[0.0, \"#0d0887\"], [0.1111111111111111, \"#46039f\"], [0.2222222222222222, \"#7201a8\"], [0.3333333333333333, \"#9c179e\"], [0.4444444444444444, \"#bd3786\"], [0.5555555555555556, \"#d8576b\"], [0.6666666666666666, \"#ed7953\"], [0.7777777777777778, \"#fb9f3a\"], [0.8888888888888888, \"#fdca26\"], [1.0, \"#f0f921\"]], \"type\": \"contour\"}], \"contourcarpet\": [{\"colorbar\": {\"outlinewidth\": 0, \"ticks\": \"\"}, \"type\": \"contourcarpet\"}], \"heatmap\": [{\"colorbar\": {\"outlinewidth\": 0, \"ticks\": \"\"}, \"colorscale\": [[0.0, \"#0d0887\"], [0.1111111111111111, \"#46039f\"], [0.2222222222222222, \"#7201a8\"], [0.3333333333333333, \"#9c179e\"], [0.4444444444444444, \"#bd3786\"], [0.5555555555555556, \"#d8576b\"], [0.6666666666666666, \"#ed7953\"], [0.7777777777777778, \"#fb9f3a\"], [0.8888888888888888, \"#fdca26\"], [1.0, \"#f0f921\"]], \"type\": \"heatmap\"}], \"heatmapgl\": [{\"colorbar\": {\"outlinewidth\": 0, \"ticks\": \"\"}, \"colorscale\": [[0.0, \"#0d0887\"], [0.1111111111111111, \"#46039f\"], [0.2222222222222222, \"#7201a8\"], [0.3333333333333333, \"#9c179e\"], [0.4444444444444444, \"#bd3786\"], [0.5555555555555556, \"#d8576b\"], [0.6666666666666666, \"#ed7953\"], [0.7777777777777778, \"#fb9f3a\"], [0.8888888888888888, \"#fdca26\"], [1.0, \"#f0f921\"]], \"type\": \"heatmapgl\"}], \"histogram\": [{\"marker\": {\"colorbar\": {\"outlinewidth\": 0, \"ticks\": \"\"}}, \"type\": \"histogram\"}], \"histogram2d\": [{\"colorbar\": {\"outlinewidth\": 0, \"ticks\": \"\"}, \"colorscale\": [[0.0, \"#0d0887\"], [0.1111111111111111, \"#46039f\"], [0.2222222222222222, \"#7201a8\"], [0.3333333333333333, \"#9c179e\"], [0.4444444444444444, \"#bd3786\"], [0.5555555555555556, \"#d8576b\"], [0.6666666666666666, \"#ed7953\"], [0.7777777777777778, \"#fb9f3a\"], [0.8888888888888888, \"#fdca26\"], [1.0, \"#f0f921\"]], \"type\": \"histogram2d\"}], \"histogram2dcontour\": [{\"colorbar\": {\"outlinewidth\": 0, \"ticks\": \"\"}, \"colorscale\": [[0.0, \"#0d0887\"], [0.1111111111111111, \"#46039f\"], [0.2222222222222222, \"#7201a8\"], [0.3333333333333333, \"#9c179e\"], [0.4444444444444444, \"#bd3786\"], [0.5555555555555556, \"#d8576b\"], [0.6666666666666666, \"#ed7953\"], [0.7777777777777778, \"#fb9f3a\"], [0.8888888888888888, \"#fdca26\"], [1.0, \"#f0f921\"]], \"type\": \"histogram2dcontour\"}], \"mesh3d\": [{\"colorbar\": {\"outlinewidth\": 0, \"ticks\": \"\"}, \"type\": \"mesh3d\"}], \"parcoords\": [{\"line\": {\"colorbar\": {\"outlinewidth\": 0, \"ticks\": \"\"}}, \"type\": \"parcoords\"}], \"pie\": [{\"automargin\": true, \"type\": \"pie\"}], \"scatter\": [{\"marker\": {\"line\": {\"color\": \"#283442\"}}, \"type\": \"scatter\"}], \"scatter3d\": [{\"line\": {\"colorbar\": {\"outlinewidth\": 0, \"ticks\": \"\"}}, \"marker\": {\"colorbar\": {\"outlinewidth\": 0, \"ticks\": \"\"}}, \"type\": \"scatter3d\"}], \"scattercarpet\": [{\"marker\": {\"colorbar\": {\"outlinewidth\": 0, \"ticks\": \"\"}}, \"type\": \"scattercarpet\"}], \"scattergeo\": [{\"marker\": {\"colorbar\": {\"outlinewidth\": 0, \"ticks\": \"\"}}, \"type\": \"scattergeo\"}], \"scattergl\": [{\"marker\": {\"line\": {\"color\": \"#283442\"}}, \"type\": \"scattergl\"}], \"scattermapbox\": [{\"marker\": {\"colorbar\": {\"outlinewidth\": 0, \"ticks\": \"\"}}, \"type\": \"scattermapbox\"}], \"scatterpolar\": [{\"marker\": {\"colorbar\": {\"outlinewidth\": 0, \"ticks\": \"\"}}, \"type\": \"scatterpolar\"}], \"scatterpolargl\": [{\"marker\": {\"colorbar\": {\"outlinewidth\": 0, \"ticks\": \"\"}}, \"type\": \"scatterpolargl\"}], \"scatterternary\": [{\"marker\": {\"colorbar\": {\"outlinewidth\": 0, \"ticks\": \"\"}}, \"type\": \"scatterternary\"}], \"surface\": [{\"colorbar\": {\"outlinewidth\": 0, \"ticks\": \"\"}, \"colorscale\": [[0.0, \"#0d0887\"], [0.1111111111111111, \"#46039f\"], [0.2222222222222222, \"#7201a8\"], [0.3333333333333333, \"#9c179e\"], [0.4444444444444444, \"#bd3786\"], [0.5555555555555556, \"#d8576b\"], [0.6666666666666666, \"#ed7953\"], [0.7777777777777778, \"#fb9f3a\"], [0.8888888888888888, \"#fdca26\"], [1.0, \"#f0f921\"]], \"type\": \"surface\"}], \"table\": [{\"cells\": {\"fill\": {\"color\": \"#506784\"}, \"line\": {\"color\": \"rgb(17,17,17)\"}}, \"header\": {\"fill\": {\"color\": \"#2a3f5f\"}, \"line\": {\"color\": \"rgb(17,17,17)\"}}, \"type\": \"table\"}]}, \"layout\": {\"annotationdefaults\": {\"arrowcolor\": \"#f2f5fa\", \"arrowhead\": 0, \"arrowwidth\": 1}, \"autotypenumbers\": \"strict\", \"coloraxis\": {\"colorbar\": {\"outlinewidth\": 0, \"ticks\": \"\"}}, \"colorscale\": {\"diverging\": [[0, \"#8e0152\"], [0.1, \"#c51b7d\"], [0.2, \"#de77ae\"], [0.3, \"#f1b6da\"], [0.4, \"#fde0ef\"], [0.5, \"#f7f7f7\"], [0.6, \"#e6f5d0\"], [0.7, \"#b8e186\"], [0.8, \"#7fbc41\"], [0.9, \"#4d9221\"], [1, \"#276419\"]], \"sequential\": [[0.0, \"#0d0887\"], [0.1111111111111111, \"#46039f\"], [0.2222222222222222, \"#7201a8\"], [0.3333333333333333, \"#9c179e\"], [0.4444444444444444, \"#bd3786\"], [0.5555555555555556, \"#d8576b\"], [0.6666666666666666, \"#ed7953\"], [0.7777777777777778, \"#fb9f3a\"], [0.8888888888888888, \"#fdca26\"], [1.0, \"#f0f921\"]], \"sequentialminus\": [[0.0, \"#0d0887\"], [0.1111111111111111, \"#46039f\"], [0.2222222222222222, \"#7201a8\"], [0.3333333333333333, \"#9c179e\"], [0.4444444444444444, \"#bd3786\"], [0.5555555555555556, \"#d8576b\"], [0.6666666666666666, \"#ed7953\"], [0.7777777777777778, \"#fb9f3a\"], [0.8888888888888888, \"#fdca26\"], [1.0, \"#f0f921\"]]}, \"colorway\": [\"#636efa\", \"#EF553B\", \"#00cc96\", \"#ab63fa\", \"#FFA15A\", \"#19d3f3\", \"#FF6692\", \"#B6E880\", \"#FF97FF\", \"#FECB52\"], \"font\": {\"color\": \"#f2f5fa\"}, \"geo\": {\"bgcolor\": \"rgb(17,17,17)\", \"lakecolor\": \"rgb(17,17,17)\", \"landcolor\": \"rgb(17,17,17)\", \"showlakes\": true, \"showland\": true, \"subunitcolor\": \"#506784\"}, \"hoverlabel\": {\"align\": \"left\"}, \"hovermode\": \"closest\", \"mapbox\": {\"style\": \"dark\"}, \"paper_bgcolor\": \"rgb(17,17,17)\", \"plot_bgcolor\": \"rgb(17,17,17)\", \"polar\": {\"angularaxis\": {\"gridcolor\": \"#506784\", \"linecolor\": \"#506784\", \"ticks\": \"\"}, \"bgcolor\": \"rgb(17,17,17)\", \"radialaxis\": {\"gridcolor\": \"#506784\", \"linecolor\": \"#506784\", \"ticks\": \"\"}}, \"scene\": {\"xaxis\": {\"backgroundcolor\": \"rgb(17,17,17)\", \"gridcolor\": \"#506784\", \"gridwidth\": 2, \"linecolor\": \"#506784\", \"showbackground\": true, \"ticks\": \"\", \"zerolinecolor\": \"#C8D4E3\"}, \"yaxis\": {\"backgroundcolor\": \"rgb(17,17,17)\", \"gridcolor\": \"#506784\", \"gridwidth\": 2, \"linecolor\": \"#506784\", \"showbackground\": true, \"ticks\": \"\", \"zerolinecolor\": \"#C8D4E3\"}, \"zaxis\": {\"backgroundcolor\": \"rgb(17,17,17)\", \"gridcolor\": \"#506784\", \"gridwidth\": 2, \"linecolor\": \"#506784\", \"showbackground\": true, \"ticks\": \"\", \"zerolinecolor\": \"#C8D4E3\"}}, \"shapedefaults\": {\"line\": {\"color\": \"#f2f5fa\"}}, \"sliderdefaults\": {\"bgcolor\": \"#C8D4E3\", \"bordercolor\": \"rgb(17,17,17)\", \"borderwidth\": 1, \"tickwidth\": 0}, \"ternary\": {\"aaxis\": {\"gridcolor\": \"#506784\", \"linecolor\": \"#506784\", \"ticks\": \"\"}, \"baxis\": {\"gridcolor\": \"#506784\", \"linecolor\": \"#506784\", \"ticks\": \"\"}, \"bgcolor\": \"rgb(17,17,17)\", \"caxis\": {\"gridcolor\": \"#506784\", \"linecolor\": \"#506784\", \"ticks\": \"\"}}, \"title\": {\"x\": 0.05}, \"updatemenudefaults\": {\"bgcolor\": \"#506784\", \"borderwidth\": 0}, \"xaxis\": {\"automargin\": true, \"gridcolor\": \"#283442\", \"linecolor\": \"#506784\", \"ticks\": \"\", \"title\": {\"standoff\": 15}, \"zerolinecolor\": \"#283442\", \"zerolinewidth\": 2}, \"yaxis\": {\"automargin\": true, \"gridcolor\": \"#283442\", \"linecolor\": \"#506784\", \"ticks\": \"\", \"title\": {\"standoff\": 15}, \"zerolinecolor\": \"#283442\", \"zerolinewidth\": 2}}}, \"title\": {\"text\": \"scored\"}, \"xaxis\": {\"anchor\": \"y\", \"categoryarray\": [\"KNN\", \"GRADIENTBOOST\", \"RANDOMFOREST\", \"ADABOOST\", \"LOGISTICREGRESSION\"], \"categoryorder\": \"array\", \"domain\": [0.0, 1.0], \"title\": {\"text\": \"model\"}}, \"yaxis\": {\"anchor\": \"x\", \"domain\": [0.0, 1.0], \"title\": {\"text\": \"score\"}}},                        {\"responsive\": true}                    ).then(function(){\n",
       "                            \n",
       "var gd = document.getElementById('8b01f476-52e9-4571-a95e-3675c4548e49');\n",
       "var x = new MutationObserver(function (mutations, observer) {{\n",
       "        var display = window.getComputedStyle(gd).display;\n",
       "        if (!display || display === 'none') {{\n",
       "            console.log([gd, 'removed!']);\n",
       "            Plotly.purge(gd);\n",
       "            observer.disconnect();\n",
       "        }}\n",
       "}});\n",
       "\n",
       "// Listen for the removal of the full notebook cells\n",
       "var notebookContainer = gd.closest('#notebook-container');\n",
       "if (notebookContainer) {{\n",
       "    x.observe(notebookContainer, {childList: true});\n",
       "}}\n",
       "\n",
       "// Listen for the clearing of the current output cell\n",
       "var outputEl = gd.closest('.output');\n",
       "if (outputEl) {{\n",
       "    x.observe(outputEl, {childList: true});\n",
       "}}\n",
       "\n",
       "                        })                };                });            </script>        </div>"
      ]
     },
     "metadata": {},
     "output_type": "display_data"
    }
   ],
   "source": [
    "ax= px.bar(dx,x= \"model\",y=\"score\",template=\"plotly_dark\",title= \"scored\",color= \"model\")\n",
    "ax.show()"
   ]
  },
  {
   "cell_type": "markdown",
   "id": "sharp-archives",
   "metadata": {
    "papermill": {
     "duration": 0.081889,
     "end_time": "2021-06-11T14:19:08.159234",
     "exception": false,
     "start_time": "2021-06-11T14:19:08.077345",
     "status": "completed"
    },
    "tags": []
   },
   "source": [
    "The scores and models can be further improved using hyperparameter tuning with different parameters"
   ]
  }
 ],
 "metadata": {
  "kernelspec": {
   "display_name": "Python 3",
   "language": "python",
   "name": "python3"
  },
  "language_info": {
   "codemirror_mode": {
    "name": "ipython",
    "version": 3
   },
   "file_extension": ".py",
   "mimetype": "text/x-python",
   "name": "python",
   "nbconvert_exporter": "python",
   "pygments_lexer": "ipython3",
   "version": "3.7.10"
  },
  "papermill": {
   "default_parameters": {},
   "duration": 139.946321,
   "end_time": "2021-06-11T14:19:09.958408",
   "environment_variables": {},
   "exception": null,
   "input_path": "__notebook__.ipynb",
   "output_path": "__notebook__.ipynb",
   "parameters": {},
   "start_time": "2021-06-11T14:16:50.012087",
   "version": "2.3.3"
  }
 },
 "nbformat": 4,
 "nbformat_minor": 5
}
